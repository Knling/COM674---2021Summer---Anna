{
 "cells": [
  {
   "cell_type": "markdown",
   "id": "04cd2420",
   "metadata": {},
   "source": [
    "## Chapter 1\n",
    "\n",
    "### Exercise 1: What is the function of the secondary memory in a computer?\n",
    "c) Store information for the long term, even beyond a power cycle\n",
    "\n",
    "\n",
    "### Exercise 6: Where in the computer is a variable such as “x” stored after the following Python line finishes? \n",
    "#### x = 123\n",
    "b) Main Memory\n",
    "\n",
    "\n",
    "### Exercise 7:  What will the following program print out:\n",
    "#### x = 43\n",
    "#### x = x + 1\n",
    "#### print(x)\n",
    "b) 44"
   ]
  },
  {
   "cell_type": "markdown",
   "id": "74bc3f2c",
   "metadata": {},
   "source": [
    "## Chapter 2"
   ]
  },
  {
   "cell_type": "markdown",
   "id": "9b93e370",
   "metadata": {},
   "source": [
    "### Exercise 2: Write a program that uses input to prompt a user for their name and then welcomes them."
   ]
  },
  {
   "cell_type": "code",
   "execution_count": 8,
   "id": "bbdcd13e",
   "metadata": {},
   "outputs": [
    {
     "name": "stdout",
     "output_type": "stream",
     "text": [
      "Enter your name:Chunk\n"
     ]
    },
    {
     "data": {
      "text/plain": [
       "'Hello Chunk'"
      ]
     },
     "execution_count": 8,
     "metadata": {},
     "output_type": "execute_result"
    }
   ],
   "source": [
    "name = input(\"Enter your name:\")\n",
    "\"Hello \" + name"
   ]
  },
  {
   "cell_type": "markdown",
   "id": "a485c618",
   "metadata": {},
   "source": [
    "### Exercise 3: Write a program to prompt the user for hours and rate per hour to compute gross pay."
   ]
  },
  {
   "cell_type": "code",
   "execution_count": 9,
   "id": "a96252a7",
   "metadata": {},
   "outputs": [
    {
     "name": "stdout",
     "output_type": "stream",
     "text": [
      "Enter Hours:30\n",
      "Enter Rate:6.25\n",
      "187.5\n"
     ]
    }
   ],
   "source": [
    "hours = input(\"Enter Hours:\")\n",
    "rate = input(\"Enter Rate:\")\n",
    "pay = float(hours)*float(rate)\n",
    "print(pay)"
   ]
  },
  {
   "cell_type": "markdown",
   "id": "dd496369",
   "metadata": {},
   "source": [
    "### Exercise 4: Assume that we execute the following assignment state-ments:\n",
    "#### width = 17\n",
    "#### height = 12.0\n",
    "#### For each of the following expressions, write the value of the expression and the type (of the value of the expression).\n",
    "#### 1. width//2 = 8\n",
    "#### 2. width/2.0 = 8.0\n",
    "#### 3. height/3 = 4.0\n",
    "#### 4. 1 + 2 * 5 = 11"
   ]
  },
  {
   "cell_type": "code",
   "execution_count": 10,
   "id": "4189b2d1",
   "metadata": {},
   "outputs": [],
   "source": [
    "width = 17\n",
    "height = 12.0"
   ]
  },
  {
   "cell_type": "code",
   "execution_count": 11,
   "id": "2c014179",
   "metadata": {
    "scrolled": true
   },
   "outputs": [
    {
     "data": {
      "text/plain": [
       "8"
      ]
     },
     "execution_count": 11,
     "metadata": {},
     "output_type": "execute_result"
    }
   ],
   "source": [
    "width//2"
   ]
  },
  {
   "cell_type": "code",
   "execution_count": 12,
   "id": "8445a8a2",
   "metadata": {},
   "outputs": [
    {
     "data": {
      "text/plain": [
       "int"
      ]
     },
     "execution_count": 12,
     "metadata": {},
     "output_type": "execute_result"
    }
   ],
   "source": [
    "type(width//2)"
   ]
  },
  {
   "cell_type": "code",
   "execution_count": 13,
   "id": "0e0803a7",
   "metadata": {
    "scrolled": true
   },
   "outputs": [
    {
     "data": {
      "text/plain": [
       "8.0"
      ]
     },
     "execution_count": 13,
     "metadata": {},
     "output_type": "execute_result"
    }
   ],
   "source": [
    "width//2.0"
   ]
  },
  {
   "cell_type": "code",
   "execution_count": 14,
   "id": "53aef7cc",
   "metadata": {},
   "outputs": [
    {
     "data": {
      "text/plain": [
       "float"
      ]
     },
     "execution_count": 14,
     "metadata": {},
     "output_type": "execute_result"
    }
   ],
   "source": [
    "type(width//2.0)"
   ]
  },
  {
   "cell_type": "code",
   "execution_count": 15,
   "id": "94f7f4e4",
   "metadata": {},
   "outputs": [
    {
     "data": {
      "text/plain": [
       "4.0"
      ]
     },
     "execution_count": 15,
     "metadata": {},
     "output_type": "execute_result"
    }
   ],
   "source": [
    "height/3"
   ]
  },
  {
   "cell_type": "code",
   "execution_count": 16,
   "id": "def176d4",
   "metadata": {},
   "outputs": [
    {
     "data": {
      "text/plain": [
       "float"
      ]
     },
     "execution_count": 16,
     "metadata": {},
     "output_type": "execute_result"
    }
   ],
   "source": [
    "type(height/3)"
   ]
  },
  {
   "cell_type": "code",
   "execution_count": 17,
   "id": "7916f692",
   "metadata": {},
   "outputs": [
    {
     "data": {
      "text/plain": [
       "11"
      ]
     },
     "execution_count": 17,
     "metadata": {},
     "output_type": "execute_result"
    }
   ],
   "source": [
    "1 + 2 * 5"
   ]
  },
  {
   "cell_type": "code",
   "execution_count": 18,
   "id": "a74d468a",
   "metadata": {},
   "outputs": [
    {
     "data": {
      "text/plain": [
       "int"
      ]
     },
     "execution_count": 18,
     "metadata": {},
     "output_type": "execute_result"
    }
   ],
   "source": [
    "type(1 + 2 * 5)"
   ]
  },
  {
   "cell_type": "markdown",
   "id": "ab5f79f4",
   "metadata": {},
   "source": [
    "### Exercise 5: Write a program which prompts the user for a Celsius temperature, convert the temperature to Fahrenheit, and print out the converted temperature."
   ]
  },
  {
   "cell_type": "code",
   "execution_count": 19,
   "id": "73f0d48a",
   "metadata": {},
   "outputs": [
    {
     "name": "stdout",
     "output_type": "stream",
     "text": [
      "Enter a Celsius temperature32\n"
     ]
    },
    {
     "data": {
      "text/plain": [
       "'The corresponding Fahrenheit temperature is 89.6'"
      ]
     },
     "execution_count": 19,
     "metadata": {},
     "output_type": "execute_result"
    }
   ],
   "source": [
    "Ctemp = input(\"Enter a Celsius temperature\")\n",
    "Ftemp = float(Ctemp)*1.8+32\n",
    "\"The corresponding Fahrenheit temperature is \" + str(Ftemp)"
   ]
  },
  {
   "cell_type": "markdown",
   "id": "446a3a5d",
   "metadata": {},
   "source": [
    "## Chapter 3"
   ]
  },
  {
   "cell_type": "markdown",
   "id": "8e50949d",
   "metadata": {},
   "source": [
    "### Exercise 1: Rewrite your pay computation to give the employee 1.5 times the hourly rate for hours worked above 40 hours."
   ]
  },
  {
   "cell_type": "code",
   "execution_count": 20,
   "id": "729d5f1c",
   "metadata": {},
   "outputs": [
    {
     "name": "stdout",
     "output_type": "stream",
     "text": [
      "Enter Hours:45\n",
      "Enter Rate:2.5\n",
      "118.75\n"
     ]
    }
   ],
   "source": [
    "hours = input(\"Enter Hours:\")\n",
    "rate = input(\"Enter Rate:\")\n",
    "if float(hours) <= 40:\n",
    "    pay = float(hours)*float(rate)\n",
    "else:\n",
    "    pay = 40*float(rate)+1.5*(float(hours)-40)*float(rate)\n",
    "print(pay)"
   ]
  },
  {
   "cell_type": "markdown",
   "id": "474e25f1",
   "metadata": {},
   "source": [
    "### Exercise 2: Rewrite your pay program using try and except so that your program handles non-numeric input gracefully by printing a message and exiting the program. The following shows two executions of the program"
   ]
  },
  {
   "cell_type": "code",
   "execution_count": 21,
   "id": "5d2d7d14",
   "metadata": {},
   "outputs": [
    {
     "name": "stdout",
     "output_type": "stream",
     "text": [
      "Enter Hours:nice\n",
      "Enter Rate:6\n",
      "Error, please enter numeric input\n"
     ]
    }
   ],
   "source": [
    "hours = input(\"Enter Hours:\")\n",
    "rate = input(\"Enter Rate:\")\n",
    "try: \n",
    "    pay = float(hours)*float(rate)\n",
    "    print(pay)\n",
    "except:\n",
    "    print(\"Error, please enter numeric input\")"
   ]
  },
  {
   "cell_type": "markdown",
   "id": "f359465f",
   "metadata": {},
   "source": [
    "### Exercise 3:Write a program to prompt for a score between 0.0 and1.0. If the score is out of range, print an error message. "
   ]
  },
  {
   "cell_type": "code",
   "execution_count": 29,
   "id": "8a8246fe",
   "metadata": {},
   "outputs": [
    {
     "name": "stdout",
     "output_type": "stream",
     "text": [
      "Enter score:0.5\n",
      "F\n"
     ]
    }
   ],
   "source": [
    "score = input(\"Enter score:\")\n",
    "try:\n",
    "    if float(score) < 0.6 and float(score) >= 0.0:\n",
    "        print(\"F\")\n",
    "    elif float(score) < 0.7:\n",
    "        print(\"D\")\n",
    "    elif float(score) < 0.8:\n",
    "        print(\"C\")\n",
    "    elif float(score) < 0.9:\n",
    "        print(\"B\")\n",
    "    elif float(score) <1:\n",
    "        print(\"A\")\n",
    "    else:\n",
    "        print(\"Bad score\")\n",
    "except:\n",
    "    print(\"Bad score\")"
   ]
  },
  {
   "cell_type": "markdown",
   "id": "97852710",
   "metadata": {},
   "source": [
    "## Chapter 4"
   ]
  },
  {
   "cell_type": "markdown",
   "id": "181d5c0a",
   "metadata": {},
   "source": [
    "### Exercise 1: Run the program on your system and see what numbers you get. Run the program more than once and see what numbers you get."
   ]
  },
  {
   "cell_type": "code",
   "execution_count": 6,
   "id": "777d180d",
   "metadata": {
    "scrolled": true
   },
   "outputs": [
    {
     "name": "stdout",
     "output_type": "stream",
     "text": [
      "0.2271652626749613\n"
     ]
    }
   ],
   "source": [
    "import random\n",
    "\n",
    "for i in range(10):\n",
    "    x = random.random()\n",
    "print(x)"
   ]
  },
  {
   "cell_type": "markdown",
   "id": "9d300ab8",
   "metadata": {},
   "source": [
    "### Exercise 2: Move the last line of this program to the top, so the function call appears before the definitions. Run the program and see what error message you get."
   ]
  },
  {
   "cell_type": "code",
   "execution_count": 7,
   "id": "c8d83dd9",
   "metadata": {},
   "outputs": [
    {
     "name": "stdout",
     "output_type": "stream",
     "text": [
      "I'm a lumberjack, and I'm okay.\n",
      "I sleep all night and I work all day.\n",
      "I'm a lumberjack, and I'm okay.\n",
      "I sleep all night and I work all day.\n"
     ]
    }
   ],
   "source": [
    "def print_lyrics():\n",
    "    print(\"I'm a lumberjack, and I'm okay.\")\n",
    "    print('I sleep all night and I work all day.')\n",
    "def repeat_lyrics():\n",
    "    print_lyrics()\n",
    "    print_lyrics()\n",
    "repeat_lyrics()"
   ]
  },
  {
   "cell_type": "markdown",
   "id": "5aee7017",
   "metadata": {},
   "source": [
    "### Exercise 3: Move the function call back to the bottom and move the definition of print_lyrics after the definition of repeat_lyrics. What happens when you run this program?"
   ]
  },
  {
   "cell_type": "code",
   "execution_count": 9,
   "id": "2c5eb719",
   "metadata": {},
   "outputs": [
    {
     "name": "stdout",
     "output_type": "stream",
     "text": [
      "I'm a lumberjack, and I'm okay.\n",
      "I sleep all night and I work all day.\n",
      "I'm a lumberjack, and I'm okay.\n",
      "I sleep all night and I work all day.\n"
     ]
    }
   ],
   "source": [
    "def repeat_lyrics():\n",
    "    print_lyrics()\n",
    "    print_lyrics()\n",
    "def print_lyrics():\n",
    "    print(\"I'm a lumberjack, and I'm okay.\")\n",
    "    print('I sleep all night and I work all day.')\n",
    "repeat_lyrics()"
   ]
  },
  {
   "cell_type": "markdown",
   "id": "11fcba32",
   "metadata": {},
   "source": [
    "### Exercise 4: What is the purpose of the “def” keyword in Python?\n",
    "d) b and c are both true"
   ]
  },
  {
   "cell_type": "markdown",
   "id": "4bc8f71b",
   "metadata": {},
   "source": [
    "### Exercise 5: What will the following Python program print out?\n",
    "def fred():\n",
    "\n",
    "    print(\"Zap\")\n",
    "    \n",
    "def jane():\n",
    "\n",
    "    print(\"ABC\")\n",
    "    \n",
    "jane()\n",
    "\n",
    "fred()\n",
    "\n",
    "jane()\n",
    "\n",
    "d) ABC Zap ABC"
   ]
  },
  {
   "cell_type": "markdown",
   "id": "07d59aee",
   "metadata": {},
   "source": [
    "### Exercise 6: Rewrite your pay computation with time-and-a-half for over-time and create a function called computepay which takes two parameters (hours and rate)."
   ]
  },
  {
   "cell_type": "code",
   "execution_count": 23,
   "id": "01ad3bcf",
   "metadata": {},
   "outputs": [
    {
     "name": "stdout",
     "output_type": "stream",
     "text": [
      "Enter Hours:45\n",
      "Enter Rate:10\n",
      "pay:475.0\n"
     ]
    }
   ],
   "source": [
    "def computepay(a,b):\n",
    "    print(\"Enter Hours:\"+str(a))\n",
    "    print(\"Enter Rate:\"+str(b))\n",
    "    if float(a) <= 40:\n",
    "        pay = float(a)*float(b)\n",
    "        print(\"pay:\"+str(pay))\n",
    "    else:\n",
    "        pay = 40*float(b)+1.5*(float(a)-40)*float(b)\n",
    "        print(\"pay:\"+str(pay))\n",
    "\n",
    "computepay(45,10)        "
   ]
  },
  {
   "cell_type": "markdown",
   "id": "c5bd372f",
   "metadata": {},
   "source": [
    "### Exercise 7: Rewrite the grade program from the previous chapter using a function called computegrade that takes a score as its parameter and returns a grade as a string."
   ]
  },
  {
   "cell_type": "code",
   "execution_count": 30,
   "id": "721e82d2",
   "metadata": {},
   "outputs": [
    {
     "name": "stdout",
     "output_type": "stream",
     "text": [
      "Enter score:0.95\n",
      "A\n",
      "Enter score:perfect\n",
      "Bad score\n",
      "Enter score:10.0\n",
      "Bad score\n",
      "Enter score:0.75\n",
      "C\n",
      "Enter score:0.5\n",
      "F\n"
     ]
    }
   ],
   "source": [
    "def computegrade(score):\n",
    "    print(\"Enter score:\"+str(score))\n",
    "    try:\n",
    "        if float(score) < 0.6 and float(score) >= 0.0:\n",
    "            print(\"F\")\n",
    "        elif float(score) < 0.7:\n",
    "            print(\"D\")\n",
    "        elif float(score) < 0.8:\n",
    "            print(\"C\")\n",
    "        elif float(score) < 0.9:\n",
    "            print(\"B\")\n",
    "        elif float(score) <1:\n",
    "            print(\"A\")\n",
    "        else:\n",
    "            print(\"Bad score\")\n",
    "    except:\n",
    "        print(\"Bad score\")\n",
    "    \n",
    "computegrade(0.95)\n",
    "computegrade(\"perfect\")\n",
    "computegrade(10.0)\n",
    "computegrade(0.75)\n",
    "computegrade(0.5)"
   ]
  }
 ],
 "metadata": {
  "kernelspec": {
   "display_name": "Python 3",
   "language": "python",
   "name": "python3"
  },
  "language_info": {
   "codemirror_mode": {
    "name": "ipython",
    "version": 3
   },
   "file_extension": ".py",
   "mimetype": "text/x-python",
   "name": "python",
   "nbconvert_exporter": "python",
   "pygments_lexer": "ipython3",
   "version": "3.8.8"
  }
 },
 "nbformat": 4,
 "nbformat_minor": 5
}
