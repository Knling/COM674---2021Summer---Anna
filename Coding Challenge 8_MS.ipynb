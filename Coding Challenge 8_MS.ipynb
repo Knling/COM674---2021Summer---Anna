{
 "cells": [
  {
   "cell_type": "markdown",
   "metadata": {},
   "source": [
    "# Using APIs to Get Data From the Internet"
   ]
  },
  {
   "cell_type": "markdown",
   "metadata": {},
   "source": [
    "\n",
    "**API** means Application Programmer Interface\n",
    "\n",
    "An API is a set of instructions that describe how computers can interact with each other to request and receive information.\n",
    "\n",
    "Some important questions we will ask that help us discover APIs is below.\n",
    "\n",
    "|Question | In technical terms |\n",
    "|:---------|:--------------------|\n",
    "|Where is my data? | What is the domain? |\n",
    "|How do I learn what data is available?| Where is the documentation? |\n",
    "|How do I request specific data?| How do I formulate a URL for a specific purpose? |\n",
    "|How do I interpret the data?| What is the structure and format of the output?|\n",
    "\n"
   ]
  },
  {
   "cell_type": "markdown",
   "metadata": {},
   "source": [
    "**Let's walk through an example in the browser**\n",
    "\n",
    "PlaceKitten!\n",
    "\n",
    "In a browser, go to http://www.placekitten.com\n",
    "\n",
    "|In technical terms | PlaceKitten |\n",
    "|:---------|:--------------------|\n",
    "|What is the domain? | http://www.placekitten.com |\n",
    "|Where is the documentation?| The documentation is on the home page. |\n",
    "|How do I formulate a URL for a specific purpose? | You put it in the url like http://www.placekitten/width/height |\n",
    "|What is the structure and format of the output?| It's an image! |"
   ]
  },
  {
   "cell_type": "markdown",
   "metadata": {},
   "source": [
    "# Accessing placekitten in python\n",
    "\n",
    "We're going to use a special library called <code>requests</code>"
   ]
  },
  {
   "cell_type": "code",
   "execution_count": 1,
   "metadata": {},
   "outputs": [],
   "source": [
    "from IPython.display import display, Image  # This line lets you display images. We'll use that in a bit.\n",
    "\n",
    "# This line lets you use python to download data from the web.\n",
    "import requests"
   ]
  },
  {
   "cell_type": "code",
   "execution_count": 2,
   "metadata": {},
   "outputs": [],
   "source": [
    "# Get a 200 by 300 image from placekitten.\n",
    "r = requests.get('http://www.placekitten.com/200/300')"
   ]
  },
  {
   "cell_type": "code",
   "execution_count": 3,
   "metadata": {},
   "outputs": [
    {
     "data": {
      "text/plain": [
       "200"
      ]
     },
     "execution_count": 3,
     "metadata": {},
     "output_type": "execute_result"
    }
   ],
   "source": [
    "# Look at the status code\n",
    "r.status_code"
   ]
  },
  {
   "cell_type": "code",
   "execution_count": 4,
   "metadata": {},
   "outputs": [
    {
     "data": {
      "text/plain": [
       "b'\\xff\\xd8\\xff\\xe0\\x00\\x10JFIF\\x00\\x01\\x01\\x01\\x00`\\x00`\\x00\\x00\\xff\\xfe\\x00;CREATOR: gd-jpeg v1.0 (using IJG JPEG v80), quality = 65\\n\\xff\\xdb\\x00C\\x00\\x0b\\x08\\x08\\n\\x08\\x07\\x0b\\n\\t\\n\\r\\x0c\\x0b\\r\\x11\\x1c\\x12\\x11\\x0f\\x0f\\x11\"\\x19\\x1a\\x14\\x1c)$+*($\\'\\'-2@7-0=0\\'\\'8L9=CEHIH+6OUNFT@GHE\\xff\\xdb\\x00C\\x01\\x0c\\r\\r\\x11\\x0f\\x11!\\x12\\x12!E.\\'.EEEEEEEEEEEEEEEEEEEEEEEEEEEEEEEEEEEEEEEEEEEEEEEEEE\\xff\\xc0\\x00\\x11\\x08\\x01,\\x00\\xc8\\x03\\x01\"\\x00\\x02\\x11\\x01\\x03\\x11\\x01\\xff\\xc4\\x00\\x1f\\x00\\x00\\x01\\x05\\x01\\x01\\x01\\x01\\x01\\x01\\x00\\x00\\x00\\x00\\x00\\x00\\x00\\x00\\x01\\x02\\x03\\x04\\x05\\x06\\x07\\x08\\t\\n\\x0b\\xff\\xc4\\x00\\xb5\\x10\\x00\\x02\\x01\\x03\\x03\\x02\\x04\\x03\\x05\\x05\\x04\\x04\\x00\\x00\\x01}\\x01\\x02\\x03\\x00\\x04\\x11\\x05\\x12!1A\\x06\\x13Qa\\x07\"q\\x142\\x81\\x91\\xa1\\x08#B\\xb1\\xc1\\x15R\\xd1\\xf0$3br\\x82\\t\\n\\x16\\x17\\x18\\x19\\x1a%&\\'()*456789:CDEFGHIJSTUVWXYZcdefghijstuvwxyz\\x83\\x84\\x85\\x86\\x87\\x88\\x89\\x8a\\x92\\x93\\x94\\x95\\x96\\x97\\x98\\x99\\x9a\\xa2\\xa3\\xa4\\xa5\\xa6\\xa7\\xa8\\xa9\\xaa\\xb2\\xb3\\xb4\\xb5\\xb6\\xb7\\xb8\\xb9\\xba\\xc2\\xc3\\xc4\\xc5\\xc6\\xc7\\xc8\\xc9\\xca\\xd2\\xd3\\xd4\\xd5\\xd6\\xd7\\xd8\\xd9\\xda\\xe1\\xe2\\xe3\\xe4\\xe5\\xe6\\xe7\\xe8\\xe9\\xea\\xf1\\xf2\\xf3\\xf4\\xf5\\xf6\\xf7\\xf8\\xf9\\xfa\\xff\\xc4\\x00\\x1f\\x01\\x00\\x03\\x01\\x01\\x01\\x01\\x01\\x01\\x01\\x01\\x01\\x00\\x00\\x00\\x00\\x00\\x00\\x01\\x02\\x03\\x04\\x05\\x06\\x07\\x08\\t\\n\\x0b\\xff\\xc4\\x00\\xb5\\x11\\x00\\x02\\x01\\x02\\x04\\x04\\x03\\x04\\x07\\x05\\x04\\x04\\x00\\x01\\x02w\\x00\\x01\\x02\\x03\\x11\\x04\\x05!1\\x06\\x12AQ\\x07aq\\x13\"2\\x81\\x08\\x14B\\x91\\xa1\\xb1\\xc1\\t#3R\\xf0\\x15br\\xd1\\n\\x16$4\\xe1%\\xf1\\x17\\x18\\x19\\x1a&\\'()*56789:CDEFGHIJSTUVWXYZcdefghijstuvwxyz\\x82\\x83\\x84\\x85\\x86\\x87\\x88\\x89\\x8a\\x92\\x93\\x94\\x95\\x96\\x97\\x98\\x99\\x9a\\xa2\\xa3\\xa4\\xa5\\xa6\\xa7\\xa8\\xa9\\xaa\\xb2\\xb3\\xb4\\xb5\\xb6\\xb7\\xb8\\xb9\\xba\\xc2\\xc3\\xc4\\xc5\\xc6\\xc7\\xc8\\xc9\\xca\\xd2\\xd3\\xd4\\xd5\\xd6\\xd7\\xd8\\xd9\\xda\\xe2\\xe3\\xe4\\xe5\\xe6\\xe7\\xe8\\xe9\\xea\\xf2\\xf3\\xf4\\xf5\\xf6\\xf7\\xf8\\xf9\\xfa\\xff\\xda\\x00\\x0c\\x03\\x01\\x00\\x02\\x11\\x03\\x11\\x00?\\x00\\xe6\\xee\\xc7\\x06\\xb0\\xeez\\x9e+z\\xef\\xbda]\\x0eMb\\x8be1\\x8ap\\xfaR\\x0eM8U\\x92\\x02\\x9e\\xa2\\x90\\x0fj\\x91T\\xd0\\xc01N\\x03\\xda\\x9f\\x1c%\\xbbT\\xdfg#\\xa8\\xa9\\xb8X\\x88-;mK\\xb3\\x15 U\\xdbHv!\\x0b\\xcfJz\\xa5L\\xaa1\\xc5\"p\\xd4\\x87a\\x9e_=)Lx\\x15a\\x93\\xe5\\xcdB\\xd2\\x05\\xc0\\xa1\\x0b`\\x11n\\x15\"\\xdbf\\x9d\\x14\\x8b\\x8e*\\xd6\\xe5U\\x07\"\\x93\\xb8\\xf4(\\xbc[N(\\x8d\\t\\xe0\\n\\x92\\xe6P\\x08\\xab\\xba}\\xba\\xb4{\\xcd\\x1b +\\x08\\x8a\\x8c\\x91RF=kBXT \\xc6*\\x94\\xa0\\'zI\\x89\\xa2U\"\\xa6V\\xe4V\\x7f\\x9b\\xb4\\x1ejh\\xe5\\xc8\\xcdZ\\x11\\xa2\\xadRo\\x00U\\x03t\\xa8\\x06N+*\\xf3\\xc4\\x08\\x8f\\xb6\\x11\\xbf\\xde\\x98\\x8e\\x8b\\xcc\\xa2\\xb9\\x98\\xa7\\xd5\\xaf\\x0e\\xf8\\xa1m\\x9d@\\xc7\\x14T\\xb9Eu+\\x95\\xf64.\\xc7Z\\xc4\\xbaQ\\xcdn\\\\\\xf2\\rd\\\\&\\xec\\x9aKr\\x99\\x99\\x8f\\x9a\\xa5T\\xc9\\xc6)\\xcb\\x1e[\\x15n\\xda\\xdfs\\x0c\\xf5\\x15m\\x90\\x90\\xc8\\xadY\\xcfJ\\xb0\\x96\\xbc\\x80Ek[\\xc0\\xaa\\x06qR<\\x006F+\\'&U\\x8c\\xe4\\x80D~a\\xd2\\xa5`\\x8f\\xd3\\x14]\\x03\\xb4\\x81T0\\xca3\\x9cg\\xa5\\t\\\\w\\xb1$\\x8a\\x06j\\x13\\x95\\x19\\x1d\\xe9\\t,\\x0f5\\x0e\\xf2\\x08_z\\xd1\"\\t\\xa3\\x93\\x1c\\x1fZ\\x96V\\xc2\\x96\\x15E\\x83&\\x0b\\x1a\\x9d$\\x06\\x16\\xe4S\\xd05,\\x89\\xb7 \\xe7\\xb6*\\xb3\\x12\\xb26y\\xc57%B\\x90q\\x93\\x81Hr\\xf30\\xee\\xc7\\x14\\x01(\\x7f.\\x9en\\x8e\\xd0\\x0ex\\xa8\\x8b+\\xc6\\x01\\xfaf\\x9f*/\\x94q\\xd4\\x01\\xd2\\x95\\xc0T\\xcc\\x8d\\x93\\xebZ\\xd0N!\\x8c\\xaezVe\\x83+8\\r\\xe9\\xcd6\\xeeVIXG\\xdb\\xbdK\\xd5\\xd8\\xad\\x8d\\t\\xb5L\\x8d\\xab\\xd6\\xaa=\\xd8\\'\\xdf\\xd2\\xa9\\x02z\\x9e\\xf5RY\\x981\\xc15I\\t\\x9a\\ru\\x96#4\\x83Q\\x11\\xf7\\xe9Y\\x82BO\\x1c\\x9cV\\x96\\x97\\xa3K\\xa88\\xdd\\xf2\\xa7Rh\\x93QW`\\x93z!\\x91\\x8b\\xcd^\\x7f*\\x00v\\xf4\\xcdt\\xfaW\\x86-m\\xb0\\xd3/\\x9b\\'\\xbfJ\\xd0\\xb2\\xb1\\x86\\xd2\\x11\\x15\\xbac\\xd5\\xbdkB\\x18\\x10\\x0c\\xc8\\xdc\\x0f\\xca\\xb9eRR\\xd1lo\\x18(\\xea\\xc7\\xc3\\x1a\\xc4\\x00\\xda0;\\n)\\xb2\\xdcD\\x0e\\xc4$\\n(Q\\xb0\\xee\\xceN\\xe8\\xe0\\xf5\\xac\\xe9B4x\\xe4>\\x7f\\x02(\\xb5\\x8a\\xf7Q\\x7f\\x9brF\\x7f\\x88\\x8e\\x05h7\\x85\\xef\\n\\xe5\\'R\\xde\\xf5\\xbb\\x94S\\xb3f6l\\xc8\\n\\xab\\xc9\\xc6jE\\x90 \\x05i\\xb7v\\x17\\xd6D\\xf9\\xf6\\xed\\xb7\\xfb\\xc0dU#7\\xa6~\\x95j\\xcfbuF\\xc2\\xdfeq\\x9c\\x1a\\x96;\\xf2\\xc4\\x83X\\r)\\xecy\\xa7\\xc3tQ\\xc9&\\x87\\x10\\xb9\\xaa\\xf7Ad\\xf9\\x87\\x06\\xab\\x1b\\x84\\r\\xea\\x01\\xa7n\\x8e\\xe4o\\x07\\x1e\\xd5FT\\xd9\\xb8f\\x92\\xb0\\xd9y#\\x12\\t\\x14\\x1eI\\xc8\\xaac%\\xf1\\x9c`\\xe2\\x8bI\\xc8nO4\\xb7N\\x03eN7s\\xf8\\xd5-\\xecK,O\\x18\\x92\\xd80\\xfb\\xc1\\xb9\\xaap\\xb6d+\\xd4zU\\xd8g\\xf3a\\x03\\x1f1\\xfb\\xd4\\xb0Z,wM!\\xff\\x00W\\xb4\\x95?\\x85$\\xed\\xa3\\x19Rw\\xda\\xa8\\x99\\xe4\\x02~\\x9c\\xd2<\\x80\\xa8q\\xf7\\x87\\xf3\\xa8\\xee\\xb2\\xb3\\xf2;~\\x94Fx\\xc7\\xa8\\xefU\\xd0@\\xaeYH\\x15v\\xd8\\x99$\\xf2\\xb1\\xcb\\n\\xcd\\x8b+:\\x83\\xd8\\xf3W\\xedd\\xce\\xa0\\xb8\\xe9\\xc74\\xa44#Hmgd\\xce\\x18\\x1a\\x96Y\\x15\\xad\\xf3\\xfcML\\xd5\\xd0\\x89L\\xbe\\xbcU=\\xec\\xd1(\\xe7\\x14\\xadup\\xbd\\x87y\\xf9Z\\xaa\\xd9w\\xe2\\xacH\\x9b`\\xdc?\\x88\\xd6\\x9f\\x86\\xf4\\x91}rf\\x94~\\xea3\\x9f\\xad6\\xd2W\\x04\\xaf\\xa1.\\x8b\\xa0\\xb4\\xee\\xb2\\xcc\\xbf\\'S\\x9a\\xea\\xe3\\x85bA\\x1c \\x00*o\\x94(T\\xf9EO\\x02$k\\xd7q5\\xc9)9\\xbdN\\x84\\x94P\\xd8\\x90F\\xb9v\\xa8\\xae.\\xd4d\\x0e\\x95,\\xfb\\xc8\\xe0~&\\xb2e\\xe1\\xf1\\x9c\\x9fj\\xa4\\xac\\x85\\xb9n\\x06\\xf3\\x1bq\\xe8(\\xa5\\x8f\\t\\x06O\\x19\\xa2\\x9aW\\x14\\xa5f$(\\xaa\\x9c)\\x1e\\xe0qR\\x87a\\xc19\\x1d\\xb0\\rS72#\\x80rG\\xa5L\\xba\\x84G!\\x98\\x0f\\\\sP\\xe0;\\x97\"r[d\\xe3p==j\\xb5\\xee\\x91\\xa7\\xdc\\x82&\\xb7U\\xcf\\xf1/\\x06\\x969\\x9afQ\\x0fC\\xc6\\xe2@\\xabF\\t!\\x19\\x95\\x96e#\\x91\\x91\\xc5O+Z\\xa2\\xae\\x99\\xce\\\\x1\\x19I\\xb4\\x9c7p\\x1b\\x83XWz\\r\\xe5\\xa1m\\xf0\\x9c\\x0e\\xe2\\xbb\\xb7 \\x0c\\xc1\\x95\\xf4\\x07\\xa5>\\x1b\\x99O\\xcb\"\\x821\\xd1\\xaa\\xd5I\"\\x1cS<\\xc0;\\xc2\\xe4s\\x8fJs\\xb3:\\x92?\\x1a\\xf4\\x0b\\xff\\x00\\x0f\\xd8\\xea\\x8aJ\\'\\x91?b8\\xc9\\xae\\x1e\\xfa\\xce}2\\xed\\xa0\\x9cc\\x9e\\x0fb+x\\xcdH\\xc9\\xc6\\xc5%l\\x0c\\x8e9\\xa4\\x95\\xd9\\x81&\\xa60\\x11\\x9cs\\x91SEd\\xd3&\\x00\\xe4\\x0c\\xe7\\xf0\\xad9\\x916d\\x9aC.\\xfc7%\\x81\\x1f\\xa5hj\\xb2\\x0bx\\x17h\\xc6W\\x07\\xf1\\xacK]\\xcbu\\x18\\x07\\x07un\\xebq\\x99bU\\x03\\x8d\\xa0\\xfe#\\x1f\\xd2\\xa2_\\x10\\xd6\\xc6#\\xe6X\\xcb\\x11\\xd0\\x83\\xfe?\\xc8Swap{T\\x91\\xbb<\\x12\\xf1\\xc1\\xe3\\xe9H\\xd0\\xfc\\xacq\\x86\\x038\\xf6\\xf5\\xa7p#Q\\xe62\\xe3\\x96n\\r\\\\\\xb3\\x01.\\xd1\\x98\\xf0pqL\\xb6\\x80F\\x9ei\\xe4\\xa68\\xfa\\xd0\\xf3/\\x9c\\x85\\x060i7}\\x10\\xcb\\x97\\xd0\\xfd\\xa6\\xdc\\xba\\xe7;\\x87\\x1f\\xa5T\\x11+\\xc4\\xaa\\x0e0O\\xe3[2\\x05[M\\xd8\\xe4\\xf3X\\xb0K\\xfe\\x92\\xcb\\xc6\\x018\\xfa\\xd4\\xc5\\xb6\\x86\\xc9$\\x83\\xf7!:m\\x15\\xd1xi\\xd2\\x1d5\\x97\\xb9c\\xf8\\xd6g\\xd9\\xcb\\xaf\\x99\\x8c\\xee\\x07\\xf2\\xad\\x1d>\\xd1\\xa0@\\xd98=\\xab)OK\\x1a(\\xealD\\xa5\\xdc\\xe7\\xb9\\xe9R\\xc9>\\xd68 \\x05\\xefKg\\x01\\xdb\\x96\\xe0\\xf5\\xc5X6HP\\x96\\x15\\x10\\xd4r3e\\xbbi>H\\xdc\\xfe\\x14\\xd8\\xad\\x9aF\\x05\\x98\\xfe5m\\xac\\xe2C\\xc2\\x92O5<0\\x95\\\\\\xed\\xc6+FJe;\\xa6\\xd8\\x81\\x05\\x15R\\xfa\\xe4\\xb5\\xde\\xc00\\x05\\x15\\xac\\x16\\x86rz\\x8c\\x9bk\\xaeX\\x80=3T\\x9eh\\xa3?3\\x81\\x8e\\x8b\\x8e*Vp\\xa4\\x83\\xdf\\xd6\\xb3n\\xad\\xfc\\xc7\\xfb\\xdc\\x1e\\xf5\\x96\\xcc\\xd5j[\\x1a\\xban\\xda\\x1f\\xf3\\xe9Z\\x96:\\x84\\'\\x05\\xb6\\x93\\xec\\xd5\\xcc\\xc5`7\\xe7r6;\\x16\\x15uRe\\x03b\\x03\\xdb\\x00\\x80*\\x89gQ&\\xad\\x04c+\\x1e\\xe3P\\x1b\\xe33n\\x88\\x14\\xf6\\xac(\\x92\\xe1\\xa4\\x1ea\\x0b\\xcf\\x035\\xd0ZZ\\xb1\\xf9\\x8cxe\\xea3\\xd6\\xa5\\xa0L\\x05\\xc3&VR[\\x9e\\x08\\xea\\xb5\\x95\\xe2\\x18\\xa3\\xd4 \\x0e\\x18y\\x91\\x8a\\xd9\\xbb\\xb5V\\xe58n\\xd9\\xacimZB\\xe1\\xb88\\xe9Y\\xde\\xcc\\xbb]\\x1c\\xe1\\x85\\x8ae{pqW\\xecG\\x93##\\x03\\x86L~\\x95b+I &02\\x0fCV\\xfe\\xce\\xa6\\xd4\\x12>h\\xce~\\x9e\\xd5\\xa75\\xc8\\xb1\\xc8\\xce\\xbeE\\xef\\xcb\\xfc\\'\"\\xb7\\xd6\\xe5.\\xd4\\x902J\\x7f\\xfa\\xeb\\x17T\\x8d\\x85\\xe6\\xf5\\xe5}EK\\xa6I\\xf34d\\xe0\\x93\\x91\\xfe\\x7f\\xcfJ\\xd6J\\xf1\\xb9\\x0bGb\"\\xc6\\xdai\\x0fD-\\xd0\\xd5\\xab\\x88\\xd5g\\xf3\\x00\\xf9\\x1dp?\\xc2\\x97V\\xb7e<\\xf6\\xc756\\xe8\\xde\\xdd\\x91\\x8f\\x03\\x0c\\xbe\\xdc\\xd4\\xb7\\xa2eX\\xa6O\\x96\\x0fe#\\x9c\\xfe\\x15\\x04{\\x9aT\\xc0\\xf5$\\xfbU\\xbb\\x8f\\xde[\\x920\\x1dN>\\xbc\\xd5\\x8d>5{\\x85\\xdc\\xb8\\xc2\\x8c\\x8f\\xe7\\x8f\\xce\\x9d\\xec\\xae \\xd4e\\xf2m\\x95I\\xe4\\xafQ\\xebYVqo\\x95H\\xe9\\xde\\xaf\\xeb\\xb0l\\\\\\xab\\x12\\x8b\\xc7\\x02\\xaa\\xd8\\xbec\\nO!\\x81\\xcd5\\xa4n\\x83\\xad\\x8e\\xae\\xda\\x14\\x92$\\\\p+R\\x18\\xd3\\x08\\x00\\x1c\\n\\xca\\xb5\\x97t*\\xa3\\xa9\\x15\\xa5j\\xc4\\x92_\\x8ct\\xaeI\\x1b\\xa3J\\x14\\xf9\\xb09\\xe9S\\xb2\\x97}\\xab\\xd0\\x0f\\xd6\\xab\\xc7(E\\'\\xf8\\x88\\xab\\xd6\\xae\\x91/\\xcd\\xf7\\xbb\\x9apv\\x14\\x90\\xe8\\xac\\xc2\\x82[9\\xf7\\xa4\\x99\\x16(\\xcf\\x035+K\\x92X0\\xe9\\xc0\\x15\\x9by3\\xe0\\x8a\\xda\\xe6v0/#\\x1fl$rh\\xa9\\xc8M\\xc5\\x8eY\\xa8\\xadc\\xa23{\\x9c\\xde\\xadp\\xf1\\xb0;H\\x19\\xab\\x16\\xec\\x97V\\xa1\\x87\\xa5I\\xa8\\xc7\\xba6\\x04\\x03Y\\xdal\\xbe\\\\\\x8c\\x8d\\xc0\\xac\\xe4\\xb44OR\\xdc6E\\xe4\\xdc\\x1b\\xa1\\xad\\xbb\\x1b!\\x0be\\xb1\\x83\\xe8\\xa0VZ\\xb2\\xa3\\xeeW\\xad\\x08/Ldn<}I\\xa4\\x983dZZ\\xcc\\x98)\\x83\\xea*t\\x1eP\\xdb\\xbb\\x9e\\x80\\xd4\\x16\\xb71M\\x1f\\xcaF}\\xb85<\\x8c\\xa5I`s\\xea\\x05\\r\\x89!$_;\\x078a\\xde\\xa9O\\x1a\\x16\\xc9\\x1b[\\xaf\\xd6\\x9b5\\xcb\\x03\\x84b\\x0es\\xc8\\xaa\\xefrf\\xe0\\x12\\xb2\\x0fn\\rb\\xf75D7\\x0c\\xa9\\xf7T\\xb0<\\x1e3\\x8ab\\xb6\\x18\\x8e\\xaa\\xc3\\x83\\xebRa\\x98\\x968#\\xd3\\xa58F\\x1e\\xdd\\x86\\xc2\\xa4vc\\xcf\\xe1LL\\xe6\\xb5\\x14E\\x04\\xee\\xdawr\\x07j\\xa1o\\x95\\x9bi\\xc3\\x03\\xfcb\\xaej\\x10\\xcaw\\x822\\x079\\xf6\\xac\\xfb%2\\xc9\\xe5\\x0c\\x89\\x97\\xe6Q\\xeb\\xed]\\x11\\xf8L\\xa5\\xb9\\xab\\xab|\\xe9\\xc9\\xc3\\x04\\x18\\x07\\xbf\\xf95F\\xd1\\xcb\\xdb?fA\\x96\\xfaV\\xad\\xfc^v\\x96\\x8c\\xf9\\xdc\\x17\\x9e9\\xac\\x8b\\x17\\x0b6\\x0f<r=E%\\xf0\\x83\\xd1\\x96\\x963\\xf29\\x18\\x8d\\xfe\\xf7\\xd4T\\x91\\xc8\\x06\\xa4\\xb1\\xc6r@\\xeb\\xed\\x8a\\x92\\xc1|\\xdbi\\xa1s\\x81\\xce\\xdfj\\x8fO\\x84\\xae\\xa4\\x99\\x03\\x0b\\xd5\\xbd8\\xa5\\xdce\\x8dLG\\xbd le\\xd7\\x9a\\x82\\xce\\xc1\\x0b\\x01\\x82U\\xbb\\xfa\\x8e\\xd4\\xdf\\x13m\\x86\\xe66\\x8c\\xf0\\x10\\x05\\xf5\\xa9\\xf4K\\x95x\\xc7?6\\xec`\\xfaP\\xd3Q\\xba\\x1a\\xde\\xc6\\x9d\\xacd`\\x11\\x82\\x9c\\x03W\\xe1$\\xfd*\\x12\\x17\\xcd\\x18\\xf5\\xabQ\\xa2\\xab\\x10:\\x8a\\xe6{\\x9b\"\\xda\\x92\\\\\\x10>QR4\\x92\\x0e{t\\xc5C\\x03gp\\xe8*lg\\xe9R1\\x12Y\\x1d\\xb6\\xa95$\\xb02\\xa6[\\x9aH\\xc0\\x8c\\xee9\\xc0\\xe9L\\x9a\\xf0\\xb1\\xf9\\xb1\\x8f\\xadk\\x16D\\x91VK|\\xe5\\x8d\\x15+J\\x8c\\xb8\\xcfZ+tb\\xcc;\\x94W\\x07\"\\xb0\\xaeS\\xc8r\\xd1\\x93]\\x14\\xe8\\t\\'\\xd2\\xb2.\\xe2S\\x9f\\x9b\\xf3\\xa1\\xbdJ\\xb1In\\x19\\x80\\xddVc\\xb8\\x93#i?\\x85T\\xc1V\\xc6F>\\xb5m\\x00\\xc7\\xca\\xea>\\xa6\\xa2CF\\x847r\\xc5\\xb5\\x89\\xc0\\x1d\\xeb^\\xdbQ\\x13\\xa67\\x82\\xdf\\x91\\xaer=\\xc0\\xf3\"\\x00}\\xea\\xec1\\x85;\\x83\\x03\\xf8f\\xb3w)\\x1as3\\x93\\x9c0>\\xa0f\\xa1\\x0c[\\x04`\\xb0\\xea3B\\xa9e\\xe2A\\xee*\\xbb\\xc6\\xdb\\x86\\xc7P{s\\xd6\\x96\\xa3/\\xa9\\\\\\x13\\x9d\\xa4\\xf5\\x06\\x95\\xf6\\xb4|aXt#\\xbdWA2\\xae\\xec\\xe3\\xd4\\x1ej\\x16\\x93c\\xe4\\xb3.x\\xc6~SB\\x06R\\xd4pRGS\\x8e0Es\\t;\\xdb\\\\\\t1\\x95\\xf4\\xf4\\xae\\x8e\\xea<NS\\xaa\\xca8\\xf4\\xcdP\\xb7\\xd3\\xbc\\xc5h\\xdc`9\\xef\\xfc\\xebxI%\\xa9\\x9c\\xa3w\\xa1\\xad\\x14\\xd1\\xdfi\\xf2s\\xd529\\xe9\\\\\\xce\\xec^!\\xc7\\x19\\xe7\\xe9V\\xf4\\x99\\xa4\\xb4\\xbd\\x92\\xceQ\\x95\\xe4m#\\xf9S\\xef,\\x8cw\\x0b\\xe5\\x90\\xdd\\x19X}j\\x97\\xba\\xecN\\xe8\\xbc\\xdbP\\xba \\x04\\xf2\\xdcz\\xd2\\xe8\\xb2\\xbb\\xdc\\x1f17g\\x9f\\xa1\\xa9\\x1dQ\\x19\\x1b\\xee\\xb3q\\xd3\\xa1\\xe9\\x8am\\xac\\x82\\xca;\\x89\\xa4\\xe3\\x035\\x9a\\xd8\\xa33[\\xcd\\xee\\xb0\\xd0\\xa7+\\x18\\xc7\\xe9\\x9av\\x92&\\xb6\\xb9\\xda\\xeaG\\xa8\\xab\\xfa\\r\\x83\\xde_}\\xa8\\xe0\\xa4\\xc0\\xe7\\x1f_\\xf2*\\xee\\xb7\\nY\\xc4\\x19\\x06\\x0eH\\xf7\\xfaUI\\xe9\\xc8\\tu-\\xc5\\x99\\xd8\\x10z\\x1c\\x93W\\xe3G*\\x0b\\x1f\\x9b==*\\x9e\\x81\\xfb\\xe4\\x01\\x80\\xdd\\xdczU\\xedZ\\xe1,\\xa1\\xf3:(\\xfe#X\\xf23NbD\"3\\x83\\xf3T\\xca\\xc5\\x86\\xd0\\x08\\xcfz\\xc5\\xb6\\xd4\\xe3\\x9cdg\\'\\x9c\\x9a\\xd2\\xb7r\\xc7$\\xf1\\xd6\\xa1\\xa6\\x8aL\\xb5\\'\\xcc\\xbb@9\\xac\\xfb\\xb0\\xc82z{V\\x83L\\x08\\xc2t\\xf5\\xaaW\\x84\\x98\\x88\\x15QD\\xb6g-\\xd0i0\\r\\x15\\x04P\\x81)#\\xbd\\x15\\xd3\\x1d\\x8cY\\xa2\\xf0n\\x15\\x81\\xaa\\xdb4Gp\\xe8k\\xad\\xf2\\xb8\\xac\\xddJ\\xd7\\xcc\\x88\\x8cT6m\\xcb\\xa1\\xc7\\xf5\\xf4\\xcd:7e|\\x11P\\xdc\\xc3$R\\xb2\\x83\\x81Q\\xc3\\n\\x87\\x05\\xe4\\xc5]\\xae\\x8c\\xaffk\\xc4r\\xa0\\x90pkB,\\x84\\x05W\\x8fP*\\xbd\\x92\"\\xa66\\x96\\x07\\xa6kB%u\\xc1L\\x01\\xed\\\\\\xf2H\\xd11\\x024\\x83\\xa0\\xcfcQK\\x0c\\xe3\\xaa\\xe4\\x8e\\x8c*\\xd9\\x98\\xa8\\xf9\\xc9\\xfab\\x87\\x93\\x11\\x96YYA\\xe8;\\xd2QC\\xb9\\x1c\\x13\\xbb\\x00$B\\x0e1\\x93V\"M\\xe4+\\xedq\\xdb\\x9c\\x9a\\xe7/%\\x9ey\\x8a\\xc73\\x02;\\x8a\\xb9\\xa5\\xbd\\xe2\\\\(\\xb9\\xb8lv\\xe9\\x9f\\xe7\\x9a\\xd9CC7\"\\xee\\xb2^8\\x0f\\xc8A^\\x99\\x1dk\\n\\xd2\\xfc\\xcdt\\xb0\\xb9\\xda\\x1f$6+\\xb6\\xbd\\xb2k\\xbb\\x13\\xb7\\xf7\\x99\\x1d\\xfa\\xd7\\x9fOm%\\x96\\xa1\\x86\\xca\\r\\xd9\\xfaU$\\x9ahW{\\x97u{)\\x05\\xc4S\\xc6\\xd8\\x90tq\\xde\\x96\\xf5\\x9dR\\x1b\\xa4]\\xea>\\xf2\\x8e\\xde\\xa3\\xe9[\\r\\x12]\\xe9\\xfb\\x18\\xfc\\xd8\\x1c\\x8e3Y\\x10\\x97\\x8d^\\xd9\\x94n\\x1d\\x88\\xe1\\xc5(\\xb0h\\xbb\\x15\\xaa\\xdc\\x88\\xa5F-\\x19\\xecz\\xa9\\xea?\\xa5U\\xd5\\x8d\\xc4\\xf7B(B\\xb4ck\\x11\\xea\\ri\\xe9Py.#\\x97&=\\xc0\\x0eyPz~\\xbf\\xd6\\xb6\\xff\\x00\\xb1\\x91eK\\x9e>E\\xdap;u\\xfc\\xaa\\xb4Z\\x8bQ\\xfa=\\x84v\\xf6\\x88c\\x8fo\\x19\\x1e\\x95\\x99\\xe2(\\xd0\\xdb\\xb8\\'\\xa1\\xc8\\xe3&\\xbaXeD\\xdc\\xa9\\x85\\xe8B\\xfe\\x15\\x93\\xa8\\xd9\\x9b\\xe6P\\x1b`\\x18\\xcdd\\x9e\\xb74\\xb6\\x96*\\xf8V?\\xdc\\x1f\\x97\\x08\\x075\\x16\\xb5$\\xba\\xa5\\xd2\\xdbZ\\x0c*\\x1eO\\xa7\\xbdj\\xa4\\xd0Y[y\\x10\\xb8\\xdd\\x8c\\x16\\xefT\\xad5==\\x18\\xa6\\x03>y\\xeb\\xfc\\xea\\xaf\\xd4\\x9b\\x14\\xe3\\xd0%\\\\m\\xb8f#\\xaf\\xcd\\xc5\\\\F\\x91\\x1cB\\xd9\\xc0\\xea}kK\\xedV\\xe2\\x13\\x80W\\x1d\\x16\\xb9\\xddWZ\\x86\\xd9\\xc9U\\xcf\\xb85\\x12\\x8be&\\x91\\xd2 \\x88*\\x86 z\\xd6v\\xa9w\\x04hG\\x1f\\x85rRx\\x8a\\xe2f\\xc4 \\x81Vm\\xadn\\xae\\xbfy0$\\x1a\\xa5\\x06\\xb7\\x13\\x92{\\x1a6\\xa3\\xcdm\\xcax>\\xb4T\\xd6\\xb0\\x98\\xc0P9\\xa2\\xb527\\x0e\\x05V\\x9fk)\\x14\\x92\\xcdT\\xe5\\x9f\\x8a\\xc1\\xb3\\xb9h\\x8c\\rj\\xd0\\x0c\\xba\\xf5\\xacX\\xa4C\\xc3\\x0eEtw\\xeb\\xe6\\xa1\\x1e\\xb5\\xcc\\xdcZ\\xb4r\\x12\\x05k\\x06\\x9a\\xb1\\xcfS{\\xa3f\\xcbU\\x8d@\\x8eE\\xe9\\xd3\\x15\\xbbip\\xa4|\\xb8\\xe7\\xa6k\\x81\\xcbF\\xdc\\xe7\\xf0\\xad[=D\\x04\\xdb\\xb9\\xb8\\xf5\\xa2t\\xfa\\xa2#.\\xe7Ow!\\\\\\xb1T\\x1e\\xe0\\xd6qy.\\x01\\x11\\xa9\\x1d\\xba\\xd53\\xac@\\x06\\x1c\\x97#\\xb7j\\x81\\xf5\\x91#\\x80\\x8aI\\xec\\xb5\\n\\x0f\\xb1\\\\\\xc8\\xe8l4\\xf4\\x8c\\x86\\x94+\\x9fD\\x03\\xf9\\x9a\\x9a\\xe2\\xccL@\\x8d\\x1a7\\xcf\\x04&I\\xfcj\\xb5\\xa5\\xe4q\\xdb\\xf9\\x97l\\xca\\x8a2B\\xf1U\\xaf\\xbc[\\x18\\x8c-\\x94m\\x18\\x1d\\x07\\xf8\\x9a\\xb8\\xa6\\xc9m#b\\xda[\\xcb\\x11\\xb6[\\x92\\xe7\\xfb\\xa5\\xaa\\x1b\\xe4\\xb7\\xd4\\x08\\x13\\x00\\x1f\\xaeA\\xaeI\\xfcAu%\\xc0\\xf3X\\x95\\'\\xe6$\\x9e>\\x83\\xa5A=\\xcb\\xae\\xe9!\\x96@\\x07\\x00\\x16\\'\\x15N\\x9bbSH\\xeb\\xa7\\xb4kX<\\xc8r\\xd8\\x19\\xfc*\\x95\\xb2-\\xed\\xca\\x19T\\xa9S\\xf9\\xfa\\xd5\\xbf\\x0f_\\xb5\\xf5\\x88\\xf3\\x1b$d\\x1aK\\xa8\\xbc\\x8b\\x95(07p}+\\x06\\xac\\xecm\\xb9\\xd0[\\xe9\\xe86\\xba <`\\xe3\\xb8\\xf5\\xfc\\xeb\\xa2\\x82\\xd0\\x08\\xbaq\\x8a\\xc9\\xd27:\\xfc\\xc3\\x19\\xed\\xf8WW\\x0c_ \\xdc;c5q\\xd4\\xceZ\\x1c\\x9b\\xdb\\xff\\x00\\xa4gn\\xd6S\\xd0t\\xebU<Ws\\xfd\\x8f\\xa4\\xb4\\xb1\\x00$s\\xb5O\\xa15\\xbduo\\xfe\\x9c\\xa0q\\x86\\xed\\xde\\xb9\\xaf\\x89\\t\\xe6i\\xd0*\\xf5\\x0f\\x9f\\xd2\\x84\\xae\\xec\\r\\xe8p\\x02\\xeaO9$\\x99\\x9aLg9<S\\xae\\'I%\\r\\t*q\\xdb\\xbd$l\\x8dlU\\xbe\\xf3p3L\\x16\\xdbpK\\r\\xc3\\xa0^Muhb\\xdfSgFi&\\xd4\\xd24\\x9aF\\x8d\\x87Br:\\xd5\\xfdgHK}\\xd2\\x1e[\\xbe{\\xd3\\xbc7`b\\x9f\\xed2\\x8d\\x83\\x19\\xe7\\xb7\\xb53\\xc5Z\\xb2L\\xfeT\\x00\\xb0\\xe9\\\\\\xf2\\xdfCU\\xb6\\xa6>\\x9fm\\x1b\\xce\\x0cj\\x08\\x07\\x91\\xe9]\\xad\\x9cJ\\xd1m\\xc7j\\xe6\\xfc;l\\x03y\\x8e\\x00c\\xd2\\xb7\\xe4\\xb8\\xfb<\\x80/zOV\\x06\\x85\\xb5\\x82\\x998\\x14U\\xed-\\x0c\\x807\\xad\\x15h\\x83\\x94\\x96Bj\\xab\\xbdH\\xe6\\xa0j\\xe4\\xb9\\xdc\\xc8\\xdc\\xe4\\x1a\\xce\\xba\\x8b<\\xe2\\xb4[5\\x0b&z\\xd5\\'b\\x1a\\xb9\\x91\\xf6h\\xdb\\xa8\\xc9\\xa8e\\xb2\\xdc8\\xadW\\x8bo\"\\xaaM)\\xc1\\x04\\xd6\\xcaL\\xc6QFA\\xb7\"M\\xackcL\\xb5E`p\\t\\xac\\xd9b,\\xc4\\xf2)\\xd6\\xd72[8#8\\x15\\xac\\xaf%\\xa1\\x9a\\xd1\\x9dt\\xd6\\x82{\\x07\\x88u\\xc6A\\xae&\\xe6)-\\xa5(\\xf9\\xc8<{\\xd7Og\\xe2$\\xc2\\xa4\\xd8*=\\xaa\\xc5\\xcc:v\\xa8\\x85\\x91\\x947L\\x1fZ\\x88\\xcb\\x93r\\x9a\\xe69kp\\xa5\\x0f\\x99\\xd2\\x9b;/\\x94\\x11~\\xeb6s[\\xeb\\xe1\\x84i\\x02\\x05c\\x9e\\xfb\\xb8\\xad\\x88\\xbc\\x1dm\\xe5\\xa9\\x99\\xb0\\x14t^\\xf5\\xa7:#\\x95\\x9c\\xef\\x85\\xee\\xfc\\x8d@\\xc6\\xd9\\x11\\xb8\\xfdk\\xb5\\xbc\\xb23@\\xac\\xab\\xb8\\x93\\\\\\xae\\xa5\\x05\\xb5\\x8d\\xe8\\xf2\\x1biL\\x1cb\\xbb\\r\\x0e\\xf5\\xf5\\x0b8\\xc2\\xa1\\xdd\\xd0\\x9ct\\xac&\\xf9\\xb5F\\xabM\\x0b\\xfaXth\\xd5\\xf8#\\x9a\\xec\\x93\\x1eX9\\xc7\\x15\\x85\\x15\\x96\\xd0\\x0f\\xf1z\\xd6\\xcc+#\\xa0\\x04c\\x8a\\xb8+\\x13-L\\xbdB3\\xf6\\x94l\\x1cg\\xb5r\\xfe*h\\xae.\"\\xb7q\\xb8\\x11\\x9a\\xed\\xafm\\xcc\\xb1\\x15\\xc7#\\xbdy\\xbe\\xb3\\r\\xd7\\xf6\\xa8\\xf3A\\xd8\\xbd\\x1b\\xdb5-5-\\x06\\x9a\\xb1,^\\x08\\x13F\\xb3\\x05V\\x04g\\x15:\\xe8\\x91\\xd9\\x80\\x9fg\\x8d\\x08\\xe3p\\x195\\xd4\\xe9\\x13\\xee\\xb7\\x8e>\\xc4zV\\x8c\\xf6*#b\\xab\\x92E4\\xe4\\xd1-$\\xcf:\\xd4/\\xda(\\x8c\\x16\\xf1\\x95\\x03\\xa9\\xf5\\xael\\xc0\\xc5\\x99\\xb9,Nk\\xbd\\xd4\\xf4\\xa7rX\\xa0Z\\xc5\\x8a\\xd0[9\\xdc\\x9d{\\x91N\\xd6\\x15\\xc8\\xec\"6\\xf0\\x06+\\x83\\x8a\\xb1mn\\xf7wc\\x8e3I.\\xe9\\x08Tnk\\xa1\\xd1lJ\\x80\\xce9\\xa4\\x906k\\xe9\\xd6\\x9eT@QZP\\xc7\\x85\\x14U\\xd8G\\x941\\xcdFisA\\xae#\\xb8\\x8c\\x8a\\x8d\\x85Li\\xac)\\x88\\xad \\xc8\\xac\\xbb\\xabv$\\x95\\xad\\x86\\\\\\xd4m\\x16j\\xe3&\\x89q\\xba1\\xe1\\x8c\\xb2\\xed~\\xfd\\xe9\\x93\\xd9H\\x8b\\x95a\\x8a\\xd61/a\\xcd\\x0bn\\rh\\xa7\\xa9\\x9b\\xa6bE\\x04x\\xf9\\x9c\\x86\\xfaU\\xdd>63\\x0c.\\xeez\\x9e+R+!\\xb8\\x16U#\\xd0\\xd6\\xb5\\x86\\x97\\x1c\\x8e\\x18\\x05Q\\xe9Wu-\\xcc\\xac\\xd1gL\\xb2G]\\xff\\x006\\xefL\\xd7Eo\\xa4\\xbbC\\xb4)\\x19\\xef\\xe9R\\xe9\\xd6q\\xc2\\xa0\\x9d\\xbfA[\\xb0\\xcc\\xb8\\xc7O\\xad%\\x14\\x0eL\\xe1\\xb5\\x1f\\x06\\x19\\xee\\x15\\xb9\\xc9<\\x93[\\xf6:lzT>R\\x0e\\x87\\xaf\\xado\\xban\\x19\\x04f\\xb2\\xef\\xb2\\x8d\\xbb<w\\x00U\\xd9$+\\xdc\\xb1c\\x89\\x89\\xc9\\xef\\x8a\\xd3\\x12\\x04!GaX\\x9ad\\xb8\\xe3#\\xa9\\xe8}\\xeba\\xb0P\\x1c\\xf4\\xaa\\x885\\xa8\\xb2\\x10y\\x15N\\xe3H\\xb5\\xbf\\x04I\\x18\\'\\xaejY\\x9bj\\xe4\\x9e\\x95-\\x9c\\x81\\xf2sF\\x8d\\xea\\x16v\\xb8\\xdb-.+E\\x00\\x0c\\xe3\\xa6j\\xcc\\x83\\xe5\\xe0T\\x8cOJd\\x8c\\x04g\\'\\x1cUY\"NoZ\\xb8H\\x94\\x83\\xf7\\xab\\x98y\\xdaYp@\\xc1\\xad]A$\\xba\\xbdpWr\\x0e\\x86\\xa3\\x1aq\\xc6J\\x10k\\x17r\\x84\\xb3\\xb0W\\x95N\\xda\\xe9\\xed-\\x82(\\xc0\\xaa60\\x04\\x8cg\\xaf\\xbdlB\\xb8\\x19\\xa6\\x80\\x95\\x17\\x14S\\xa2\\x91%\\x04\\xa3\\x02\\x01\\xc1\\xc5\\x15\\xa2$\\xf1ez\\x90\\x1c\\xd5Uj\\x95Z\\xb8O@\\x94\\xd3H\\xa34f\\x90\\x86\\xe3\\x9ak.jJ\\\\R\\x06W+\\x8a\\x8d\\x89\\x03\\x83\\x8a\\xb2\\xcbP\\xb2\\xd5\\\\\\x92\\x1f1\\x81\\xeaj\\xfd\\x8d\\xfb\\xc6\\xe0\\x13U\\xa2\\xb6iO\\x1c(\\xeaMZF\\x8e\\xd8\\x84\\x81wJ{\\xf7\\xaaA+\\x1dv\\x99;\\xc8\\x03Hv{w\\xae\\x822\\x80\\x80{\\x8f\\xc6\\xb8;\\t\\x9e\\x16\\xf3d~\\x9d[\\xb7\\xd0WCc\\xa9\\xc7*\\x17V\\xc0\\x07\\x19=\\xebU#\\x07\\x13\\xa3\\xf3#\\t\\x80\\xc4}k#T\\xb9\\xf2af\\xfb\\xd8\\x1d\\xaaQw\\xb9OC\\x9fZ\\xad3,\\xaaC\\x01\\x83\\xda\\x9c\\xa4\\x11\\x8e\\xa6n\\x97\\xacB\\x1c>\\xee\\t\\xae\\x915H\\xe6\\x8c\\xf9L3\\\\u\\xce\\x92#,\\xf6\\xc4\\x0c\\xf3\\xb4\\xf4\\xaa\\xf1\\xc9$<9(\\xc7\\x8c\\x03Y\\xaa\\x8dh\\xce\\xe8\\xd0\\xa75t\\xf5:\\xfb\\xadH.\\x17vX\\xd6\\x86\\x91\\xbfkI\\'\\x00\\xf4\\x15\\xca\\xd8\\xc6\\x1aE\\x92BO|WB5\\x04H\\xf1\\x9cUFZ\\xdd\\x99WQK\\x92&\\xcb\\xc8\\x01\\xe1\\xaa\\xb5\\xdd\\xd2\\x88\\x8a\\x93\\x93\\x8a\\xc9\\x93V^\\x80\\xf3M\\x81\\xfe\\xd4\\xc1\\x98\\xf3Z\\xf3\\\\\\xe3\\xe5\\xb1r\\xce\\x08\\xf0[\\x1c\\x1ejVH\\xc9=8\\xa9\\xa3\\x81B\\x00\\x07\\x14\\x89fVR\\xd9\\xe0\\xf6\\xa1\\xdfah\\x11F\\xa4c\\x18\\xabQ\\xae\\xd1\\x8aE\\x8fo5*\\xd3HLP\\x00\\xe8(\\xa7b\\x8a\\xa1\\x1e\\x18\\xc8\\xc8phV\\xadk\\x8b`{Vl\\xd0\\x94<W#\\x8d\\x8e\\xd8\\xca\\xe0\\x1a\\x9d\\x9a\\x846)\\xe0\\xd42\\xc9\\x01\\xa7f\\xa3\\x14\\xf0\\t\\xa8`\\xc0\\xd2\\xc7\\x0f\\x98r\\xdc \\xea}i\\xf1\\xc2]\\xb1\\xd0w>\\x82\\x9d)?q\\x06\\x00\\xe0\\n\\xa5\\xdd\\x92\\xfc\\x88\\xa6\\x9b\\x03dc\\x00v\\x1d\\xaa[x\\x04k\\xbd\\xcf-\\xd7\\xe9K\\x05\\xb6[$\\x1fz\\x91\\xd5\\xa4o\\x94~UK\\xb96\\xe81\\x8b\\xdc\\xc8\\xb1\\xa7\\x03\\xb7\\xa0\\x15ad\\xc0E\\x88\\x95\\x8d\\x0e\\xd5\\xff\\x00h\\xfa\\xd3\\xe2\\xb6d\\x89\\x80\\x07-\\xc1?\\xce\\x95l\\xe5v\\x00!\\xda\\xa0\\xff\\x00*w\\x1aC\\xce\\xad$j\\x06~\\xf7\\'\\xd8v\\xa4Ma\\x98\\xf2x\\xaa\\xf3Y\\xc8\\xceN\\xc3\\xe9M]:B1\\xb4\\xd4\\xb9\\x16\\xa0i.\\xa2\\xae94\\xbed,w7&\\xa0\\x83Hs\\xebZ\\x11h\\xad\\x8ehM\\x95ku*\\x9b\\xc6\\x1cF8\\xa9#yd?15\\xa5\\x16\\x8f\\x8e\\xa2\\xad\\xa6\\x99\\xb3\\xb5U\\x99\\x9b\\xb1\\x90\\x11\\xc3\\x0e\\xbc\\x1a\\xe8\\xb4\\xabb\\xb1\\x82G\\xd2\\xa9\\xb5\\xae\\xd6\\x1cw\\xad\\xbb8\\xc2G\\xc1\\xed[A\\x1c\\xf5\\x0b)\\xb8\\x0c\\x11R!\\x06\\xab\\xf9\\xe06\\x15\\x81\\xf6\\xa9K\\xf0\\rks+\\x13`\\x1aP\\xb5\\x02K\\xf3\\x00EY\\x14\\xd6\\xa2\\x13\\x91E8\\xf4\\xa2\\x98\\x8f/\\x95\\x01\\xaa\\x13\\xc4\\x0ex\\xad\\'\\x15VQX3t\\xccY\\xa3\\xdax\\x15\\x185z\\xe13\\x9a\\xa4W\\xe6\\xc5b\\xd1\\xb4dK\\x10\\xdcj\\xfcPdt\\xaa\\x90G\\xf3\\x8a\\xde\\xb2\\x80\\x10\\t\\x1c\\n\\x94\\x8a\\xb9],\\xd8.\\x00\\xeb\\xd6\\xa5\\x83N\\xdcrEk\\xc6\\x8a\\x07<\\xd5\\x84\\x8cc\\x81T\\x90\\xaef\\xae\\x9c\\xa1@\\x02\\xa6\\x87ME\\xedZ;\\x07\\xa59W\\x9a\\xa2FCe\\x10\\x00\\x108\\xabio\\x18^\\x14P\\x82\\xa6^\\x9d)\\\\d_c\\x88\\xf5QJ,\\xe1\\x1d\\x14T\\xe3\\xad;\\x14\\x05\\xc8<\\x88\\xd4\\xf0\\xa2\\xa5X\\xd7\\xd0S\\x87\\xd2\\xa4\\x03\"\\x986\"\\xa0\\xf4\\xa7yY\\x14\\xa0\\x11N\\x04\\xd5\\x10\\xd9\\x97|\\x1a$,\\x06H\\xac\\x98\\xf5I\\xa4\\x98\\xc4\\xa4\\xfc\\xec\\x07\\xd2\\xba\\x89\\x108\\xc1\\x15\\x9e,\\x92\\xdab\\xf1\\xc4\\x0b1\\xebGP\\xd2\\xc2\\xe9\\xf6\\xef\\t3\\xccp1\\xde\\xb5b\\xfd\\xe2\\x06\\x03\\x00\\xd5H-\\xa4y\\x04\\x97-\\x90:\\'aW\\xf7\\x84\\x18Q\\xd2\\xb6\\x8a\\xb1\\x84\\x9e\\xa3<\\xbex\\xa9\\xd4\\xe0\\n\\x8d\\'V\\xf4\\xa7\\xbep\\n\\xd5\"X\\xfc\\xf3E0z\\xd1LG\\x9bHj\\xac\\x86\\xacLj\\x9c\\x8d\\\\\\xec\\xd8\\x82^sU\\x19F\\xeeEZs\\x9a\\x85\\x97&\\xa2E&M\\n\\xe0\\x82+r\\xd7\\xe5\\x8c\\x0fZ\\xc5\\x8b\\xaa\\x8a\\xd9\\xb79\\x03\\xda\\xa0\\xd9\\x1aP\\x8c\\xf5\\xabK\\xd2\\xaa\\xc5\\x9e\\xf5eH\\x14\\xc4\\xc9;P\\x0f4\\xd2\\xfd\\xa8\\x07\\x9cS\\x11b>j\\xca\\xf4\\xa8\"\\x15aG\\xad!\\xdcL\\x91N\\x074\\x10)@\\xc0\\xaaB\\x1c1N\\xc9\\xedQ\\x8e\\xb4\\xf03LLr\\x93\\x9ejJ\\x8cqO\\x06\\x9a%\\x8b\\x8c\\xd2:\\x928\\xebN\\xa5\\xebLF\\\\\\x9a\\xa0\\xb4\\x97e\\xc6W\\xfd\\xaa\\xa76\\xbe\\xb7Lb\\xb48\\xc7W\\xcfAZZ\\x8d\\x84w\\xd6\\xed\\x1c\\x8b\\x9c\\x8e\\xb5\\x83c\\xa5Ac1\\x89\\xfeS\\x9f\\xccR\\xbc\\xb6+\\x966\\xb9\\xa5\\xa25\\xdc\\xaf#\\xcd\\x91\\x188L\\xf5\"\\xba\\x05p8&\\xb3V\\xfa\\xde\\xde0\\x03(\\xf6\\xac\\xc9\\xf5\\x97g\\x91\\xd3\\xa2\\xe3\\x03\\xeb\\xd2\\xb4RQ2qrgR\\x18\\x1a*\\xa5\\xb4\\xbb\\xe2V<dQZ\\xa6f\\xd1\\xe7s\\x9a\\xa1#sW\\xe7\\xefY\\xd2\\x0ek\\x9d\\x9a\\x91\\x93\\xcd \\\\\\x92iN\\x07Z\\x9606\\x9e:\\xd42\\x90C\\xc3\\x8fZ\\xd8\\xb6\\\\.O\\x15\\x91\\x10\\x1egCZ\\xb0\\xb1\\x08\\xb5\\x06\\xc8\\xd1\\x8d\\xaa\\xc2\\x13\\x9c\\x9a\\xa7\\x17L\\xd5\\xa8\\xc8\\xe2\\x812m\\xd9\\xa5\\x8c|\\xdd)\\xa3\\xa5M\\x1a\\xf7\\xa6\\x04\\xe8qV\\x15\\xb8\\xaa\\xea8\\xa7\\xa9\\xc54\"l\\xd2\\x8c\\x9a`l\\xd3\\xd4\\xd3\\x00\\xce)\\xe1\\xb0)\\xb8\\xa5\\xc51\\x12\\xa9\\xe2\\x9d\\xd6\\x98\\xb9\\x14\\xf0i\\xa2\\x18\\xe0)h\\x07\\x8aBI\\xe9T a\\x91Y\\xf7\\xb6It\\x9bO\\x0c:\\x11Z\\x19\\xa8\\x9c\\x12j\\x19Qv9[\\x8d\\x1e\\xea\\x16\\xde\\x8c\\\\\\x0eqT\\xe0\\xf3\\xbc\\xc5\\x8eU#\\xe6\\xcb\\x13\\xe9]\\xb0@W\\x93\\x9a\\xabqe\\x1c\\xa0\\xf1\\x83ScNd\\xc8!\\xd4\\x91a\\xda:\\x81ET\\x96\\xcc\\xc2\\x8c;c\\xad\\x15jL\\x87\\x04s\\xb3U\\tz\\x9a\\xbd/z\\xa37z\\xab\\x19\\x95\\\\\\xf7\\xa9Q\\xf9_\\xa5V\\x91\\xb6\\x9f\\xe9VQ\\x03\\xc4\\n\\x9c\\x1ct5\\x9c\\x8a\\x8e\\xe4\\xd1\\xe0\\xc9W\\xd0\\xe1q\\x93Y\\xf1\\x8c>j\\xf4,\\x18\\x81\\xf9\\xd4\\x1b-\\x8b\\x90\\x93\\xd0f\\xafD\\xdc\\x8fSU\\xa1P\\x015f\\x01\\xce\\xee\\xf4\\x08\\xb4\\x82\\xa7AQGS)\\xc50%N\\x94\\xecsMSN\\x14\\xc4\\x00\\xf3R\\xa9\\xcd3m8\\n`IN\\x15\\x18\\xa7\\x03LD\\x83\\x9a~\\xdab\\x9cT\\xa1\\x854K\\x00\\r(\\x14\\x13Fj\\x89\\x1aj6\\xf6\\xa7\\xb15\\x1b\\x12*YHL\\x9fQFN)\\xa4\\x03\\xd6\\x81\\xc0\\xe35%\\x10\\\\\\x8d\\xcaF;QK3q\\xc9\\xe9E+\\x96\\x8e&ST&=x\\xab\\x93\\x1e\\xb5Bc\\x91\\xf5\\xad\\x8er\\xb3\\xf3\\x921\\xd7\\x15:\\xe4\\x00\\x01\\x03\\x8ej\\x07BXz\\n\\x9dG\\x195\\x84\\xde\\xa6\\x91D\\xb1\\x9c\\xe0\\x13Z6\\xd1\\xf1\\xcdQ\\xb7P\\xc78\\xadH\\x06*K-\\xa1\\xe3\\x1d\\xaa\\xe4C\\x8e*\\xa4C&\\xae\\xa0\\xc0\\xa0,N\\x83\\x15*\\xd4IR\\xabsLd\\xaa\\xbd\\xeaAQ\\xa9\\xc8\\xa7\\xa8\\xa6&?\\xad8\\n@)\\xd5H\\x91qIFiqL\\x00\\x13R)4\\xccb\\x9e\\xa6\\x98\\x12\\npZ\\x8c\\x1a]\\xd4\\xc8\\xb0\\xac1Q1\\xa7\\x93\\xc5F\\xd5,ha\\x1e\\x94\\x99 \\xd0\\xc2\\x9as\\xff\\x00\\xeb\\xa9,d\\xc0m\\xcbt\\xa2\\x9a\\xe0\\xe3\\x91\\x91E!\\x9c<\\xe6\\xa8\\xc8p\\xb9\\xee:\\n\\xb9uT\\x9b\\xadj\\xccP\\xd02W&\\xa5#q\\xc6?\\nb\\xf2\\xc3\\xda\\xa7\\x00g5\\x8b\\xd4\\xd1\\x16-\\xd7o\\x15v>\\xb5V\\x1e\\x05\\\\\\x8b\\xad\"\\xcb\\xb1\\x10\\xabS\\xc6\\xc5\\xaa\\x9a\\x9ej\\xec#\\xa5\\x00Y@ML\\xabLA\\xc5H)\\x81*\\x8e)\\xc2\\xa3\\x14\\xf1L\\x96<\\x1ax\\x14\\xc1N\\xcdP\\x87S\\xa9\\xa2\\x96\\x98Xu\\x14\\x94\\xe1LA\\x9aQE\\x14\\x08\\\\\\x8ac\\x1aSL4\\x86D\\xcd\\x83M\\'\\xb8\\xa1\\xcf\\xcdH\\xddEK(\\x8d\\x9c\\x10{\\x1a*+\\x83\\x8a*J\\xb1\\xff\\xd9'"
      ]
     },
     "execution_count": 4,
     "metadata": {},
     "output_type": "execute_result"
    }
   ],
   "source": [
    "# print the content\n",
    "r.content"
   ]
  },
  {
   "cell_type": "code",
   "execution_count": 5,
   "metadata": {},
   "outputs": [
    {
     "data": {
      "image/jpeg": "[encoded data removed]",
      "text/plain": [
       "<IPython.core.display.Image object>"
      ]
     },
     "metadata": {},
     "output_type": "display_data"
    }
   ],
   "source": [
    "# Use the Image function to display the image\n",
    "display(Image(r.content))"
   ]
  },
  {
   "cell_type": "markdown",
   "metadata": {},
   "source": [
    "### Exercise 1\n",
    "\n",
    "Write a function that takes in the width and height and prints an image"
   ]
  },
  {
   "cell_type": "code",
   "execution_count": 15,
   "metadata": {},
   "outputs": [
    {
     "name": "stdout",
     "output_type": "stream",
     "text": [
      "Enter width:300\n",
      "Enter height:300\n",
      "width:300\n",
      "height:300\n",
      "address:http://www.placekitten.com/300/300\n"
     ]
    },
    {
     "data": {
      "image/jpeg": "[encoded data removed]",
      "text/plain": [
       "<IPython.core.display.Image object>"
      ]
     },
     "metadata": {},
     "output_type": "display_data"
    }
   ],
   "source": [
    "# Use input to request width/height and print an image\n",
    "def p_image():\n",
    "    a = input(\"Enter width:\")\n",
    "    b = input(\"Enter height:\")\n",
    "    print(\"width:\"+str(a))\n",
    "    print(\"height:\"+str(b))\n",
    "    address = \"http://www.placekitten.com/\"+ str(a) +\"/\" + str(b)\n",
    "    print(\"address:\"+address)\n",
    "    r = requests.get(address)\n",
    "    display(Image(r.content))\n",
    "\n",
    "p_image()"
   ]
  },
  {
   "cell_type": "code",
   "execution_count": 5,
   "metadata": {},
   "outputs": [
    {
     "data": {
      "image/jpeg": "[encoded data removed]",
      "text/plain": [
       "<IPython.core.display.Image object>"
      ]
     },
     "metadata": {},
     "output_type": "display_data"
    }
   ],
   "source": [
    "def p_image(width,height):\n",
    "    try:\n",
    "        int(width)\n",
    "        int(height)\n",
    "    except(SyntaxError. ValueError):\n",
    "        print(\"Please enter the number in digits\")\n",
    "    r = requests.get(f'http://www.placekitten.com/{width}/{height}')\n",
    "    r.status_code\n",
    "    if r.status_code != 200:\n",
    "        print('404 Error')\n",
    "    return(display(Image(r.content)))\n",
    "\n",
    "p_image(400,500)"
   ]
  },
  {
   "cell_type": "markdown",
   "metadata": {},
   "source": [
    "### Exercise 2\n",
    "\n",
    "Can you write a loop to show several images?\n"
   ]
  },
  {
   "cell_type": "code",
   "execution_count": 18,
   "metadata": {},
   "outputs": [
    {
     "name": "stdout",
     "output_type": "stream",
     "text": [
      "address:http://www.placekitten.com/100/100\n"
     ]
    },
    {
     "data": {
      "image/jpeg": "[encoded data removed]",
      "text/plain": [
       "<IPython.core.display.Image object>"
      ]
     },
     "metadata": {},
     "output_type": "display_data"
    },
    {
     "name": "stdout",
     "output_type": "stream",
     "text": [
      "address:http://www.placekitten.com/100/150\n"
     ]
    },
    {
     "data": {
      "image/jpeg": "[encoded data removed]",
      "text/plain": [
       "<IPython.core.display.Image object>"
      ]
     },
     "metadata": {},
     "output_type": "display_data"
    },
    {
     "name": "stdout",
     "output_type": "stream",
     "text": [
      "address:http://www.placekitten.com/100/300\n"
     ]
    },
    {
     "data": {
      "image/jpeg": "[encoded data removed]",
      "text/plain": [
       "<IPython.core.display.Image object>"
      ]
     },
     "metadata": {},
     "output_type": "display_data"
    },
    {
     "name": "stdout",
     "output_type": "stream",
     "text": [
      "address:http://www.placekitten.com/200/100\n"
     ]
    },
    {
     "data": {
      "image/jpeg": "[encoded data removed]",
      "text/plain": [
       "<IPython.core.display.Image object>"
      ]
     },
     "metadata": {},
     "output_type": "display_data"
    },
    {
     "name": "stdout",
     "output_type": "stream",
     "text": [
      "address:http://www.placekitten.com/200/150\n"
     ]
    },
    {
     "data": {
      "image/jpeg": "[encoded data removed]",
      "text/plain": [
       "<IPython.core.display.Image object>"
      ]
     },
     "metadata": {},
     "output_type": "display_data"
    },
    {
     "name": "stdout",
     "output_type": "stream",
     "text": [
      "address:http://www.placekitten.com/200/300\n"
     ]
    },
    {
     "data": {
      "image/jpeg": "[encoded data removed]",
      "text/plain": [
       "<IPython.core.display.Image object>"
      ]
     },
     "metadata": {},
     "output_type": "display_data"
    },
    {
     "name": "stdout",
     "output_type": "stream",
     "text": [
      "address:http://www.placekitten.com/300/100\n"
     ]
    },
    {
     "data": {
      "image/jpeg": "[encoded data removed]",
      "text/plain": [
       "<IPython.core.display.Image object>"
      ]
     },
     "metadata": {},
     "output_type": "display_data"
    },
    {
     "name": "stdout",
     "output_type": "stream",
     "text": [
      "address:http://www.placekitten.com/300/150\n"
     ]
    },
    {
     "data": {
      "image/jpeg": "[encoded data removed]",
      "text/plain": [
       "<IPython.core.display.Image object>"
      ]
     },
     "metadata": {},
     "output_type": "display_data"
    },
    {
     "name": "stdout",
     "output_type": "stream",
     "text": [
      "address:http://www.placekitten.com/300/300\n"
     ]
    },
    {
     "data": {
      "image/jpeg": "[encoded data removed]",
      "text/plain": [
       "<IPython.core.display.Image object>"
      ]
     },
     "metadata": {},
     "output_type": "display_data"
    }
   ],
   "source": [
    "# Write a loop that shows multiple images\n",
    "width = [100,200,300]\n",
    "height = [100,150,300]\n",
    "\n",
    "for w in width:\n",
    "    for h in height:\n",
    "        address = \"http://www.placekitten.com/\"+ str(w) +\"/\" + str(h)\n",
    "        print(\"address:\"+address)\n",
    "        r = requests.get(address)\n",
    "        display(Image(r.content))"
   ]
  },
  {
   "cell_type": "code",
   "execution_count": 9,
   "metadata": {},
   "outputs": [
    {
     "data": {
      "image/jpeg": "[encoded data removed]",
      "text/plain": [
       "<IPython.core.display.Image object>"
      ]
     },
     "metadata": {},
     "output_type": "display_data"
    },
    {
     "data": {
      "image/jpeg": "[encoded data removed]",
      "text/plain": [
       "<IPython.core.display.Image object>"
      ]
     },
     "metadata": {},
     "output_type": "display_data"
    },
    {
     "data": {
      "image/jpeg": "[encoded data removed]",
      "text/plain": [
       "<IPython.core.display.Image object>"
      ]
     },
     "metadata": {},
     "output_type": "display_data"
    },
    {
     "data": {
      "image/jpeg": "[encoded data removed]",
      "text/plain": [
       "<IPython.core.display.Image object>"
      ]
     },
     "metadata": {},
     "output_type": "display_data"
    },
    {
     "data": {
      "image/jpeg": "[encoded data removed]",
      "text/plain": [
       "<IPython.core.display.Image object>"
      ]
     },
     "metadata": {},
     "output_type": "display_data"
    },
    {
     "data": {
      "image/jpeg": "[encoded data removed]",
      "text/plain": [
       "<IPython.core.display.Image object>"
      ]
     },
     "metadata": {},
     "output_type": "display_data"
    },
    {
     "data": {
      "image/jpeg": "[encoded data removed]",
      "text/plain": [
       "<IPython.core.display.Image object>"
      ]
     },
     "metadata": {},
     "output_type": "display_data"
    },
    {
     "data": {
      "image/jpeg": "[encoded data removed]",
      "text/plain": [
       "<IPython.core.display.Image object>"
      ]
     },
     "metadata": {},
     "output_type": "display_data"
    },
    {
     "data": {
      "image/jpeg": "[encoded data removed]",
      "text/plain": [
       "<IPython.core.display.Image object>"
      ]
     },
     "metadata": {},
     "output_type": "display_data"
    }
   ],
   "source": [
    "for w in [100,200,300]:\n",
    "    for h in [100,200,300]:\n",
    "        p_image(w,h)"
   ]
  },
  {
   "cell_type": "markdown",
   "metadata": {},
   "source": [
    "# Example 2: Getting World Times\n",
    "\n",
    "This example introduces a slightly more complicated API. It also introduces **JSON** which is a very common data format.\n",
    "\n",
    "Our API is at http://worldtimeapi.org/"
   ]
  },
  {
   "cell_type": "code",
   "execution_count": 50,
   "metadata": {
    "scrolled": true
   },
   "outputs": [
    {
     "name": "stdout",
     "output_type": "stream",
     "text": [
      "b'[\"Africa/Abidjan\",\"Africa/Accra\",\"Africa/Algiers\",\"Africa/Bissau\",\"Africa/Cairo\",\"Africa/Casablanca\",\"Africa/Ceuta\",\"Africa/El_Aaiun\",\"Africa/Johannesburg\",\"Africa/Juba\",\"Africa/Khartoum\",\"Africa/Lagos\",\"Africa/Maputo\",\"Africa/Monrovia\",\"Africa/Nairobi\",\"Africa/Ndjamena\",\"Africa/Sao_Tome\",\"Africa/Tripoli\",\"Africa/Tunis\",\"Africa/Windhoek\",\"America/Adak\",\"America/Anchorage\",\"America/Araguaina\",\"America/Argentina/Buenos_Aires\",\"America/Argentina/Catamarca\",\"America/Argentina/Cordoba\",\"America/Argentina/Jujuy\",\"America/Argentina/La_Rioja\",\"America/Argentina/Mendoza\",\"America/Argentina/Rio_Gallegos\",\"America/Argentina/Salta\",\"America/Argentina/San_Juan\",\"America/Argentina/San_Luis\",\"America/Argentina/Tucuman\",\"America/Argentina/Ushuaia\",\"America/Asuncion\",\"America/Atikokan\",\"America/Bahia\",\"America/Bahia_Banderas\",\"America/Barbados\",\"America/Belem\",\"America/Belize\",\"America/Blanc-Sablon\",\"America/Boa_Vista\",\"America/Bogota\",\"America/Boise\",\"America/Cambridge_Bay\",\"America/Campo_Grande\",\"America/Cancun\",\"America/Caracas\",\"America/Cayenne\",\"America/Chicago\",\"America/Chihuahua\",\"America/Costa_Rica\",\"America/Creston\",\"America/Cuiaba\",\"America/Curacao\",\"America/Danmarkshavn\",\"America/Dawson\",\"America/Dawson_Creek\",\"America/Denver\",\"America/Detroit\",\"America/Edmonton\",\"America/Eirunepe\",\"America/El_Salvador\",\"America/Fort_Nelson\",\"America/Fortaleza\",\"America/Glace_Bay\",\"America/Goose_Bay\",\"America/Grand_Turk\",\"America/Guatemala\",\"America/Guayaquil\",\"America/Guyana\",\"America/Halifax\",\"America/Havana\",\"America/Hermosillo\",\"America/Indiana/Indianapolis\",\"America/Indiana/Knox\",\"America/Indiana/Marengo\",\"America/Indiana/Petersburg\",\"America/Indiana/Tell_City\",\"America/Indiana/Vevay\",\"America/Indiana/Vincennes\",\"America/Indiana/Winamac\",\"America/Inuvik\",\"America/Iqaluit\",\"America/Jamaica\",\"America/Juneau\",\"America/Kentucky/Louisville\",\"America/Kentucky/Monticello\",\"America/La_Paz\",\"America/Lima\",\"America/Los_Angeles\",\"America/Maceio\",\"America/Managua\",\"America/Manaus\",\"America/Martinique\",\"America/Matamoros\",\"America/Mazatlan\",\"America/Menominee\",\"America/Merida\",\"America/Metlakatla\",\"America/Mexico_City\",\"America/Miquelon\",\"America/Moncton\",\"America/Monterrey\",\"America/Montevideo\",\"America/Nassau\",\"America/New_York\",\"America/Nipigon\",\"America/Nome\",\"America/Noronha\",\"America/North_Dakota/Beulah\",\"America/North_Dakota/Center\",\"America/North_Dakota/New_Salem\",\"America/Nuuk\",\"America/Ojinaga\",\"America/Panama\",\"America/Pangnirtung\",\"America/Paramaribo\",\"America/Phoenix\",\"America/Port-au-Prince\",\"America/Port_of_Spain\",\"America/Porto_Velho\",\"America/Puerto_Rico\",\"America/Punta_Arenas\",\"America/Rainy_River\",\"America/Rankin_Inlet\",\"America/Recife\",\"America/Regina\",\"America/Resolute\",\"America/Rio_Branco\",\"America/Santarem\",\"America/Santiago\",\"America/Santo_Domingo\",\"America/Sao_Paulo\",\"America/Scoresbysund\",\"America/Sitka\",\"America/St_Johns\",\"America/Swift_Current\",\"America/Tegucigalpa\",\"America/Thule\",\"America/Thunder_Bay\",\"America/Tijuana\",\"America/Toronto\",\"America/Vancouver\",\"America/Whitehorse\",\"America/Winnipeg\",\"America/Yakutat\",\"America/Yellowknife\",\"Antarctica/Casey\",\"Antarctica/Davis\",\"Antarctica/DumontDUrville\",\"Antarctica/Macquarie\",\"Antarctica/Mawson\",\"Antarctica/Palmer\",\"Antarctica/Rothera\",\"Antarctica/Syowa\",\"Antarctica/Troll\",\"Antarctica/Vostok\",\"Asia/Almaty\",\"Asia/Amman\",\"Asia/Anadyr\",\"Asia/Aqtau\",\"Asia/Aqtobe\",\"Asia/Ashgabat\",\"Asia/Atyrau\",\"Asia/Baghdad\",\"Asia/Baku\",\"Asia/Bangkok\",\"Asia/Barnaul\",\"Asia/Beirut\",\"Asia/Bishkek\",\"Asia/Brunei\",\"Asia/Chita\",\"Asia/Choibalsan\",\"Asia/Colombo\",\"Asia/Damascus\",\"Asia/Dhaka\",\"Asia/Dili\",\"Asia/Dubai\",\"Asia/Dushanbe\",\"Asia/Famagusta\",\"Asia/Gaza\",\"Asia/Hebron\",\"Asia/Ho_Chi_Minh\",\"Asia/Hong_Kong\",\"Asia/Hovd\",\"Asia/Irkutsk\",\"Asia/Jakarta\",\"Asia/Jayapura\",\"Asia/Jerusalem\",\"Asia/Kabul\",\"Asia/Kamchatka\",\"Asia/Karachi\",\"Asia/Kathmandu\",\"Asia/Khandyga\",\"Asia/Kolkata\",\"Asia/Krasnoyarsk\",\"Asia/Kuala_Lumpur\",\"Asia/Kuching\",\"Asia/Macau\",\"Asia/Magadan\",\"Asia/Makassar\",\"Asia/Manila\",\"Asia/Nicosia\",\"Asia/Novokuznetsk\",\"Asia/Novosibirsk\",\"Asia/Omsk\",\"Asia/Oral\",\"Asia/Pontianak\",\"Asia/Pyongyang\",\"Asia/Qatar\",\"Asia/Qostanay\",\"Asia/Qyzylorda\",\"Asia/Riyadh\",\"Asia/Sakhalin\",\"Asia/Samarkand\",\"Asia/Seoul\",\"Asia/Shanghai\",\"Asia/Singapore\",\"Asia/Srednekolymsk\",\"Asia/Taipei\",\"Asia/Tashkent\",\"Asia/Tbilisi\",\"Asia/Tehran\",\"Asia/Thimphu\",\"Asia/Tokyo\",\"Asia/Tomsk\",\"Asia/Ulaanbaatar\",\"Asia/Urumqi\",\"Asia/Ust-Nera\",\"Asia/Vladivostok\",\"Asia/Yakutsk\",\"Asia/Yangon\",\"Asia/Yekaterinburg\",\"Asia/Yerevan\",\"Atlantic/Azores\",\"Atlantic/Bermuda\",\"Atlantic/Canary\",\"Atlantic/Cape_Verde\",\"Atlantic/Faroe\",\"Atlantic/Madeira\",\"Atlantic/Reykjavik\",\"Atlantic/South_Georgia\",\"Atlantic/Stanley\",\"Australia/Adelaide\",\"Australia/Brisbane\",\"Australia/Broken_Hill\",\"Australia/Darwin\",\"Australia/Eucla\",\"Australia/Hobart\",\"Australia/Lindeman\",\"Australia/Lord_Howe\",\"Australia/Melbourne\",\"Australia/Perth\",\"Australia/Sydney\",\"CET\",\"CST6CDT\",\"EET\",\"EST\",\"EST5EDT\",\"Etc/GMT\",\"Etc/GMT+1\",\"Etc/GMT+10\",\"Etc/GMT+11\",\"Etc/GMT+12\",\"Etc/GMT+2\",\"Etc/GMT+3\",\"Etc/GMT+4\",\"Etc/GMT+5\",\"Etc/GMT+6\",\"Etc/GMT+7\",\"Etc/GMT+8\",\"Etc/GMT+9\",\"Etc/GMT-1\",\"Etc/GMT-10\",\"Etc/GMT-11\",\"Etc/GMT-12\",\"Etc/GMT-13\",\"Etc/GMT-14\",\"Etc/GMT-2\",\"Etc/GMT-3\",\"Etc/GMT-4\",\"Etc/GMT-5\",\"Etc/GMT-6\",\"Etc/GMT-7\",\"Etc/GMT-8\",\"Etc/GMT-9\",\"Etc/UTC\",\"Europe/Amsterdam\",\"Europe/Andorra\",\"Europe/Astrakhan\",\"Europe/Athens\",\"Europe/Belgrade\",\"Europe/Berlin\",\"Europe/Brussels\",\"Europe/Bucharest\",\"Europe/Budapest\",\"Europe/Chisinau\",\"Europe/Copenhagen\",\"Europe/Dublin\",\"Europe/Gibraltar\",\"Europe/Helsinki\",\"Europe/Istanbul\",\"Europe/Kaliningrad\",\"Europe/Kiev\",\"Europe/Kirov\",\"Europe/Lisbon\",\"Europe/London\",\"Europe/Luxembourg\",\"Europe/Madrid\",\"Europe/Malta\",\"Europe/Minsk\",\"Europe/Monaco\",\"Europe/Moscow\",\"Europe/Oslo\",\"Europe/Paris\",\"Europe/Prague\",\"Europe/Riga\",\"Europe/Rome\",\"Europe/Samara\",\"Europe/Saratov\",\"Europe/Simferopol\",\"Europe/Sofia\",\"Europe/Stockholm\",\"Europe/Tallinn\",\"Europe/Tirane\",\"Europe/Ulyanovsk\",\"Europe/Uzhgorod\",\"Europe/Vienna\",\"Europe/Vilnius\",\"Europe/Volgograd\",\"Europe/Warsaw\",\"Europe/Zaporozhye\",\"Europe/Zurich\",\"HST\",\"Indian/Chagos\",\"Indian/Christmas\",\"Indian/Cocos\",\"Indian/Kerguelen\",\"Indian/Mahe\",\"Indian/Maldives\",\"Indian/Mauritius\",\"Indian/Reunion\",\"MET\",\"MST\",\"MST7MDT\",\"PST8PDT\",\"Pacific/Apia\",\"Pacific/Auckland\",\"Pacific/Bougainville\",\"Pacific/Chatham\",\"Pacific/Chuuk\",\"Pacific/Easter\",\"Pacific/Efate\",\"Pacific/Enderbury\",\"Pacific/Fakaofo\",\"Pacific/Fiji\",\"Pacific/Funafuti\",\"Pacific/Galapagos\",\"Pacific/Gambier\",\"Pacific/Guadalcanal\",\"Pacific/Guam\",\"Pacific/Honolulu\",\"Pacific/Kiritimati\",\"Pacific/Kosrae\",\"Pacific/Kwajalein\",\"Pacific/Majuro\",\"Pacific/Marquesas\",\"Pacific/Nauru\",\"Pacific/Niue\",\"Pacific/Norfolk\",\"Pacific/Noumea\",\"Pacific/Pago_Pago\",\"Pacific/Palau\",\"Pacific/Pitcairn\",\"Pacific/Pohnpei\",\"Pacific/Port_Moresby\",\"Pacific/Rarotonga\",\"Pacific/Tahiti\",\"Pacific/Tarawa\",\"Pacific/Tongatapu\",\"Pacific/Wake\",\"Pacific/Wallis\",\"WET\"]'\n"
     ]
    }
   ],
   "source": [
    "# Download list of time zones\n",
    "r = requests.get(\"http://worldtimeapi.org/api/timezone\")\n",
    "print(r.content)"
   ]
  },
  {
   "cell_type": "markdown",
   "metadata": {},
   "source": [
    "### Exercise 3\n",
    "\n",
    "Use the .json() function to get the response converted to a dictionary or list"
   ]
  },
  {
   "cell_type": "code",
   "execution_count": 27,
   "metadata": {},
   "outputs": [],
   "source": [
    "# Use the .json() function to get the response converted to a dictionary or list\n",
    "# What did it return?\n",
    "import json"
   ]
  },
  {
   "cell_type": "code",
   "execution_count": 8,
   "metadata": {
    "scrolled": true
   },
   "outputs": [
    {
     "name": "stdout",
     "output_type": "stream",
     "text": [
      "['Africa/Abidjan', 'Africa/Accra', 'Africa/Algiers', 'Africa/Bissau', 'Africa/Cairo', 'Africa/Casablanca', 'Africa/Ceuta', 'Africa/El_Aaiun', 'Africa/Johannesburg', 'Africa/Juba', 'Africa/Khartoum', 'Africa/Lagos', 'Africa/Maputo', 'Africa/Monrovia', 'Africa/Nairobi', 'Africa/Ndjamena', 'Africa/Sao_Tome', 'Africa/Tripoli', 'Africa/Tunis', 'Africa/Windhoek', 'America/Adak', 'America/Anchorage', 'America/Araguaina', 'America/Argentina/Buenos_Aires', 'America/Argentina/Catamarca', 'America/Argentina/Cordoba', 'America/Argentina/Jujuy', 'America/Argentina/La_Rioja', 'America/Argentina/Mendoza', 'America/Argentina/Rio_Gallegos', 'America/Argentina/Salta', 'America/Argentina/San_Juan', 'America/Argentina/San_Luis', 'America/Argentina/Tucuman', 'America/Argentina/Ushuaia', 'America/Asuncion', 'America/Atikokan', 'America/Bahia', 'America/Bahia_Banderas', 'America/Barbados', 'America/Belem', 'America/Belize', 'America/Blanc-Sablon', 'America/Boa_Vista', 'America/Bogota', 'America/Boise', 'America/Cambridge_Bay', 'America/Campo_Grande', 'America/Cancun', 'America/Caracas', 'America/Cayenne', 'America/Chicago', 'America/Chihuahua', 'America/Costa_Rica', 'America/Creston', 'America/Cuiaba', 'America/Curacao', 'America/Danmarkshavn', 'America/Dawson', 'America/Dawson_Creek', 'America/Denver', 'America/Detroit', 'America/Edmonton', 'America/Eirunepe', 'America/El_Salvador', 'America/Fort_Nelson', 'America/Fortaleza', 'America/Glace_Bay', 'America/Goose_Bay', 'America/Grand_Turk', 'America/Guatemala', 'America/Guayaquil', 'America/Guyana', 'America/Halifax', 'America/Havana', 'America/Hermosillo', 'America/Indiana/Indianapolis', 'America/Indiana/Knox', 'America/Indiana/Marengo', 'America/Indiana/Petersburg', 'America/Indiana/Tell_City', 'America/Indiana/Vevay', 'America/Indiana/Vincennes', 'America/Indiana/Winamac', 'America/Inuvik', 'America/Iqaluit', 'America/Jamaica', 'America/Juneau', 'America/Kentucky/Louisville', 'America/Kentucky/Monticello', 'America/La_Paz', 'America/Lima', 'America/Los_Angeles', 'America/Maceio', 'America/Managua', 'America/Manaus', 'America/Martinique', 'America/Matamoros', 'America/Mazatlan', 'America/Menominee', 'America/Merida', 'America/Metlakatla', 'America/Mexico_City', 'America/Miquelon', 'America/Moncton', 'America/Monterrey', 'America/Montevideo', 'America/Nassau', 'America/New_York', 'America/Nipigon', 'America/Nome', 'America/Noronha', 'America/North_Dakota/Beulah', 'America/North_Dakota/Center', 'America/North_Dakota/New_Salem', 'America/Nuuk', 'America/Ojinaga', 'America/Panama', 'America/Pangnirtung', 'America/Paramaribo', 'America/Phoenix', 'America/Port-au-Prince', 'America/Port_of_Spain', 'America/Porto_Velho', 'America/Puerto_Rico', 'America/Punta_Arenas', 'America/Rainy_River', 'America/Rankin_Inlet', 'America/Recife', 'America/Regina', 'America/Resolute', 'America/Rio_Branco', 'America/Santarem', 'America/Santiago', 'America/Santo_Domingo', 'America/Sao_Paulo', 'America/Scoresbysund', 'America/Sitka', 'America/St_Johns', 'America/Swift_Current', 'America/Tegucigalpa', 'America/Thule', 'America/Thunder_Bay', 'America/Tijuana', 'America/Toronto', 'America/Vancouver', 'America/Whitehorse', 'America/Winnipeg', 'America/Yakutat', 'America/Yellowknife', 'Antarctica/Casey', 'Antarctica/Davis', 'Antarctica/DumontDUrville', 'Antarctica/Macquarie', 'Antarctica/Mawson', 'Antarctica/Palmer', 'Antarctica/Rothera', 'Antarctica/Syowa', 'Antarctica/Troll', 'Antarctica/Vostok', 'Asia/Almaty', 'Asia/Amman', 'Asia/Anadyr', 'Asia/Aqtau', 'Asia/Aqtobe', 'Asia/Ashgabat', 'Asia/Atyrau', 'Asia/Baghdad', 'Asia/Baku', 'Asia/Bangkok', 'Asia/Barnaul', 'Asia/Beirut', 'Asia/Bishkek', 'Asia/Brunei', 'Asia/Chita', 'Asia/Choibalsan', 'Asia/Colombo', 'Asia/Damascus', 'Asia/Dhaka', 'Asia/Dili', 'Asia/Dubai', 'Asia/Dushanbe', 'Asia/Famagusta', 'Asia/Gaza', 'Asia/Hebron', 'Asia/Ho_Chi_Minh', 'Asia/Hong_Kong', 'Asia/Hovd', 'Asia/Irkutsk', 'Asia/Jakarta', 'Asia/Jayapura', 'Asia/Jerusalem', 'Asia/Kabul', 'Asia/Kamchatka', 'Asia/Karachi', 'Asia/Kathmandu', 'Asia/Khandyga', 'Asia/Kolkata', 'Asia/Krasnoyarsk', 'Asia/Kuala_Lumpur', 'Asia/Kuching', 'Asia/Macau', 'Asia/Magadan', 'Asia/Makassar', 'Asia/Manila', 'Asia/Nicosia', 'Asia/Novokuznetsk', 'Asia/Novosibirsk', 'Asia/Omsk', 'Asia/Oral', 'Asia/Pontianak', 'Asia/Pyongyang', 'Asia/Qatar', 'Asia/Qostanay', 'Asia/Qyzylorda', 'Asia/Riyadh', 'Asia/Sakhalin', 'Asia/Samarkand', 'Asia/Seoul', 'Asia/Shanghai', 'Asia/Singapore', 'Asia/Srednekolymsk', 'Asia/Taipei', 'Asia/Tashkent', 'Asia/Tbilisi', 'Asia/Tehran', 'Asia/Thimphu', 'Asia/Tokyo', 'Asia/Tomsk', 'Asia/Ulaanbaatar', 'Asia/Urumqi', 'Asia/Ust-Nera', 'Asia/Vladivostok', 'Asia/Yakutsk', 'Asia/Yangon', 'Asia/Yekaterinburg', 'Asia/Yerevan', 'Atlantic/Azores', 'Atlantic/Bermuda', 'Atlantic/Canary', 'Atlantic/Cape_Verde', 'Atlantic/Faroe', 'Atlantic/Madeira', 'Atlantic/Reykjavik', 'Atlantic/South_Georgia', 'Atlantic/Stanley', 'Australia/Adelaide', 'Australia/Brisbane', 'Australia/Broken_Hill', 'Australia/Darwin', 'Australia/Eucla', 'Australia/Hobart', 'Australia/Lindeman', 'Australia/Lord_Howe', 'Australia/Melbourne', 'Australia/Perth', 'Australia/Sydney', 'CET', 'CST6CDT', 'EET', 'EST', 'EST5EDT', 'Etc/GMT', 'Etc/GMT+1', 'Etc/GMT+10', 'Etc/GMT+11', 'Etc/GMT+12', 'Etc/GMT+2', 'Etc/GMT+3', 'Etc/GMT+4', 'Etc/GMT+5', 'Etc/GMT+6', 'Etc/GMT+7', 'Etc/GMT+8', 'Etc/GMT+9', 'Etc/GMT-1', 'Etc/GMT-10', 'Etc/GMT-11', 'Etc/GMT-12', 'Etc/GMT-13', 'Etc/GMT-14', 'Etc/GMT-2', 'Etc/GMT-3', 'Etc/GMT-4', 'Etc/GMT-5', 'Etc/GMT-6', 'Etc/GMT-7', 'Etc/GMT-8', 'Etc/GMT-9', 'Etc/UTC', 'Europe/Amsterdam', 'Europe/Andorra', 'Europe/Astrakhan', 'Europe/Athens', 'Europe/Belgrade', 'Europe/Berlin', 'Europe/Brussels', 'Europe/Bucharest', 'Europe/Budapest', 'Europe/Chisinau', 'Europe/Copenhagen', 'Europe/Dublin', 'Europe/Gibraltar', 'Europe/Helsinki', 'Europe/Istanbul', 'Europe/Kaliningrad', 'Europe/Kiev', 'Europe/Kirov', 'Europe/Lisbon', 'Europe/London', 'Europe/Luxembourg', 'Europe/Madrid', 'Europe/Malta', 'Europe/Minsk', 'Europe/Monaco', 'Europe/Moscow', 'Europe/Oslo', 'Europe/Paris', 'Europe/Prague', 'Europe/Riga', 'Europe/Rome', 'Europe/Samara', 'Europe/Saratov', 'Europe/Simferopol', 'Europe/Sofia', 'Europe/Stockholm', 'Europe/Tallinn', 'Europe/Tirane', 'Europe/Ulyanovsk', 'Europe/Uzhgorod', 'Europe/Vienna', 'Europe/Vilnius', 'Europe/Volgograd', 'Europe/Warsaw', 'Europe/Zaporozhye', 'Europe/Zurich', 'HST', 'Indian/Chagos', 'Indian/Christmas', 'Indian/Cocos', 'Indian/Kerguelen', 'Indian/Mahe', 'Indian/Maldives', 'Indian/Mauritius', 'Indian/Reunion', 'MET', 'MST', 'MST7MDT', 'PST8PDT', 'Pacific/Apia', 'Pacific/Auckland', 'Pacific/Bougainville', 'Pacific/Chatham', 'Pacific/Chuuk', 'Pacific/Easter', 'Pacific/Efate', 'Pacific/Enderbury', 'Pacific/Fakaofo', 'Pacific/Fiji', 'Pacific/Funafuti', 'Pacific/Galapagos', 'Pacific/Gambier', 'Pacific/Guadalcanal', 'Pacific/Guam', 'Pacific/Honolulu', 'Pacific/Kiritimati', 'Pacific/Kosrae', 'Pacific/Kwajalein', 'Pacific/Majuro', 'Pacific/Marquesas', 'Pacific/Nauru', 'Pacific/Niue', 'Pacific/Norfolk', 'Pacific/Noumea', 'Pacific/Pago_Pago', 'Pacific/Palau', 'Pacific/Pitcairn', 'Pacific/Pohnpei', 'Pacific/Port_Moresby', 'Pacific/Rarotonga', 'Pacific/Tahiti', 'Pacific/Tarawa', 'Pacific/Tongatapu', 'Pacific/Wake', 'Pacific/Wallis', 'WET']\n"
     ]
    },
    {
     "data": {
      "text/plain": [
       "list"
      ]
     },
     "execution_count": 8,
     "metadata": {},
     "output_type": "execute_result"
    }
   ],
   "source": [
    "import json\n",
    "r = requests.get(\"http://worldtimeapi.org/api/timezone\")\n",
    "son_data = r.json()\n",
    "print(son_data)\n",
    "type(son_data)"
   ]
  },
  {
   "cell_type": "markdown",
   "metadata": {},
   "source": [
    "### Exercise 4\n",
    "\n",
    "Get the time for your time zone"
   ]
  },
  {
   "cell_type": "code",
   "execution_count": 15,
   "metadata": {},
   "outputs": [
    {
     "name": "stdout",
     "output_type": "stream",
     "text": [
      "The time for your time zone is: 2021-05-26T13:56:46.530077-04:00\n"
     ]
    }
   ],
   "source": [
    "def timezone(a,l,c):\n",
    "    r = requests.get(f'http://worldtimeapi.org/api/timezone/{a}/{l}/{c}')\n",
    "    son_data=r.json()\n",
    "    print(\"The time for your time zone is: \" + son_data['datetime'])\n",
    "\n",
    "timezone('America','Indiana','Indianapolis')"
   ]
  },
  {
   "cell_type": "markdown",
   "metadata": {},
   "source": [
    "### Exercise 5\n",
    "\n",
    "Get the time for your IP address"
   ]
  },
  {
   "cell_type": "code",
   "execution_count": 18,
   "metadata": {
    "scrolled": true
   },
   "outputs": [
    {
     "name": "stdout",
     "output_type": "stream",
     "text": [
      "The time for your current IP is: 2021-05-26T14:08:48.125339-04:00\n"
     ]
    }
   ],
   "source": [
    "# Get the time for your IP address\n",
    "address = \"http://worldtimeapi.org/api/ip\"\n",
    "r = requests.get(address)\n",
    "if r.status_code == 200:\n",
    "    son_data=r.json()\n",
    "else:\n",
    "    pass\n",
    "\n",
    "print(\"The time for your current IP is: \" + son_data['datetime'])"
   ]
  },
  {
   "cell_type": "markdown",
   "metadata": {},
   "source": [
    "# Example 3: Getting Wikipedia pages\n",
    "\n",
    "Wikipedia also has an open API, and I want to use it to show one other tip for using the `requests` library; many APIs will take in a set of parameters, which you can pass as a parameter dictionary.\n",
    "\n",
    "The documentation for the very extensive API is [here](https://www.mediawiki.org/wiki/API:Main_page). Many of the operations require you to authenticate (which we will cover next), but some things, like getting the content of a page, do not.\n",
    "\n",
    "For example, the following code gets the recent changes to Wikipedia."
   ]
  },
  {
   "cell_type": "code",
   "execution_count": 27,
   "metadata": {},
   "outputs": [],
   "source": [
    "import requests\n",
    "\n",
    "endpt = 'https://en.wikipedia.org/w/api.php'\n",
    "\n",
    "\n",
    "def get_last_pages_changed(n):\n",
    "    params = {'action': 'query',\n",
    "          'format': 'json',\n",
    "          'list': 'recentchanges',\n",
    "          'rcnamespace': '0',\n",
    "          'rclimit': n}\n",
    "    r = requests.get(endpt, params)\n",
    "    #print(r.json()['query']['recentchanges'])\n",
    "    result = []\n",
    "    content = r.json()['query']['recentchanges']\n",
    "    for r in content:\n",
    "        result.append(r['title'])\n",
    "    return result"
   ]
  },
  {
   "cell_type": "code",
   "execution_count": 143,
   "metadata": {
    "scrolled": false
   },
   "outputs": [
    {
     "data": {
      "text/plain": [
       "['Fosters Freeze',\n",
       " 'Renga',\n",
       " 'Two-state solution',\n",
       " 'List of state leaders in the 21st century',\n",
       " 'The Voices of East Harlem',\n",
       " 'Diving in the Maldives',\n",
       " 'List of Hong Kong films of 1973',\n",
       " 'Gwar',\n",
       " 'Florida State Fair',\n",
       " 'The Voice of the Desert',\n",
       " 'Jan Schakowsky',\n",
       " 'Frame Arms Girl',\n",
       " 'Frederick Kovert',\n",
       " 'Belcoo',\n",
       " 'Rod Ponton',\n",
       " 'Susan Whitrowe',\n",
       " 'Varvara Flink',\n",
       " 'The Vocaleers',\n",
       " 'Mortar (weapon)',\n",
       " 'Nelson Agholor']"
      ]
     },
     "execution_count": 143,
     "metadata": {},
     "output_type": "execute_result"
    }
   ],
   "source": [
    "get_last_pages_changed(20)"
   ]
  },
  {
   "cell_type": "markdown",
   "metadata": {},
   "source": [
    "## Exercise 6\n",
    "\n",
    "Review the documentation (and Google) to see if you can figure out how to get a list of all of the people who have ever edited the most recently edited Wikipedia page."
   ]
  },
  {
   "cell_type": "code",
   "execution_count": 31,
   "metadata": {
    "scrolled": true
   },
   "outputs": [],
   "source": [
    "import requests\n",
    "\n",
    "endpt = 'https://en.wikipedia.org/w/api.php'\n",
    "\n",
    "\n",
    "def get_people_edited(n):\n",
    "    params = {'action': 'query',\n",
    "          'format': 'json',\n",
    "          'list': 'recentchanges',\n",
    "          'rcnamespace': '0',\n",
    "          'rclimit': n}\n",
    "    r1 = requests.get(endpt, params)\n",
    "    #print(r.json()['query']['recentchanges'])\n",
    "    result = []\n",
    "    content = r1.json()['query']['recentchanges']\n",
    "    for r1 in content:\n",
    "        t = r1['title']\n",
    "        result.append(r1['title'])\n",
    "        print(t) \n",
    "        params = {\n",
    "                \"action\": \"query\",    \n",
    "                \"titles\": t,\n",
    "                \"prop\": \"revisions\",\n",
    "                \"rvprop\": \"user\",\n",
    "                \"formatversion\": \"2\",\n",
    "                \"format\": \"json\"}\n",
    "        r2=requests.get('https://en.wikipedia.org/w/api.php', params)\n",
    "        data=r2.json()\n",
    "        pages = data[\"query\"][\"pages\"]\n",
    "        for page in pages:\n",
    "            print(page[\"revisions\"])"
   ]
  },
  {
   "cell_type": "code",
   "execution_count": 32,
   "metadata": {
    "scrolled": true
   },
   "outputs": [
    {
     "name": "stdout",
     "output_type": "stream",
     "text": [
      "Soup2Nuts\n",
      "[{'user': '2603:6080:A740:C00:955E:9477:C130:5252', 'anon': True}]\n",
      "Powder diffraction\n",
      "[{'user': 'WikiCleanerBot'}]\n",
      "2019–20 Bundesliga\n",
      "[{'user': 'S.A. Julio'}]\n",
      "Amritha Aiyer\n",
      "[{'user': 'Sathish Kathiravan'}]\n",
      "Abdul Rahim Khan-i-Khanan\n",
      "[{'user': 'MarnetteD'}]\n",
      "Old Norse\n",
      "[{'user': 'JohnBretheren'}]\n",
      "Ika South\n",
      "[{'user': 'Nnadigoodluck'}]\n",
      "Hysteria (Def Leppard album)\n",
      "[{'user': 'Dhoffryn'}]\n",
      "List of disasters in the United States by death toll\n",
      "[{'user': '76.111.114.96', 'anon': True}]\n",
      "Fiame Naomi Mataʻafa\n",
      "[{'user': 'Therequiembellishere'}]\n"
     ]
    }
   ],
   "source": [
    "get_people_edited(10)"
   ]
  },
  {
   "cell_type": "code",
   "execution_count": 22,
   "metadata": {},
   "outputs": [
    {
     "data": {
      "text/plain": [
       "['2401:E180:88A0:981E:D2:BA61:6E26:44C0',\n",
       " 'Simeon',\n",
       " 'SoulSurvivor97',\n",
       " '100.11.207.98',\n",
       " 'WikiCleanerBot',\n",
       " 'Jevonjgoodheart1',\n",
       " 'John Maynard Friedman',\n",
       " '2603:3020:23F1:0:5D33:A4BE:E9A8:A732',\n",
       " '2.179.146.214',\n",
       " 'Wxmdrgn']"
      ]
     },
     "execution_count": 22,
     "metadata": {},
     "output_type": "execute_result"
    }
   ],
   "source": [
    "import requests\n",
    "\n",
    "endpt = 'https://en.wikipedia.org/w/api.php'\n",
    "\n",
    "def get_last_users_changed(n):\n",
    "    params = {'action': 'query',\n",
    "          'format': 'json',\n",
    "          'list': 'recentchanges',\n",
    "          'rcnamespace': '0',\n",
    "          'rclimit': n,\n",
    "          \"rcprop\": \"user\"\n",
    "             }\n",
    "    r = requests.get(endpt, params)\n",
    "    result = []\n",
    "    content = r.json()['query']['recentchanges']\n",
    "    for r in content:\n",
    "        result.append(r['user'])\n",
    "    return result\n",
    "\n",
    "get_last_users_changed(10)"
   ]
  },
  {
   "cell_type": "code",
   "execution_count": 33,
   "metadata": {},
   "outputs": [
    {
     "name": "stdout",
     "output_type": "stream",
     "text": [
      "The most recent editors of the page ['Otto Thiel'] are ['Lugnuts', 'KolbertBot', 'Joeykai', 'Rjwilmsi', 'Addbot', 'KasparBot', 'S.A. Julio', 'RjwilmsiBot', 'Waacstats', 'GreenC bot'].\n"
     ]
    }
   ],
   "source": [
    "page = get_last_pages_changed(1)\n",
    "\n",
    "def get_editors():\n",
    "    parm ={'action':'query',\n",
    "    'format':'json',\n",
    "    'prop':'contributors',\n",
    "    'titles':page[0]} # page links back to the defined most recently edited page as above.\n",
    "\n",
    "    r = requests.get(endpt,parm)\n",
    "    all_content = r.json()['query']['pages']\n",
    "    page_id=list(all_content.keys())[0]\n",
    "    contr = all_content[page_id][\"contributors\"] # narrowed to just the contributor list with user ids and names\n",
    "\n",
    "    #print(contr)\n",
    "    editors = []\n",
    "    for item in contr: # get each dictionary pair out of the list, then need to grab the value of the key name from the dictionaries\n",
    "        editors.append(item[\"name\"])\n",
    "    #print(editors)\n",
    "\n",
    "    return print(f\"The most recent editors of the page {page} are {editors[:]}.\") #is there a way to remove the [] from the printout? \n",
    "get_editors() "
   ]
  },
  {
   "cell_type": "markdown",
   "metadata": {},
   "source": [
    "# Example 4: Intro to Twitter API\n",
    "\n",
    "In order to use the Twitter API, you need to do two things:\n",
    "\n",
    "1. Install tweepy. This is a python library designed to make it easier to use the API (rather than using `requests` directly. I made [this video](https://www.youtube.com/watch?v=TASX3evcgG4) to walk you through how to install tweepy in Anaconda.\n",
    "\n",
    "2. To use the Twitter API, you need to be authenticated, and so you need a developer account. [This page](https://wiki.communitydata.science/Intro_to_Programming_and_Data_Science_(Summer_2020)/Twitter_authentication_setup) explains how to get a developer account.\n",
    "\n",
    "Once you have your keys, you should create a file called `twitter_authentication.py` in the same directory as this file. It should contain the following four lines (replace the fake strings below with the corresponding keys from your twitter account):\n",
    "\n",
    "```\n",
    "CONSUMER_KEY = 'zFxMGdKmbo4e72X8Fi2FYr54v'\n",
    "CONSUMER_SECRET = 'SetuIC9x6zPQXPZrc9cKTph7AMSngUZSf745GXT0QZTrnWeELQ'\n",
    "ACCESS_TOKEN = '16614440-V09URsqNfP0V0JYZCD65NhpJAcPZ6Wb9A5ar9JrUT'\n",
    "ACCESS_TOKEN_SECRET = 'oxVSzC1OjXOVVYrBvGyy6XKKe772Jdvvw6Opb3bSLdIb'\n",
    "```\n",
    "\n",
    "In general, it is a good practice to keep your keys (which should be secret) separate from your code, which you can share. In this case, we put them in a different file and then import them."
   ]
  },
  {
   "cell_type": "markdown",
   "metadata": {},
   "source": [
    "The following code loads the tweepy library and imports these keys from the `twitter_authentication.py` file, and then prepares to \"log in\" to your account for the Twitter API."
   ]
  },
  {
   "cell_type": "code",
   "execution_count": 37,
   "metadata": {},
   "outputs": [],
   "source": [
    "import tweepy\n",
    "\n",
    "from twitter_authentication import CONSUMER_KEY, CONSUMER_SECRET, ACCESS_TOKEN, ACCESS_TOKEN_SECRET\n",
    "\n",
    "auth = tweepy.OAuthHandler(CONSUMER_KEY, CONSUMER_SECRET)\n",
    "auth.set_access_token(ACCESS_TOKEN, ACCESS_TOKEN_SECRET)\n",
    "\n",
    "# We then create an api object, based on the auth object created with your credentials\n",
    "api = tweepy.API(auth, wait_on_rate_limit=True)"
   ]
  },
  {
   "cell_type": "markdown",
   "metadata": {},
   "source": [
    "## Rate Limiting\n",
    "\n",
    "You will quickly learn that the Twitter API is \"rate limited\". This means that they will only let each account make a certain number of calls to their API in a given time period. The default rate is quite low - many calls only allow 15 calls per 15 minutes.\n",
    "\n",
    "You may notice above that we had the code:\n",
    "```\n",
    "api = tweepy.API(auth, wait_on_rate_limit=True)\n",
    "```\n",
    "the `wait_on_rate_limit=True` tells your code to wait for 15 minutes if it gets back a message that you've exceeded a rate limit. This can get annoying when debugging, so be careful with how often you try things - sometimes it makes sense, for example, to try to get a small amount of data that only takes on call and make sure that your code works before trying to get all of the data."
   ]
  },
  {
   "cell_type": "markdown",
   "metadata": {},
   "source": [
    "## Timeline\n",
    "\n",
    "This first example is just to make sure it's working. It should print out the last 100 tweets from your timeline."
   ]
  },
  {
   "cell_type": "code",
   "execution_count": 134,
   "metadata": {},
   "outputs": [
    {
     "name": "stdout",
     "output_type": "stream",
     "text": [
      "Data published today in @CDCMMWR provide information on #COVID19 vaccine breakthrough cases reported to CDC between… https://t.co/JFASzwTxAT\n",
      "It takes 2 weeks after #COVID19 vaccination to be fully vaccinated.\n",
      "\n",
      "As of May 24, 2021, more than 163 million peop… https://t.co/pHid3vn7Wl\n",
      "Follow CDC’s Steps for Healthy Swimming to protect yourself and those you care about from illness at the pool and a… https://t.co/SpYpB0VD1A\n",
      "May is Mental Health Awareness Month. Check out this new American Sign Language (#ASL) video for helpful tips on ma… https://t.co/9tWhWp4zCq\n",
      "#HCPs: In this #HowIRecommend video, watch as neonatologist Dr. Shetal Shah describes how he fosters support for va… https://t.co/v5vChaksue\n",
      "Everyone 12 years and older is now eligible to get a #COVID19 vaccine.  \n",
      "\n",
      "Widespread vaccination is a critical tool… https://t.co/NauZFX2WQ1\n",
      "Find the latest #COVID19 health equity case studies, videos, webinars, and research publications to help you and yo… https://t.co/JWeNgH1l6W\n",
      "Join today’s CDC #COVID19 Partner Update Call, “Pregnant in a Pandemic: What data say about COVID-19 &amp; COVID-19 vac… https://t.co/m2ouGk8zFu\n",
      "New American Sign Language (#ASL) videos about how to protect yourself and others from #COVID19 are now available o… https://t.co/zDqjfGn8l4\n",
      "Vaccination is an important tool for protecting people in your community from COVID-19. For resources and tips on h… https://t.co/lM7tggLQo8\n",
      "Tracking your child’s milestones helps them grow and thrive, and helps parents monitor delays and obstacles. \n",
      "\n",
      "Find… https://t.co/HHmqDnoXDL\n",
      "Reach new career heights while working on urgent #PublicHealth problems as a CDC #DiseaseDetective. Apply to the Ep… https://t.co/nHBOpwajFD\n",
      "As CDC country director, Macarena Garcia is responsible for all CDC activities in the Dominican Republic. With… https://t.co/JoeIMkLvax\n",
      "The effects of nicotine can be long-lasting on the adolescent brain. More information at https://t.co/mUJIDlC5Jm. https://t.co/NJt57ytwTb\n",
      "Rural communities have been hit hard by the COVID-19 pandemic. Help ensure your community knows about safe and effe… https://t.co/hBSK6zetJA\n",
      "Everyone reacts differently to stressful situations. Finding ways to practice #SelfCare can help reduce your stress… https://t.co/jSweyDhIg3\n",
      "Recent COVID-NET data show that #COVID19 hospitalization rates for non-Hispanic Black people remain nearly double t… https://t.co/wyEyjRJrt7\n",
      "Subscribe to get CDC’s COVID Data Tracker Weekly Review sent to your inbox every Friday: https://t.co/m5w5IKMJIv.\n",
      "#COVID19 cases, deaths, and hospitalizations are down, and vaccinations continue to climb. As summer nears and you… https://t.co/csD93DxCyf\n",
      "Have questions about #COVID19 vaccines? We have answers. The fact is COVID-19 vaccines are safe and effective at ke… https://t.co/jyd7RdupUB\n",
      "If recommended, get a 2nd #COVID19 shot even if you had side effects after the 1st, unless a vaccination provider o… https://t.co/7rG9AIk6DE\n",
      "RT @USAGov: The 2021 Atlantic hurricane season starts on June 1. 📅\n",
      "\n",
      "Are you prepared? 🌬️🌀🌧️\n",
      "\n",
      "Join the #ChatBeforeTheStorm on Wednesday, May…\n",
      "More than 60% of American adults have received their first #COVID19 vaccine. Do your part to help defeat this virus… https://t.co/rA4PG6iTUC\n",
      "RT @HHS_ASH: Everyone age 12 and older is eligible to receive a vaccine at no cost, regardless of immigration or health insurance status. F…\n",
      "A new @CDCMMWR found that elementary schools with improved ventilation and mask requirements for teachers and staff… https://t.co/ARuNeDTdI8\n",
      "A new @CDCMMWR shows how routine, school-based #COVID19 testing in Utah enabled early identification of cases and a… https://t.co/6ay3iRrIIc\n",
      "Thanks to @ALPublicHealth, @AlabamaNG, @CDCFound , &amp; @NASCAR for teaming up with CDC on #RacetoEndCOVID, where atte… https://t.co/xYKs63iSgX\n",
      "As of May 17, national forecasts predict 900–3,600 new #COVID19 hospitalizations will likely be reported on June 14… https://t.co/SylKEwumwb\n",
      "As of May 17, national forecasts predict 1,200–4,600 new #COVID19 deaths will be reported during the week ending Ju… https://t.co/xY8TRsZvHW\n",
      "As of May 17, national forecasts predict 60,000–268,000 new #COVID19 cases will likely be reported during the week… https://t.co/KZCbwWf7C7\n",
      "May is Mental Health Awareness Month. Everyone reacts differently to stressful situations like #COVID19. You may fe… https://t.co/7ND0jSTd56\n",
      "#Parents: Now that your children 12 years and older are eligible for a #COVID19 vaccine, you’re one step closer to… https://t.co/f3Ns8AyDAe\n",
      "DID YOU KNOW: Almost 1 in 5 people with severe illness from #COVID19 require oxygen therapy? Pulse oximeters are pa… https://t.co/BD628WjhqL\n",
      "SALMONELLA OUTBREAK: 163 people sick in 43 states from contact with backyard poultry like chickens and ducks. Take… https://t.co/FjzT1IglyP\n",
      "New @CDCMMWR finds District of Columbia child care facilities were able to reduce #COVID19 spread by using preventi… https://t.co/IILwDrfL7Y\n",
      "Everyone who chooses to get a #COVID19 vaccine does it for a reason—to protect family, to see their friends, to get… https://t.co/bHFaKAS3Jz\n",
      "Taking with friends, neighbors and loved ones about how you’re feeling is one way to relieve stress and feel better… https://t.co/bhZexFf0zc\n",
      "#COVID19 cases are decreasing nationwide, but they’re still high in some parts of the country. The 7-day average of… https://t.co/eg9y9tE1cg\n",
      "🧪 COVID-19 Science Update:\n",
      "\n",
      "Read the latest research on #COVID19 vaccine boosters, the effectiveness of COVID-19 va… https://t.co/kgRa4N74Ai\n",
      "Join CDC’s #COVID19 Partner Update Call Monday, May 24, at 3:00 pm EDT, for more information on what you need to kn… https://t.co/bPAzfHYh8I\n",
      "It’s okay to have questions about the #COVID19 vaccines. The fact is COVID-19 vaccines are safe and effective at ke… https://t.co/JfnWgXrm2y\n",
      "Everyone 12 years and older is now eligible to get a #COVID19 vaccine. \n",
      "\n",
      "Your child may have some side effects like… https://t.co/bEOxHuYAmH\n",
      "Employers, healthcare systems and providers, public health agencies, policymakers, and others all have a part in he… https://t.co/AyORAzl4qT\n",
      "May 19 is National Hepatitis Testing Day. The CDC and @cdchep recommend all adults get tested for #hepatitis C. Lea… https://t.co/biWSpPoqXO\n",
      "#DYK? CDC’s COVID Data Tracker now displays case, death, and testing data on the same page, along with levels of co… https://t.co/qlTbveHCfE\n",
      "Antifungal use in people, animals, and crops can contribute to #AntifungalResistance. Learn more about the emergenc… https://t.co/a9eJ8iySqs\n",
      "#VaxFact: You can get a #COVID19 vaccine if you are trying to become pregnant or want to get pregnant.  \n",
      "There is c… https://t.co/4GAxGNb1yX\n",
      "RT @CDCDirector: Today’s @CDCMMWR study shows that rates of #COVID19 vaccination are lower in rural compared w/ urban counties.  \n",
      "\n",
      "Healthca…\n",
      "Don’t delay! Call 9-1-1 right away if you spot the signs of #stroke in yourself or someone else. Acting F.A.S.T. co… https://t.co/VwUhpu7Cn1\n",
      "Have you found ways to adapt and cope during the pandemic? You are #NotAlone. Millions of us have had to find new r… https://t.co/eDNapiOUKM\n",
      "RT @CDCEnvironment: .@CDCgov has a long-standing role in childhood lead poisoning prevention. 2021 marks 30 years of supporting state and l…\n",
      "DYK? Everyone 12 years and older is now eligible to get a #COVID19 vaccine. Have your family #SleeveUp 💪 for their… https://t.co/DkFo5Ee4T3\n",
      "Learn more about building confidence in #COVID19 vaccines: https://t.co/iaHExSJ4un.\n",
      "New @CDCMMWR finds lower #COVID19 vaccination rates in rural counties compared to urban counties. Getting a COVID-1… https://t.co/ckoiHGGjYI\n",
      "RT @CDCDirector: State and local health departments have been key partners in our fight to #SlowTheSpread of #COVID19. Thank you to everyon…\n",
      "Everyone age 12 &amp; older is now eligible for a #COVID19 vaccine.\n",
      "\n",
      "As of May 16, 2021, more than 157.1 million people… https://t.co/VM0wzbdPFv\n",
      "#NEW: An updated list of articles by CDC on people experiencing homelessness and #COVID19 now includes information… https://t.co/PSumgSMwUT\n",
      "#Parents: Your children 12 years and older are eligible to get a #COVID19 vaccine. \n",
      "\n",
      "Have your family #SleeveUp 💪 f… https://t.co/H3BMREl0a9\n",
      "Don’t get stuck with uninvited visitors this summer! Check for ticks daily after coming indoors. If you find a tick… https://t.co/ueXKHRqqMN\n",
      "Pregnant and recently pregnant people are more likely to get severely ill from #COVID19, although the overall risk… https://t.co/D6sqToBOKH\n",
      "#DYK? CDC works with states, territories, tribes, and local communities to advance health equity for communities un… https://t.co/qbOSCUKjZO\n",
      "#HCPs: In this #HowIRecommend video, pediatrician Dr. Tolu Adebanjo explains how to improve childhood vaccine recom… https://t.co/D91IDG1M1w\n",
      "Is your child up-to-date on all of their routine #vaccines? Measles is a highly contagious virus that can cause ser… https://t.co/S5JLJw1r1w\n",
      "May is ALS Awareness Month. Help researchers look for what causes #ALS. Join the National ALS Registry &amp; be counted… https://t.co/4LdzZSTp1P\n",
      "Vaccination is an important tool for protecting agricultural communities from COVID-19. For resources and tips on h… https://t.co/cQZTZWQ7Ug\n",
      "To find a COVID-19 vaccine near you: \n",
      "\n",
      "1. 🔍Search https://t.co/2akIUZ14Rd \n",
      "2. 📱Text your ZIP code to 438829 \n",
      "3. 📞Ca… https://t.co/8iJeIaLL0h\n",
      "An estimated 2.4 million people are living with #hepatitis C in the United States. Many don’t know they are infecte… https://t.co/PhsGtsvkHS\n",
      "#VaxFact: It takes about 2 weeks after you receive your final vaccine dose for your body to build protection agains… https://t.co/CiT3RvGvM5\n",
      "Are you experiencing a lot of emotions? \n",
      "You are #NotAlone in experiencing stress, grief, and anxiety during the pa… https://t.co/5kMAQCYdTn\n",
      "May is Better Hearing and Speech Month. Always protect your hearing. Don’t forget to use earplugs. Learn more tips… https://t.co/y3k0BZ5bJl\n",
      "Once you’re fully vaccinated against COVID-19, you can resume activities that you did prior to the pandemic.\n",
      "\n",
      "To fi… https://t.co/Ze8gz7p7jM\n",
      "Subscribe to get CDC’s COVID Data Tracker Weekly Review sent to your inbox every Friday: https://t.co/m5w5IKMJIv.\n",
      "On May 10, the Food and Drug Administration (FDA) authorized the Pfizer-BioNTech COVID-19 Vaccine for adolescents a… https://t.co/usk3ynjg3L\n",
      "Severe #COVID19 is rare in kids, but recent COVID-NET data show that rates of COVID-19-associated hospitalization i… https://t.co/qVG2mn3R0t\n",
      "Health equity occurs when everyone has the opportunity to be as healthy as possible. Learn how CDC promotes fair ac… https://t.co/6p4cHjohb7\n",
      "A new @CDCMMWR outlines recommendations from CDC’s Advisory Committee on Immunization Practices for use of the Pfiz… https://t.co/GtivR7HHM1\n",
      "RT @CDCDirector: We updated our guidance for fully vaccinated people because:\n",
      "1. #COVID19 cases are down\n",
      "2. Vaccines are widely available\n",
      "3…\n",
      "A new @CDCMMWR provides more evidence that mRNA #COVID19 vaccines are effective in real-world conditions. Two doses… https://t.co/4u4KdDoo0z\n",
      "Wondering if you’re fully vaccinated against #COVID19? Here’s the key 🔑.\n",
      "You’re considered fully vaccinated: \n",
      "• 2 w… https://t.co/ZC5GauTefR\n",
      "#Parents: Everyone 12 years and older is now eligible for #COVID19 vaccination. \n",
      "\n",
      "Help protect your family by plann… https://t.co/WjGEUOPV22\n",
      "#HCPs: Attend CDC’s COCA Call today at 2 pm EDT on the Pfizer-BioNTech #COVID19 Vaccine expansion for 12- to 15-yea… https://t.co/D2qnowWZDz\n",
      "As of May 10, national forecasts predict 900–4,400 new #COVID19 hospitalizations will likely be reported on June 7.… https://t.co/EfgDIVdCmW\n",
      "As of May 10, national forecasts predict 1,500–5,500 new #COVID19 deaths will be reported during the week ending Ju… https://t.co/loZqXAu14q\n",
      "As of May 10, national forecasts predict 84,000–406,000 new #COVID19 cases will likely be reported during the week… https://t.co/9RuMREB4Wj\n",
      "#HCPs: Attend CDC’s COCA Call on Friday, May 14, at 2 pm EDT, on the Pfizer-BioNTech #COVID19 Vaccine expansion for… https://t.co/K7NuRoC56A\n",
      "#DYK? Some #COVID19 vaccines require 2 doses. Make sure to get the 2nd dose for the most protection. Get the 2nd sh… https://t.co/RBfNjyOB2f\n",
      "RT @WhiteHouse: Big news from the CDC: If you’re fully vaccinated, you do not need to wear a mask – indoors or outdoors, in most settings.…\n",
      "UPDATE: If you are fully vaccinated against #COVID19, you can resume activities without wearing a mask or staying 6… https://t.co/X7OleoqoHP\n",
      "A new @CDCMMWR shows that a free community-based #COVID19 testing initiative in Chicago was effective at reaching p… https://t.co/eiQo9R117Y\n",
      "Everyone 12 years and older is now eligible to receive a COVID-19 vaccine. @CDCDirector Dr. Rochelle Walensky answe… https://t.co/Qm7CnHvXWT\n",
      "New @CDCMMWR reiterates that people with #COVID19 symptoms and a negative #antigen test should get a confirmatory R… https://t.co/D2mU5Spvbv\n",
      "#HCPs: Your patients 12 years &amp; older are now eligible to get a #COVID19 vaccine. \n",
      "\n",
      "Talk to your patients &amp; their p… https://t.co/dZ3BpQ6l9g\n",
      "Now that children ages 12 and older are eligible for a #COVID19 vaccine, families are one step closer to enjoying m… https://t.co/lD0vHjNFrI\n",
      "Remember: Side effects after getting a #COVID19 vaccine are normal signs that the body is building protection. More… https://t.co/J1T0gkhBei\n",
      "Help protect your family by planning to get everyone who’s eligible vaccinated against COVID-19 as soon as you can.… https://t.co/hhKYixirNk\n",
      "DYK? Everyone 12 years and older is now eligible to get a #COVID19 vaccine. Have your family #SleeveUp 💪 for their… https://t.co/F3DiYWBjLR\n",
      "RT @POTUS: Good news: Adolescents 12 and up can now get the Pfizer COVID-19 vaccine. Hear more from Dr. Walensky about how the COVID-19 vac…\n",
      "CDC now recommends Pfizer-BioNTech #COVID19 vaccine for use in 12- through 15-year-old adolescents. Providers may b… https://t.co/Wp4cPbPewk\n",
      "Each month, CDC shares #COVID19 Community Features to highlight health departments and partners across the U.S. tha… https://t.co/pBeCs2bJXg\n",
      "We know graduation is a special time for many families, and that #COVID19 presents challenges to celebrating this m… https://t.co/v8ncFV6tX5\n"
     ]
    }
   ],
   "source": [
    "# Grab the last 100 tweets\n",
    "public_tweets = api.home_timeline(count=100)\n",
    "\n",
    "# And print the text from them\n",
    "for tweet in public_tweets:\n",
    "    print(tweet.text)\n"
   ]
  },
  {
   "cell_type": "markdown",
   "metadata": {},
   "source": [
    "Each of these `tweet` objects contains lots of additional information. This shows all of the metadata available for the last one we looked at."
   ]
  },
  {
   "cell_type": "code",
   "execution_count": 135,
   "metadata": {
    "scrolled": true
   },
   "outputs": [
    {
     "data": {
      "text/plain": [
       "{'created_at': 'Wed May 12 19:02:00 +0000 2021',\n",
       " 'id': 1392555676212342785,\n",
       " 'id_str': '1392555676212342785',\n",
       " 'text': 'We know graduation is a special time for many families, and that #COVID19 presents challenges to celebrating this m… https://t.co/v8ncFV6tX5',\n",
       " 'truncated': True,\n",
       " 'entities': {'hashtags': [{'text': 'COVID19', 'indices': [65, 73]}],\n",
       "  'symbols': [],\n",
       "  'user_mentions': [],\n",
       "  'urls': [{'url': 'https://t.co/v8ncFV6tX5',\n",
       "    'expanded_url': 'https://twitter.com/i/web/status/1392555676212342785',\n",
       "    'display_url': 'twitter.com/i/web/status/1…',\n",
       "    'indices': [117, 140]}]},\n",
       " 'source': '<a href=\"https://studio.twitter.com\" rel=\"nofollow\">Twitter Media Studio</a>',\n",
       " 'in_reply_to_status_id': None,\n",
       " 'in_reply_to_status_id_str': None,\n",
       " 'in_reply_to_user_id': None,\n",
       " 'in_reply_to_user_id_str': None,\n",
       " 'in_reply_to_screen_name': None,\n",
       " 'user': {'id': 146569971,\n",
       "  'id_str': '146569971',\n",
       "  'name': 'CDC',\n",
       "  'screen_name': 'CDCgov',\n",
       "  'location': 'Atlanta, GA',\n",
       "  'description': \"CDC's official Twitter source for daily credible health & safety updates from Centers for Disease Control & Prevention. Privacy policy: https://t.co/N3OhkbXTAq\",\n",
       "  'url': 'http://t.co/5a7cTu2vly',\n",
       "  'entities': {'url': {'urls': [{'url': 'http://t.co/5a7cTu2vly',\n",
       "      'expanded_url': 'http://www.cdc.gov',\n",
       "      'display_url': 'cdc.gov',\n",
       "      'indices': [0, 22]}]},\n",
       "   'description': {'urls': [{'url': 'https://t.co/N3OhkbXTAq',\n",
       "      'expanded_url': 'http://bit.ly/2MhQ6Hp',\n",
       "      'display_url': 'bit.ly/2MhQ6Hp',\n",
       "      'indices': [136, 159]}]}},\n",
       "  'protected': False,\n",
       "  'followers_count': 3926999,\n",
       "  'friends_count': 270,\n",
       "  'listed_count': 18652,\n",
       "  'created_at': 'Fri May 21 19:40:40 +0000 2010',\n",
       "  'favourites_count': 517,\n",
       "  'utc_offset': None,\n",
       "  'time_zone': None,\n",
       "  'geo_enabled': False,\n",
       "  'verified': True,\n",
       "  'statuses_count': 30367,\n",
       "  'lang': None,\n",
       "  'contributors_enabled': False,\n",
       "  'is_translator': False,\n",
       "  'is_translation_enabled': False,\n",
       "  'profile_background_color': 'C0DEED',\n",
       "  'profile_background_image_url': 'http://abs.twimg.com/images/themes/theme1/bg.png',\n",
       "  'profile_background_image_url_https': 'https://abs.twimg.com/images/themes/theme1/bg.png',\n",
       "  'profile_background_tile': False,\n",
       "  'profile_image_url': 'http://pbs.twimg.com/profile_images/880104586211581952/KPwn1JyQ_normal.jpg',\n",
       "  'profile_image_url_https': 'https://pbs.twimg.com/profile_images/880104586211581952/KPwn1JyQ_normal.jpg',\n",
       "  'profile_banner_url': 'https://pbs.twimg.com/profile_banners/146569971/1620669334',\n",
       "  'profile_link_color': '0084B4',\n",
       "  'profile_sidebar_border_color': 'FFFFFF',\n",
       "  'profile_sidebar_fill_color': 'DDEEF6',\n",
       "  'profile_text_color': '333333',\n",
       "  'profile_use_background_image': True,\n",
       "  'has_extended_profile': False,\n",
       "  'default_profile': False,\n",
       "  'default_profile_image': False,\n",
       "  'following': True,\n",
       "  'follow_request_sent': False,\n",
       "  'notifications': False,\n",
       "  'translator_type': 'none',\n",
       "  'withheld_in_countries': []},\n",
       " 'geo': None,\n",
       " 'coordinates': None,\n",
       " 'place': None,\n",
       " 'contributors': None,\n",
       " 'is_quote_status': False,\n",
       " 'retweet_count': 56,\n",
       " 'favorite_count': 104,\n",
       " 'favorited': False,\n",
       " 'retweeted': False,\n",
       " 'possibly_sensitive': False,\n",
       " 'possibly_sensitive_appealable': False,\n",
       " 'lang': 'en'}"
      ]
     },
     "execution_count": 135,
     "metadata": {},
     "output_type": "execute_result"
    }
   ],
   "source": [
    "tweet._json"
   ]
  },
  {
   "cell_type": "markdown",
   "metadata": {},
   "source": [
    "You can try to change the `count` argument above, and you'll quickly learn that if you raise it over 200, you will still only get 200 tweets. If you want to print more than 200 tweets, you may need to use a [cursor](http://docs.tweepy.org/en/v3.5.0/cursor_tutorial.html).\n",
    "\n",
    "This is basically tweepy's clever way of breaking what you want to do into multiple calls to the API.\n",
    "\n",
    "For example, this call will get 350 tweets. The `count` argument (optional) says how many tweets to get per call, and the argument in `.items()` is how many to get in total."
   ]
  },
  {
   "cell_type": "code",
   "execution_count": 136,
   "metadata": {},
   "outputs": [
    {
     "name": "stdout",
     "output_type": "stream",
     "text": [
      "Data published today in @CDCMMWR provide information on #COVID19 vaccine breakthrough cases reported to CDC between… https://t.co/JFASzwTxAT\n",
      "It takes 2 weeks after #COVID19 vaccination to be fully vaccinated.\n",
      "\n",
      "As of May 24, 2021, more than 163 million peop… https://t.co/pHid3vn7Wl\n",
      "Follow CDC’s Steps for Healthy Swimming to protect yourself and those you care about from illness at the pool and a… https://t.co/SpYpB0VD1A\n",
      "May is Mental Health Awareness Month. Check out this new American Sign Language (#ASL) video for helpful tips on ma… https://t.co/9tWhWp4zCq\n",
      "#HCPs: In this #HowIRecommend video, watch as neonatologist Dr. Shetal Shah describes how he fosters support for va… https://t.co/v5vChaksue\n",
      "Everyone 12 years and older is now eligible to get a #COVID19 vaccine.  \n",
      "\n",
      "Widespread vaccination is a critical tool… https://t.co/NauZFX2WQ1\n",
      "Find the latest #COVID19 health equity case studies, videos, webinars, and research publications to help you and yo… https://t.co/JWeNgH1l6W\n",
      "Join today’s CDC #COVID19 Partner Update Call, “Pregnant in a Pandemic: What data say about COVID-19 &amp; COVID-19 vac… https://t.co/m2ouGk8zFu\n",
      "New American Sign Language (#ASL) videos about how to protect yourself and others from #COVID19 are now available o… https://t.co/zDqjfGn8l4\n",
      "Vaccination is an important tool for protecting people in your community from COVID-19. For resources and tips on h… https://t.co/lM7tggLQo8\n",
      "Tracking your child’s milestones helps them grow and thrive, and helps parents monitor delays and obstacles. \n",
      "\n",
      "Find… https://t.co/HHmqDnoXDL\n",
      "Reach new career heights while working on urgent #PublicHealth problems as a CDC #DiseaseDetective. Apply to the Ep… https://t.co/nHBOpwajFD\n",
      "As CDC country director, Macarena Garcia is responsible for all CDC activities in the Dominican Republic. With… https://t.co/JoeIMkLvax\n",
      "The effects of nicotine can be long-lasting on the adolescent brain. More information at https://t.co/mUJIDlC5Jm. https://t.co/NJt57ytwTb\n",
      "Rural communities have been hit hard by the COVID-19 pandemic. Help ensure your community knows about safe and effe… https://t.co/hBSK6zetJA\n",
      "Everyone reacts differently to stressful situations. Finding ways to practice #SelfCare can help reduce your stress… https://t.co/jSweyDhIg3\n",
      "Recent COVID-NET data show that #COVID19 hospitalization rates for non-Hispanic Black people remain nearly double t… https://t.co/wyEyjRJrt7\n",
      "Subscribe to get CDC’s COVID Data Tracker Weekly Review sent to your inbox every Friday: https://t.co/m5w5IKMJIv.\n",
      "#COVID19 cases, deaths, and hospitalizations are down, and vaccinations continue to climb. As summer nears and you… https://t.co/csD93DxCyf\n",
      "Have questions about #COVID19 vaccines? We have answers. The fact is COVID-19 vaccines are safe and effective at ke… https://t.co/jyd7RdupUB\n",
      "If recommended, get a 2nd #COVID19 shot even if you had side effects after the 1st, unless a vaccination provider o… https://t.co/7rG9AIk6DE\n",
      "RT @USAGov: The 2021 Atlantic hurricane season starts on June 1. 📅\n",
      "\n",
      "Are you prepared? 🌬️🌀🌧️\n",
      "\n",
      "Join the #ChatBeforeTheStorm on Wednesday, May…\n",
      "More than 60% of American adults have received their first #COVID19 vaccine. Do your part to help defeat this virus… https://t.co/rA4PG6iTUC\n",
      "RT @HHS_ASH: Everyone age 12 and older is eligible to receive a vaccine at no cost, regardless of immigration or health insurance status. F…\n",
      "A new @CDCMMWR found that elementary schools with improved ventilation and mask requirements for teachers and staff… https://t.co/ARuNeDTdI8\n",
      "A new @CDCMMWR shows how routine, school-based #COVID19 testing in Utah enabled early identification of cases and a… https://t.co/6ay3iRrIIc\n",
      "Thanks to @ALPublicHealth, @AlabamaNG, @CDCFound , &amp; @NASCAR for teaming up with CDC on #RacetoEndCOVID, where atte… https://t.co/xYKs63iSgX\n",
      "As of May 17, national forecasts predict 900–3,600 new #COVID19 hospitalizations will likely be reported on June 14… https://t.co/SylKEwumwb\n",
      "As of May 17, national forecasts predict 1,200–4,600 new #COVID19 deaths will be reported during the week ending Ju… https://t.co/xY8TRsZvHW\n",
      "As of May 17, national forecasts predict 60,000–268,000 new #COVID19 cases will likely be reported during the week… https://t.co/KZCbwWf7C7\n",
      "May is Mental Health Awareness Month. Everyone reacts differently to stressful situations like #COVID19. You may fe… https://t.co/7ND0jSTd56\n",
      "#Parents: Now that your children 12 years and older are eligible for a #COVID19 vaccine, you’re one step closer to… https://t.co/f3Ns8AyDAe\n",
      "DID YOU KNOW: Almost 1 in 5 people with severe illness from #COVID19 require oxygen therapy? Pulse oximeters are pa… https://t.co/BD628WjhqL\n",
      "SALMONELLA OUTBREAK: 163 people sick in 43 states from contact with backyard poultry like chickens and ducks. Take… https://t.co/FjzT1IglyP\n",
      "New @CDCMMWR finds District of Columbia child care facilities were able to reduce #COVID19 spread by using preventi… https://t.co/IILwDrfL7Y\n",
      "Everyone who chooses to get a #COVID19 vaccine does it for a reason—to protect family, to see their friends, to get… https://t.co/bHFaKAS3Jz\n",
      "Taking with friends, neighbors and loved ones about how you’re feeling is one way to relieve stress and feel better… https://t.co/bhZexFf0zc\n",
      "#COVID19 cases are decreasing nationwide, but they’re still high in some parts of the country. The 7-day average of… https://t.co/eg9y9tE1cg\n",
      "🧪 COVID-19 Science Update:\n",
      "\n",
      "Read the latest research on #COVID19 vaccine boosters, the effectiveness of COVID-19 va… https://t.co/kgRa4N74Ai\n",
      "Join CDC’s #COVID19 Partner Update Call Monday, May 24, at 3:00 pm EDT, for more information on what you need to kn… https://t.co/bPAzfHYh8I\n",
      "It’s okay to have questions about the #COVID19 vaccines. The fact is COVID-19 vaccines are safe and effective at ke… https://t.co/JfnWgXrm2y\n",
      "Everyone 12 years and older is now eligible to get a #COVID19 vaccine. \n",
      "\n",
      "Your child may have some side effects like… https://t.co/bEOxHuYAmH\n",
      "Employers, healthcare systems and providers, public health agencies, policymakers, and others all have a part in he… https://t.co/AyORAzl4qT\n",
      "May 19 is National Hepatitis Testing Day. The CDC and @cdchep recommend all adults get tested for #hepatitis C. Lea… https://t.co/biWSpPoqXO\n",
      "#DYK? CDC’s COVID Data Tracker now displays case, death, and testing data on the same page, along with levels of co… https://t.co/qlTbveHCfE\n",
      "Antifungal use in people, animals, and crops can contribute to #AntifungalResistance. Learn more about the emergenc… https://t.co/a9eJ8iySqs\n",
      "#VaxFact: You can get a #COVID19 vaccine if you are trying to become pregnant or want to get pregnant.  \n",
      "There is c… https://t.co/4GAxGNb1yX\n",
      "RT @CDCDirector: Today’s @CDCMMWR study shows that rates of #COVID19 vaccination are lower in rural compared w/ urban counties.  \n",
      "\n",
      "Healthca…\n",
      "Don’t delay! Call 9-1-1 right away if you spot the signs of #stroke in yourself or someone else. Acting F.A.S.T. co… https://t.co/VwUhpu7Cn1\n",
      "Have you found ways to adapt and cope during the pandemic? You are #NotAlone. Millions of us have had to find new r… https://t.co/eDNapiOUKM\n",
      "RT @CDCEnvironment: .@CDCgov has a long-standing role in childhood lead poisoning prevention. 2021 marks 30 years of supporting state and l…\n",
      "DYK? Everyone 12 years and older is now eligible to get a #COVID19 vaccine. Have your family #SleeveUp 💪 for their… https://t.co/DkFo5Ee4T3\n",
      "Learn more about building confidence in #COVID19 vaccines: https://t.co/iaHExSJ4un.\n",
      "New @CDCMMWR finds lower #COVID19 vaccination rates in rural counties compared to urban counties. Getting a COVID-1… https://t.co/ckoiHGGjYI\n",
      "RT @CDCDirector: State and local health departments have been key partners in our fight to #SlowTheSpread of #COVID19. Thank you to everyon…\n",
      "Everyone age 12 &amp; older is now eligible for a #COVID19 vaccine.\n",
      "\n",
      "As of May 16, 2021, more than 157.1 million people… https://t.co/VM0wzbdPFv\n",
      "#NEW: An updated list of articles by CDC on people experiencing homelessness and #COVID19 now includes information… https://t.co/PSumgSMwUT\n",
      "#Parents: Your children 12 years and older are eligible to get a #COVID19 vaccine. \n",
      "\n",
      "Have your family #SleeveUp 💪 f… https://t.co/H3BMREl0a9\n",
      "Don’t get stuck with uninvited visitors this summer! Check for ticks daily after coming indoors. If you find a tick… https://t.co/ueXKHRqqMN\n",
      "Pregnant and recently pregnant people are more likely to get severely ill from #COVID19, although the overall risk… https://t.co/D6sqToBOKH\n",
      "#DYK? CDC works with states, territories, tribes, and local communities to advance health equity for communities un… https://t.co/qbOSCUKjZO\n",
      "#HCPs: In this #HowIRecommend video, pediatrician Dr. Tolu Adebanjo explains how to improve childhood vaccine recom… https://t.co/D91IDG1M1w\n",
      "Is your child up-to-date on all of their routine #vaccines? Measles is a highly contagious virus that can cause ser… https://t.co/S5JLJw1r1w\n",
      "May is ALS Awareness Month. Help researchers look for what causes #ALS. Join the National ALS Registry &amp; be counted… https://t.co/4LdzZSTp1P\n",
      "Vaccination is an important tool for protecting agricultural communities from COVID-19. For resources and tips on h… https://t.co/cQZTZWQ7Ug\n",
      "To find a COVID-19 vaccine near you: \n",
      "\n",
      "1. 🔍Search https://t.co/2akIUZ14Rd \n",
      "2. 📱Text your ZIP code to 438829 \n",
      "3. 📞Ca… https://t.co/8iJeIaLL0h\n",
      "An estimated 2.4 million people are living with #hepatitis C in the United States. Many don’t know they are infecte… https://t.co/PhsGtsvkHS\n",
      "#VaxFact: It takes about 2 weeks after you receive your final vaccine dose for your body to build protection agains… https://t.co/CiT3RvGvM5\n",
      "Are you experiencing a lot of emotions? \n",
      "You are #NotAlone in experiencing stress, grief, and anxiety during the pa… https://t.co/5kMAQCYdTn\n",
      "May is Better Hearing and Speech Month. Always protect your hearing. Don’t forget to use earplugs. Learn more tips… https://t.co/y3k0BZ5bJl\n",
      "Once you’re fully vaccinated against COVID-19, you can resume activities that you did prior to the pandemic.\n",
      "\n",
      "To fi… https://t.co/Ze8gz7p7jM\n",
      "Subscribe to get CDC’s COVID Data Tracker Weekly Review sent to your inbox every Friday: https://t.co/m5w5IKMJIv.\n",
      "On May 10, the Food and Drug Administration (FDA) authorized the Pfizer-BioNTech COVID-19 Vaccine for adolescents a… https://t.co/usk3ynjg3L\n",
      "Severe #COVID19 is rare in kids, but recent COVID-NET data show that rates of COVID-19-associated hospitalization i… https://t.co/qVG2mn3R0t\n",
      "Health equity occurs when everyone has the opportunity to be as healthy as possible. Learn how CDC promotes fair ac… https://t.co/6p4cHjohb7\n",
      "A new @CDCMMWR outlines recommendations from CDC’s Advisory Committee on Immunization Practices for use of the Pfiz… https://t.co/GtivR7HHM1\n",
      "RT @CDCDirector: We updated our guidance for fully vaccinated people because:\n",
      "1. #COVID19 cases are down\n",
      "2. Vaccines are widely available\n",
      "3…\n",
      "A new @CDCMMWR provides more evidence that mRNA #COVID19 vaccines are effective in real-world conditions. Two doses… https://t.co/4u4KdDoo0z\n",
      "Wondering if you’re fully vaccinated against #COVID19? Here’s the key 🔑.\n",
      "You’re considered fully vaccinated: \n",
      "• 2 w… https://t.co/ZC5GauTefR\n",
      "#Parents: Everyone 12 years and older is now eligible for #COVID19 vaccination. \n",
      "\n",
      "Help protect your family by plann… https://t.co/WjGEUOPV22\n",
      "#HCPs: Attend CDC’s COCA Call today at 2 pm EDT on the Pfizer-BioNTech #COVID19 Vaccine expansion for 12- to 15-yea… https://t.co/D2qnowWZDz\n",
      "As of May 10, national forecasts predict 900–4,400 new #COVID19 hospitalizations will likely be reported on June 7.… https://t.co/EfgDIVdCmW\n",
      "As of May 10, national forecasts predict 1,500–5,500 new #COVID19 deaths will be reported during the week ending Ju… https://t.co/loZqXAu14q\n",
      "As of May 10, national forecasts predict 84,000–406,000 new #COVID19 cases will likely be reported during the week… https://t.co/9RuMREB4Wj\n",
      "#HCPs: Attend CDC’s COCA Call on Friday, May 14, at 2 pm EDT, on the Pfizer-BioNTech #COVID19 Vaccine expansion for… https://t.co/K7NuRoC56A\n",
      "#DYK? Some #COVID19 vaccines require 2 doses. Make sure to get the 2nd dose for the most protection. Get the 2nd sh… https://t.co/RBfNjyOB2f\n",
      "RT @WhiteHouse: Big news from the CDC: If you’re fully vaccinated, you do not need to wear a mask – indoors or outdoors, in most settings.…\n",
      "UPDATE: If you are fully vaccinated against #COVID19, you can resume activities without wearing a mask or staying 6… https://t.co/X7OleoqoHP\n",
      "A new @CDCMMWR shows that a free community-based #COVID19 testing initiative in Chicago was effective at reaching p… https://t.co/eiQo9R117Y\n",
      "Everyone 12 years and older is now eligible to receive a COVID-19 vaccine. @CDCDirector Dr. Rochelle Walensky answe… https://t.co/Qm7CnHvXWT\n",
      "New @CDCMMWR reiterates that people with #COVID19 symptoms and a negative #antigen test should get a confirmatory R… https://t.co/D2mU5Spvbv\n",
      "#HCPs: Your patients 12 years &amp; older are now eligible to get a #COVID19 vaccine. \n",
      "\n",
      "Talk to your patients &amp; their p… https://t.co/dZ3BpQ6l9g\n",
      "Now that children ages 12 and older are eligible for a #COVID19 vaccine, families are one step closer to enjoying m… https://t.co/lD0vHjNFrI\n",
      "Remember: Side effects after getting a #COVID19 vaccine are normal signs that the body is building protection. More… https://t.co/J1T0gkhBei\n",
      "Help protect your family by planning to get everyone who’s eligible vaccinated against COVID-19 as soon as you can.… https://t.co/hhKYixirNk\n",
      "DYK? Everyone 12 years and older is now eligible to get a #COVID19 vaccine. Have your family #SleeveUp 💪 for their… https://t.co/F3DiYWBjLR\n",
      "RT @POTUS: Good news: Adolescents 12 and up can now get the Pfizer COVID-19 vaccine. Hear more from Dr. Walensky about how the COVID-19 vac…\n",
      "CDC now recommends Pfizer-BioNTech #COVID19 vaccine for use in 12- through 15-year-old adolescents. Providers may b… https://t.co/Wp4cPbPewk\n",
      "Each month, CDC shares #COVID19 Community Features to highlight health departments and partners across the U.S. tha… https://t.co/pBeCs2bJXg\n",
      "We know graduation is a special time for many families, and that #COVID19 presents challenges to celebrating this m… https://t.co/v8ncFV6tX5\n",
      "🧪 COVID-19 Science Update:\n",
      "\n",
      "Read the latest #COVID19 research on reinfection rates, post-COVID symptoms and conditi… https://t.co/OLmoR9eU1W\n",
      "Are you performing COVID-19 testing? Opt in to get the latest updates from the CDC Laboratory Outreach Communicatio… https://t.co/l8EDI4LB6K\n",
      "Sharing quick, accurate answers to common concerns about #COVID19 vaccines can help someone be more confident about… https://t.co/AWptWQDAY2\n",
      "This is Hurricane Preparedness Week. Protect yourself and others from #COVID19 if you need to stay in a public shel… https://t.co/Ymd5FHQV1m\n",
      "For #NSND2021 we asked nurses how they kept students healthy and ready to learn this year. https://t.co/FJMPsFJLIZ… https://t.co/ZapxxgJMY5\n",
      "RT @CDC_NCEZID: Azole-resistant A. fumigatus infections are common in parts of Europe. Some cases have been seen in the U.S. Increased clin…\n",
      "The Advisory Committee on Immunization Practices (ACIP) plays a role in vaccine safety monitoring, including… https://t.co/NjwQy0tUsb\n",
      "CDC’s COVID Data Tracker now displays vaccination progress in the U.S. by race and ethnicity. See the percentage of… https://t.co/p9k60zBDlT\n",
      "New: Easy-to-read versions of CDC guidance about #COVID19 vaccines are available. Learn about how vaccines are safe… https://t.co/FVUGO5fT7R\n",
      "No one wants to share a tent with ticks. Before camping, hiking, or just playing outdoors, make preventing tick bit… https://t.co/OUzJNyDqF1\n",
      "#HCP: CDC supported a special issue of Academic Pediatrics. Learn about evidence-based practices that can help you… https://t.co/4O7SyKEIAO\n",
      "By mid-April 2021, nearly 80% of people 65 years &amp; older received at least one dose of #COVID19 vaccine. Counties w… https://t.co/hEdiG0VYaW\n",
      "The Advisory Committee on Immunization Practices is meeting on May 12, 2021 to discuss a recommendation for the use… https://t.co/0BkrTmEo1j\n",
      "New #fellowship opportunity: Presidential Innovation Fellows are based in Atlanta, GA. Fellow projects include work… https://t.co/m9X8HDm8Hn\n",
      "If you’re fully vaccinated against #COVID19, you can start getting back to some of the things you stopped doing bec… https://t.co/fDJpobxVVq\n",
      "#COVID19 vaccines are safe and effective.\n",
      "\n",
      "As of May 10, more than 152 million people in the United States had rece… https://t.co/zUaPqlxS1q\n",
      "Opioid use during pregnancy can affect women and their babies. This National Alcohol and Other Drug-Related Birth D… https://t.co/9EMEVt95ep\n",
      "Schools give youth a sense of belonging, which is critical to protecting their mental health. Learn more about yout… https://t.co/FDCPQDuhko\n",
      "Technology lets pathologists like CDC’s Joy Gary look at specimens even when not in the office. Joy uses a camera e… https://t.co/L5a0sC4Pdp\n",
      "If you live with someone who is or was recently pregnant, help protect them by making sure you also take steps to p… https://t.co/oYJ8h5yRkS\n",
      "CDC and experts around the world are working to learn more about post-COVID conditions, who gets them, and why. The… https://t.co/ChgnWroMuL\n",
      "Post-COVID conditions are symptoms that last weeks or months after you’ve had #COVID19. If you think you have a pos… https://t.co/FqEY7c2mYT\n",
      "#HCPs: Improving childhood vaccination rates is a collective effort. Watch neonatologist Dr. Shetal Shah describe h… https://t.co/ph8OZU2WQA\n",
      "This National Women’s Health Week serves a as reminder to check in with your doctor to be sure you’re up to date on… https://t.co/aCJMVn0Gzx\n",
      "Celebrate the mother-to-be in your life by taking steps to protect them from #COVID19. Wear a mask. Stay 6 feet awa… https://t.co/PJK8WUx0w1\n",
      "Happy #MothersDay! Today is the start of National Women's Health Week. Encourage the women in your life to make the… https://t.co/EYSa6In3o3\n",
      "The Puerto Rican community faces unique &amp; terrible challenges that have worsened with COVID-19. For help with addre… https://t.co/bd0RNIWiVN\n",
      "E-cigarette aerosol can contain harmful substances that can be inhaled deep into the lungs. Learn more:… https://t.co/up3x529K7y\n",
      "Aaron has thalassemia and requires frequent blood transfusions. In this 2019 video, he shares what it’s like during… https://t.co/Bwo3LHpX0n\n",
      "At the start of 2021, people 65+ were more than half of all #COVID19-associated hospitalizations. They now make up… https://t.co/jEHmiQ4aye\n",
      "2/10 Americans experience #ChronicPain. Sometimes #opioids are prescribed as part of a treatment plan, but they can… https://t.co/alivq9IMZC\n",
      "Subscribe to get CDC’s COVID Data Tracker Weekly Review sent to your inbox every Friday: https://t.co/m5w5IKMJIv.\n",
      "Following a rapid rise in #COVID19 vaccination rates, we are now seeing U.S. vaccination progress slow. Everyone 16… https://t.co/9tDmXxGnms\n",
      "If you are not fully vaccinated for #COVID19, celebrate with people who live with you, have a virtual meal with fam… https://t.co/OYfChLxWZX\n",
      "We know Mother’s Day is a special time &amp; it can be hard to celebrate during #COVID19. Fully vaccinated people can g… https://t.co/LQJRIYHaq9\n",
      "CDC #DiseaseDetectives in the Epidemic Intelligence Service respond to health threats around the globe. Attend our… https://t.co/wH5KHXY5h7\n",
      "Join @CDCDirector Dr. Rochelle Walensky &amp; Jennifer Garner today for a talk about #COVID19 vaccines and why they are… https://t.co/cOdz90lgtR\n",
      "May 7 is National Children’s Mental Health Awareness Day. DYK? Following a disaster, children may experience long-l… https://t.co/wBFrWd9QWB\n",
      "Join @CDCDirector Dr. Rochelle Walensky &amp; Jennifer Garner this Friday for a talk about #COVID19 vaccines and why th… https://t.co/ey6OWZQIdG\n",
      "RT @CDCInjury: Join @CDCInjury to discuss breakthroughs with some of the greatest minds at the 5th Int'l Vatican Conference, now - May 8! T…\n",
      "As of May 3, national forecasts predict 1,900–5,600 new #COVID19 hospitalizations will likely be reported on May 31… https://t.co/PEe431LIx0\n",
      "As of May 3, national forecasts predict 1,400–5,500 new #COVID19 deaths will be reported during the week ending May… https://t.co/BSTtPeumlq\n",
      "As of May 3, national forecasts predict 114,000–473,000 new #COVID19 cases will likely be reported during the week… https://t.co/cfzQN5gbG6\n",
      "Help ensure your community knows about lifesaving COVID-19 preventive measures, including the vaccines. For help wi… https://t.co/u8uz01qluy\n",
      "Some people with disabilities might be at higher risk for getting very sick from #COVID19. Get a COVID-19 #vaccine… https://t.co/lUBatRPKZp\n",
      "🧪 CDC’s Science Update has peer-reviewed and non-peer-reviewed (preprint) articles to help you learn more about… https://t.co/l5w6oukhqt\n",
      "Taking care of yourself also means taking time for yourself – and small efforts can make a big impact. Take 10-15 m… https://t.co/OzvzdCLHJg\n",
      "Are you a healthcare provider seeing pregnant people or new parents? Stay up to date with the latest information on… https://t.co/tyTr5PlbDD\n",
      "RT @CDCGlobal: As part of a whole-of-government response to the recent #COVID19 surge in India, CDC is providing life-saving resources, eme…\n",
      "RT @CDCGlobal: CDC has delivered 500 oxygen cylinders &amp; is collaborating with India’s experts in laboratory, surveillance &amp; epidemiology, e…\n",
      "Nurses: For all the long nights and hard days, we thank you for protecting your patients and saving lives with… https://t.co/xpRaV04aDP\n",
      "RT @CMSGov: Protected nursing home staff means protected residents and a protected community. Learn why these #CommunityChampions got the #…\n",
      "Rates of #COVID19 are decreasing, but cases remain high in parts of the U.S. The 7-day average of new daily cases d… https://t.co/sMvS2Yqg1r\n",
      "🧪 COVID-19 Science Update:\n",
      "\n",
      "Read the latest research on the impact of #COVID19 on farmworkers, the risk of post-tra… https://t.co/yVjwm9pbWB\n",
      "CDC has posted new technical instructions for conducting simulated passenger voyages as a part of the Conditional S… https://t.co/QCejpBim2i\n",
      "RT @CDCHealthEquity: Join @MinorityHealth, @NatlParkService, and @WhiteHouseAAPI on May 8 at 2 pm ET for “Past and Present: Addressing Raci…\n",
      "A #COVID19 vaccine will help protect you from getting COVID-19. Side effects after your second shot may be more int… https://t.co/DNXxzTZHdw\n",
      "RT @CDC_NCEZID: It’s World #HandHygiene Day! @CDC_Firstline has an episode of Inside Infection Control all about the importance of hand hyg…\n",
      "A new @CDCMMWR details how Colorado state public health officials expanded a program to track variants after identi… https://t.co/zUlL9TF70l\n",
      "Every minute counts when a #stroke happens. Calling 9-1-1 right away can help you or a loved one get the lifesaving… https://t.co/tnDJeAEYVT\n",
      "New @CDCMMWR details the B.1.526 variant (first identified in NYC) of the virus that causes #COVID19. Early evidenc… https://t.co/uAm1ijeNCu\n",
      "RT @CDCMMWR: New, free CE from MMWR &amp; Medscape. US vaccination data indicate 4 out of 10 #pregnant women didn’t get a #flushot during flu s…\n",
      "With high levels of #COVID19 vaccination &amp; moderate use of preventive measures like wearing masks &amp; maintaining 6ft… https://t.co/nGw1RfgNQY\n",
      "RT @CDCEnvironment: Today is #AsthmaAwarenessDay. If you have #asthma, talk with your doctor about your asthma treatment goals and how to a…\n",
      "#DiseaseDetectives in CDC’s Laboratory Leadership Service lead cutting-edge #PublicHealth projects inside and outsi… https://t.co/ztFy2o7fjK\n",
      "Stay on top of global #COVID19 vaccination progress using CDC’s COVID Data Tracker. The new Global Vaccinations tab… https://t.co/zW03LSwLAo\n",
      "RT @CDCEnvironment: This Air Quality Awareness Week be air aware! Check the Air Quality Index (AQI) at https://t.co/VpVsYMchgZ and adjust y…\n",
      "Almost everyone in the U.S. now lives within 5 miles of a #COVID19 vaccination site. \n",
      "\n",
      "Now that it's easier than ev… https://t.co/TCxQ2iW78w\n",
      "#HCPs: In this #HowIRecommend video, pediatrician Dr. Tolu Adebanjo explains how to improve childhood vaccine recom… https://t.co/iycBsTzE8H\n",
      "CDC’s Peggy Honein was on the front line with state health departments to slow the spread of #COVID19 &amp; made sure t… https://t.co/0shUjuOjV8\n",
      "When talking with friends and family about #COVID19 vaccines, it can be helpful to ask open-ended questions to expl… https://t.co/FlVhu5d5cx\n",
      "RT @CDC_NCEZID: World #HandHygiene Day is May 5. Cleaning your hands with alcohol-based hand sanitizer or soap and water is a simple yet ef…\n",
      "RT @CDCEnvironment: May is #AsthmaAwarenessMonth! If you have #asthma, know your triggers and learn how to avoid them. Find #asthma facts h…\n",
      "RT @USAGov: You don't have to struggle with your mental health alone. Follow @USAGov this #MentalHealthAwarenessMonth for practical tools t…\n",
      "#COVID19 vaccines can help us get back to doing the things we love.\n",
      "\n",
      "As of May 3, more than 147 million people in t… https://t.co/zijTKvhyya\n"
     ]
    },
    {
     "name": "stdout",
     "output_type": "stream",
     "text": [
      "Congratulations to CDC’s Principal Deputy Director Anne Schuchat, MD (RADM, USPHS, RET) on being named a finalist i… https://t.co/tT8UJXMs3u\n",
      "School Administrators: Employees can reduce the risk of getting #COVID19 while preparing or serving meals. Clean fr… https://t.co/1V5Y9fwX1p\n",
      "New @JAMA_current study reviews US cases of CVST with thrombocytopenia after J&amp;J #COVID19 vaccination. CDC recommen… https://t.co/p9W8XcoXry\n",
      "#HCPs: Are your patients asking about the Johnson &amp; Johnson #COVID19 vaccine?\n",
      "\n",
      "New tools are available to help you… https://t.co/mAs8VRX5qm\n",
      ".@ONDCP &amp; @CDCInjury #DrugFreeCommunity coalitions help prevent youth substance use by implementing evidence-based… https://t.co/dTgUfeKY42\n",
      "Since life has been anything but routine lately, here’s a friendly reminder to make sure that routinely recommended… https://t.co/wzPuOyHQiM\n",
      "It’s #NationalPetWeek! 🐱🐶🐦 During the pandemic, pets have given us comfort and companionship. Take steps to keep yo… https://t.co/JnPTwU1SX6\n",
      "Today @MinSanteRDC and @WHO announced the end of the #Ebola outbreak in the Democratic Republic of the Congo. CDC w… https://t.co/powhOQuP75\n",
      "The COVID-19 vaccines are here! For help spreading the word about the safe and effective vaccines with older adults… https://t.co/0liHLRD1D8\n",
      "Are you a recent recipient of a doctoral degree? CDC is recruiting global health experts for its new postdoctoral f… https://t.co/VkKY1acAry\n",
      "May is Hepatitis Awareness Month! A month to raise awareness, learn the ABC’s of viral #hepatitis and talk with you… https://t.co/KnClsNjfo2\n",
      "To encourage the nurses you know to get vaccinated against COVID-19, get the Nurses Toolkit at… https://t.co/y4buFw8Ixl\n",
      "May is Lyme Disease Awareness Month. #DYK Lyme disease is the most common tickborne disease in the United States? L… https://t.co/7iCSASeqQ2\n",
      "Following health and safety measures that protect against #COVID19 helped reduce severe illness from March-October… https://t.co/tFgswWoZeh\n",
      "Subscribe to get CDC’s COVID Data Tracker Weekly Review sent to your inbox every Friday: https://t.co/m5w5IKMJIv.\n",
      "CDC monitors #COVID19 cases, deaths, variants, &amp; vaccinations worldwide. If you’re traveling, make sure you underst… https://t.co/tblnaccGtp\n",
      "#COVID19 vaccines are an important tool to stop this pandemic. Millions of people in the U.S. have been safely vacc… https://t.co/yVuK932MHn\n",
      "Parents: Youth and summer camp enrollment is near. To slow the spread of #COVID19, encourage kids to #WearAMask tha… https://t.co/dNAnY14XA7\n",
      "A new @CDCMMWR details a safety review of Johnson and Johnson’s Janssen #COVID19 Vaccine. The review shows many peo… https://t.co/Zh9zjrQmCq\n",
      "Recipients should be observed on site for at least 15 minutes after any vaccination, including #COVID19 vaccination… https://t.co/wxkakLIyHI\n",
      "Findings in the new CDC MMWR show that #COVID19 vaccine safety monitoring systems are working as intended to detect… https://t.co/TDplrUOlEJ\n",
      "Fainting &amp; other anxiety-related events can occur after administration of any vaccine. A new @CDCMMWR shows that fa… https://t.co/85HStgSyBO\n",
      "RT @CDC_NCEZID: Stay healthy by making handwashing a regular part of your cooking routine. #Washyourhands to prevent spreading germs to you…\n",
      "As of April 26, national forecasts predict 2,100–8,700 new #COVID19 hospitalizations will likely be reported on May… https://t.co/IG8Ot3ltAA\n",
      "As of April 26, national forecasts predict 1,900–6,600 new #COVID19 deaths will be reported during the week ending… https://t.co/yyzUMhM52p\n",
      "As of April 26, national forecasts predict 158,000–601,000 new #COVID19 cases will likely be reported during the we… https://t.co/czh8ukhdtS\n",
      "Are you thinking about getting pregnant or are already pregnant and have sickle cell disease (SCD)? Learn how #SCD… https://t.co/WRddLPMkoq\n",
      "New @CDCMMWR finds Alaska #COVID19 prevention measures for the seafood processing industry, where workers often liv… https://t.co/3g9jezFQdw\n",
      "Do you have questions about Johnson &amp; Johnson’s Janssen #COVID19 Vaccine?\n",
      "\n",
      "You can learn more by talking with your… https://t.co/dlJJ1ixzBS\n",
      "New @CDCMMWR finds risk of #COVID19 was higher among farmworkers who worked mostly indoors in large groups than amo… https://t.co/YZ0qqwjm3G\n",
      "New @CDCMMWR describes first linked U.S. clusters of people infected with the B.1.351 variant of virus that causes… https://t.co/XfFPO2f5Gc\n",
      "RT @DrJudyMonroe: I had the pleasure of talking with @CDCDirector Dr. Rochelle Walensky for #AspenIdeasHealth. Check out my blog where I hi…\n",
      "This National Infant Immunization Week, make sure your little patients are on track with routinely recommended vacc… https://t.co/uC1Tz6qQN4\n",
      "Join millions of others in the U.S. and 💪 #SleeveUp for your #COVID19 vaccine, so we can all get back to seeing our… https://t.co/v7dz6q8ELe\n",
      "RT @WHNSC: The United States is delivering emergency COVID-19 supplies worth more than $100 million in the coming days to support our partn…\n",
      "#COVID19 rates are falling. The current 7-day average of new daily cases is 53,934, a 16% decrease from the previou… https://t.co/8xwigOqspk\n",
      "A CDC study found mRNA #COVID19 vaccines help keep you from getting COVID-19 under real-world conditions. Health ca… https://t.co/3ZW92GFRJs\n",
      "School systems &amp; local governments: Help families prepare for their child’s return to school. Remind them that chil… https://t.co/s0MsmPA3wn\n",
      "Did you know that, by the age of 2, routine vaccines help protect your child against 14 serious diseases? Check wit… https://t.co/5Ju8Qm7bPo\n",
      "Camp Staff: Slow the spread of #COVID19. Keep healthy camp environments &amp; operations. Get vaccinated as soon as you… https://t.co/adGpaF7wqH\n",
      "New @CDCMMWR has good news: mRNA COVID-19 vaccines (Pfizer-BioNTech, Moderna) reduced the risk of #COVID19-related… https://t.co/wiUKQkxWsD\n",
      "#HCPs: Are your patients asking about the Johnson &amp; Johnson #COVID19 vaccine?\n",
      "\n",
      "New tools are available to help you… https://t.co/PtL4CjeosE\n",
      "#DYK? CDC’s COVID Data Tracker allows you to compare trends in #COVID19 cases and deaths for up to 6 US states, ter… https://t.co/RmpcrvNDsy\n",
      "RT @CDCEnvironment: Join us in celebrating 20 years of restaurant food safety research by CDC’s Environmental Health Specialists Network! L…\n",
      "#COVID19 vaccines play a key role in ending the pandemic and helping us get back to normalcy. \n",
      "\n",
      "Millions of people… https://t.co/CmXThpBWIz\n",
      "This National Infant Immunization Week, help us spread the word that this year it’s more important than ever for ch… https://t.co/Nsrqh4Rd90\n",
      "People fully vaccinated against #COVID19 can participate in some indoor events safely, without much risk. Outdoor v… https://t.co/fQPWos3iQo\n",
      "When choosing safer activities, consider how #COVID19 is spreading in your community, the number of people particip… https://t.co/EXv38hzgFe\n",
      "If you are fully vaccinated against #COVID19, you can start doing many things that you had stopped doing because of… https://t.co/IAzFWjwAmE\n",
      "A new @CDCMMWR reaffirms the Advisory Committee on Immunization Practices (ACIP) recommended use of the Johnson &amp; J… https://t.co/BXBUh5bnQ0\n",
      "If you have recently traveled, attended a large social gathering, or been in a crowded indoor setting, consider get… https://t.co/S9F2FhGVYR\n",
      "#HCPs: Attend today’s COCA Call at 2pm EDT: Johnson &amp; Johnson/Janssen #COVID19 Vaccine and Thrombosis with Thromboc… https://t.co/kVrwK518K7\n",
      "Many families’ routines were disrupted this year because of #COVID19– including having regular checkups and receivi… https://t.co/ORjMyk9qfY\n",
      "#COVID19 vaccines are now more widely accessible.\n",
      "\n",
      "As of April 26, more than 140 million people in the United State… https://t.co/SsGfWGoOwj\n",
      "Thank you to healthcare providers and frontline workers across the country for taking extra steps to care for child… https://t.co/cs4eldm5Cd\n",
      "Turning 16 means you can get your license AND your #COVID19 vaccination. Everyone 16 years and older is now eligibl… https://t.co/tukJhRT5kJ\n",
      "#CDCTips is looking for stories about the health effects of smoking on former smokers and their loved ones who take… https://t.co/PyW6kVDEqr\n",
      "#HCPs: Want to know more about Johnson &amp; Johnson/Janssen #COVID19 Vaccine and Thrombosis with Thrombocytopenia Synd… https://t.co/x19WMbvpyr\n",
      "RT @CDCGlobal: The #polio program delivers more than just the polio vaccine. Polio health workers also respond to #malaria, #Ebola, #measle…\n",
      "April 28 is International Noise Awareness Day. Loud noise can be the volume of noise coming through your earbuds or… https://t.co/7A1fBq5wHY\n",
      "DYK? If you have symptoms or have been exposed to someone with #COVID19, you can get tested for free. \n",
      "\n",
      "To find a f… https://t.co/GieGwKO03V\n",
      "Join today’s CDC #COVID19 Partner Update Call at 3:00 pm EDT, “Keeping up With Critical Diabetes Care and Preventio… https://t.co/1zapbj3AL6\n",
      "This National Infant Immunization Week, it’s more important than ever to help protect children from vaccine-prevent… https://t.co/4HIkFZmUVk\n",
      "Did you know 1 in 6 children has a developmental delay or disability? \n",
      "\n",
      "If you are concerned about your child’s dev… https://t.co/vZuR3m9Qk4\n",
      "Cancer doesn’t wait, and neither should you. Take care of your health with routine cancer screenings. Talk to your… https://t.co/LYpU7e4WWA\n",
      "Doctoral-level healthcare professionals, scientists, and nurses: Put your knowledge to work as a CDC… https://t.co/IELEvJDTB4\n",
      "Do your part. #WearAMask 😷 &amp; #SlowTheSpread of #COVID19. Make sure your mask fits snugly against the sides of your… https://t.co/CaWtj3PAks\n",
      "Disruptions from #COVID19 mean too many children have fallen behind on routine vaccinations. Join us for National I… https://t.co/yuspHEnfJZ\n",
      "Meningitis is a diagnosis no parent ever wants to hear. Thankfully, vaccines can prevent infections from some types… https://t.co/5Js7QRH3th\n",
      "CDC and @US_FDA lift recommended pause on Johnson &amp; Johnson (Janssen) #COVID19 vaccine use following thorough safet… https://t.co/CK5yThtvXn\n",
      "Subscribe to get CDC’s COVID Data Tracker Weekly Review sent to your inbox every Friday: https://t.co/m5w5IKMJIv.\n",
      "As of April 22, 2021, more than one-third of people in the U.S. 18+ are fully vaccinated. Now, all people 16+ are e… https://t.co/2c7XuCVpbv\n",
      "As more people get #COVID19 vaccinations, recent COVID-NET data show adults over 65 years now make up less than a t… https://t.co/GTEOdMDGHU\n",
      "#WeCanDoThis! By getting vaccinated against #COVID19 as soon as we can, we bring our nation one step closer to stop… https://t.co/xETEJOZCXL\n",
      "CDC has classified SARS-CoV-2 variant B.1.526.1 as a variant of interest. Some treatments for #COVID19 have shown t… https://t.co/YV9Z2ro7Bo\n",
      "SALMONELLA OUTBREAK: Do not eat, sell, or serve recalled Jule’s Foods products with any expiration date: cashew bri… https://t.co/9RTljbbkcA\n",
      "In a new @CDCMMWR, possible COVID-19-related symptom visits were common 1-6 months after diagnosis among adults wit… https://t.co/8iqeT7ItGe\n",
      "CDC’s Laboratory Leadership Service trains PhD scientists to serve as #DiseaseDetectives in the field and in… https://t.co/aRpxqAWghn\n",
      "As of April 19, national forecasts predict 2,200–8,200 new #COVID19 hospitalizations will likely be reported on May… https://t.co/15V2Pdhnh1\n",
      "As of April 19, national forecasts predict 2,100–8,800 new #COVID19 deaths will be reported during the week ending… https://t.co/HEAIuhV40a\n",
      "As of April 19, national forecasts predict 249,000–724,000 new #COVID19 cases will likely be reported during the we… https://t.co/V8G8kkBDgQ\n",
      "The Advisory Committee on Immunization Practices (ACIP) plays a role in vaccine safety monitoring, including… https://t.co/0THgyzTq3i\n",
      "School administrators: CDC has released updated guidance that can help in planning for and implementing #COVID19 ca… https://t.co/CcIxtoMbil\n",
      "If you have symptoms of COVID-19 or if you could have been exposed to someone with #COVID19, consider getting teste… https://t.co/dcjGYk4IFX\n",
      "A new @CDCMMWR finds nearly 400 #COVID19 cases occurred among incarcerated people at Idaho correctional facilities… https://t.co/JkQuCqKAM6\n",
      "Alaska’s testing and quarantine requirements for air travelers, started in June 2020, may have limited #COVID19 bro… https://t.co/4YdCOGNU0t\n",
      "RT @CDCMMWR: New, free CE from MMWR &amp; Medscape. Adults with disabilities reported frequent #mentaldistress almost 5 times as often as adult…\n",
      "Nearly 60% of U.S. states and territories are reporting high rates of #COVID19. Help slow the spread in your commun… https://t.co/vS1siFtAm0\n",
      "#DYK? The Federal Retail Pharmacy Program partners with retail pharmacies to expand #COVID19 vaccination at communi… https://t.co/DOCubpy1mH\n",
      "🧪 COVID-19 Science Update:\n",
      "\n",
      "Read the latest #COVID19 research on school reopening strategies, spread of virus durin… https://t.co/Vn7BWsuy2r\n",
      "Join CDC’s #COVID19 Partner Update Call Monday, April 26, at 3:00 pm EDT, for more information on #diabetes care an… https://t.co/IKQuT3kyRm\n",
      "If you are fully vaccinated against #COVID19, you can start doing some things again, like gathering indoors with ot… https://t.co/am9b8v3B1v\n",
      "Did your preteen or teen miss getting their routine meningococcal vaccination? Now is the time to catch them up! Do… https://t.co/9LztnPdXJP\n",
      "A new @CDCMMWR looking at #COVID19 in a Kentucky skilled nursing facility finds vaccination was 87% effective in pr… https://t.co/wWwz9At25b\n",
      "A new @CDCMMWR found #COVID19 vaccination was effective in Chicago skilled nursing facilities. Among vaccinated res… https://t.co/ZMYMd8nHSE\n",
      "#DYK? CDC’s COVID Data Tracker includes demographic information about people who have received a #COVID19 vaccine.… https://t.co/OBSiwPaos8\n",
      "DYK? If you have symptoms or have been exposed to someone with #COVID19, you can get tested for free nationwide.\n",
      "\n",
      "T… https://t.co/gYKP7lVeQ8\n",
      "Health Departments: You play an important role in teaching your community about #COVID19 vaccines.  \n",
      " \n",
      "CDC's new to… https://t.co/mA7NQ05pXP\n",
      "If you are fully vaccinated against #COVID19, you can observe #Ramadan safely with other fully vaccinated people wi… https://t.co/zBSBYU8L61\n",
      "CDC’s Commander Erin Sauber-Schatz shares how student athletes &amp; everyone else can slow the spread of #COVID19:… https://t.co/doKFBKxIJD\n",
      "Traveling to a national park for National Park Week? Check Travel Planner for COVID-19-related guidance for your de… https://t.co/qEQuIcxA4l\n",
      "As of April 13, there have been no reports to VAERS of people having blood clots with low platelets after Pfizer-Bi… https://t.co/NLNeEShMlf\n",
      "CDC takes all issues reported after vaccination seriously. Reports to VAERS quickly revealed a few cases of blood c… https://t.co/AhsbgC4paS\n",
      "The recent pause on Johnson &amp; Johnson’s #COVID19 Vaccine shows that safety monitoring systems, like the Vaccine Adv… https://t.co/YcsNNwh5Q8\n",
      "RT @ACLgov: Apr. 21: @WHCOVIDResponse &amp; @CDCgov virtual forum: Breaking Down Barriers for People Who Have Challenges Accessing #COVID19 Vac…\n",
      "#COVID19 vaccines are a safe way to build protection.\n",
      "\n",
      "As of April 19, more than 132.3 million people in the United… https://t.co/Dpblbg1Qbk\n",
      "Youth sports administrators &amp; coaches: CDC has a toolkit to protect teams &amp; players and communicate with your commu… https://t.co/nLwyI2uGqc\n",
      "Has your child received a diagnosis of acute flaccid myelitis? To get answers about what to expect &amp; what questions… https://t.co/WNNzI7xVuy\n",
      "CDC has new recommendations for participants at adult day care &amp; their caregivers. Protect yourself &amp; others from… https://t.co/cXHix1JzoV\n",
      "While Johnson &amp; Johnson’s #COVID19 Vaccine remains paused, you can still get the Pfizer-BioNTech or Moderna vaccine… https://t.co/NXFlSfSxPs\n",
      "#DYK CDC works with state, territorial, local, and tribal public health experts to provide #COVID19 solutions to ad… https://t.co/TIYIetDXpy\n",
      "RT @CDCDirector: As of today, all people age 16 and up are eligible for a #COVID19 vaccine. We have real-world data that the COVID-19 vacci…\n",
      "RT @CDCDirector: We’re in a complicated stage of the pandemic. Ppl are being vaccinated at an accelerated pace, yet #COVID19 cases &amp; hospit…\n",
      "RT @CDCDirector: Getting the #COVID19 vaccine is so much more than a vaccination- it’s a step towards protecting yourself, your loved ones,…\n",
      "Join today’s CDC #COVID19 Partner Update Call at 3:00 pm EDT, “When to Clean, When to Disinfect, and What Science S… https://t.co/q9UtpTBjfA\n",
      "If you need to use public transportation, take steps to protect yourself and others from #COVID19. Stay up-to-date… https://t.co/jtVHHO95pL\n",
      "It’s Medical Laboratory Professionals Week! Celebrate and thank laboratory professionals for their hard work, dedic… https://t.co/rHt8vlaQYE\n",
      "CDC’s Commander Erin Sauber-Schatz shares how watching people take steps to prevent #COVID19 inspires her. Do your… https://t.co/FdDG44bBnK\n",
      "Talk with your children and co-parent about the importance of healthy behaviors, like wearing a mask and staying 6… https://t.co/o2POSWBydv\n",
      "Deblina Datta says #COVID19 causes more illness than nearly any other disease she knows. “When I expect this virus… https://t.co/w3YyiuZdmn\n",
      "Subscribe to get CDC’s COVID Data Tracker Weekly Review sent to your inbox every Friday: https://t.co/m5w5IKMJIv.\n",
      "Despite more Americans being vaccinated every day, #COVID19 cases and hospitalizations are increasing in some parts… https://t.co/YC8zIxEgYl\n",
      "Based on COVID-NET data in recent weeks, rates of #COVID19 hospitalizations in adults ages 50–64 have risen faster… https://t.co/1KwfjPVOAo\n",
      "#DYK? Risk for severe illness from #COVID19 increases with age, with older adults at highest risk. Help older adult… https://t.co/Eb1iyYiHKC\n",
      "RT @CDC_HIVAIDS: 1 in 5 people in the U.S. had a sexually transmitted infection on any given day in 2018. For STD Awareness Week (April 11-…\n",
      "RT @CDC_AMD: The White House announced $1.7 billion investment through @CDCgov to increase genomic surveillance of SARS-CoV-2. #COVID19 #AM…\n",
      "As #COVID19 vaccines roll out, cities are working to make sure people at higher risk for severe illness are getting… https://t.co/Kw1HQTk1Pr\n",
      "#DYK? Older adults are at high risk of getting seriously ill with #COVID19. To help protect them, older adults, the… https://t.co/9BwMugCBlY\n",
      "#HCPs: In this #HowIRecommend video, certified medical assistant Virginia Chambers describes why a unified approach… https://t.co/13eHXQ8N8F\n",
      "#HPV causes up to 70% of oropharyngeal cancers. This #OralCancerAwarenessMonth, help protect your preteen by making… https://t.co/K16PzLJYNA\n",
      "#Nurses: CDC and Medscape are answering your 5 most common questions about #COVID19 vaccines. \n",
      "\n",
      "Feel confident in y… https://t.co/50FWFLp7vL\n",
      "As of April 12, national forecasts predict 2,500–9,300 new #COVID19 hospitalizations will likely be reported on May… https://t.co/zwC9Y7njH2\n",
      "As of April 12, national forecasts predict 2,500–10,500 new #COVID19 deaths will be reported during the week ending… https://t.co/ty1quqPxMg\n",
      "As of April 12, national forecasts predict 264,000–850,000 new #COVID19 cases will likely be reported during the we… https://t.co/x6kZpn89g2\n",
      "SALMONELLA OUTBREAK UPDATE: 31 sick, 9 hospitalized, 1 death. Turtles can carry Salmonella germs even if they look… https://t.co/awVT9TkUiE\n",
      "A new @CDCMMWR on US emergency department visits during #COVID19 finds a larger proportion of emergency department… https://t.co/6MFRSguRec\n",
      "RT @CDC_HIVAIDS: New data from CDC’s NHBS-Trans report can help assess #HIV risk, access to care and treatment, and the use of prevention e…\n",
      "A new @CDCMMWR shows that over half a million more people in the U.S. died than expected during late January 2020 t… https://t.co/zahLO9IKTV\n",
      "A new @CDCMMWR #COVID19 Stats shows that the percentage of overall emergency department visits in the United States… https://t.co/BgoP5G8snH\n",
      "#HCPs: Attend today’s COCA Call: Johnson &amp; Johnson/Janssen COVID-19 Vaccine and Cerebral Venous Sinus Thrombosis wi… https://t.co/jYB256eKMj\n",
      "We know pausing use of the J&amp;J/Janssen #COVID19 Vaccine is concerning, especially for those who recently got this v… https://t.co/6dh5gA0xLm\n",
      "RT @CDC_NCEZID: #DYK most dog bites in kids occur during everyday activities &amp; while interacting with familiar dogs? Teach kids how to inte…\n",
      "If you are scheduled to get the J&amp;J/Janssen #COVID19 vaccine, please work with your vaccination provider to resched… https://t.co/ZsGeepkpji\n",
      "If you got the J&amp;J/Janssen #COVID19 Vaccine in the last 3 weeks, seek urgent medical care if you develop symptoms l… https://t.co/8NDfDSB1ip\n",
      "#COVID19 vaccine safety systems like the Vaccine Adverse Event Reporting System (VAERS) are working. This potential… https://t.co/k0YzFDCiiV\n",
      "The Advisory Committee on Immunization Practices (ACIP) is reviewing the reported J&amp;J/Janssen #COVID19 Vaccine adve… https://t.co/eT9xZJNdr1\n",
      "Of nearly 7 million doses of J&amp;J/Janssen #COVID19 Vaccine given in the US, a small number of cases of a rare &amp; seve… https://t.co/8zeszR7nEQ\n",
      "#COVID19 cases have been on the rise since March 20. The current 7-day moving average of daily new cases is 69,953,… https://t.co/12BduvfjXh\n",
      "🧪 COVID-19 Science Update:\n",
      "\n",
      "Read the latest #COVID19 research on the use of air cleaners to reduce spread of the vi… https://t.co/8yWB07ybNb\n",
      "RT @CDCDirector: We still encourage you to get a vaccine when one is available to you. Pfizer &amp; Moderna vaccines still being administered.…\n",
      "RT @CDCDirector: I know pausing administration of the Johnson &amp; Johnson #COVID19 vaccine has led to questions, esp. for those who recently…\n",
      "Join CDC’s #COVID19 Partner Update Call Monday, April 19, at 3:00 pm EDT, for more information on the science of SA… https://t.co/uJjKN1JA6k\n",
      "The number of babies born with #syphilis has nearly quadrupled since 2015, with a total of 1,870 cases and 128 deat… https://t.co/kdouFPyjvt\n",
      "HCPs: If you are working at a #COVID19 vaccination site, protect yourself from needlestick injuries while administe… https://t.co/QZroP6yFPy\n",
      "Conditions in the places where people live, learn, work, play, and worship can affect health risks and outcomes. Le… https://t.co/F2a3p7tbOf\n",
      "A new @CDCMMWR finds leaving the middle seat vacant on airplanes could reduce exposure to #COVID19 infections up to… https://t.co/6jonvbq6Zn\n",
      "New: Track #COVID19 variants across the globe on CDC’s COVID Data Tracker. Understanding variants and their spread… https://t.co/sviVVOmVB7\n",
      "RT @CDC_eHealth: Check out the latest on climate and health and learn how to protect your community. Join CDC’s Environmental Health Nexus…\n",
      "#Antibiotics aren’t always the answer. Antibiotics are needed only to treat certain infections caused by bacteria,… https://t.co/B3qla3Nk3S\n",
      "NEW: Reported #STDs in the U.S. reach an all-time high for the 6th consecutive year ➡️ https://t.co/KGX4vrYN7x.… https://t.co/uNGotG3BFh\n",
      "#WearAMask to prevent getting and spreading #COVID19. If you use a disposable mask, the knot and tuck method can he… https://t.co/0ZdDDk42hp\n",
      "The safest way to observe #Ramadan &amp; protect yourself &amp; others from #COVID19 is to celebrate with people you live w… https://t.co/BIeU3dUtwR\n",
      "RT @US_FDA: Please join us via YouTube for an audio press conference at 10 a.m. EDT. We will keep the public updated as we learn more. http…\n",
      "CDC and FDA reviewing data involving six reported U.S. cases of a rare type of blood clot in individuals after rece… https://t.co/emE0HFCIBU\n",
      "SALMONELLA OUTBREAK: 28 sick with 2 hospitalized. Check your freezer for ground turkey products dated 1/1/21 to 1/1… https://t.co/7MKxPjratC\n",
      "#COVID19 vaccines are safe and effective.\n",
      "\n",
      "As of April 12, almost 121 million people in the United States had recei… https://t.co/BRnQ4yIqnT\n",
      "Take a virtual tour of CDC’s #ClimateAndHealth Program’s 10th anniversary display at the David J. Sencer CDC Museum… https://t.co/WmlFk8eoLB\n",
      "RT @CDC_NCEZID: #DYK you should wash your hands before and after handling raw meat or chicken? Handwashing after handling meat will remove…\n",
      "Watch: CDC’s Commander Erin Sauber-Schatz discusses the importance of staying active as a way to cope during… https://t.co/JAjRaV4Slh\n",
      "Mask mandates, along with other prevention measures, can help prevent #COVID19 and could especially benefit essenti… https://t.co/IEvuMyV6Qs\n",
      "DYK? #COVID19 vaccines are safe and effective. After you are fully vaccinated, you can start to do some things you… https://t.co/yeypOetgiP\n",
      "Some racial and ethnic minority groups are at greater risk of getting sick, having more severe illness, and dying f… https://t.co/5Oto2WpO6q\n",
      "Want to learn how you can be reimbursed at #Medicare rates for delivering #COVID19 care to the uninsured? Register… https://t.co/5VbYKSDU9r\n",
      "New @CDCMMWR findings show why it’s important to prioritize prevention resources, including COVID-19 vaccination, t… https://t.co/8wXgpyN7L8\n",
      "A new @CDCMMWR shows some racial/ethnic minority groups were more likely to receive emergency department care for… https://t.co/fbJmNnveko\n"
     ]
    }
   ],
   "source": [
    "for tweet in tweepy.Cursor(api.home_timeline, count = 175).items(350):\n",
    "    print(tweet.text)"
   ]
  },
  {
   "cell_type": "markdown",
   "metadata": {},
   "source": [
    "## Followers\n",
    "\n",
    "You can also get information about a user, such as who their followers are.\n",
    "\n",
    "Here's information about me and some of my followers."
   ]
  },
  {
   "cell_type": "code",
   "execution_count": 137,
   "metadata": {
    "scrolled": true
   },
   "outputs": [
    {
     "name": "stdout",
     "output_type": "stream",
     "text": [
      "jdfoote has 795 followers.\n",
      "They include these 100 people:\n"
     ]
    },
    {
     "ename": "TweepError",
     "evalue": "Not authorized.",
     "output_type": "error",
     "traceback": [
      "\u001b[1;31m---------------------------------------------------------------------------\u001b[0m",
      "\u001b[1;31mTweepError\u001b[0m                                Traceback (most recent call last)",
      "\u001b[1;32m<ipython-input-137-a4b62b7bbbcb>\u001b[0m in \u001b[0;36m<module>\u001b[1;34m\u001b[0m\n\u001b[0;32m      5\u001b[0m \u001b[0mprint\u001b[0m\u001b[1;33m(\u001b[0m\u001b[1;34m\"They include these 100 people:\"\u001b[0m\u001b[1;33m)\u001b[0m\u001b[1;33m\u001b[0m\u001b[1;33m\u001b[0m\u001b[0m\n\u001b[0;32m      6\u001b[0m \u001b[1;33m\u001b[0m\u001b[0m\n\u001b[1;32m----> 7\u001b[1;33m \u001b[1;32mfor\u001b[0m \u001b[0mfollower\u001b[0m \u001b[1;32min\u001b[0m \u001b[0muser\u001b[0m\u001b[1;33m.\u001b[0m\u001b[0mfollowers\u001b[0m\u001b[1;33m(\u001b[0m\u001b[0mcount\u001b[0m\u001b[1;33m=\u001b[0m\u001b[1;36m100\u001b[0m\u001b[1;33m)\u001b[0m\u001b[1;33m:\u001b[0m\u001b[1;33m\u001b[0m\u001b[1;33m\u001b[0m\u001b[0m\n\u001b[0m\u001b[0;32m      8\u001b[0m     \u001b[0mprint\u001b[0m\u001b[1;33m(\u001b[0m\u001b[0mfollower\u001b[0m\u001b[1;33m.\u001b[0m\u001b[0mscreen_name\u001b[0m\u001b[1;33m)\u001b[0m\u001b[1;33m\u001b[0m\u001b[1;33m\u001b[0m\u001b[0m\n",
      "\u001b[1;32mE:\\Anaconda\\lib\\site-packages\\tweepy\\models.py\u001b[0m in \u001b[0;36mfollowers\u001b[1;34m(self, **kwargs)\u001b[0m\n\u001b[0;32m    186\u001b[0m \u001b[1;33m\u001b[0m\u001b[0m\n\u001b[0;32m    187\u001b[0m     \u001b[1;32mdef\u001b[0m \u001b[0mfollowers\u001b[0m\u001b[1;33m(\u001b[0m\u001b[0mself\u001b[0m\u001b[1;33m,\u001b[0m \u001b[1;33m**\u001b[0m\u001b[0mkwargs\u001b[0m\u001b[1;33m)\u001b[0m\u001b[1;33m:\u001b[0m\u001b[1;33m\u001b[0m\u001b[1;33m\u001b[0m\u001b[0m\n\u001b[1;32m--> 188\u001b[1;33m         \u001b[1;32mreturn\u001b[0m \u001b[0mself\u001b[0m\u001b[1;33m.\u001b[0m\u001b[0m_api\u001b[0m\u001b[1;33m.\u001b[0m\u001b[0mfollowers\u001b[0m\u001b[1;33m(\u001b[0m\u001b[0muser_id\u001b[0m\u001b[1;33m=\u001b[0m\u001b[0mself\u001b[0m\u001b[1;33m.\u001b[0m\u001b[0mid\u001b[0m\u001b[1;33m,\u001b[0m \u001b[1;33m**\u001b[0m\u001b[0mkwargs\u001b[0m\u001b[1;33m)\u001b[0m\u001b[1;33m\u001b[0m\u001b[1;33m\u001b[0m\u001b[0m\n\u001b[0m\u001b[0;32m    189\u001b[0m \u001b[1;33m\u001b[0m\u001b[0m\n\u001b[0;32m    190\u001b[0m     \u001b[1;32mdef\u001b[0m \u001b[0mfollow\u001b[0m\u001b[1;33m(\u001b[0m\u001b[0mself\u001b[0m\u001b[1;33m)\u001b[0m\u001b[1;33m:\u001b[0m\u001b[1;33m\u001b[0m\u001b[1;33m\u001b[0m\u001b[0m\n",
      "\u001b[1;32mE:\\Anaconda\\lib\\site-packages\\tweepy\\binder.py\u001b[0m in \u001b[0;36m_call\u001b[1;34m(*args, **kwargs)\u001b[0m\n\u001b[0;32m    251\u001b[0m                 \u001b[1;32mreturn\u001b[0m \u001b[0mmethod\u001b[0m\u001b[1;33m\u001b[0m\u001b[1;33m\u001b[0m\u001b[0m\n\u001b[0;32m    252\u001b[0m             \u001b[1;32melse\u001b[0m\u001b[1;33m:\u001b[0m\u001b[1;33m\u001b[0m\u001b[1;33m\u001b[0m\u001b[0m\n\u001b[1;32m--> 253\u001b[1;33m                 \u001b[1;32mreturn\u001b[0m \u001b[0mmethod\u001b[0m\u001b[1;33m.\u001b[0m\u001b[0mexecute\u001b[0m\u001b[1;33m(\u001b[0m\u001b[1;33m)\u001b[0m\u001b[1;33m\u001b[0m\u001b[1;33m\u001b[0m\u001b[0m\n\u001b[0m\u001b[0;32m    254\u001b[0m         \u001b[1;32mfinally\u001b[0m\u001b[1;33m:\u001b[0m\u001b[1;33m\u001b[0m\u001b[1;33m\u001b[0m\u001b[0m\n\u001b[0;32m    255\u001b[0m             \u001b[0mmethod\u001b[0m\u001b[1;33m.\u001b[0m\u001b[0msession\u001b[0m\u001b[1;33m.\u001b[0m\u001b[0mclose\u001b[0m\u001b[1;33m(\u001b[0m\u001b[1;33m)\u001b[0m\u001b[1;33m\u001b[0m\u001b[1;33m\u001b[0m\u001b[0m\n",
      "\u001b[1;32mE:\\Anaconda\\lib\\site-packages\\tweepy\\binder.py\u001b[0m in \u001b[0;36mexecute\u001b[1;34m(self)\u001b[0m\n\u001b[0;32m    232\u001b[0m                     \u001b[1;32mraise\u001b[0m \u001b[0mRateLimitError\u001b[0m\u001b[1;33m(\u001b[0m\u001b[0merror_msg\u001b[0m\u001b[1;33m,\u001b[0m \u001b[0mresp\u001b[0m\u001b[1;33m)\u001b[0m\u001b[1;33m\u001b[0m\u001b[1;33m\u001b[0m\u001b[0m\n\u001b[0;32m    233\u001b[0m                 \u001b[1;32melse\u001b[0m\u001b[1;33m:\u001b[0m\u001b[1;33m\u001b[0m\u001b[1;33m\u001b[0m\u001b[0m\n\u001b[1;32m--> 234\u001b[1;33m                     \u001b[1;32mraise\u001b[0m \u001b[0mTweepError\u001b[0m\u001b[1;33m(\u001b[0m\u001b[0merror_msg\u001b[0m\u001b[1;33m,\u001b[0m \u001b[0mresp\u001b[0m\u001b[1;33m,\u001b[0m \u001b[0mapi_code\u001b[0m\u001b[1;33m=\u001b[0m\u001b[0mapi_error_code\u001b[0m\u001b[1;33m)\u001b[0m\u001b[1;33m\u001b[0m\u001b[1;33m\u001b[0m\u001b[0m\n\u001b[0m\u001b[0;32m    235\u001b[0m \u001b[1;33m\u001b[0m\u001b[0m\n\u001b[0;32m    236\u001b[0m             \u001b[1;31m# Parse the response payload\u001b[0m\u001b[1;33m\u001b[0m\u001b[1;33m\u001b[0m\u001b[1;33m\u001b[0m\u001b[0m\n",
      "\u001b[1;31mTweepError\u001b[0m: Not authorized."
     ]
    }
   ],
   "source": [
    "user = api.get_user('jdfoote')\n",
    "\n",
    "print(user.screen_name + \" has \" + str(user.followers_count) + \" followers.\")\n",
    "\n",
    "print(\"They include these 100 people:\")\n",
    "\n",
    "for follower in user.followers(count=100):\n",
    "    print(follower.screen_name)"
   ]
  },
  {
   "cell_type": "markdown",
   "metadata": {},
   "source": [
    "Here is what that user object looks like for my user"
   ]
  },
  {
   "cell_type": "code",
   "execution_count": 7,
   "metadata": {
    "scrolled": true
   },
   "outputs": [
    {
     "data": {
      "text/plain": [
       "{'id': 16614440,\n",
       " 'id_str': '16614440',\n",
       " 'name': 'Jeremy Foote',\n",
       " 'screen_name': 'jdfoote',\n",
       " 'location': 'West Lafayette, IN, USA',\n",
       " 'profile_location': None,\n",
       " 'description': 'Assistant Prof of Communication at #Purdue. Computational social scientist: online organizations, collective decision making. @comdatasci member. Dad.',\n",
       " 'url': 'https://t.co/vovAhYeNah',\n",
       " 'entities': {'url': {'urls': [{'url': 'https://t.co/vovAhYeNah',\n",
       "     'expanded_url': 'http://jeremydfoote.com',\n",
       "     'display_url': 'jeremydfoote.com',\n",
       "     'indices': [0, 23]}]},\n",
       "  'description': {'urls': []}},\n",
       " 'protected': True,\n",
       " 'followers_count': 796,\n",
       " 'friends_count': 1041,\n",
       " 'listed_count': 22,\n",
       " 'created_at': 'Mon Oct 06 14:43:31 +0000 2008',\n",
       " 'favourites_count': 5259,\n",
       " 'utc_offset': None,\n",
       " 'time_zone': None,\n",
       " 'geo_enabled': True,\n",
       " 'verified': False,\n",
       " 'statuses_count': 2836,\n",
       " 'lang': None,\n",
       " 'contributors_enabled': False,\n",
       " 'is_translator': False,\n",
       " 'is_translation_enabled': False,\n",
       " 'profile_background_color': '000000',\n",
       " 'profile_background_image_url': 'http://abs.twimg.com/images/themes/theme15/bg.png',\n",
       " 'profile_background_image_url_https': 'https://abs.twimg.com/images/themes/theme15/bg.png',\n",
       " 'profile_background_tile': False,\n",
       " 'profile_image_url': 'http://pbs.twimg.com/profile_images/716806382532427776/e9HW_HC3_normal.jpg',\n",
       " 'profile_image_url_https': 'https://pbs.twimg.com/profile_images/716806382532427776/e9HW_HC3_normal.jpg',\n",
       " 'profile_banner_url': 'https://pbs.twimg.com/profile_banners/16614440/1484240201',\n",
       " 'profile_link_color': '4E2A84',\n",
       " 'profile_sidebar_border_color': '000000',\n",
       " 'profile_sidebar_fill_color': '000000',\n",
       " 'profile_text_color': '000000',\n",
       " 'profile_use_background_image': False,\n",
       " 'has_extended_profile': True,\n",
       " 'default_profile': False,\n",
       " 'default_profile_image': False,\n",
       " 'following': False,\n",
       " 'follow_request_sent': False,\n",
       " 'notifications': False,\n",
       " 'translator_type': 'regular',\n",
       " 'withheld_in_countries': []}"
      ]
     },
     "execution_count": 7,
     "metadata": {},
     "output_type": "execute_result"
    }
   ],
   "source": [
    "user._json"
   ]
  },
  {
   "cell_type": "markdown",
   "metadata": {},
   "source": [
    "And here's the user object for one of my followers, which is nearly identical."
   ]
  },
  {
   "cell_type": "code",
   "execution_count": 8,
   "metadata": {},
   "outputs": [
    {
     "ename": "NameError",
     "evalue": "name 'follower' is not defined",
     "output_type": "error",
     "traceback": [
      "\u001b[1;31m---------------------------------------------------------------------------\u001b[0m",
      "\u001b[1;31mNameError\u001b[0m                                 Traceback (most recent call last)",
      "\u001b[1;32m<ipython-input-8-e43aff1a8162>\u001b[0m in \u001b[0;36m<module>\u001b[1;34m\u001b[0m\n\u001b[1;32m----> 1\u001b[1;33m \u001b[0mfollower\u001b[0m\u001b[1;33m.\u001b[0m\u001b[0m_json\u001b[0m\u001b[1;33m\u001b[0m\u001b[1;33m\u001b[0m\u001b[0m\n\u001b[0m",
      "\u001b[1;31mNameError\u001b[0m: name 'follower' is not defined"
     ]
    }
   ],
   "source": [
    "follower._json"
   ]
  },
  {
   "cell_type": "markdown",
   "metadata": {},
   "source": [
    "Note that 200 is the maximum number of followers that you can get at one time. If you want to get information about all of a user's followers, you will need to use a cursor. If you are getting many followers, you will almost certainly hit rate limits."
   ]
  },
  {
   "cell_type": "code",
   "execution_count": 9,
   "metadata": {
    "scrolled": true
   },
   "outputs": [
    {
     "ename": "TweepError",
     "evalue": "Not authorized.",
     "output_type": "error",
     "traceback": [
      "\u001b[1;31m---------------------------------------------------------------------------\u001b[0m",
      "\u001b[1;31mTweepError\u001b[0m                                Traceback (most recent call last)",
      "\u001b[1;32m<ipython-input-9-a1a40ca7c744>\u001b[0m in \u001b[0;36m<module>\u001b[1;34m\u001b[0m\n\u001b[0;32m      1\u001b[0m \u001b[0mf\u001b[0m \u001b[1;33m=\u001b[0m \u001b[1;33m[\u001b[0m\u001b[1;33m]\u001b[0m\u001b[1;33m\u001b[0m\u001b[1;33m\u001b[0m\u001b[0m\n\u001b[1;32m----> 2\u001b[1;33m \u001b[1;32mfor\u001b[0m \u001b[0mfollower\u001b[0m \u001b[1;32min\u001b[0m \u001b[0mtweepy\u001b[0m\u001b[1;33m.\u001b[0m\u001b[0mCursor\u001b[0m\u001b[1;33m(\u001b[0m\u001b[0mapi\u001b[0m\u001b[1;33m.\u001b[0m\u001b[0mfollowers\u001b[0m\u001b[1;33m,\u001b[0m \u001b[0mscreen_name\u001b[0m\u001b[1;33m=\u001b[0m\u001b[1;34m'jdfoote'\u001b[0m\u001b[1;33m,\u001b[0m \u001b[0mcount\u001b[0m\u001b[1;33m=\u001b[0m\u001b[1;36m200\u001b[0m\u001b[1;33m)\u001b[0m\u001b[1;33m.\u001b[0m\u001b[0mitems\u001b[0m\u001b[1;33m(\u001b[0m\u001b[1;33m)\u001b[0m\u001b[1;33m:\u001b[0m\u001b[1;33m\u001b[0m\u001b[1;33m\u001b[0m\u001b[0m\n\u001b[0m\u001b[0;32m      3\u001b[0m     \u001b[1;31m#print(follower.screen_name)\u001b[0m\u001b[1;33m\u001b[0m\u001b[1;33m\u001b[0m\u001b[1;33m\u001b[0m\u001b[0m\n\u001b[0;32m      4\u001b[0m     \u001b[0mf\u001b[0m\u001b[1;33m.\u001b[0m\u001b[0mappend\u001b[0m\u001b[1;33m(\u001b[0m\u001b[0mfollower\u001b[0m\u001b[1;33m.\u001b[0m\u001b[0mscreen_name\u001b[0m\u001b[1;33m)\u001b[0m\u001b[1;33m\u001b[0m\u001b[1;33m\u001b[0m\u001b[0m\n",
      "\u001b[1;32mE:\\Anaconda\\lib\\site-packages\\tweepy\\cursor.py\u001b[0m in \u001b[0;36m__next__\u001b[1;34m(self)\u001b[0m\n\u001b[0;32m     49\u001b[0m \u001b[1;33m\u001b[0m\u001b[0m\n\u001b[0;32m     50\u001b[0m     \u001b[1;32mdef\u001b[0m \u001b[0m__next__\u001b[0m\u001b[1;33m(\u001b[0m\u001b[0mself\u001b[0m\u001b[1;33m)\u001b[0m\u001b[1;33m:\u001b[0m\u001b[1;33m\u001b[0m\u001b[1;33m\u001b[0m\u001b[0m\n\u001b[1;32m---> 51\u001b[1;33m         \u001b[1;32mreturn\u001b[0m \u001b[0mself\u001b[0m\u001b[1;33m.\u001b[0m\u001b[0mnext\u001b[0m\u001b[1;33m(\u001b[0m\u001b[1;33m)\u001b[0m\u001b[1;33m\u001b[0m\u001b[1;33m\u001b[0m\u001b[0m\n\u001b[0m\u001b[0;32m     52\u001b[0m \u001b[1;33m\u001b[0m\u001b[0m\n\u001b[0;32m     53\u001b[0m     \u001b[1;32mdef\u001b[0m \u001b[0mnext\u001b[0m\u001b[1;33m(\u001b[0m\u001b[0mself\u001b[0m\u001b[1;33m)\u001b[0m\u001b[1;33m:\u001b[0m\u001b[1;33m\u001b[0m\u001b[1;33m\u001b[0m\u001b[0m\n",
      "\u001b[1;32mE:\\Anaconda\\lib\\site-packages\\tweepy\\cursor.py\u001b[0m in \u001b[0;36mnext\u001b[1;34m(self)\u001b[0m\n\u001b[0;32m    241\u001b[0m         \u001b[1;32mif\u001b[0m \u001b[0mself\u001b[0m\u001b[1;33m.\u001b[0m\u001b[0mcurrent_page\u001b[0m \u001b[1;32mis\u001b[0m \u001b[1;32mNone\u001b[0m \u001b[1;32mor\u001b[0m \u001b[0mself\u001b[0m\u001b[1;33m.\u001b[0m\u001b[0mpage_index\u001b[0m \u001b[1;33m==\u001b[0m \u001b[0mlen\u001b[0m\u001b[1;33m(\u001b[0m\u001b[0mself\u001b[0m\u001b[1;33m.\u001b[0m\u001b[0mcurrent_page\u001b[0m\u001b[1;33m)\u001b[0m \u001b[1;33m-\u001b[0m \u001b[1;36m1\u001b[0m\u001b[1;33m:\u001b[0m\u001b[1;33m\u001b[0m\u001b[1;33m\u001b[0m\u001b[0m\n\u001b[0;32m    242\u001b[0m             \u001b[1;31m# Reached end of current page, get the next page...\u001b[0m\u001b[1;33m\u001b[0m\u001b[1;33m\u001b[0m\u001b[1;33m\u001b[0m\u001b[0m\n\u001b[1;32m--> 243\u001b[1;33m             \u001b[0mself\u001b[0m\u001b[1;33m.\u001b[0m\u001b[0mcurrent_page\u001b[0m \u001b[1;33m=\u001b[0m \u001b[0mself\u001b[0m\u001b[1;33m.\u001b[0m\u001b[0mpage_iterator\u001b[0m\u001b[1;33m.\u001b[0m\u001b[0mnext\u001b[0m\u001b[1;33m(\u001b[0m\u001b[1;33m)\u001b[0m\u001b[1;33m\u001b[0m\u001b[1;33m\u001b[0m\u001b[0m\n\u001b[0m\u001b[0;32m    244\u001b[0m             \u001b[1;32mwhile\u001b[0m \u001b[0mlen\u001b[0m\u001b[1;33m(\u001b[0m\u001b[0mself\u001b[0m\u001b[1;33m.\u001b[0m\u001b[0mcurrent_page\u001b[0m\u001b[1;33m)\u001b[0m \u001b[1;33m==\u001b[0m \u001b[1;36m0\u001b[0m\u001b[1;33m:\u001b[0m\u001b[1;33m\u001b[0m\u001b[1;33m\u001b[0m\u001b[0m\n\u001b[0;32m    245\u001b[0m                 \u001b[0mself\u001b[0m\u001b[1;33m.\u001b[0m\u001b[0mcurrent_page\u001b[0m \u001b[1;33m=\u001b[0m \u001b[0mself\u001b[0m\u001b[1;33m.\u001b[0m\u001b[0mpage_iterator\u001b[0m\u001b[1;33m.\u001b[0m\u001b[0mnext\u001b[0m\u001b[1;33m(\u001b[0m\u001b[1;33m)\u001b[0m\u001b[1;33m\u001b[0m\u001b[1;33m\u001b[0m\u001b[0m\n",
      "\u001b[1;32mE:\\Anaconda\\lib\\site-packages\\tweepy\\cursor.py\u001b[0m in \u001b[0;36mnext\u001b[1;34m(self)\u001b[0m\n\u001b[0;32m     73\u001b[0m         \u001b[1;32mif\u001b[0m \u001b[0mself\u001b[0m\u001b[1;33m.\u001b[0m\u001b[0mnext_cursor\u001b[0m \u001b[1;33m==\u001b[0m \u001b[1;36m0\u001b[0m \u001b[1;32mor\u001b[0m \u001b[1;33m(\u001b[0m\u001b[0mself\u001b[0m\u001b[1;33m.\u001b[0m\u001b[0mlimit\u001b[0m \u001b[1;32mand\u001b[0m \u001b[0mself\u001b[0m\u001b[1;33m.\u001b[0m\u001b[0mnum_tweets\u001b[0m \u001b[1;33m==\u001b[0m \u001b[0mself\u001b[0m\u001b[1;33m.\u001b[0m\u001b[0mlimit\u001b[0m\u001b[1;33m)\u001b[0m\u001b[1;33m:\u001b[0m\u001b[1;33m\u001b[0m\u001b[1;33m\u001b[0m\u001b[0m\n\u001b[0;32m     74\u001b[0m             \u001b[1;32mraise\u001b[0m \u001b[0mStopIteration\u001b[0m\u001b[1;33m\u001b[0m\u001b[1;33m\u001b[0m\u001b[0m\n\u001b[1;32m---> 75\u001b[1;33m         data, cursors = self.method(cursor=self.next_cursor,\n\u001b[0m\u001b[0;32m     76\u001b[0m                                     \u001b[1;33m*\u001b[0m\u001b[0mself\u001b[0m\u001b[1;33m.\u001b[0m\u001b[0margs\u001b[0m\u001b[1;33m,\u001b[0m\u001b[1;33m\u001b[0m\u001b[1;33m\u001b[0m\u001b[0m\n\u001b[0;32m     77\u001b[0m                                     **self.kwargs)\n",
      "\u001b[1;32mE:\\Anaconda\\lib\\site-packages\\tweepy\\binder.py\u001b[0m in \u001b[0;36m_call\u001b[1;34m(*args, **kwargs)\u001b[0m\n\u001b[0;32m    251\u001b[0m                 \u001b[1;32mreturn\u001b[0m \u001b[0mmethod\u001b[0m\u001b[1;33m\u001b[0m\u001b[1;33m\u001b[0m\u001b[0m\n\u001b[0;32m    252\u001b[0m             \u001b[1;32melse\u001b[0m\u001b[1;33m:\u001b[0m\u001b[1;33m\u001b[0m\u001b[1;33m\u001b[0m\u001b[0m\n\u001b[1;32m--> 253\u001b[1;33m                 \u001b[1;32mreturn\u001b[0m \u001b[0mmethod\u001b[0m\u001b[1;33m.\u001b[0m\u001b[0mexecute\u001b[0m\u001b[1;33m(\u001b[0m\u001b[1;33m)\u001b[0m\u001b[1;33m\u001b[0m\u001b[1;33m\u001b[0m\u001b[0m\n\u001b[0m\u001b[0;32m    254\u001b[0m         \u001b[1;32mfinally\u001b[0m\u001b[1;33m:\u001b[0m\u001b[1;33m\u001b[0m\u001b[1;33m\u001b[0m\u001b[0m\n\u001b[0;32m    255\u001b[0m             \u001b[0mmethod\u001b[0m\u001b[1;33m.\u001b[0m\u001b[0msession\u001b[0m\u001b[1;33m.\u001b[0m\u001b[0mclose\u001b[0m\u001b[1;33m(\u001b[0m\u001b[1;33m)\u001b[0m\u001b[1;33m\u001b[0m\u001b[1;33m\u001b[0m\u001b[0m\n",
      "\u001b[1;32mE:\\Anaconda\\lib\\site-packages\\tweepy\\binder.py\u001b[0m in \u001b[0;36mexecute\u001b[1;34m(self)\u001b[0m\n\u001b[0;32m    232\u001b[0m                     \u001b[1;32mraise\u001b[0m \u001b[0mRateLimitError\u001b[0m\u001b[1;33m(\u001b[0m\u001b[0merror_msg\u001b[0m\u001b[1;33m,\u001b[0m \u001b[0mresp\u001b[0m\u001b[1;33m)\u001b[0m\u001b[1;33m\u001b[0m\u001b[1;33m\u001b[0m\u001b[0m\n\u001b[0;32m    233\u001b[0m                 \u001b[1;32melse\u001b[0m\u001b[1;33m:\u001b[0m\u001b[1;33m\u001b[0m\u001b[1;33m\u001b[0m\u001b[0m\n\u001b[1;32m--> 234\u001b[1;33m                     \u001b[1;32mraise\u001b[0m \u001b[0mTweepError\u001b[0m\u001b[1;33m(\u001b[0m\u001b[0merror_msg\u001b[0m\u001b[1;33m,\u001b[0m \u001b[0mresp\u001b[0m\u001b[1;33m,\u001b[0m \u001b[0mapi_code\u001b[0m\u001b[1;33m=\u001b[0m\u001b[0mapi_error_code\u001b[0m\u001b[1;33m)\u001b[0m\u001b[1;33m\u001b[0m\u001b[1;33m\u001b[0m\u001b[0m\n\u001b[0m\u001b[0;32m    235\u001b[0m \u001b[1;33m\u001b[0m\u001b[0m\n\u001b[0;32m    236\u001b[0m             \u001b[1;31m# Parse the response payload\u001b[0m\u001b[1;33m\u001b[0m\u001b[1;33m\u001b[0m\u001b[1;33m\u001b[0m\u001b[0m\n",
      "\u001b[1;31mTweepError\u001b[0m: Not authorized."
     ]
    }
   ],
   "source": [
    "f = []\n",
    "for follower in tweepy.Cursor(api.followers, screen_name='jdfoote', count=200).items():\n",
    "    #print(follower.screen_name)\n",
    "    f.append(follower.screen_name)"
   ]
  },
  {
   "cell_type": "code",
   "execution_count": 10,
   "metadata": {
    "scrolled": true
   },
   "outputs": [
    {
     "name": "stdout",
     "output_type": "stream",
     "text": [
      "[]\n"
     ]
    }
   ],
   "source": [
    "print(f)"
   ]
  },
  {
   "cell_type": "markdown",
   "metadata": {},
   "source": [
    "## Searching\n",
    "\n",
    "For most of your research, you may be interested in how people are talking about a given topic. There are two main ways to do this.\n",
    "\n",
    "The first is the search API ([Official Twitter info on the Search API](https://developer.twitter.com/en/docs/tweets/search/overview)). We only have access to \"[Standard Search](https://developer.twitter.com/en/docs/tweets/search/overview/standard)\", the most limited of Twitter Search API options, which is limited to the last 7 days.\n",
    "\n",
    "\n",
    "[This page](https://developer.twitter.com/en/docs/tweets/search/api-reference/get-search-tweets) is the documentation for Standard Search and has some helpful intel about modifying the parameters.\n",
    "\n",
    "Below is a simple example that gets the last 20 tweets about data science."
   ]
  },
  {
   "cell_type": "code",
   "execution_count": 155,
   "metadata": {
    "scrolled": true
   },
   "outputs": [
    {
     "name": "stdout",
     "output_type": "stream",
     "text": [
      "RebelSkeptical\t2021-05-25 18:28:58\tRT @RealJoelSmalley: Had the privilege of reading a 187-slide analysis of vaccine-associated COVID mortality last night. The data analysis…\n",
      "pat_data_man\t2021-05-25 18:28:31\t@Jannico71 @Icarlossolrac @Doc_Box @Bos_M https://t.co/qqXBChvyhq\n",
      "Betere en actuelere onderzoeken dan deze zijn er momenteel niet.\n",
      "_ACDennis\t2021-05-25 18:28:31\tRT @sarambsimon: .@TheAtlantic picked up our @COVID19Tracking wrap-up, a summary of the systems that shaped the data. This post (and frankl…\n",
      "DocJQueen\t2021-05-25 18:28:23\tI’m speaking at the #SorensonImpactSummit May 25-27. Session topics include developing inclusive solutions in impac… https://t.co/2UKv7Ke84w\n",
      "raohackr\t2021-05-25 18:28:21\t@villi It’s a mix of a business &amp; science problem now - what L3 and easy city L4 can you launch and scale in to get… https://t.co/uA4Y6PJpZt\n",
      "OtterbeinSSCD\t2021-05-25 18:27:59\tData Science Career Panel - June 11, 2021 at 3-4pm ET\n",
      "This event is for students interested in learning more about… https://t.co/1m01mO6MfM\n",
      "Gandapur96\t2021-05-25 18:27:41\tRT @fchollet: Within 10-20 years, nearly every branch of science will be, for all intents and purposes, a branch of computer science.\n",
      "\n",
      "Comp…\n",
      "bazi1107\t2021-05-25 18:27:41\tRT @scientificaBW: 🧡liche Einladung zum Fachkurs \"Einstieg in #DataScience mit #R von Prof. Dr. Katja Wengler - taucht ein in die Welt der…\n",
      "cryptofahad\t2021-05-25 18:27:23\tIf anyone knows of any problems in #crypto/#DeFi/ #Blockchain, that can be solved using Deep Learning Algorithms/ D… https://t.co/JmhGgdqN2x\n",
      "SilmarwenMusic\t2021-05-25 18:26:57\tRT @RealJoelSmalley: Had the privilege of reading a 187-slide analysis of vaccine-associated COVID mortality last night. The data analysis…\n",
      "ShannonLogar\t2021-05-25 18:26:36\tRT @SportsJefe81: .@GovMurphy can you please explain the #science and #data behind making high school #students who take #gym class outdoor…\n",
      "waleed_thoughts\t2021-05-25 18:25:54\tتنقلاتي ما بين ال Data Science ك Analyst و ال AI و ال Machine learning خلتني مقتنع تماما إنو الناس دي عبرت عبور لا… https://t.co/KgP06SrgZf\n",
      "TLaimerPhys\t2021-05-25 18:25:51\tRT @upulie: How to doing science: PhD edition \n",
      "{\\__/}\n",
      "( • . •)\n",
      "/ &gt;📚   i did a read\n",
      "\n",
      "{\\__/}\n",
      "( • . •)\n",
      "/&gt; 📝 i design experiment\n",
      "\n",
      "{\\__/}\n",
      "( • .…\n",
      "DawnSmi79085369\t2021-05-25 18:25:37\tRT @RealJoelSmalley: Had the privilege of reading a 187-slide analysis of vaccine-associated COVID mortality last night. The data analysis…\n",
      "jackag76\t2021-05-25 18:25:25\t@SteveMcNY @NYGovCuomo FOIL the science and data. If he is governed by it NYS should have no problem producing it.\n",
      "evertonw\t2021-05-25 18:24:05\t@Deborahw37 @ClarkeMicah You may be right, but I doubt that is the main factor. I nice data science starts crunching we shall see.\n",
      "bexxmodd\t2021-05-25 18:23:58\tRT @saqibali_ca: How to Impress a #DataScience Hiring Manager : 5 Tips from Google , @instagram , &amp; Uber Data Scientists – SEASCareers | SE…\n",
      "saqibali_ca\t2021-05-25 18:23:52\tHow to Impress a #DataScience Hiring Manager : 5 Tips from Google , @instagram , &amp; Uber Data Scientists – SEASCaree… https://t.co/nFoGzYAHOH\n",
      "SuperScienceGrl\t2021-05-25 18:23:47\t@chemistrypoet Pretty sure I got taught no or very little data science OR chemoinformatics at undergrad too! 🙁\n",
      "fishymary\t2021-05-25 18:23:33\tRT @moveucsb: Interested in a postdoc position with MOVE?👉🏼Please send your CV + a cover letter (max 2 pages) to Dr. Dodge @smayadodge sdod…\n"
     ]
    }
   ],
   "source": [
    "public_tweets = api.search('data science', count=20)\n",
    "\n",
    "for tweet in public_tweets:\n",
    "    print(tweet.user.screen_name + \"\\t\" + str(tweet.created_at) + \"\\t\" + tweet.text)"
   ]
  },
  {
   "cell_type": "markdown",
   "metadata": {},
   "source": [
    "Note that many of these results are truncated. If you want the full tweet, you actually have to modify the call a little bit, like so."
   ]
  },
  {
   "cell_type": "code",
   "execution_count": 156,
   "metadata": {
    "scrolled": true
   },
   "outputs": [
    {
     "name": "stdout",
     "output_type": "stream",
     "text": [
      "DocJQueen\t2021-05-25 18:28:23\tI’m speaking at the #SorensonImpactSummit May 25-27. Session topics include developing inclusive solutions in impact investing, entrepreneurship, higher ed, and data science. JOIN US. Registration underwritten by this year's sponsors: https://t.co/idm4HcRn6N #movemountains\n",
      "OtterbeinSSCD\t2021-05-25 18:27:59\tData Science Career Panel - June 11, 2021 at 3-4pm ET\n",
      "This event is for students interested in learning more about exciting new data science careers, internships, and education opportunities from industry professionals, students and educators.\n",
      "https://t.co/Vzxnci8wHx https://t.co/ERyXpc9RZE\n",
      "bazi1107\t2021-05-25 18:27:41\tRT @scientificaBW: 🧡liche Einladung zum Fachkurs \"Einstieg in #DataScience mit #R von Prof. Dr. Katja Wengler - taucht ein in die Welt der…\n",
      "cryptofahad\t2021-05-25 18:27:23\tIf anyone knows of any problems in #crypto/#DeFi/ #Blockchain, that can be solved using Deep Learning Algorithms/ Data Science/ or in general A.I pls let me know. \n",
      "\n",
      "I am looking for something to BUIDL (BUILD)/ solve\n",
      "waleed_thoughts\t2021-05-25 18:25:54\tتنقلاتي ما بين ال Data Science ك Analyst و ال AI و ال Machine learning خلتني مقتنع تماما إنو الناس دي عبرت عبور لا يصدق الشركات العملاقه دي بقت تفتح كل مرة horizons جديدة و تتعمق فيها بصورة مرعبة جدا\n",
      "evertonw\t2021-05-25 18:24:05\t@Deborahw37 @ClarkeMicah You may be right, but I doubt that is the main factor. I nice data science starts crunching we shall see.\n",
      "bexxmodd\t2021-05-25 18:23:58\tRT @saqibali_ca: How to Impress a #DataScience Hiring Manager : 5 Tips from Google , @instagram , &amp; Uber Data Scientists – SEASCareers | SE…\n",
      "saqibali_ca\t2021-05-25 18:23:52\tHow to Impress a #DataScience Hiring Manager : 5 Tips from Google , @instagram , &amp; Uber Data Scientists – SEASCareers | SEAS Office of Career Services | @GWtweets  https://t.co/NaZth1x7jj H/T: @GWSEASCareers\n",
      "SuperScienceGrl\t2021-05-25 18:23:47\t@chemistrypoet Pretty sure I got taught no or very little data science OR chemoinformatics at undergrad too! 🙁\n",
      "fishymary\t2021-05-25 18:23:33\tRT @moveucsb: Interested in a postdoc position with MOVE?👉🏼Please send your CV + a cover letter (max 2 pages) to Dr. Dodge @smayadodge sdod…\n",
      "RachelWebDev\t2021-05-25 18:23:28\tInterested in #growth engineering topics such as user acquisition, onboarding, monetization, and data science?\n",
      "\n",
      "Join @airtable for an hour of lightning talks and special guest John Egan, Head of Growth Engineering @Pinterest, on Tuesday, June 15! \n",
      "\n",
      "RSVP https://t.co/Njl2bM5HHt https://t.co/9Qz20JyRjU\n",
      "SteveChacha5\t2021-05-25 18:23:24\tRT @ipfconline1: Top 10 #DataScience Topics and Areas\n",
      "\n",
      "https://t.co/yB0sdhJrpv v/ @learnandmakeit\n",
      "\n",
      "#AI #MachineLearning #Coding #DevOps #De…\n",
      "mitpress\t2021-05-25 18:23:13\tRT @LSEReviewBooks: 'For feminists who are trying to learn about feminism in the digital age, and how their own activism can contribute to…\n",
      "ADeorani\t2021-05-25 18:23:11\tRT @Intuit: Automation saves time and money. Learn how Intuit’s data science team built a Financial Document Understanding Platform that do…\n",
      "TrisalynNelson\t2021-05-25 18:22:30\tRT @moveucsb: Interested in a postdoc position with MOVE?👉🏼Please send your CV + a cover letter (max 2 pages) to Dr. Dodge @smayadodge sdod…\n",
      "iamtestr\t2021-05-25 18:22:17\t@Karl_Lauterbach Könnte man mit Staaten, die sehr viel Virussequenzierungen machen mit ein bisschen Machine Learning / Data Science nicht noch treffsichere Aussagen generieren?\n",
      "\n",
      "Wenn man da noch Beziehung zwischen Menschen reinbringt, dann sieht man empirisch welche Maßnahmen was bringen/brachten\n",
      "LauraBPalumbo\t2021-05-25 18:22:13\t@JenAnsbach @RULibraries So glad you liked them! Looking forward to another year with @SciNerdRobb teaching Data Science Basics, and Robert Palmere teaching Python!\n",
      "RapidMiner\t2021-05-25 18:22:11\tIntuitive &amp; sophisticated! #RapidMiner offers the perfect balance – an intuitive interface with a streamlined workflow, and a broad suite of sophisticated, underlying models &amp; data handling routines. Hear from a data and analytics professional in finance. https://t.co/dF2yniUKqf https://t.co/wBrl8LlHVj\n",
      "drakeballew\t2021-05-25 18:21:25\t@jwmares Not sure how the plan to teach “data science” without more advanced math would go. Maybe just a class on SQL?\n",
      "Parlasti_\t2021-05-25 18:21:06\t@jvizcarra1365 @modestomontoya Por ejemplo, con big data y data science podrías encontrar patrones de corrupción en movimientos bancarios\n"
     ]
    }
   ],
   "source": [
    "public_tweets = api.search('\"data science\"', count=20, tweet_mode='extended')\n",
    "\n",
    "for tweet in public_tweets:\n",
    "    print(tweet.user.screen_name + \"\\t\" + str(tweet.created_at) + \"\\t\" + tweet.full_text)"
   ]
  },
  {
   "cell_type": "code",
   "execution_count": 17,
   "metadata": {
    "scrolled": true
   },
   "outputs": [
    {
     "data": {
      "text/plain": [
       "<bound method Status.retweet of Status(_api=<tweepy.api.API object at 0x0000017C5567C280>, _json={'created_at': 'Mon May 24 23:26:39 +0000 2021', 'id': 1396970931327848456, 'id_str': '1396970931327848456', 'full_text': \"SEO seems to have eaten anything useful about building a data science strategy; what are folks liking nowadays for a high-level introduction to basic data concepts and why they're critical to success? Think data cleaning, point in time data, etc.\", 'truncated': False, 'display_text_range': [0, 246], 'entities': {'hashtags': [], 'symbols': [], 'user_mentions': [], 'urls': []}, 'metadata': {'iso_language_code': 'en', 'result_type': 'recent'}, 'source': '<a href=\"https://mobile.twitter.com\" rel=\"nofollow\">Twitter Web App</a>', 'in_reply_to_status_id': None, 'in_reply_to_status_id_str': None, 'in_reply_to_user_id': None, 'in_reply_to_user_id_str': None, 'in_reply_to_screen_name': None, 'user': {'id': 1713902882, 'id_str': '1713902882', 'name': 'James Meickle', 'screen_name': 'jmeickle', 'location': 'Malden, MA', 'description': 'devops, co-ops, and fuck cops - he/him 🏳️\\u200d🌈', 'url': 'https://t.co/72fAfX8RtP', 'entities': {'url': {'urls': [{'url': 'https://t.co/72fAfX8RtP', 'expanded_url': 'https://permadeath.com', 'display_url': 'permadeath.com', 'indices': [0, 23]}]}, 'description': {'urls': []}}, 'protected': False, 'followers_count': 1338, 'friends_count': 3000, 'listed_count': 72, 'created_at': 'Fri Aug 30 22:39:51 +0000 2013', 'favourites_count': 47207, 'utc_offset': None, 'time_zone': None, 'geo_enabled': True, 'verified': False, 'statuses_count': 17256, 'lang': None, 'contributors_enabled': False, 'is_translator': False, 'is_translation_enabled': False, 'profile_background_color': 'FFFFFF', 'profile_background_image_url': 'http://abs.twimg.com/images/themes/theme1/bg.png', 'profile_background_image_url_https': 'https://abs.twimg.com/images/themes/theme1/bg.png', 'profile_background_tile': True, 'profile_image_url': 'http://pbs.twimg.com/profile_images/1347916107609497600/op0lYMoD_normal.jpg', 'profile_image_url_https': 'https://pbs.twimg.com/profile_images/1347916107609497600/op0lYMoD_normal.jpg', 'profile_banner_url': 'https://pbs.twimg.com/profile_banners/1713902882/1595796406', 'profile_link_color': '000000', 'profile_sidebar_border_color': 'FFFFFF', 'profile_sidebar_fill_color': 'DDEEF6', 'profile_text_color': '333333', 'profile_use_background_image': True, 'has_extended_profile': True, 'default_profile': False, 'default_profile_image': False, 'following': False, 'follow_request_sent': False, 'notifications': False, 'translator_type': 'none', 'withheld_in_countries': []}, 'geo': None, 'coordinates': None, 'place': None, 'contributors': None, 'is_quote_status': False, 'retweet_count': 0, 'favorite_count': 0, 'favorited': False, 'retweeted': False, 'lang': 'en'}, created_at=datetime.datetime(2021, 5, 24, 23, 26, 39), id=1396970931327848456, id_str='1396970931327848456', full_text=\"SEO seems to have eaten anything useful about building a data science strategy; what are folks liking nowadays for a high-level introduction to basic data concepts and why they're critical to success? Think data cleaning, point in time data, etc.\", truncated=False, display_text_range=[0, 246], entities={'hashtags': [], 'symbols': [], 'user_mentions': [], 'urls': []}, metadata={'iso_language_code': 'en', 'result_type': 'recent'}, source='Twitter Web App', source_url='https://mobile.twitter.com', in_reply_to_status_id=None, in_reply_to_status_id_str=None, in_reply_to_user_id=None, in_reply_to_user_id_str=None, in_reply_to_screen_name=None, author=User(_api=<tweepy.api.API object at 0x0000017C5567C280>, _json={'id': 1713902882, 'id_str': '1713902882', 'name': 'James Meickle', 'screen_name': 'jmeickle', 'location': 'Malden, MA', 'description': 'devops, co-ops, and fuck cops - he/him 🏳️\\u200d🌈', 'url': 'https://t.co/72fAfX8RtP', 'entities': {'url': {'urls': [{'url': 'https://t.co/72fAfX8RtP', 'expanded_url': 'https://permadeath.com', 'display_url': 'permadeath.com', 'indices': [0, 23]}]}, 'description': {'urls': []}}, 'protected': False, 'followers_count': 1338, 'friends_count': 3000, 'listed_count': 72, 'created_at': 'Fri Aug 30 22:39:51 +0000 2013', 'favourites_count': 47207, 'utc_offset': None, 'time_zone': None, 'geo_enabled': True, 'verified': False, 'statuses_count': 17256, 'lang': None, 'contributors_enabled': False, 'is_translator': False, 'is_translation_enabled': False, 'profile_background_color': 'FFFFFF', 'profile_background_image_url': 'http://abs.twimg.com/images/themes/theme1/bg.png', 'profile_background_image_url_https': 'https://abs.twimg.com/images/themes/theme1/bg.png', 'profile_background_tile': True, 'profile_image_url': 'http://pbs.twimg.com/profile_images/1347916107609497600/op0lYMoD_normal.jpg', 'profile_image_url_https': 'https://pbs.twimg.com/profile_images/1347916107609497600/op0lYMoD_normal.jpg', 'profile_banner_url': 'https://pbs.twimg.com/profile_banners/1713902882/1595796406', 'profile_link_color': '000000', 'profile_sidebar_border_color': 'FFFFFF', 'profile_sidebar_fill_color': 'DDEEF6', 'profile_text_color': '333333', 'profile_use_background_image': True, 'has_extended_profile': True, 'default_profile': False, 'default_profile_image': False, 'following': False, 'follow_request_sent': False, 'notifications': False, 'translator_type': 'none', 'withheld_in_countries': []}, id=1713902882, id_str='1713902882', name='James Meickle', screen_name='jmeickle', location='Malden, MA', description='devops, co-ops, and fuck cops - he/him 🏳️\\u200d🌈', url='https://t.co/72fAfX8RtP', entities={'url': {'urls': [{'url': 'https://t.co/72fAfX8RtP', 'expanded_url': 'https://permadeath.com', 'display_url': 'permadeath.com', 'indices': [0, 23]}]}, 'description': {'urls': []}}, protected=False, followers_count=1338, friends_count=3000, listed_count=72, created_at=datetime.datetime(2013, 8, 30, 22, 39, 51), favourites_count=47207, utc_offset=None, time_zone=None, geo_enabled=True, verified=False, statuses_count=17256, lang=None, contributors_enabled=False, is_translator=False, is_translation_enabled=False, profile_background_color='FFFFFF', profile_background_image_url='http://abs.twimg.com/images/themes/theme1/bg.png', profile_background_image_url_https='https://abs.twimg.com/images/themes/theme1/bg.png', profile_background_tile=True, profile_image_url='http://pbs.twimg.com/profile_images/1347916107609497600/op0lYMoD_normal.jpg', profile_image_url_https='https://pbs.twimg.com/profile_images/1347916107609497600/op0lYMoD_normal.jpg', profile_banner_url='https://pbs.twimg.com/profile_banners/1713902882/1595796406', profile_link_color='000000', profile_sidebar_border_color='FFFFFF', profile_sidebar_fill_color='DDEEF6', profile_text_color='333333', profile_use_background_image=True, has_extended_profile=True, default_profile=False, default_profile_image=False, following=False, follow_request_sent=False, notifications=False, translator_type='none', withheld_in_countries=[]), user=User(_api=<tweepy.api.API object at 0x0000017C5567C280>, _json={'id': 1713902882, 'id_str': '1713902882', 'name': 'James Meickle', 'screen_name': 'jmeickle', 'location': 'Malden, MA', 'description': 'devops, co-ops, and fuck cops - he/him 🏳️\\u200d🌈', 'url': 'https://t.co/72fAfX8RtP', 'entities': {'url': {'urls': [{'url': 'https://t.co/72fAfX8RtP', 'expanded_url': 'https://permadeath.com', 'display_url': 'permadeath.com', 'indices': [0, 23]}]}, 'description': {'urls': []}}, 'protected': False, 'followers_count': 1338, 'friends_count': 3000, 'listed_count': 72, 'created_at': 'Fri Aug 30 22:39:51 +0000 2013', 'favourites_count': 47207, 'utc_offset': None, 'time_zone': None, 'geo_enabled': True, 'verified': False, 'statuses_count': 17256, 'lang': None, 'contributors_enabled': False, 'is_translator': False, 'is_translation_enabled': False, 'profile_background_color': 'FFFFFF', 'profile_background_image_url': 'http://abs.twimg.com/images/themes/theme1/bg.png', 'profile_background_image_url_https': 'https://abs.twimg.com/images/themes/theme1/bg.png', 'profile_background_tile': True, 'profile_image_url': 'http://pbs.twimg.com/profile_images/1347916107609497600/op0lYMoD_normal.jpg', 'profile_image_url_https': 'https://pbs.twimg.com/profile_images/1347916107609497600/op0lYMoD_normal.jpg', 'profile_banner_url': 'https://pbs.twimg.com/profile_banners/1713902882/1595796406', 'profile_link_color': '000000', 'profile_sidebar_border_color': 'FFFFFF', 'profile_sidebar_fill_color': 'DDEEF6', 'profile_text_color': '333333', 'profile_use_background_image': True, 'has_extended_profile': True, 'default_profile': False, 'default_profile_image': False, 'following': False, 'follow_request_sent': False, 'notifications': False, 'translator_type': 'none', 'withheld_in_countries': []}, id=1713902882, id_str='1713902882', name='James Meickle', screen_name='jmeickle', location='Malden, MA', description='devops, co-ops, and fuck cops - he/him 🏳️\\u200d🌈', url='https://t.co/72fAfX8RtP', entities={'url': {'urls': [{'url': 'https://t.co/72fAfX8RtP', 'expanded_url': 'https://permadeath.com', 'display_url': 'permadeath.com', 'indices': [0, 23]}]}, 'description': {'urls': []}}, protected=False, followers_count=1338, friends_count=3000, listed_count=72, created_at=datetime.datetime(2013, 8, 30, 22, 39, 51), favourites_count=47207, utc_offset=None, time_zone=None, geo_enabled=True, verified=False, statuses_count=17256, lang=None, contributors_enabled=False, is_translator=False, is_translation_enabled=False, profile_background_color='FFFFFF', profile_background_image_url='http://abs.twimg.com/images/themes/theme1/bg.png', profile_background_image_url_https='https://abs.twimg.com/images/themes/theme1/bg.png', profile_background_tile=True, profile_image_url='http://pbs.twimg.com/profile_images/1347916107609497600/op0lYMoD_normal.jpg', profile_image_url_https='https://pbs.twimg.com/profile_images/1347916107609497600/op0lYMoD_normal.jpg', profile_banner_url='https://pbs.twimg.com/profile_banners/1713902882/1595796406', profile_link_color='000000', profile_sidebar_border_color='FFFFFF', profile_sidebar_fill_color='DDEEF6', profile_text_color='333333', profile_use_background_image=True, has_extended_profile=True, default_profile=False, default_profile_image=False, following=False, follow_request_sent=False, notifications=False, translator_type='none', withheld_in_countries=[]), geo=None, coordinates=None, place=None, contributors=None, is_quote_status=False, retweet_count=0, favorite_count=0, favorited=False, retweeted=False, lang='en')>"
      ]
     },
     "execution_count": 17,
     "metadata": {},
     "output_type": "execute_result"
    }
   ],
   "source": [
    "tweet.retweet"
   ]
  },
  {
   "cell_type": "markdown",
   "metadata": {},
   "source": [
    "### Additional Search resources\n",
    "\n",
    "* [Tweepy extended tweets documentation](http://docs.tweepy.org/en/latest/extended_tweets.html)\n",
    "* [Twitter documentation for crafting queries](https://developer.twitter.com/en/docs/tweets/search/guides/standard-operators). This includes things like how to search by geography or remove retweets."
   ]
  },
  {
   "cell_type": "markdown",
   "metadata": {},
   "source": [
    "## Streaming\n",
    "\n",
    "The other option is to \"stream\" tweets. Instead of looking backward, this just keeps you connected to Twitter and whenever new tweets come in, they are sent to your program. You would typicaly just keep the program running and keep writing the data that you want to an external file.\n",
    "\n",
    "As with the search API, there are some caveats. One is that (I believe) there is no guarantee that this is all of the tweets that match. If you try to filter by very popular terms, then Twitter may give you only a sample of them."
   ]
  },
  {
   "cell_type": "code",
   "execution_count": 18,
   "metadata": {},
   "outputs": [
    {
     "name": "stdout",
     "output_type": "stream",
     "text": [
      "mikewichter\tRT @AssemblyCall: What a matchup. A combined 6 national titles between the two programs.\n",
      "GopherCrew\tMy Updated Preseason 2021-2022 Big Ten CBB Rankings:\n",
      "\n",
      "1. Michigan\n",
      "2. Purdue\n",
      "3. Ohio State\n",
      "4. Maryland\n",
      "5. Michigan S… https://t.co/5Rsdi3Q2UM\n"
     ]
    },
    {
     "ename": "KeyboardInterrupt",
     "evalue": "",
     "output_type": "error",
     "traceback": [
      "\u001b[1;31m---------------------------------------------------------------------------\u001b[0m",
      "\u001b[1;31mKeyboardInterrupt\u001b[0m                         Traceback (most recent call last)",
      "\u001b[1;32m<ipython-input-18-6235b091ec4a>\u001b[0m in \u001b[0;36m<module>\u001b[1;34m\u001b[0m\n\u001b[0;32m     11\u001b[0m \u001b[1;33m\u001b[0m\u001b[0m\n\u001b[0;32m     12\u001b[0m \u001b[0mkeywords\u001b[0m \u001b[1;33m=\u001b[0m \u001b[1;33m[\u001b[0m\u001b[1;34m'Purdue'\u001b[0m\u001b[1;33m,\u001b[0m \u001b[1;34m'\"data science\"'\u001b[0m\u001b[1;33m]\u001b[0m\u001b[1;33m\u001b[0m\u001b[1;33m\u001b[0m\u001b[0m\n\u001b[1;32m---> 13\u001b[1;33m \u001b[0mstreamer\u001b[0m\u001b[1;33m.\u001b[0m\u001b[0mfilter\u001b[0m\u001b[1;33m(\u001b[0m\u001b[0mtrack\u001b[0m \u001b[1;33m=\u001b[0m \u001b[0mkeywords\u001b[0m\u001b[1;33m)\u001b[0m\u001b[1;33m\u001b[0m\u001b[1;33m\u001b[0m\u001b[0m\n\u001b[0m",
      "\u001b[1;32mE:\\Anaconda\\lib\\site-packages\\tweepy\\streaming.py\u001b[0m in \u001b[0;36mfilter\u001b[1;34m(self, follow, track, is_async, locations, stall_warnings, languages, encoding, filter_level)\u001b[0m\n\u001b[0;32m    472\u001b[0m             \u001b[0mself\u001b[0m\u001b[1;33m.\u001b[0m\u001b[0mbody\u001b[0m\u001b[1;33m[\u001b[0m\u001b[1;34m'filter_level'\u001b[0m\u001b[1;33m]\u001b[0m \u001b[1;33m=\u001b[0m \u001b[0mfilter_level\u001b[0m\u001b[1;33m.\u001b[0m\u001b[0mencode\u001b[0m\u001b[1;33m(\u001b[0m\u001b[0mencoding\u001b[0m\u001b[1;33m)\u001b[0m\u001b[1;33m\u001b[0m\u001b[1;33m\u001b[0m\u001b[0m\n\u001b[0;32m    473\u001b[0m         \u001b[0mself\u001b[0m\u001b[1;33m.\u001b[0m\u001b[0msession\u001b[0m\u001b[1;33m.\u001b[0m\u001b[0mparams\u001b[0m \u001b[1;33m=\u001b[0m \u001b[1;33m{\u001b[0m\u001b[1;34m'delimited'\u001b[0m\u001b[1;33m:\u001b[0m \u001b[1;34m'length'\u001b[0m\u001b[1;33m}\u001b[0m\u001b[1;33m\u001b[0m\u001b[1;33m\u001b[0m\u001b[0m\n\u001b[1;32m--> 474\u001b[1;33m         \u001b[0mself\u001b[0m\u001b[1;33m.\u001b[0m\u001b[0m_start\u001b[0m\u001b[1;33m(\u001b[0m\u001b[0mis_async\u001b[0m\u001b[1;33m)\u001b[0m\u001b[1;33m\u001b[0m\u001b[1;33m\u001b[0m\u001b[0m\n\u001b[0m\u001b[0;32m    475\u001b[0m \u001b[1;33m\u001b[0m\u001b[0m\n\u001b[0;32m    476\u001b[0m     def sitestream(self, follow, stall_warnings=False,\n",
      "\u001b[1;32mE:\\Anaconda\\lib\\site-packages\\tweepy\\streaming.py\u001b[0m in \u001b[0;36m_start\u001b[1;34m(self, is_async)\u001b[0m\n\u001b[0;32m    387\u001b[0m             \u001b[0mself\u001b[0m\u001b[1;33m.\u001b[0m\u001b[0m_thread\u001b[0m\u001b[1;33m.\u001b[0m\u001b[0mstart\u001b[0m\u001b[1;33m(\u001b[0m\u001b[1;33m)\u001b[0m\u001b[1;33m\u001b[0m\u001b[1;33m\u001b[0m\u001b[0m\n\u001b[0;32m    388\u001b[0m         \u001b[1;32melse\u001b[0m\u001b[1;33m:\u001b[0m\u001b[1;33m\u001b[0m\u001b[1;33m\u001b[0m\u001b[0m\n\u001b[1;32m--> 389\u001b[1;33m             \u001b[0mself\u001b[0m\u001b[1;33m.\u001b[0m\u001b[0m_run\u001b[0m\u001b[1;33m(\u001b[0m\u001b[1;33m)\u001b[0m\u001b[1;33m\u001b[0m\u001b[1;33m\u001b[0m\u001b[0m\n\u001b[0m\u001b[0;32m    390\u001b[0m \u001b[1;33m\u001b[0m\u001b[0m\n\u001b[0;32m    391\u001b[0m     \u001b[1;32mdef\u001b[0m \u001b[0mon_closed\u001b[0m\u001b[1;33m(\u001b[0m\u001b[0mself\u001b[0m\u001b[1;33m,\u001b[0m \u001b[0mresp\u001b[0m\u001b[1;33m)\u001b[0m\u001b[1;33m:\u001b[0m\u001b[1;33m\u001b[0m\u001b[1;33m\u001b[0m\u001b[0m\n",
      "\u001b[1;32mE:\\Anaconda\\lib\\site-packages\\tweepy\\streaming.py\u001b[0m in \u001b[0;36m_run\u001b[1;34m(self)\u001b[0m\n\u001b[0;32m    287\u001b[0m                     \u001b[0mself\u001b[0m\u001b[1;33m.\u001b[0m\u001b[0msnooze_time\u001b[0m \u001b[1;33m=\u001b[0m \u001b[0mself\u001b[0m\u001b[1;33m.\u001b[0m\u001b[0msnooze_time_step\u001b[0m\u001b[1;33m\u001b[0m\u001b[1;33m\u001b[0m\u001b[0m\n\u001b[0;32m    288\u001b[0m                     \u001b[0mself\u001b[0m\u001b[1;33m.\u001b[0m\u001b[0mlistener\u001b[0m\u001b[1;33m.\u001b[0m\u001b[0mon_connect\u001b[0m\u001b[1;33m(\u001b[0m\u001b[1;33m)\u001b[0m\u001b[1;33m\u001b[0m\u001b[1;33m\u001b[0m\u001b[0m\n\u001b[1;32m--> 289\u001b[1;33m                     \u001b[0mself\u001b[0m\u001b[1;33m.\u001b[0m\u001b[0m_read_loop\u001b[0m\u001b[1;33m(\u001b[0m\u001b[0mresp\u001b[0m\u001b[1;33m)\u001b[0m\u001b[1;33m\u001b[0m\u001b[1;33m\u001b[0m\u001b[0m\n\u001b[0m\u001b[0;32m    290\u001b[0m             \u001b[1;32mexcept\u001b[0m \u001b[1;33m(\u001b[0m\u001b[0mTimeout\u001b[0m\u001b[1;33m,\u001b[0m \u001b[0mssl\u001b[0m\u001b[1;33m.\u001b[0m\u001b[0mSSLError\u001b[0m\u001b[1;33m)\u001b[0m \u001b[1;32mas\u001b[0m \u001b[0mexc\u001b[0m\u001b[1;33m:\u001b[0m\u001b[1;33m\u001b[0m\u001b[1;33m\u001b[0m\u001b[0m\n\u001b[0;32m    291\u001b[0m                 \u001b[1;31m# This is still necessary, as a SSLError can actually be\u001b[0m\u001b[1;33m\u001b[0m\u001b[1;33m\u001b[0m\u001b[1;33m\u001b[0m\u001b[0m\n",
      "\u001b[1;32mE:\\Anaconda\\lib\\site-packages\\tweepy\\streaming.py\u001b[0m in \u001b[0;36m_read_loop\u001b[1;34m(self, resp)\u001b[0m\n\u001b[0;32m    337\u001b[0m             \u001b[0mlength\u001b[0m \u001b[1;33m=\u001b[0m \u001b[1;36m0\u001b[0m\u001b[1;33m\u001b[0m\u001b[1;33m\u001b[0m\u001b[0m\n\u001b[0;32m    338\u001b[0m             \u001b[1;32mwhile\u001b[0m \u001b[1;32mnot\u001b[0m \u001b[0mresp\u001b[0m\u001b[1;33m.\u001b[0m\u001b[0mraw\u001b[0m\u001b[1;33m.\u001b[0m\u001b[0mclosed\u001b[0m\u001b[1;33m:\u001b[0m\u001b[1;33m\u001b[0m\u001b[1;33m\u001b[0m\u001b[0m\n\u001b[1;32m--> 339\u001b[1;33m                 \u001b[0mline\u001b[0m \u001b[1;33m=\u001b[0m \u001b[0mbuf\u001b[0m\u001b[1;33m.\u001b[0m\u001b[0mread_line\u001b[0m\u001b[1;33m(\u001b[0m\u001b[1;33m)\u001b[0m\u001b[1;33m\u001b[0m\u001b[1;33m\u001b[0m\u001b[0m\n\u001b[0m\u001b[0;32m    340\u001b[0m                 \u001b[0mstripped_line\u001b[0m \u001b[1;33m=\u001b[0m \u001b[0mline\u001b[0m\u001b[1;33m.\u001b[0m\u001b[0mstrip\u001b[0m\u001b[1;33m(\u001b[0m\u001b[1;33m)\u001b[0m \u001b[1;32mif\u001b[0m \u001b[0mline\u001b[0m \u001b[1;32melse\u001b[0m \u001b[0mline\u001b[0m \u001b[1;31m# line is sometimes None so we need to check here\u001b[0m\u001b[1;33m\u001b[0m\u001b[1;33m\u001b[0m\u001b[0m\n\u001b[0;32m    341\u001b[0m                 \u001b[1;32mif\u001b[0m \u001b[1;32mnot\u001b[0m \u001b[0mstripped_line\u001b[0m\u001b[1;33m:\u001b[0m\u001b[1;33m\u001b[0m\u001b[1;33m\u001b[0m\u001b[0m\n",
      "\u001b[1;32mE:\\Anaconda\\lib\\site-packages\\tweepy\\streaming.py\u001b[0m in \u001b[0;36mread_line\u001b[1;34m(self, sep)\u001b[0m\n\u001b[0;32m    198\u001b[0m             \u001b[1;32melse\u001b[0m\u001b[1;33m:\u001b[0m\u001b[1;33m\u001b[0m\u001b[1;33m\u001b[0m\u001b[0m\n\u001b[0;32m    199\u001b[0m                 \u001b[0mstart\u001b[0m \u001b[1;33m=\u001b[0m \u001b[0mlen\u001b[0m\u001b[1;33m(\u001b[0m\u001b[0mself\u001b[0m\u001b[1;33m.\u001b[0m\u001b[0m_buffer\u001b[0m\u001b[1;33m)\u001b[0m\u001b[1;33m\u001b[0m\u001b[1;33m\u001b[0m\u001b[0m\n\u001b[1;32m--> 200\u001b[1;33m             \u001b[0mself\u001b[0m\u001b[1;33m.\u001b[0m\u001b[0m_buffer\u001b[0m \u001b[1;33m+=\u001b[0m \u001b[0mself\u001b[0m\u001b[1;33m.\u001b[0m\u001b[0m_stream\u001b[0m\u001b[1;33m.\u001b[0m\u001b[0mread\u001b[0m\u001b[1;33m(\u001b[0m\u001b[0mself\u001b[0m\u001b[1;33m.\u001b[0m\u001b[0m_chunk_size\u001b[0m\u001b[1;33m)\u001b[0m\u001b[1;33m\u001b[0m\u001b[1;33m\u001b[0m\u001b[0m\n\u001b[0m\u001b[0;32m    201\u001b[0m         \u001b[1;32mreturn\u001b[0m \u001b[0msix\u001b[0m\u001b[1;33m.\u001b[0m\u001b[0mb\u001b[0m\u001b[1;33m(\u001b[0m\u001b[1;34m''\u001b[0m\u001b[1;33m)\u001b[0m\u001b[1;33m\u001b[0m\u001b[1;33m\u001b[0m\u001b[0m\n\u001b[0;32m    202\u001b[0m \u001b[1;33m\u001b[0m\u001b[0m\n",
      "\u001b[1;32mE:\\Anaconda\\lib\\site-packages\\urllib3\\response.py\u001b[0m in \u001b[0;36mread\u001b[1;34m(self, amt, decode_content, cache_content)\u001b[0m\n\u001b[0;32m    517\u001b[0m             \u001b[1;32melse\u001b[0m\u001b[1;33m:\u001b[0m\u001b[1;33m\u001b[0m\u001b[1;33m\u001b[0m\u001b[0m\n\u001b[0;32m    518\u001b[0m                 \u001b[0mcache_content\u001b[0m \u001b[1;33m=\u001b[0m \u001b[1;32mFalse\u001b[0m\u001b[1;33m\u001b[0m\u001b[1;33m\u001b[0m\u001b[0m\n\u001b[1;32m--> 519\u001b[1;33m                 \u001b[0mdata\u001b[0m \u001b[1;33m=\u001b[0m \u001b[0mself\u001b[0m\u001b[1;33m.\u001b[0m\u001b[0m_fp\u001b[0m\u001b[1;33m.\u001b[0m\u001b[0mread\u001b[0m\u001b[1;33m(\u001b[0m\u001b[0mamt\u001b[0m\u001b[1;33m)\u001b[0m \u001b[1;32mif\u001b[0m \u001b[1;32mnot\u001b[0m \u001b[0mfp_closed\u001b[0m \u001b[1;32melse\u001b[0m \u001b[1;34mb\"\"\u001b[0m\u001b[1;33m\u001b[0m\u001b[1;33m\u001b[0m\u001b[0m\n\u001b[0m\u001b[0;32m    520\u001b[0m                 if (\n\u001b[0;32m    521\u001b[0m                     \u001b[0mamt\u001b[0m \u001b[1;33m!=\u001b[0m \u001b[1;36m0\u001b[0m \u001b[1;32mand\u001b[0m \u001b[1;32mnot\u001b[0m \u001b[0mdata\u001b[0m\u001b[1;33m\u001b[0m\u001b[1;33m\u001b[0m\u001b[0m\n",
      "\u001b[1;32mE:\\Anaconda\\lib\\http\\client.py\u001b[0m in \u001b[0;36mread\u001b[1;34m(self, amt)\u001b[0m\n\u001b[0;32m    456\u001b[0m             \u001b[1;31m# Amount is given, implement using readinto\u001b[0m\u001b[1;33m\u001b[0m\u001b[1;33m\u001b[0m\u001b[1;33m\u001b[0m\u001b[0m\n\u001b[0;32m    457\u001b[0m             \u001b[0mb\u001b[0m \u001b[1;33m=\u001b[0m \u001b[0mbytearray\u001b[0m\u001b[1;33m(\u001b[0m\u001b[0mamt\u001b[0m\u001b[1;33m)\u001b[0m\u001b[1;33m\u001b[0m\u001b[1;33m\u001b[0m\u001b[0m\n\u001b[1;32m--> 458\u001b[1;33m             \u001b[0mn\u001b[0m \u001b[1;33m=\u001b[0m \u001b[0mself\u001b[0m\u001b[1;33m.\u001b[0m\u001b[0mreadinto\u001b[0m\u001b[1;33m(\u001b[0m\u001b[0mb\u001b[0m\u001b[1;33m)\u001b[0m\u001b[1;33m\u001b[0m\u001b[1;33m\u001b[0m\u001b[0m\n\u001b[0m\u001b[0;32m    459\u001b[0m             \u001b[1;32mreturn\u001b[0m \u001b[0mmemoryview\u001b[0m\u001b[1;33m(\u001b[0m\u001b[0mb\u001b[0m\u001b[1;33m)\u001b[0m\u001b[1;33m[\u001b[0m\u001b[1;33m:\u001b[0m\u001b[0mn\u001b[0m\u001b[1;33m]\u001b[0m\u001b[1;33m.\u001b[0m\u001b[0mtobytes\u001b[0m\u001b[1;33m(\u001b[0m\u001b[1;33m)\u001b[0m\u001b[1;33m\u001b[0m\u001b[1;33m\u001b[0m\u001b[0m\n\u001b[0;32m    460\u001b[0m         \u001b[1;32melse\u001b[0m\u001b[1;33m:\u001b[0m\u001b[1;33m\u001b[0m\u001b[1;33m\u001b[0m\u001b[0m\n",
      "\u001b[1;32mE:\\Anaconda\\lib\\http\\client.py\u001b[0m in \u001b[0;36mreadinto\u001b[1;34m(self, b)\u001b[0m\n\u001b[0;32m    490\u001b[0m \u001b[1;33m\u001b[0m\u001b[0m\n\u001b[0;32m    491\u001b[0m         \u001b[1;32mif\u001b[0m \u001b[0mself\u001b[0m\u001b[1;33m.\u001b[0m\u001b[0mchunked\u001b[0m\u001b[1;33m:\u001b[0m\u001b[1;33m\u001b[0m\u001b[1;33m\u001b[0m\u001b[0m\n\u001b[1;32m--> 492\u001b[1;33m             \u001b[1;32mreturn\u001b[0m \u001b[0mself\u001b[0m\u001b[1;33m.\u001b[0m\u001b[0m_readinto_chunked\u001b[0m\u001b[1;33m(\u001b[0m\u001b[0mb\u001b[0m\u001b[1;33m)\u001b[0m\u001b[1;33m\u001b[0m\u001b[1;33m\u001b[0m\u001b[0m\n\u001b[0m\u001b[0;32m    493\u001b[0m \u001b[1;33m\u001b[0m\u001b[0m\n\u001b[0;32m    494\u001b[0m         \u001b[1;32mif\u001b[0m \u001b[0mself\u001b[0m\u001b[1;33m.\u001b[0m\u001b[0mlength\u001b[0m \u001b[1;32mis\u001b[0m \u001b[1;32mnot\u001b[0m \u001b[1;32mNone\u001b[0m\u001b[1;33m:\u001b[0m\u001b[1;33m\u001b[0m\u001b[1;33m\u001b[0m\u001b[0m\n",
      "\u001b[1;32mE:\\Anaconda\\lib\\http\\client.py\u001b[0m in \u001b[0;36m_readinto_chunked\u001b[1;34m(self, b)\u001b[0m\n\u001b[0;32m    585\u001b[0m         \u001b[1;32mtry\u001b[0m\u001b[1;33m:\u001b[0m\u001b[1;33m\u001b[0m\u001b[1;33m\u001b[0m\u001b[0m\n\u001b[0;32m    586\u001b[0m             \u001b[1;32mwhile\u001b[0m \u001b[1;32mTrue\u001b[0m\u001b[1;33m:\u001b[0m\u001b[1;33m\u001b[0m\u001b[1;33m\u001b[0m\u001b[0m\n\u001b[1;32m--> 587\u001b[1;33m                 \u001b[0mchunk_left\u001b[0m \u001b[1;33m=\u001b[0m \u001b[0mself\u001b[0m\u001b[1;33m.\u001b[0m\u001b[0m_get_chunk_left\u001b[0m\u001b[1;33m(\u001b[0m\u001b[1;33m)\u001b[0m\u001b[1;33m\u001b[0m\u001b[1;33m\u001b[0m\u001b[0m\n\u001b[0m\u001b[0;32m    588\u001b[0m                 \u001b[1;32mif\u001b[0m \u001b[0mchunk_left\u001b[0m \u001b[1;32mis\u001b[0m \u001b[1;32mNone\u001b[0m\u001b[1;33m:\u001b[0m\u001b[1;33m\u001b[0m\u001b[1;33m\u001b[0m\u001b[0m\n\u001b[0;32m    589\u001b[0m                     \u001b[1;32mreturn\u001b[0m \u001b[0mtotal_bytes\u001b[0m\u001b[1;33m\u001b[0m\u001b[1;33m\u001b[0m\u001b[0m\n",
      "\u001b[1;32mE:\\Anaconda\\lib\\http\\client.py\u001b[0m in \u001b[0;36m_get_chunk_left\u001b[1;34m(self)\u001b[0m\n\u001b[0;32m    553\u001b[0m                 \u001b[0mself\u001b[0m\u001b[1;33m.\u001b[0m\u001b[0m_safe_read\u001b[0m\u001b[1;33m(\u001b[0m\u001b[1;36m2\u001b[0m\u001b[1;33m)\u001b[0m  \u001b[1;31m# toss the CRLF at the end of the chunk\u001b[0m\u001b[1;33m\u001b[0m\u001b[1;33m\u001b[0m\u001b[0m\n\u001b[0;32m    554\u001b[0m             \u001b[1;32mtry\u001b[0m\u001b[1;33m:\u001b[0m\u001b[1;33m\u001b[0m\u001b[1;33m\u001b[0m\u001b[0m\n\u001b[1;32m--> 555\u001b[1;33m                 \u001b[0mchunk_left\u001b[0m \u001b[1;33m=\u001b[0m \u001b[0mself\u001b[0m\u001b[1;33m.\u001b[0m\u001b[0m_read_next_chunk_size\u001b[0m\u001b[1;33m(\u001b[0m\u001b[1;33m)\u001b[0m\u001b[1;33m\u001b[0m\u001b[1;33m\u001b[0m\u001b[0m\n\u001b[0m\u001b[0;32m    556\u001b[0m             \u001b[1;32mexcept\u001b[0m \u001b[0mValueError\u001b[0m\u001b[1;33m:\u001b[0m\u001b[1;33m\u001b[0m\u001b[1;33m\u001b[0m\u001b[0m\n\u001b[0;32m    557\u001b[0m                 \u001b[1;32mraise\u001b[0m \u001b[0mIncompleteRead\u001b[0m\u001b[1;33m(\u001b[0m\u001b[1;34mb''\u001b[0m\u001b[1;33m)\u001b[0m\u001b[1;33m\u001b[0m\u001b[1;33m\u001b[0m\u001b[0m\n",
      "\u001b[1;32mE:\\Anaconda\\lib\\http\\client.py\u001b[0m in \u001b[0;36m_read_next_chunk_size\u001b[1;34m(self)\u001b[0m\n\u001b[0;32m    513\u001b[0m     \u001b[1;32mdef\u001b[0m \u001b[0m_read_next_chunk_size\u001b[0m\u001b[1;33m(\u001b[0m\u001b[0mself\u001b[0m\u001b[1;33m)\u001b[0m\u001b[1;33m:\u001b[0m\u001b[1;33m\u001b[0m\u001b[1;33m\u001b[0m\u001b[0m\n\u001b[0;32m    514\u001b[0m         \u001b[1;31m# Read the next chunk size from the file\u001b[0m\u001b[1;33m\u001b[0m\u001b[1;33m\u001b[0m\u001b[1;33m\u001b[0m\u001b[0m\n\u001b[1;32m--> 515\u001b[1;33m         \u001b[0mline\u001b[0m \u001b[1;33m=\u001b[0m \u001b[0mself\u001b[0m\u001b[1;33m.\u001b[0m\u001b[0mfp\u001b[0m\u001b[1;33m.\u001b[0m\u001b[0mreadline\u001b[0m\u001b[1;33m(\u001b[0m\u001b[0m_MAXLINE\u001b[0m \u001b[1;33m+\u001b[0m \u001b[1;36m1\u001b[0m\u001b[1;33m)\u001b[0m\u001b[1;33m\u001b[0m\u001b[1;33m\u001b[0m\u001b[0m\n\u001b[0m\u001b[0;32m    516\u001b[0m         \u001b[1;32mif\u001b[0m \u001b[0mlen\u001b[0m\u001b[1;33m(\u001b[0m\u001b[0mline\u001b[0m\u001b[1;33m)\u001b[0m \u001b[1;33m>\u001b[0m \u001b[0m_MAXLINE\u001b[0m\u001b[1;33m:\u001b[0m\u001b[1;33m\u001b[0m\u001b[1;33m\u001b[0m\u001b[0m\n\u001b[0;32m    517\u001b[0m             \u001b[1;32mraise\u001b[0m \u001b[0mLineTooLong\u001b[0m\u001b[1;33m(\u001b[0m\u001b[1;34m\"chunk size\"\u001b[0m\u001b[1;33m)\u001b[0m\u001b[1;33m\u001b[0m\u001b[1;33m\u001b[0m\u001b[0m\n",
      "\u001b[1;32mE:\\Anaconda\\lib\\socket.py\u001b[0m in \u001b[0;36mreadinto\u001b[1;34m(self, b)\u001b[0m\n\u001b[0;32m    667\u001b[0m         \u001b[1;32mwhile\u001b[0m \u001b[1;32mTrue\u001b[0m\u001b[1;33m:\u001b[0m\u001b[1;33m\u001b[0m\u001b[1;33m\u001b[0m\u001b[0m\n\u001b[0;32m    668\u001b[0m             \u001b[1;32mtry\u001b[0m\u001b[1;33m:\u001b[0m\u001b[1;33m\u001b[0m\u001b[1;33m\u001b[0m\u001b[0m\n\u001b[1;32m--> 669\u001b[1;33m                 \u001b[1;32mreturn\u001b[0m \u001b[0mself\u001b[0m\u001b[1;33m.\u001b[0m\u001b[0m_sock\u001b[0m\u001b[1;33m.\u001b[0m\u001b[0mrecv_into\u001b[0m\u001b[1;33m(\u001b[0m\u001b[0mb\u001b[0m\u001b[1;33m)\u001b[0m\u001b[1;33m\u001b[0m\u001b[1;33m\u001b[0m\u001b[0m\n\u001b[0m\u001b[0;32m    670\u001b[0m             \u001b[1;32mexcept\u001b[0m \u001b[0mtimeout\u001b[0m\u001b[1;33m:\u001b[0m\u001b[1;33m\u001b[0m\u001b[1;33m\u001b[0m\u001b[0m\n\u001b[0;32m    671\u001b[0m                 \u001b[0mself\u001b[0m\u001b[1;33m.\u001b[0m\u001b[0m_timeout_occurred\u001b[0m \u001b[1;33m=\u001b[0m \u001b[1;32mTrue\u001b[0m\u001b[1;33m\u001b[0m\u001b[1;33m\u001b[0m\u001b[0m\n",
      "\u001b[1;32mE:\\Anaconda\\lib\\ssl.py\u001b[0m in \u001b[0;36mrecv_into\u001b[1;34m(self, buffer, nbytes, flags)\u001b[0m\n\u001b[0;32m   1239\u001b[0m                   \u001b[1;34m\"non-zero flags not allowed in calls to recv_into() on %s\"\u001b[0m \u001b[1;33m%\u001b[0m\u001b[1;33m\u001b[0m\u001b[1;33m\u001b[0m\u001b[0m\n\u001b[0;32m   1240\u001b[0m                   self.__class__)\n\u001b[1;32m-> 1241\u001b[1;33m             \u001b[1;32mreturn\u001b[0m \u001b[0mself\u001b[0m\u001b[1;33m.\u001b[0m\u001b[0mread\u001b[0m\u001b[1;33m(\u001b[0m\u001b[0mnbytes\u001b[0m\u001b[1;33m,\u001b[0m \u001b[0mbuffer\u001b[0m\u001b[1;33m)\u001b[0m\u001b[1;33m\u001b[0m\u001b[1;33m\u001b[0m\u001b[0m\n\u001b[0m\u001b[0;32m   1242\u001b[0m         \u001b[1;32melse\u001b[0m\u001b[1;33m:\u001b[0m\u001b[1;33m\u001b[0m\u001b[1;33m\u001b[0m\u001b[0m\n\u001b[0;32m   1243\u001b[0m             \u001b[1;32mreturn\u001b[0m \u001b[0msuper\u001b[0m\u001b[1;33m(\u001b[0m\u001b[1;33m)\u001b[0m\u001b[1;33m.\u001b[0m\u001b[0mrecv_into\u001b[0m\u001b[1;33m(\u001b[0m\u001b[0mbuffer\u001b[0m\u001b[1;33m,\u001b[0m \u001b[0mnbytes\u001b[0m\u001b[1;33m,\u001b[0m \u001b[0mflags\u001b[0m\u001b[1;33m)\u001b[0m\u001b[1;33m\u001b[0m\u001b[1;33m\u001b[0m\u001b[0m\n",
      "\u001b[1;32mE:\\Anaconda\\lib\\ssl.py\u001b[0m in \u001b[0;36mread\u001b[1;34m(self, len, buffer)\u001b[0m\n\u001b[0;32m   1097\u001b[0m         \u001b[1;32mtry\u001b[0m\u001b[1;33m:\u001b[0m\u001b[1;33m\u001b[0m\u001b[1;33m\u001b[0m\u001b[0m\n\u001b[0;32m   1098\u001b[0m             \u001b[1;32mif\u001b[0m \u001b[0mbuffer\u001b[0m \u001b[1;32mis\u001b[0m \u001b[1;32mnot\u001b[0m \u001b[1;32mNone\u001b[0m\u001b[1;33m:\u001b[0m\u001b[1;33m\u001b[0m\u001b[1;33m\u001b[0m\u001b[0m\n\u001b[1;32m-> 1099\u001b[1;33m                 \u001b[1;32mreturn\u001b[0m \u001b[0mself\u001b[0m\u001b[1;33m.\u001b[0m\u001b[0m_sslobj\u001b[0m\u001b[1;33m.\u001b[0m\u001b[0mread\u001b[0m\u001b[1;33m(\u001b[0m\u001b[0mlen\u001b[0m\u001b[1;33m,\u001b[0m \u001b[0mbuffer\u001b[0m\u001b[1;33m)\u001b[0m\u001b[1;33m\u001b[0m\u001b[1;33m\u001b[0m\u001b[0m\n\u001b[0m\u001b[0;32m   1100\u001b[0m             \u001b[1;32melse\u001b[0m\u001b[1;33m:\u001b[0m\u001b[1;33m\u001b[0m\u001b[1;33m\u001b[0m\u001b[0m\n\u001b[0;32m   1101\u001b[0m                 \u001b[1;32mreturn\u001b[0m \u001b[0mself\u001b[0m\u001b[1;33m.\u001b[0m\u001b[0m_sslobj\u001b[0m\u001b[1;33m.\u001b[0m\u001b[0mread\u001b[0m\u001b[1;33m(\u001b[0m\u001b[0mlen\u001b[0m\u001b[1;33m)\u001b[0m\u001b[1;33m\u001b[0m\u001b[1;33m\u001b[0m\u001b[0m\n",
      "\u001b[1;31mKeyboardInterrupt\u001b[0m: "
     ]
    }
   ],
   "source": [
    "class StreamListener(tweepy.StreamListener):\n",
    "    def on_status(self, tweet):\n",
    "        print(tweet.author.screen_name + \"\\t\" + tweet.text)\n",
    "\n",
    "    def on_error(self, status_code):\n",
    "        print( 'Error: ' + repr(status_code))\n",
    "        return False\n",
    "\n",
    "l = StreamListener()\n",
    "streamer = tweepy.Stream(auth=auth, listener=l, tweet_mode='extended')\n",
    "\n",
    "keywords = ['Purdue', '\"data science\"']\n",
    "streamer.filter(track = keywords)"
   ]
  },
  {
   "cell_type": "markdown",
   "metadata": {},
   "source": [
    "# Exercises\n",
    "\n",
    "\n",
    "7. Use the streaming API to produce a list of 1000 tweets about a topic.\n",
    "2. From that list of 1000 tweets, eliminate retweets.\n",
    "4. For each original tweet, create a dictionary with the number of times you see it retweeted in your dataset.\n",
    "5. Get a list of the URLs in your dataset\n",
    "3. Now, see if you can figure out how to eliminate retweets in the query instead.\n",
    "7. Get the last 50 tweets from West Lafayette, using the search API. (Hint - look up the geocode information [here](https://developer.twitter.com/en/docs/tweets/search/api-reference/get-search-tweets)).\n",
    "8. Alter the streaming algorithm to include a \"locations\" filter to get tweets from New York City. You need to use the order sw_lng, sw_lat, ne_lng, ne_lat for the four coordinates instead of a radius as in the search API.\n",
    "\n",
    "### BONUS Questions\n",
    "1. For each of your followers, get *their* followers (investigate time.sleep to throttle your computation)\n",
    "2. Identify the follower you have that also follows the most of your followers.\n",
    "3. How many users follow you but none of your followers?"
   ]
  },
  {
   "cell_type": "code",
   "execution_count": 28,
   "metadata": {},
   "outputs": [],
   "source": [
    "#Exercise 7\n",
    "\n",
    "tweet_list=[]\n",
    "class MyStreamListener(tweepy.StreamListener):\n",
    "    def __init__(self,api=None):\n",
    "        super(MyStreamListener,self).__init__()\n",
    "        self.num_tweets=0\n",
    "        self.file=open(\"tweet.txt\",\"w\")\n",
    "    def on_status(self,status):\n",
    "        tweet=status._json\n",
    "        self.file.write(json.dumps(tweet)+ '\\n')\n",
    "        tweet_list.append(status)\n",
    "        self.num_tweets+=1\n",
    "        if self.num_tweets<1000:\n",
    "            return True\n",
    "        else:\n",
    "            return False\n",
    "        self.file.close()\n",
    "\n",
    "l = MyStreamListener()\n",
    "streamer = tweepy.Stream(auth=auth, listener=l, tweet_mode='extended')\n",
    "\n",
    "keywords = ['Covid', 'travel']\n",
    "streamer.filter(track = keywords)"
   ]
  },
  {
   "cell_type": "code",
   "execution_count": 34,
   "metadata": {},
   "outputs": [
    {
     "data": {
      "text/plain": [
       "6"
      ]
     },
     "execution_count": 34,
     "metadata": {},
     "output_type": "execute_result"
    }
   ],
   "source": [
    "x=3\n",
    "\n",
    "def add_nums(x,y):\n",
    "    return x+y\n",
    "\n",
    "add_nums(2,4)"
   ]
  },
  {
   "cell_type": "code",
   "execution_count": 35,
   "metadata": {},
   "outputs": [
    {
     "data": {
      "text/plain": [
       "3"
      ]
     },
     "execution_count": 35,
     "metadata": {},
     "output_type": "execute_result"
    }
   ],
   "source": [
    "x"
   ]
  },
  {
   "cell_type": "code",
   "execution_count": null,
   "metadata": {},
   "outputs": [],
   "source": [
    "tweets = []\n",
    "    \n",
    "class StreamListener(tweepy.StreamListener):\n",
    "    counter = 0\n",
    "    num_tweets = 1000\n",
    "    \n",
    "    def on_status(self, tweet):\n",
    "        tweets.append(tweet)\n",
    "        self.counter += 1\n",
    "        if self.counter == self.num_tweets:\n",
    "            return False\n",
    "\n",
    "        return True\n",
    "\n",
    "    def on_error(self, status_code):\n",
    "        print( 'Error: ' + repr(status_code))\n",
    "        return False\n",
    "\n",
    "l = StreamListener()\n",
    "streamer = tweepy.Stream(auth=auth, listener=l, tweet_mode='extended')\n",
    "\n",
    "keywords = ['happy']\n",
    "streamer.filter(track = keywords)"
   ]
  },
  {
   "cell_type": "code",
   "execution_count": null,
   "metadata": {},
   "outputs": [],
   "source": [
    "class StreamListener(tweepy.StreamListener):\n",
    "\n",
    "    def __init__(self, num_tweets):\n",
    "        self.counter = 0\n",
    "        self.num_tweets = num_tweets\n",
    "        self.tweets = []\n",
    "        super().__init__()\n",
    "    \n",
    "    def on_status(self, tweet):\n",
    "        self.tweets.append(tweet)\n",
    "        self.counter += 1\n",
    "        if self.counter >= self.num_tweets:\n",
    "            return False\n",
    "\n",
    "        return True\n",
    "\n",
    "    def on_error(self, status_code):\n",
    "        print( 'Error: ' + repr(status_code))\n",
    "        return False\n",
    "\n",
    "l = StreamListener(200)\n",
    "streamer = tweepy.Stream(auth=auth, listener=l, tweet_mode='extended')\n",
    "\n",
    "keywords = ['happy']\n",
    "streamer.filter(track = keywords)\n",
    "\n",
    "for tweet in l.tweets:\n",
    "    print(tweet.text)"
   ]
  },
  {
   "cell_type": "code",
   "execution_count": 169,
   "metadata": {
    "scrolled": true
   },
   "outputs": [
    {
     "name": "stdout",
     "output_type": "stream",
     "text": [
      "1000\n",
      "269\n",
      "{'created_at': 'Tue May 25 00:27:56 +0000 2021', 'id': 1396986355540955138, 'id_str': '1396986355540955138', 'text': '@MAJORBITCH1776 @PresidentBillbo Correct..it’s designed to artificially insult your immune system to produce a prod… https://t.co/kBAw9a6EqQ', 'display_text_range': [33, 140], 'source': '<a href=\"http://twitter.com/download/iphone\" rel=\"nofollow\">Twitter for iPhone</a>', 'truncated': True, 'in_reply_to_status_id': 1396985435079991302, 'in_reply_to_status_id_str': '1396985435079991302', 'in_reply_to_user_id': 1343300183824740358, 'in_reply_to_user_id_str': '1343300183824740358', 'in_reply_to_screen_name': 'MAJORBITCH1776', 'user': {'id': 1653804902, 'id_str': '1653804902', 'name': 'Doug Still', 'screen_name': 'DougShootsStr8', 'location': 'Pennsylvania, USA', 'url': None, 'description': 'A Realist, An Optimist, A Truth Speaker and A Very Curious Observer. 🇺🇸', 'translator_type': 'none', 'protected': False, 'verified': False, 'followers_count': 3236, 'friends_count': 3472, 'listed_count': 0, 'favourites_count': 186296, 'statuses_count': 27801, 'created_at': 'Wed Aug 07 20:23:16 +0000 2013', 'utc_offset': None, 'time_zone': None, 'geo_enabled': False, 'lang': None, 'contributors_enabled': False, 'is_translator': False, 'profile_background_color': 'C0DEED', 'profile_background_image_url': 'http://abs.twimg.com/images/themes/theme1/bg.png', 'profile_background_image_url_https': 'https://abs.twimg.com/images/themes/theme1/bg.png', 'profile_background_tile': False, 'profile_link_color': '1DA1F2', 'profile_sidebar_border_color': 'C0DEED', 'profile_sidebar_fill_color': 'DDEEF6', 'profile_text_color': '333333', 'profile_use_background_image': True, 'profile_image_url': 'http://pbs.twimg.com/profile_images/1336667000890929153/GVLlNSLD_normal.jpg', 'profile_image_url_https': 'https://pbs.twimg.com/profile_images/1336667000890929153/GVLlNSLD_normal.jpg', 'profile_banner_url': 'https://pbs.twimg.com/profile_banners/1653804902/1592866163', 'default_profile': True, 'default_profile_image': False, 'following': None, 'follow_request_sent': None, 'notifications': None, 'withheld_in_countries': []}, 'geo': None, 'coordinates': None, 'place': None, 'contributors': None, 'is_quote_status': False, 'extended_tweet': {'full_text': '@MAJORBITCH1776 @PresidentBillbo Correct..it’s designed to artificially insult your immune system to produce a product and your body to fight off the symptoms of Covid. All the indicators are pointing to a 6 to 12 month effect..', 'display_text_range': [33, 228], 'entities': {'hashtags': [], 'urls': [], 'user_mentions': [{'screen_name': 'MAJORBITCH1776', 'name': 'FICKLE TURD BURGLAR 🇺🇸🙏🏼🌺🌞🌴🌊🥂', 'id': 1343300183824740358, 'id_str': '1343300183824740358', 'indices': [0, 15]}, {'screen_name': 'PresidentBillbo', 'name': 'President-elect billbo baggins', 'id': 834637681, 'id_str': '834637681', 'indices': [16, 32]}], 'symbols': []}}, 'quote_count': 0, 'reply_count': 0, 'retweet_count': 0, 'favorite_count': 0, 'entities': {'hashtags': [], 'urls': [{'url': 'https://t.co/kBAw9a6EqQ', 'expanded_url': 'https://twitter.com/i/web/status/1396986355540955138', 'display_url': 'twitter.com/i/web/status/1…', 'indices': [117, 140]}], 'user_mentions': [{'screen_name': 'MAJORBITCH1776', 'name': 'FICKLE TURD BURGLAR 🇺🇸🙏🏼🌺🌞🌴🌊🥂', 'id': 1343300183824740358, 'id_str': '1343300183824740358', 'indices': [0, 15]}, {'screen_name': 'PresidentBillbo', 'name': 'President-elect billbo baggins', 'id': 834637681, 'id_str': '834637681', 'indices': [16, 32]}], 'symbols': []}, 'favorited': False, 'retweeted': False, 'filter_level': 'low', 'lang': 'en', 'timestamp_ms': '1621902476569'}\n"
     ]
    }
   ],
   "source": [
    "#Exercise 8\n",
    "\n",
    "tweets_data_path='tweet.txt'\n",
    "tweets_data=[]\n",
    "tweets_file=open(tweets_data_path,\"r\")\n",
    "#read in tweets and store on list\n",
    "for line in tweets_file:\n",
    "    tweet=json.loads(line)\n",
    "    tweets_data.append(tweet)\n",
    "tweets_file.close()\n",
    "print(len(tweets_data))\n",
    "\n",
    "no_retweet=[]\n",
    "for t in tweets_data:\n",
    "    if not hasattr(t, \"retweeted_status\") and 'RT @' not in t['text']:\n",
    "        no_retweet.append(t)\n",
    "print(len(no_retweet))\n",
    "print(no_retweet[0])"
   ]
  },
  {
   "cell_type": "code",
   "execution_count": 42,
   "metadata": {},
   "outputs": [
    {
     "name": "stdout",
     "output_type": "stream",
     "text": [
      "1000\n",
      "Status(_api=<tweepy.api.API object at 0x000001CFA70D9F70>, _json={'created_at': 'Wed May 26 18:58:40 +0000 2021', 'id': 1397628267830693894, 'id_str': '1397628267830693894', 'full_text': '@NilsonGSJunior @da_nilosp @BolsonaroSP Isso q vc fez é conhecido como enganação, usurpador e por aí vai. P se fazer uma leitura corporal de qualquer pessoa deve ter no MÍNIMO estudado algum tipo de técnica, mas esperar o q de um babão q acredita em kit gay, kit covid e mamadeira de piroca.', 'truncated': False, 'display_text_range': [40, 291], 'entities': {'hashtags': [], 'symbols': [], 'user_mentions': [{'screen_name': 'NilsonGSJunior', 'name': 'Nilson G S Junior', 'id': 117068355, 'id_str': '117068355', 'indices': [0, 15]}, {'screen_name': 'da_nilosp', 'name': 'Danilo Moreira', 'id': 787048075340681216, 'id_str': '787048075340681216', 'indices': [16, 26]}, {'screen_name': 'BolsonaroSP', 'name': 'Eduardo Bolsonaro🇧🇷', 'id': 74756085, 'id_str': '74756085', 'indices': [27, 39]}], 'urls': []}, 'metadata': {'iso_language_code': 'pt', 'result_type': 'recent'}, 'source': '<a href=\"http://twitter.com/download/android\" rel=\"nofollow\">Twitter for Android</a>', 'in_reply_to_status_id': 1397611149454155776, 'in_reply_to_status_id_str': '1397611149454155776', 'in_reply_to_user_id': 117068355, 'in_reply_to_user_id_str': '117068355', 'in_reply_to_screen_name': 'NilsonGSJunior', 'user': {'id': 1135988778840076288, 'id_str': '1135988778840076288', 'name': 'Eulália Quirino', 'screen_name': 'eulalia_quirino', 'location': 'João Pessoa, Brasil', 'description': '', 'url': None, 'entities': {'description': {'urls': []}}, 'protected': False, 'followers_count': 28, 'friends_count': 121, 'listed_count': 0, 'created_at': 'Tue Jun 04 19:16:45 +0000 2019', 'favourites_count': 15767, 'utc_offset': None, 'time_zone': None, 'geo_enabled': False, 'verified': False, 'statuses_count': 1109, 'lang': None, 'contributors_enabled': False, 'is_translator': False, 'is_translation_enabled': False, 'profile_background_color': 'F5F8FA', 'profile_background_image_url': None, 'profile_background_image_url_https': None, 'profile_background_tile': False, 'profile_image_url': 'http://pbs.twimg.com/profile_images/1389240938615164937/AwfwEkKw_normal.jpg', 'profile_image_url_https': 'https://pbs.twimg.com/profile_images/1389240938615164937/AwfwEkKw_normal.jpg', 'profile_banner_url': 'https://pbs.twimg.com/profile_banners/1135988778840076288/1593646093', 'profile_link_color': '1DA1F2', 'profile_sidebar_border_color': 'C0DEED', 'profile_sidebar_fill_color': 'DDEEF6', 'profile_text_color': '333333', 'profile_use_background_image': True, 'has_extended_profile': True, 'default_profile': True, 'default_profile_image': False, 'following': False, 'follow_request_sent': False, 'notifications': False, 'translator_type': 'none', 'withheld_in_countries': []}, 'geo': None, 'coordinates': None, 'place': None, 'contributors': None, 'is_quote_status': False, 'retweet_count': 0, 'favorite_count': 0, 'favorited': False, 'retweeted': False, 'lang': 'pt'}, created_at=datetime.datetime(2021, 5, 26, 18, 58, 40), id=1397628267830693894, id_str='1397628267830693894', full_text='@NilsonGSJunior @da_nilosp @BolsonaroSP Isso q vc fez é conhecido como enganação, usurpador e por aí vai. P se fazer uma leitura corporal de qualquer pessoa deve ter no MÍNIMO estudado algum tipo de técnica, mas esperar o q de um babão q acredita em kit gay, kit covid e mamadeira de piroca.', truncated=False, display_text_range=[40, 291], entities={'hashtags': [], 'symbols': [], 'user_mentions': [{'screen_name': 'NilsonGSJunior', 'name': 'Nilson G S Junior', 'id': 117068355, 'id_str': '117068355', 'indices': [0, 15]}, {'screen_name': 'da_nilosp', 'name': 'Danilo Moreira', 'id': 787048075340681216, 'id_str': '787048075340681216', 'indices': [16, 26]}, {'screen_name': 'BolsonaroSP', 'name': 'Eduardo Bolsonaro🇧🇷', 'id': 74756085, 'id_str': '74756085', 'indices': [27, 39]}], 'urls': []}, metadata={'iso_language_code': 'pt', 'result_type': 'recent'}, source='Twitter for Android', source_url='http://twitter.com/download/android', in_reply_to_status_id=1397611149454155776, in_reply_to_status_id_str='1397611149454155776', in_reply_to_user_id=117068355, in_reply_to_user_id_str='117068355', in_reply_to_screen_name='NilsonGSJunior', author=User(_api=<tweepy.api.API object at 0x000001CFA70D9F70>, _json={'id': 1135988778840076288, 'id_str': '1135988778840076288', 'name': 'Eulália Quirino', 'screen_name': 'eulalia_quirino', 'location': 'João Pessoa, Brasil', 'description': '', 'url': None, 'entities': {'description': {'urls': []}}, 'protected': False, 'followers_count': 28, 'friends_count': 121, 'listed_count': 0, 'created_at': 'Tue Jun 04 19:16:45 +0000 2019', 'favourites_count': 15767, 'utc_offset': None, 'time_zone': None, 'geo_enabled': False, 'verified': False, 'statuses_count': 1109, 'lang': None, 'contributors_enabled': False, 'is_translator': False, 'is_translation_enabled': False, 'profile_background_color': 'F5F8FA', 'profile_background_image_url': None, 'profile_background_image_url_https': None, 'profile_background_tile': False, 'profile_image_url': 'http://pbs.twimg.com/profile_images/1389240938615164937/AwfwEkKw_normal.jpg', 'profile_image_url_https': 'https://pbs.twimg.com/profile_images/1389240938615164937/AwfwEkKw_normal.jpg', 'profile_banner_url': 'https://pbs.twimg.com/profile_banners/1135988778840076288/1593646093', 'profile_link_color': '1DA1F2', 'profile_sidebar_border_color': 'C0DEED', 'profile_sidebar_fill_color': 'DDEEF6', 'profile_text_color': '333333', 'profile_use_background_image': True, 'has_extended_profile': True, 'default_profile': True, 'default_profile_image': False, 'following': False, 'follow_request_sent': False, 'notifications': False, 'translator_type': 'none', 'withheld_in_countries': []}, id=1135988778840076288, id_str='1135988778840076288', name='Eulália Quirino', screen_name='eulalia_quirino', location='João Pessoa, Brasil', description='', url=None, entities={'description': {'urls': []}}, protected=False, followers_count=28, friends_count=121, listed_count=0, created_at=datetime.datetime(2019, 6, 4, 19, 16, 45), favourites_count=15767, utc_offset=None, time_zone=None, geo_enabled=False, verified=False, statuses_count=1109, lang=None, contributors_enabled=False, is_translator=False, is_translation_enabled=False, profile_background_color='F5F8FA', profile_background_image_url=None, profile_background_image_url_https=None, profile_background_tile=False, profile_image_url='http://pbs.twimg.com/profile_images/1389240938615164937/AwfwEkKw_normal.jpg', profile_image_url_https='https://pbs.twimg.com/profile_images/1389240938615164937/AwfwEkKw_normal.jpg', profile_banner_url='https://pbs.twimg.com/profile_banners/1135988778840076288/1593646093', profile_link_color='1DA1F2', profile_sidebar_border_color='C0DEED', profile_sidebar_fill_color='DDEEF6', profile_text_color='333333', profile_use_background_image=True, has_extended_profile=True, default_profile=True, default_profile_image=False, following=False, follow_request_sent=False, notifications=False, translator_type='none', withheld_in_countries=[]), user=User(_api=<tweepy.api.API object at 0x000001CFA70D9F70>, _json={'id': 1135988778840076288, 'id_str': '1135988778840076288', 'name': 'Eulália Quirino', 'screen_name': 'eulalia_quirino', 'location': 'João Pessoa, Brasil', 'description': '', 'url': None, 'entities': {'description': {'urls': []}}, 'protected': False, 'followers_count': 28, 'friends_count': 121, 'listed_count': 0, 'created_at': 'Tue Jun 04 19:16:45 +0000 2019', 'favourites_count': 15767, 'utc_offset': None, 'time_zone': None, 'geo_enabled': False, 'verified': False, 'statuses_count': 1109, 'lang': None, 'contributors_enabled': False, 'is_translator': False, 'is_translation_enabled': False, 'profile_background_color': 'F5F8FA', 'profile_background_image_url': None, 'profile_background_image_url_https': None, 'profile_background_tile': False, 'profile_image_url': 'http://pbs.twimg.com/profile_images/1389240938615164937/AwfwEkKw_normal.jpg', 'profile_image_url_https': 'https://pbs.twimg.com/profile_images/1389240938615164937/AwfwEkKw_normal.jpg', 'profile_banner_url': 'https://pbs.twimg.com/profile_banners/1135988778840076288/1593646093', 'profile_link_color': '1DA1F2', 'profile_sidebar_border_color': 'C0DEED', 'profile_sidebar_fill_color': 'DDEEF6', 'profile_text_color': '333333', 'profile_use_background_image': True, 'has_extended_profile': True, 'default_profile': True, 'default_profile_image': False, 'following': False, 'follow_request_sent': False, 'notifications': False, 'translator_type': 'none', 'withheld_in_countries': []}, id=1135988778840076288, id_str='1135988778840076288', name='Eulália Quirino', screen_name='eulalia_quirino', location='João Pessoa, Brasil', description='', url=None, entities={'description': {'urls': []}}, protected=False, followers_count=28, friends_count=121, listed_count=0, created_at=datetime.datetime(2019, 6, 4, 19, 16, 45), favourites_count=15767, utc_offset=None, time_zone=None, geo_enabled=False, verified=False, statuses_count=1109, lang=None, contributors_enabled=False, is_translator=False, is_translation_enabled=False, profile_background_color='F5F8FA', profile_background_image_url=None, profile_background_image_url_https=None, profile_background_tile=False, profile_image_url='http://pbs.twimg.com/profile_images/1389240938615164937/AwfwEkKw_normal.jpg', profile_image_url_https='https://pbs.twimg.com/profile_images/1389240938615164937/AwfwEkKw_normal.jpg', profile_banner_url='https://pbs.twimg.com/profile_banners/1135988778840076288/1593646093', profile_link_color='1DA1F2', profile_sidebar_border_color='C0DEED', profile_sidebar_fill_color='DDEEF6', profile_text_color='333333', profile_use_background_image=True, has_extended_profile=True, default_profile=True, default_profile_image=False, following=False, follow_request_sent=False, notifications=False, translator_type='none', withheld_in_countries=[]), geo=None, coordinates=None, place=None, contributors=None, is_quote_status=False, retweet_count=0, favorite_count=0, favorited=False, retweeted=False, lang='pt')\n"
     ]
    }
   ],
   "source": [
    "public_tweets = tweepy.Cursor(api.search, '\"covid\" -filter:retweets',count= 200, tweet_mode = 'extended').items(1000)\n",
    "\n",
    "no_retweet=[]\n",
    "for t in public_tweets:\n",
    "    if not t.retweeted and 'RT @' not in t.full_text: #can take not t.retweeted out bcs we definied above!\n",
    "        no_retweet.append(t)\n",
    "print(len(no_retweet))\n",
    "print(no_retweet[0])"
   ]
  },
  {
   "cell_type": "code",
   "execution_count": 170,
   "metadata": {
    "scrolled": true
   },
   "outputs": [
    {
     "name": "stdout",
     "output_type": "stream",
     "text": [
      "269\n",
      "{'@MAJORBITCH1776 @PresidentBillbo Correct..it’s designed to artificially insult your immune system to produce a prod… https://t.co/kBAw9a6EqQ': 1, \"@thehill Humans can't create viruses . Dummy. Covid started from Wuhan market or at the most maybe they were doing… https://t.co/dwOZGIaYRI\": 1, '@jairamthakurbjp The covid cases in Himachal Pradesh in the last one week have come down drastically and now curfew… https://t.co/ub8JabGHJD': 1, '#FRONTPAGE: State to bear #COVID treatment expenses for traveling residents and GCC citizens —… https://t.co/WyC2BWrdig': 1, '@r3bd0 Yaaaaa, seguro piensas que si te vacunas, estás inmune y pedirás el carnet verde🙄🙄🙄🙄\\nSiempre se dijo que el… https://t.co/JopAuAI67y': 1, 'Full article... https://t.co/3LKD6TtDiv': 1, '@meanzjest Right.\\nhttps://t.co/6qGYTNduOf': 1, '\"A bike ride to an old mine, bats overhead, questions from police: exploring the theory that Covid escaped from a C… https://t.co/LtoVFsCY9h': 1, 'cara oq eu to precisando é um role com os amgs q gosto, sla tanta coisa acumalada tanta frustração q so queria desc… https://t.co/sGlTvqCpHt': 1, '@AC360 @andersoncooper Now we know why COVID deaths were climbing at an alarming rate during Trump reign. Besides o… https://t.co/AoK5sQf911': 1, '@pathetic_bunny O pior que nem chá nem nada tá funcionando mais\\n\\nE eu tô com medo de ir no médico pra ver oq q é, e acabar pegando COVID msm': 1, '@jamesholden007 In the U.S., the illegals get free hotels for $350 a day each.  Food paid for, free flights to citi… https://t.co/xow3HVOCBz': 1, '14 meses de pandemia e zero barreira sanitária em aeroporto. Pegaram leve pra cacete com o Barra Torres na CPI, viu… https://t.co/TMPqcFTAwD': 1, '@AdamMaagoul69 @BullMoose @ECISolutions @Shoptech Things have gone from bad to worse when the boss abd his wife cau… https://t.co/1l2v2orXp0': 1, 'We have THE worst government in history looking after Vic. There is a covid vaccine but lets bring back restriction… https://t.co/baId5N7d7k': 1, '@MariaSammutMasc So you’re defending her for wearing a communist Russian hat? Sad. \\n\\nDon’t forget your mask. We wou… https://t.co/dqwV4ZCL0L': 1, 'Nobel Prize Winner says \"Covid Vaccines are an unacceptable mistake\" https://t.co/TIhROgw82r via @DailyExposeNews': 1, '@kbeanie93 \"As of 19 March 2020, COVID-19 is no longer considered to be a high consequence infectious disease (HCID… https://t.co/2yritvSDc2': 1, 'Qué bien, hoy se reportaron mucho menos casos #COVID19: 1139.  Vamos aplanando la curva de contagios...… https://t.co/koEqsSIVto': 1, '\"Is there any peer reviewed scientific papers on this specific device, or published test results?\"\\n\\n-Typical Indone… https://t.co/sz5zAIyMda': 1, '@RyanAFournier @rosscmary Almighty Dr. FAUCI now admit:  COVID19 IS INFACT MANMADE. CHINA VIRUS was made to kill AM… https://t.co/Ihtt9U1aQG': 1, 'Love all on my timeline': 1, 'アメリカ合衆国はマッチポンプを止めろ': 1, 'Me asusta que la gente vea el enfermarse de covid ya como algo normal.': 1, \"SI NO HACEN LIP SYNC DE: DON'T GO BREAKING MY HEART, NO QUIERO NADA!!! https://t.co/LB1HpRwpO6\": 1, '¡ENTÉRATE! ¿Cuáles son los países donde los turistas se podrán vacunar contra el covid-19? | https://t.co/mimpk16967': 1, 'Jornal Nacional,terminou em silêncio,em respeito às famílias das\\nvítimas da covid.Rapaz,mas que momento triste que… https://t.co/0InLr3DPyT': 1, 'Cause the flu cases are now classified as covid.': 1, '@oringordon @ggreenwald Read this and let me know if the outright dismissal of it changes your mind.': 1, 'https://t.co/WGBfarWK9G': 1, '@osBfus909hhCR1t 昨年の計画では7月にcovidｰ21が上がってました。でも変異種だの騒ぎがあったので作戦変更かな？と思ったりしてましたが...やっぱ出すのかな??': 1, 'Bueno, ya conozco a alguien que sus dos padres murieron de covid con pocos días de diferencia, acá iría algo más pe… https://t.co/lIacboh2zo': 1, '450.029 pessoas mortas pela Covid-19 no Brasil. O genocídio só aumenta e eu pergunto: até quando esse irresponsável… https://t.co/mmefcfjcDP': 1, 'ata': 42, 'Join us at @LASACONGRESS on Wed 1pm EDT for our panel on the subnational politics of COVID-19, featuring papers by… https://t.co/30I1cq1p0D': 1, '@leoangola Tenés Sospechas o tenés Covid?? 😮😮😱😱': 1, '@WalshFreedom Because they will eventually turn it into.\\n\\n\"Biden conspired with the Chinese to unleash Covid-19, in… https://t.co/mbdcQTBmVJ': 1, 'https://t.co/KtH1rz12sH': 2, 'Amanhã vou tomar a vacina da covid, oh Glória': 1, 'Omar canalha': 1, 'Pazuello sabe bem o que aconteceu em Manaus...esse senador que se cuide': 1, 'INCOMPETENCIA TOTAL\\n\\nEl gobierno Federal decidió vacunar a maestros para seguir dando clases en línea, mientras que… https://t.co/vaQ3AjEmi9': 1, 'BBC:  Covid: Deaf campaigner calls for clear mask research https://t.co/mnKQyNcV03 @bbchealth': 1, 'Reportan 48 muertes más por Covid en México; suman 221,695 https://t.co/CHEYWvqq5i': 1, \"Wut? No personal responsibility for your sins? No personal Saviour? I gotta tell you, I really don't understand Cat… https://t.co/UggzhJbLAT\": 1, 'COVID – Morador do DF tem suspeita de infecção pela variante indiana https://t.co/9D0NPg93HC': 1, 'Sentil Legislator PDIP Terkait Donasi ke Palestina, Ali Syarief: Sementara Dana Covid-19, Tidak Minta Diaudit https://t.co/2JCHJqLWq3': 1, '@_MMartinez__ Y covid 😂': 1, '@j_dext @skrymir42 @Oregonian Trump killed at least 200,000 people with his horrible management skills. Previously… https://t.co/PKLPuuF8e1': 1, 'vacinas em dias, queria tá vacinada contra o covid-19, mas não, bosgolilo fez merda, como sempre, imprestável': 1, 'Due to heavy traffic along Hampstead Rd due to covid testing site, RTE’s 406 &amp; 408 heading towards Highpoint only w… https://t.co/h2Lr3dbxYA': 1, 'dengo cite bbp udah ada covid nasib gua sama tauke ikan honda sudah kuarantin di kerusi hijo 2 minggu': 1, 'Here we go 🚨 \\nNew covid-19 Restrictions in greater Melbourne  from 6pm \\n Which includes \\ngatherings of no more than… https://t.co/pSIGcdUiQ2': 1, '@Mykel701 Laying low bc of covid haha': 1, 'Stream schedule 5/24-5/30\\n5/24-no stream\\n5/25-genshin\\n5/26-no stream\\n5/27-no stream (second COVID shot!)\\n5/28-house… https://t.co/v9yaBcpKkE': 1, 'Sign the petition to Congress: Prioritize restitution for COVID families and survivors -- we are struggling . Take… https://t.co/KmhrUAArA6': 1, 'Enfermar de COVID-19 le puede costar miles de dólares a una familia en México | Noticias Telemundo… https://t.co/fGswJdBwVr': 1, 'Após ser cancelada em 2020, Fenearte é adiada para setembro devido à pandemia da Covid-19: De acordo com a organiza… https://t.co/2fpKnyAesa': 1, '@rossieli https://t.co/RGLAoMDwq7 @equipejd mesmo assim, irão acabar com o rodízio?': 1, 'Inclusive essa é a explicação que estão dando aos protestos massivos que aconteceram nos estados unidos, no ano pas… https://t.co/k8iyptMvrX': 1, 'India surpasses 300,000 COVID-19 deaths https://t.co/1aI53HJJzc': 1, 'Finally. Covid-21 ni macam Kingdom laa actually. \\nKat mana nak cari bunga tu, nak letak dalam nasi kerabu hantar ke… https://t.co/HOl0R9jms0': 1, 'How ugly and disgusting \\n#ApartheidIsrael': 1, 'Lo que el inútil no quería que pasara y esta pasando, mientras tanto todos encerrados, las empresas fundidas y una… https://t.co/htTtR07LGS': 1, 'Ginebra, Suiza.- El mundo está «en guerra» contra el covid-19, dijo este lunes el secretario general de la ONU, Ant… https://t.co/KXRvpE2cAu': 1, 'Minha mãe toda feliz que foi aplicar vacina do covid nas pessoas nos carros e ganhou docinhos ✨': 1, 'CONFIRMADO - En Cipolletti circulan cuatro cepas diferentes de Covid\\n\\nhttps://t.co/fSSjvcTEYL https://t.co/l18z2YQoP0': 1, 'This is a touching personal account of a  Malaysian family living with COVID-19 in the UK. \\n@rahmahghazali \\nThe fam… https://t.co/y0xfQzZfay': 1, 'Couple gets married on flight, gets in trouble for breaking COVID regulations - Fox News https://t.co/KX7bXSkz49 https://t.co/PKtFkCVnIQ': 1, \"Hey Joe! I voted for you and it looks like you forgot about this, haha! Wouldn't that be embarrassing\": 1, 'desabafei nos stories do meu insta com tanta aglomeração que tá tendo, mas resolvi apagar. que ódio, sério :( não a… https://t.co/V5fMeRSame': 1, '@WalshFreedom For a hoax Covid is sure getting a lot of airtime…': 1, '@KPMcDonald71 @IDPH The problems developed after the vaccine. Which contains the spike protein component. Which is part of covid.🙄': 1, 'Sin comentarios': 1, 'Omar Aziz é da mesma laia do #RenanVagabundo !!!!': 1, 'https://t.co/qTWxaa5Y1i\\n#Anonymous #WakeUp #truth #realnews #NewsAlert #BreakingNews #news #newsupdate #infowars… https://t.co/x6NTGpy8tt': 1, 'It’s been over a year and dumb fucks are still not testing right away. Y’all are idiots and now the rest of us have… https://t.co/mK8K6ThK5o': 1, '米国務省が日本への渡航中止勧告。「日本の医療文化は保守的だ。政府は独自の治験をわざわざ行い、接種できるのは医師とナースだけだ。こうした理由で摂取率は先進国で最低だ」\\nhttps://t.co/2v2PUpymBb': 1, 'É minha rainha hj fazem 17 dias q vc está no hospital entubada por causa dessa praga do COVID, a dor e a tristeza q… https://t.co/f0nRr5p92A': 1, '「コロラド先生@BB45_Colorado の凍結を解除してください。」\\n賛同します。いったい何故凍結されたのでしょうか。\\nramosさんの凍結も解除すべきです。': 1, \"@democracynow What's this number? Did all they die by Covid or with Covid or both? How is this number compared to… https://t.co/banX7GCLme\": 1, '@ShellenbergerMD @ILikeDucks01 @DBrassiere @RepDanCrenshaw Yes, when your only meaningful plan for reduction is swi… https://t.co/X8IogRSxiW': 1, '@felipeneto Covid web': 1, 'Cope harder': 1, 'Alguem me abriga, juro que to limpinho de covid...': 1, 'Everyone wants to make their own choices.  Gretchen doesn’t want to follow her own rules because she shouldn’t make… https://t.co/wPmZFlMQQy': 1, 'A lenda protegida ❤️🥰': 1, '@InnovacionAR Hola, me han dado de alta de covid y la app cuidar aún no se ha actualizado y no me deja realizar el… https://t.co/kDwnzfr616': 1, '47 New COVID-19 Cases Reported Since Friday at Noon in Mohave\\xa0County https://t.co/XL1Qr4dtUO': 1, 'Acaba de fallecer una ex compañera mía del secundario de covid, cuídense no sean boludos': 1, '@GoldMouseStudio 100% commissioning one once I get a job and PayPal! 👀\\n(I have to wait to get the covid shot to sta… https://t.co/nqUszH4BXb': 1, 'BOOM! POW! #InsurrectionHasConsequences': 1, 'La puta que me re parió bo': 1, 'É um millicianus filho ....': 1, '@tomtomorrow I found this episode of the Depresh Mode podcast very helpful for this very topic: https://t.co/dUOnnaBdC4': 1, 'I get that covid restrictions suck, so long as everyone still remembers why lockdown is important': 1, 'Warga Sukabumi yang meninggal akibat COVID-19 bertambah - ANTARA News Jawa Barat https://t.co/brhoIvLulX': 1, 'Mi papá fue diagnosticado con COVID es un paciente alto riesgo y lo que más me preocupa es que está solo.': 1, 'Families r empowered with self responsibility-do self risk assessment- isolates when +CE. \\nHIDE exposé-86% close co… https://t.co/oS59xDx8tw': 1, '@AamAadmiParty @msisodia Plz PM Modi cancel the boardexams because these pandemic situation😷 covid 19.this is a hum… https://t.co/Zp7nwBxErv': 1, 'minha amiga tá nos EUA e só um teste de covid saiu 370 dólares, valorizem o SUS carai': 1, 'La cara del tipo es ideal para el titular': 1, 'El sabado mi papá tuvo un pre ACV y aún está muy mal,hoy mi cuñada(vive con nosotros) dio positivo de covid. Recen por el,te amo viejo🙏🏻': 1, 'The funny thing is... they did ask our six flags 🙈': 1, \"@Laiize1337 @StacyMontalto @JerseyRizzo You're out of your mind children don't get covid. It hurts the elderly. Kid… https://t.co/Jf6G1XEL7f\": 1, 'If you’re medically able to get the vaccine?  Get the vaccine.': 1, 'Algeria plans strict COVID-19 health measures as it prepares to resume flights - Algeria will impose strict health… https://t.co/TJHzotnC3b': 1, '@_Leila Is it really a fallacy?  Because if you take the number of people who have been vaccinated and the number o… https://t.co/v4xRtcY03E': 1, '@AIIAmericanGirI @FoxNews Almighty Dr. FAUCI now admit:  COVID19 IS INFACT MANMADE. CHINA VIRUS was made to kill AM… https://t.co/esKx5afSbu': 1, 'La médecine et la santé publique à l’épreuve du Covid https://t.co/iBo0lCRf19 via @YouTube': 1, 'ENFERMERA EDITH, ENFERMERA DEL IMSS BAJA CALIFORNIA, DESPUÉS DE DOS MESES DE PERMANECER INTUBADA, SUPERA COVID-19 Y… https://t.co/2sR8EWc8s3': 1, 'Tidak mustahil angka kematian akan terus meningkat terutama dengan situasi kritikal penggunaan katil di Unit Rawata… https://t.co/TwxWSLKKdu': 1, '😨🤢🤮': 1, '@thehill Republicans should never believe the government, they should kiss as many chickens as they want, preferably without a covid shot.': 1, 'Social unrest, hurricanes and security concerns in Haiti have been exacerbated by COVID-19, and our US offices that… https://t.co/GaNmr6bT8s': 1, '@EricKlinenberg @JessicaCalarco @nytimes back in March of 2020, this romer guy spent an hour or two learning virolo… https://t.co/goN7OToYcF': 1, 'Gov. Doug Ducey would rather use the resources that were intended to help those hurt by COVID to give his rich dono… https://t.co/C0E09c5w3V': 1, '@virgilio1976 @GuilhermeBoulos Concordo com vc, vou pra lá pego covid , não sei se vivo, passo pra minha família, a… https://t.co/Zsw9lgHWu8': 1, '#FactCheck: The photos were taken before the pandemic, during celebrations of Hindu festivals. https://t.co/1BvJiKwlKV': 1, '#FactCheck: The photos were taken before the pandemic, during celebrations of Hindu festivals. https://t.co/MbsG06NLiE': 1, 'LETS DOG DEEP FOR THE TRUTH.': 1, 'Young Girl Records Video From Hospital Bed After Taking COVID Vaccine https://t.co/srkzO0uMB3': 1, \"craigyboy is not a doctor\\n\\nhe's a very naughty boy\": 1, '\"Children With Covid Inflammatory Syndrome May Overcome Their Most Serious Symptoms\" by BY PAM BELLUCK via NYT https://t.co/Gk43M7mxNG': 1, 'https://t.co/jP63tUarBc': 1, 'K-Nunn playing like he got covid again smdh': 1, \"The true toll of COVID-19 is still a mystery — here's why https://t.co/Un0zJts0B0\": 1, 'Columbia pulled the ole switcheroo and threw me funds out the covid relief. They literally said, \"we found more money\"\\n\\nYeah...okay': 1, 'Meu Deus genocida Omar é genocida': 1, '@veer_ngo @kiranbedioffice Our team met with an honest Covid Warrior, he is basically Oxygen Cylinder manufacturer,… https://t.co/TMdtbn7DRh': 1, '#No2IR': 1, 'Can the scumbags who are criminally profiteering from this pandemic be named and shamed? \\n\\nUnless we embrace eviden… https://t.co/5UqlizWmdB': 1, '@MHPoison1 CEO of Covid (uhm, I quit)': 1, \"“It is interesting to contemplate what Australians might think if, in eight weeks' time, it was our nation expected… https://t.co/Xrevz9NE8w\": 1, '@OmarAzizSenador, é vc aqui sem máscara dando uma de NEGACIONISTA????': 1, 'San Francisco: este lunes se confirmaron 126 nuevos positivos de coronavirus\\n\\n• Hay 1077 casos activos\\n\\n• El Hospit… https://t.co/MtU7vGym6c': 1, '\"About 2,500 prisoners were released early from the jail at Rikers Island due to concerns over the spread of the co… https://t.co/YFhI1F9jo0': 1, 'Cegah Covid 19, Tim Yustisi Denpasar Berikan Layanan Rapid Test Antigen https://t.co/ez7SPhKpBM': 1, 'รายงานสถานการณ์ COVID-19 \\nสถานะวันที่ 25 พฤษภาคม 2564 https://t.co/yhBXzJsg57': 1, '@androdfra Its true tho...pa ese momento no habian ni vacunas y el covid estaba explotando': 1, 'Sorry babe the covid vaccination sticker stays ON during sex': 1, 'USD 40 Billion growth expected in Catering Market| With an Accelerating CAGR of 4% amid COVID-19 Spread| SpendEdge https://t.co/DHELF3V4qh': 1, '0830hrs Aliran trafik bergerak lancar dan terkawal ke semua arah sepanjang lebuhraya. Cuaca baik. Patuhi arahan Per… https://t.co/B9UWLq28gq': 1, 'BPOM Cabut Rekomendasi Obat Covid LQC Donasi dari China https://t.co/thR3v69DA3': 1, 'I reported a comment on @Facebook earlier of a man going into great detail on how he wanted to RAPE her and this is… https://t.co/UxOBHlN5KV': 1, 'During Health Director Jenkins report shared with the BOCC on COVID-19 response efforts in Durham, he shared stats… https://t.co/XPZZSLRHvw': 1, 'MEU DEEEEEEEEEE': 1, 'Gobierno @AlvaroUribeVel @IvanDuque @CeDemocratico inepto,arrogante,opresor,tirano, corrupto,indolente,maquiavélico… https://t.co/WsU0oWmFDI': 1, '武汉病毒研究所泄露新冠病毒的假设越来越受到国际社会的重视，包括大众舆论界、专家阶层和政府。\\n白宫在推动对病毒源头的独立调查。\\n\\nCOVID-19 Wuhan lab theory gets more serious look https://t.co/3RmUOcsDln': 1, 'Son alarmantes las cifras no solo de los  médicos y profesores universitarios zulianos fallecidos por el virus, si… https://t.co/l4lu53kkIl': 1, 'Florida COVID numbers are facing new scrutiny after research finds the state is undercounting the number of people… https://t.co/ewYdbDDszY': 1, 'He’s a Stanford professor and a Nobel laureate. Critics say he was dangerously misleading on Covid… https://t.co/FxYGPtTsGB': 1, '@MarcosRogerio https://t.co/UBw7EDu6vc': 1, '@brendamaysaa Paguei 70 reais pra treinar dois dias e depois pegar COVID, quando penso que vou voltar de novo, já vão fechar? 🥺💔': 1, '@comradesanchez I worked remote for over 7 years and had great work/life balance.  It was really awesome.  \\n\\nI woul… https://t.co/xaF98zX8IJ': 1, '@HectorBaldassi @alferdez @PatoBullrich Entre ayer y hoy llegaron a la Argentina 1.657.565 dosis de la vacuna contr… https://t.co/CoxxHu9k4l': 1, 'Me': 42, 'New restrictions across Melbourne as the COVID-19 cluster grows: New restrictions across Melbourne as the COVID-19… https://t.co/d1JlGcbeUJ': 1, 'Estos bolches se creen que están en #Cuba y nos quieren mandar en cana a todos los que los critiquemos :\\n\"Pereira a… https://t.co/t6YC2apitJ': 1, '@Grahlvs16 @elkotur Señora 70 mil muertos llevan,rechazaron vacunas gratis, y se las dieron ellos primero..\\nSon una… https://t.co/qV2NtpkjkE': 1, 'Eu só queria minha rotina de antes do covid.. eu ficava numa correria tão intensa, mas parecia q eu era muito mais produtivo': 1, \"If the govt can leak its budget a day BEFORE it's given you'd think that Victoria's DHHS could have its new Covid r… https://t.co/UXl1IDxUbK\": 1, 'COVID-19 Morelos: 25 nuevos casos confirmados y cinco decesos más en 24 horas https://t.co/sizQLhRtXZ #coronavirus': 1, 'Hoping Covid condition gets better in Lahore.': 1, 'I would believe this really…': 1, 'Miserables!': 1, 'Alguna vez usted se preguntó la marca, la efectivad o la eficacia de la vacuna que le pusieron contra la Hepatitis,… https://t.co/NSupCSndKl': 1, \"Like, there's been a very noticeable increase of homeless people in my town since covid.  There are definitely peop… https://t.co/FtSUkZzq19\": 1, '@ProfPCDoherty I’m not convinced the psychological problems are virus related, but instead they are related to the… https://t.co/vfTe0SG8Rs': 1, 'NBA Says LeBron James Posed No Risk to Spread COVID, He’s Either Vaxxed Or Tested\\xa0Negative https://t.co/K8Xira91ha': 1, '@notseelen @HennyBull77 I didn’t take it like that at all love. COVID happened &amp; having 2 auto-immune disorders I w… https://t.co/kYj94xW2xR': 1, '@OmarAzizSenador hipócrita!': 1, '🙏 ►Tres personas del equipo de Rodrigo Mundaca dan positivo a Covid-19 https://t.co/M7Jcxeau4k': 1, '練馬区どんどん置いてかれてるな。。': 1, 'La PANDEMIA  a la baja GRACIAS A AMLO\\nNúmero de casos positivos confirmados por día en México: 667\\nNúmero de defunc… https://t.co/aCWI2TLmrN': 1, '@POTUS Just please spare your children for godsake.\\nhttps://t.co/4Y8Hyo21hm': 1, 'But the ageist \"eligibility\" criteria still rules. Discrimination on a massive scale. Emotional #blackmail if you d… https://t.co/hQMcaos1Fn': 1, '@mrddmia @JessieJaneDuff @BiIndia Almighty Dr. FAUCI now admit:  COVID19 IS INFACT MANMADE. CHINA VIRUS was made to… https://t.co/sHRoX9KAr1': 1, '@jopbktq @Juanpi68648477 @alferdez @PatoBullrich @mauriciomacri @LANACION @halconada En vez de acusar a Macri y a l… https://t.co/tsqcucAoOn': 1, '@fedepillo Ma quale danno che ci offrivano 20+areola nel mercato pre covid ahahah': 1, \"@mtaibbi 'Covid is not man-made' seemed to rely on scientists, implying they examined stuff under microscopes to ge… https://t.co/RHEtPUIAuR\": 1, 'Recall that since the beginning of the COVID-19 outbreak, Fauci parroted CCP talking points – insisting that the vi… https://t.co/lhCWTRNrr2': 1, 'kalau meninggal tiba tiba before covid tu ajal dah sampai, sekarang zaman covid + dah vaccine, meninggal tiba tiba… https://t.co/eYxe28y0wC': 1, 'Y donde están las 2das dosis de #SputnikV que ya se vencen los plazos  ?': 1, '@JNS_org British study suggests dogs can sniff out COVID-19. So first the bees from Holland and theses dogs.… https://t.co/dRI1v5rpEw': 1, '@Estadao Iria adiantar investir o dinheiro do COVID em mais leitos e profissionais.': 1, 'Bassetti: Abbiamo sbagliato a contare i decessi, anche chi aveva un infarto, registrato come morto per\\xa0Covid https://t.co/QS1nwUDZIk': 1, 'El @ComCientificoM @aumentatusalud hace un llamado a que seamos responsables y a tomar medidas preventivas contra e… https://t.co/WTLzHKzayj': 1, 'porra de covid do caralho': 1, 'This is going to sound very obtuse but 👀 lollllll Cockpit country have any Covid or it’s a little sanctuary?': 1, 'Airline offers 1 year of free flights to get people vaccinated https://t.co/vlGu9H64Xk': 1, 'ódio de imunidade baixa, gripada 2°vez no mês e cm medo de ser covid': 1, '@AdelanteSiempr4 @E1Nacionalista @mijamart88 @krupskaya_ny @ElMachoAguero @superfrog89 @samcarrion18… https://t.co/fu5Hzbgsv6': 1, '\"Seguiremos denunciando este absurdo genocídio que está sendo praticado em nosso país, coordenado pelo presidente d… https://t.co/7FD0CVoH7T': 1, '@patterii dont judge covid by your own opinions as well!!!': 1, '@FoxSportsBrasil KKKKKKKKKK CADE VCS FALANDO SOBRE PROTOCOLO DA COVID? BANDO DE HIPOCRITAS': 1, 'I agree to reach heard immunity we need to vaccinate children': 1, 'Hey @TwitterSupport why do I get covid info on FL when I live in GA? Is your GPS brain dead?????': 1, 'Somente em 2021, já foram autorizados mais de 23,5 mil leitos de UTI Covid-19 adultos e pediátricos para tratamento… https://t.co/K7DpTL3vu6': 1, 'Ahora si, mañana  me vacunan contra el Covid 🥰': 1, 'Day 9: The last few weeks have been Covid all the way. Just to take the mind off from it, start posting a photograp… https://t.co/VWTBES3Jdt': 1, 'Which COVID-19 vaccine is better?\\nwatch video&gt;https://t.co/HmOL0DOeGb': 1, 'Lixo corrupto e falso moralista🤨': 1, 'Jacial puede ir a dormir todas las noches, sabiendo que hizo lo que se debia hacer.\\n\\nRespeto.': 1, 'estamos em situação de: UTI covid LOTADA e enfermaria covid MAIS LOTADA AINDA, ou seja, quem ta na UTI não vai sair… https://t.co/gUBhr2m83k': 1, 'forças pras famílias e amigos das 450.026 vidas perdidas pra covid-19 nesse momento difícil #JN #JornalNacional https://t.co/qEuMIVUU4N': 1, '@BolsonaroSP @jairbolsonaro @CasaReal @LassoGuillermo Foi ver se acha uma cepa da covid mais mortal pra trazer pro povo': 1, '\"Because of the current situation in Japan even fully vaccinated travelers may be at risk for getting and spreading… https://t.co/W6gfRiu54S': 1, 'Hate to break it to Hotez but the CCP will NEVER cooperate in any meaningful way. \\n\\nThe way this gets resolved is y… https://t.co/UOENbVvMZ7': 1, '@aphylante @PENELOPPE192 Quand on parle du Covid les trolls demandent une étude scientifique pour ensuite chouiner sur la source': 1, 'to mt mt feliz. meu tio que venceu o covid ta mt bem e eu fico mt encantado vendo ele falar e agir como se nada tiv… https://t.co/TwFttcgAmu': 1, 'AND WHEN I SAID TEST ARE TO TAKE YOUR DNA A YEAR AGO I WAS \"CRAZY CT\"!!!! \\nAPOLOGIZE NOW! \\n♒♒♒♒♒♒🤓🤓🤓🤓🤓': 1, '@mssr63 she predicted the covid collapse and knew ...': 1, \"I heard they is a company who will inject a microchip into you. I bet they're using it to secretly give you a covid vaccine.\": 1, '@theRCLblog How about the people who didn’t get vaccinated? They would give vaccinated mask wearers covid 19': 1, '@Kara22TX @Breaking911 Please see the bottom of the first page of this FDA link:  “The Janssen COVID-19 Vaccine is… https://t.co/B0d81p0Ri7': 1, 'Mayra Pinheiro é a depoente desta terça-feira na CPI da Covid https://t.co/Vaol29xwTW': 1, 'Four Thousand COVID-19 Recovered Members of Shincheonji Church of Jesus Donate Plasma for the Third Time Starting N… https://t.co/zmToCvRPo6': 1, '@marioraulnegri Fueron el peor gobierno de la historia argentina y ahora fiel a su genética se transformaron en la… https://t.co/VfSG1zL8uY': 1, '@RepCawthorn You aren’t approaching this from a position of strength, having flaunted your objection to Covid preca… https://t.co/ZW3Px98L4n': 1, \"Doctor reacts to GOP lawmaker's claim he won't get vaccinated https://t.co/s26aGiqHAS\": 1, \"So now even Fauci's not convinced covid developed naturally. Okay, these experts should just come out and say there… https://t.co/R35P4PanC3\": 1, \"@shinnickm @districtai True.  These people aren't stupid. They're certainly not acting in any other way at all like… https://t.co/k2P475ImhI\": 1, \"Doctor reacts to GOP lawmaker's claim he won't get vaccinated https://t.co/xRPuYRqnrr https://t.co/F4e6eiiAgQ\": 1, 'Gráfica del día: Ventas business to business y comercio electrónico en tiempos de Covid 19 https://t.co/girykqKvLF https://t.co/yqF8pkqVVV': 1, '@JaniceDean @CathyCollett1 @SienaResearch @NYGovCuomo He followed orders to put covid sick in with well.  Find out… https://t.co/Wqrmxwy5nj': 1, '東京オリンピックは何故？😪せめて半年、又、一年、延期して出来ないものなのか？🤧世界も国内も今よりもワクチン効果浸透で今より遥かに楽しいオリパラが出来るだろうに😷': 1, '@FOXNashville But we can totally trust them on everything else...especially all things covid-related...🙄🙄🙄': 1, '感染症ニュースとみんなの反応: \\n#コロナ #感染症 #新型感染症 #新型コロナウイルス: \\n【悲報】 キ◎ガイ中国人９０００万人国内旅行 https://t.co/erGnKqXBMh': 1, '@73SNAngel @FoxNews @TuckerCarlson Fauci is dishonest ... ergo ... COVID was a hoax ... and my pillow is the best': 1, 'Hoje em dia no Brasil, temos que usar 2 máscara. Enquanto isso outros país estão tirando as máscaras, pois já estão… https://t.co/XRTm4p7LV2': 1, 'Caramba que choque tomei agora e nem foi de eletricidade, foi em ver q várias partes do mundo estão retomando a vid… https://t.co/QpBztXCu4Y': 1, '#VacunasParaElPueblo': 3, 'Olha o viadinho dando piti. O STM lhe aguardar...': 1, 'Phenome-wide and eQTL Associations of COVID-19 Genetic Risk Loci https://t.co/BsRy5cNqrP https://t.co/SnSVJYU1q2': 1, '平和研究所主催オープンレクチャー(Zoom/英語開催)「COVID-19とメディア」5/31(月)16:30~17:40開催!\\n\\nゲストスピーカーは、英国、日本、ロシアやミャンマーの政治とメディアの研究を専門とするDr. Tina… https://t.co/iBva1LEVyd': 1, 'Asquerosos ! Por favor que salga Jadue y los expropie': 1, '\"Children With Covid Inflammatory Syndrome May Overcome Their Most Serious Symptoms\" BY PAM BELLUCK | NYT #Health… https://t.co/dhccX3iBUL': 1, '@TheRickWilson The loudest person in the room is the one doing it. Obsessive chatter is how Trump tells on himself.… https://t.co/tTPpobO4uq': 1, '@MarcosRogerio @jairbolsonaro https://t.co/UBw7EDu6vc': 1, '@FGarridoB @dr_johnjairo Yo tomé ivermectina cada 15 días por 6 meses.\\nMe dió Covid después de la primera vacuna Pf… https://t.co/3zS0bj33de': 1, 'Pay attention people!': 1, '@ZeroCovidNow1 The hard lefts covid response is as inane and full of crap as Starmers centrist thumb twiddling risk… https://t.co/S4EVoeNnRl': 1, 'This must be comedy K per hour😂😂😂': 1, 'Mbak Inul besssttttt': 1, 'Made a vid with my faves just to come in and Grinch up your summer.': 1, 'If you register for this SPARK webinar presented by WorkUP Queensland, \"YFS and Responsible Men’s Program: Agility… https://t.co/a6cJeE0G9N': 1, \"Lil Nas X axed dancers over COVID fears 15 minutes before 'SNL' rehearsals https://t.co/ArbewQafvB via @pagesix\": 1, 'woke up this morning thinking I had COVID because when I talked it sounded like I smoked a pack a day but I realize… https://t.co/N10AphemZh': 1, 'What Rand Paul gets wrong on vaccines\\n\\nhttps://t.co/CIQLgib2oW': 1, '\"Children With Covid Inflammatory Syndrome May Overcome Their Most Serious Symptoms\" by BY PAM BELLUCK via NYT… https://t.co/iUYh0jGiBL': 1, '@ajplus Once again, especially Merica, none of us are living on an island.\\n\\nWhat happens there, what happens EVERYW… https://t.co/kSPAMMJtcY': 1, '@Dirkussss @stainverbinding @PukkiePietje @blckbxnews Deze email krijg ik ook. Kan trouwens ook zonder covid paspoo… https://t.co/sR1ecKkPFk': 1, 'This shouldn\\'t even need to be DEBUNKED but for people claiming this is \"because of masks\", Japan usually gets some… https://t.co/3pbJGQ6CLs': 1, 'Having seen the HP interview, he said its quite possible that we will get 4%GDP this yr, he seriously doubts the ov… https://t.co/uscIyhr1OA': 1, 'Btw, ese momento fue de mis favoritos, una vida sin covid, viviendo mi vida universitaria, en la cima de la rueda d… https://t.co/bufnKmOk6L': 1, 'Ppl reported as \"died from covid\" died in hospitals. Everyone who self-treated at home, recovered including people… https://t.co/9RY6MwmP6R': 1, '#LoÚltimo | Córdoba reportó 339 casos de Covid-19 y 12 muertes https://t.co/HQWeGPFy6R': 1, 'If covid 19 has taught us anything it is that nonscientists, as a whole, have conducted themselves with much greate… https://t.co/h63AF14v0t': 1, '@BecketAdams They had \"scientists\" with \"letters\" saying \"HOW DARE YOU?!?!\\n\\nAmong others.\\n\\nhttps://t.co/CIiEilpriR': 1, 'Will I be able to travel to Sydney this weekend now we have 5 positive cases of covid in the community in Melbourne… https://t.co/bxkIwPq5tQ': 1, 'Let’s Olympics?\\n\\nhttps://t.co/1LHeSHo9Tb': 1, 'Misericórdia a pessoa nao sabe a diferença entre mais e mas, nao era de espantar que também nao soubesse como a cur… https://t.co/yqqoNA0Z3Y': 1, 'Cuarenterna. \\nhttps://t.co/XJRSmtoMOR': 1, 'Nak turunkan kes langsung takda kena mengena dgn time. Covid nak kena bukan ikut time pun': 1, \"I get my first covid shot tomorrow. Can't wait to finally be a 5G hotspot 😋\": 1, 'Covid: Councils urged to allow England Parkrun events to\\xa0resume https://t.co/OSp7qmVsFX': 1, '@Cernovich @richardmarx Almighty Dr. FAUCI now admit:  COVID19 IS INFACT MANMADE. CHINA VIRUS was made to kill AMER… https://t.co/hqmpJd9zDh': 1, '@Rivery_21 si, pero se le complicó el covid, o era el paulo díaz?': 1}\n"
     ]
    }
   ],
   "source": [
    "#Exercise 9\n",
    "tweet_dict = {}\n",
    "\n",
    "for rt in no_retweet:\n",
    "    for t in tweets_data:\n",
    "        if rt['text'] in t['text']:\n",
    "            tweet_dict[rt['text']] = tweet_dict.get(rt['text'],0) + 1\n",
    "\n",
    "print(len(tweet_dict))\n",
    "print(tweet_dict)"
   ]
  },
  {
   "cell_type": "code",
   "execution_count": 168,
   "metadata": {},
   "outputs": [
    {
     "data": {
      "text/plain": [
       "{'hashtags': [],\n",
       " 'urls': [{'url': 'https://t.co/kBAw9a6EqQ',\n",
       "   'expanded_url': 'https://twitter.com/i/web/status/1396986355540955138',\n",
       "   'display_url': 'twitter.com/i/web/status/1…',\n",
       "   'indices': [117, 140]}],\n",
       " 'user_mentions': [{'screen_name': 'MAJORBITCH1776',\n",
       "   'name': 'FICKLE TURD BURGLAR 🇺🇸🙏🏼🌺🌞🌴🌊🥂',\n",
       "   'id': 1343300183824740358,\n",
       "   'id_str': '1343300183824740358',\n",
       "   'indices': [0, 15]},\n",
       "  {'screen_name': 'PresidentBillbo',\n",
       "   'name': 'President-elect billbo baggins',\n",
       "   'id': 834637681,\n",
       "   'id_str': '834637681',\n",
       "   'indices': [16, 32]}],\n",
       " 'symbols': []}"
      ]
     },
     "execution_count": 168,
     "metadata": {},
     "output_type": "execute_result"
    }
   ],
   "source": [
    "t=tweets_data[3]\n",
    "t['entities']"
   ]
  },
  {
   "cell_type": "code",
   "execution_count": 119,
   "metadata": {
    "scrolled": false
   },
   "outputs": [
    {
     "name": "stdout",
     "output_type": "stream",
     "text": [
      "['https://twitter.com/i/web/status/1396986355540955138', 'https://twitter.com/i/web/status/1396986356430082048', 'https://twitter.com/i/web/status/1396986357008932864', 'https://twitter.com/i/web/status/1396986357373931520', 'https://twitter.com/i/web/status/1396986358892216324', 'http://a.msn.com/01/es-xl/AAKgCm6?ocid=st', 'https://twitter.com/CarlaZambelli38/status/1396969833640644611', 'https://abcnews.go.com/International/us-adds-japan-travel-covid-19-advisory-list/story?id=77877397', 'https://twitter.com/DavidLWindt/status/1396850374343073792', 'https://twitter.com/i/web/status/1396986360486006789']\n"
     ]
    }
   ],
   "source": [
    "#Exercise 10\n",
    "url_list=[]\n",
    "for t in tweets_data:\n",
    "    if len(t['entities']['urls']) >= 1:\n",
    "        url_list.append(t['entities']['urls'][0]['expanded_url'])\n",
    "\n",
    "print(url_list[0:10])"
   ]
  },
  {
   "cell_type": "code",
   "execution_count": 160,
   "metadata": {},
   "outputs": [
    {
     "name": "stdout",
     "output_type": "stream",
     "text": [
      "wonderway_in\tidpindia: IDP in News! Mr Piyush Kumar @kpiyush2009 our Regional Director, shares insights on 'How Covid-19 is affe… https://t.co/1ouipoeYFI\n",
      "tusmetros\t- Global: Guía urbanística para luchar contra el Covid 19 https://t.co/aOo7qYmrKu\n",
      "suyeeyh\t🙏🏼\n",
      "Abama2011\tВ Петербурге за сутки провели более 16 тысяч тестов на COVID-19 https://t.co/IzWe7aiBxs\n",
      "TVNET_zinas\tDaugavpilī atklāti 22 no jaunajiem inficētajiem un kopumā pēdējās divās nedēļās pilsētā reģistrēti 229 saslimušie https://t.co/lXMFFpdzRx\n",
      "ambulsiva\thttps://t.co/7vODp9g03k\n",
      "saveyourtearsxr\tEnquanto tem idosos morrendo esperando vacina, enquanto tem gente com diabete, quem é vacinado? um bandido!\n",
      "ThenSheAppears\tMe, as a Londoner watching under 30s in Scotland and Wales becoming entitled to the COVID-19 vaccine https://t.co/F7LEz6rA7C\n",
      "_dangit___\tDawg my heart stop for a second😭\n",
      "FSMMAG\tThe @CCOHS has developed an online course to help employers and temp foreign workers in agricultural operations lea… https://t.co/pG1SYUwbGz\n",
      "augiechapas\tWow\n",
      "KYWNewsradio\tModerna said its COVID-19 vaccine strongly protects kids as young as 12, a step that could put the shot on track to… https://t.co/E4r3VKO1IH\n",
      "ElaineRodel\t@SalemAander @KoosdlRey Will this be classified as large gathering or do Covid regulations not matter\n",
      "seeker401\tThe fact he was called Shakespeare should be all the evidence you need.\n",
      "Revolucion3_0\tMás del 20% de la población mayor a 18 años ya recibió la vacuna contra COVID-19; la cifra supera los 17 millones d… https://t.co/8ooVHdd7Pi\n",
      "junim_pit\taaaaa vtnc\n",
      "e_consulta\tRegresan hospitales a atender padecimientos distintos al Covid https://t.co/npjgLjUJAV\n",
      "LCimasoni\t@AnarchroniqueS @Willvs En effet, vérification faite, ça a été démenti. Il s'est trompé, pas de lien avec les AVC,… https://t.co/hVeCBk9x5p\n",
      "CandeeDianaa\tBueno puede que la que me gusta tenga covid ya fue que me contagie de paso no rindo\n",
      "pacoformol\t@rapeve1 @3porciento_3 Pues sí, me gusta\n",
      "\n",
      "https://t.co/heCjjr08ic\n",
      "mjeniffer5\tThey could send them to other countries that need them and can’t afford them.....\n",
      "XXisthe\t#crisanti #galli #cartabellotta #burioni mi fate matematicamente e statisticamente schifo! Mancando il feeling coi… https://t.co/cenknah3qj\n",
      "cmiller1225\tUS COVID Experts Call for Help in India and Africa. GeoVax's vaccine efforts have been added to the “Draft Landscap… https://t.co/9nE7KQa4LV\n",
      "OptivSourceZero\tSurprised cloud risk has increased during the shift to #RemoteWork through COVID-19? 🤯  Join @PaloAltoNtwks's Unit… https://t.co/oL3fZNDzRU\n",
      "KapilChopra72\tGreat work by @atulsatija @vkhosla and @GiveIndia , thank you !\n",
      "Indy500Blog\thttps://t.co/h0eql9TdbH : Reminder: IMS Covid Guidelines https://t.co/BUGUA7qqT8\n",
      "science_convo\tMay is Mental Health Awareness Month! High rates of anxiety, depression, PTSD, psychological distress, and stress w… https://t.co/pcJUVLsK8t\n",
      "ChildCareON\tLion dancers in front of a Toronto vaccine clinic = today's joy! 🦁❤️\n",
      "Rakibul14763677\t@vonderleyen Salek-Shahriar-and-his-family-and-friends-involve-in-*Terrorism,*Uncertain-Deaths of. (U.S.A, U.K, U.N… https://t.co/OwHperB0Uo\n",
      "hyucksartt\t🚨🚨🚨🚨🚨\n",
      "\n",
      "clientes prestem atenção aq\n",
      "#NCTMcDonalds\n",
      "MicheleMarcus9\tCPI da Covid: Mayra Pinheiro mantém defesa da cloroquina e contradiz Pazuello https://t.co/uqE2NlTLZr\n",
      "Alexander_Tin\tYesterday, @OIGatHHS had told providers that they too likely believed rewards/incentives for getting COVID-19 vacci… https://t.co/axzVpj3mqX\n",
      "Werveson_Costa\t@jairbolsonaro 🤦🏻‍♂️ a meses atrás tava mandado o povo tomar cloroquina que servia pro covid, esse governo é uma palhaçada 🤦🏻‍♂️🤦🏻‍♂️\n",
      "thedogdiet\tHealth &amp; Wellness News | ⚡Can Pets Like Dogs and Cats Spread COVID-19 to People? Here’s What Experts Say - LatestLY https://t.co/KwxqyBS3Rj\n",
      "final_film\tAfter a quick Covid test we drove to Amsterdam to make a very nice commercial🌍🎥\n",
      "\n",
      "@MEMEX_EXCHANGE @VelxorB… https://t.co/6lnBhZHn0i\n",
      "AlfreJimenez14\t@William_samir11 @DanilopazO17 Gracias! Por otra parte, tu apoderado es COVID positivo. En la juega por si tienes q… https://t.co/HRouK4bEt0\n",
      "FoxFriendsFirst\tMI Governor Gretchen Whitmer apologizes for breaking her own covid-19 restrictions. A Michigan restaurant owner who… https://t.co/XSEX0hvhnO\n",
      "Keiriara\tJust got stabbed with a COVID needle vaccine now taking poison damage\n",
      "LuisChivo\t@arolapoch Que pregunta tan interesante que podriamos escribir mucho sobre el tema sobretodo en una epoca donde se… https://t.co/igPzRMKfsd\n",
      "RadioCanadaInfo\tLa COVID-19 recule presque partout au pays https://t.co/9lrsixUmTC\n",
      "harare_1\tOpposition @mdczimbabwe activists @JoanaMamombe, @ceechimbiri2 and @MarovaNetsai have recently been arrested for fl… https://t.co/08u2jEqrVO\n",
      "VCUHSLibrary\tGet accurate, easy to understand, health information about COVID19 and other topics from the VCU Medical Center Hea… https://t.co/tCojZfxT1W\n",
      "justinpowellweb\t.@USATODAY:  #Spain to #welcome fully #vaccinated #Americans starting #June 7  by @jaymedeerwester… https://t.co/u9GM8HOQng\n",
      "pqdtassumpcao\t@CNNBrasil Emissora de merda essa CNN. A secretária mostrou para esse senador CORRUPTO que o tratamento da covid aj… https://t.co/aec1jacUDG\n",
      "XplorePalmBeach\tRunning now until November 28th, the South Florida Science Center presents \"Dinosaur Invasion\", an array of dinosau… https://t.co/nD2b6kBpVJ\n",
      "MasutaRanka\t5月14日厳しいマイルストーン：10,570人の死者1,050,829人の負傷者：COVID-19「V」に対する薬物有害反応のヨーロッパのデータベース歴史上、ヨーロッパ人にこの荒廃をもたらした製品はありません。治験中の生物学的製剤… https://t.co/hESVbDkE4U\n",
      "MeetNikkySinha\tWill you die within 2 years after taking Covid vaccine? Centre busts fake news post - Hindustan Times https://t.co/uVnEEKwMuf\n",
      "globeandmail\tAll of Quebec expected to leave highest COVID-19 alert level by June 7: Legault https://t.co/gYj0NuK5On\n",
      "cathyfred\tMinerva continued its printing evolution – and weathered tough times during COVID – by investing in a Xerox Iridess… https://t.co/ngKFEr1QIw\n",
      "Bianca84792462\tVcs são todos uns lixos dos infernos 🤮🤮🤮🤮🤮🤮🤮🤮🤮🤮🤮🤮🤮🤮🤮🤮🤮🤮🤮🤮\n",
      "PaliparanDotCom\t@serge_rosenbaum All algorithm! Takes into account previous travels, local COVID rates. Chances are 90% you get tes… https://t.co/HuzYISPXrw\n",
      "sdbarghs\tHow COVID Changed Science https://t.co/2FGUhNb6hb https://t.co/dEP2TWNgOO\n",
      "mySteinbach\tMay long weekend public health orders extended as hospitals overwhelmed by COVID-19 patients. Read the full story a… https://t.co/uZ1FXy6Q8o\n",
      "LinneoSiliezer\t@elgraficionado Ojalá las barras  y los aficionados, en general, se pusieran de acuerdo para no ir... además, por e… https://t.co/sIMBcqfOii\n",
      "jocelynamoran\tFresno County Dept of Public Health giving County Board of Supervisors presentation on the status of COVID-19 cases… https://t.co/IsuhNfjLoT\n",
      "nacion\tCCSS aplicó casi 206.000 dosis de vacuna contra covid-19 en la última semana https://t.co/vJVBGcnGrm https://t.co/BHN2j4Onx0\n",
      "luizc38paixao\tA Confederação Israelita do Brasil repudiou, em nota divulgada hoje (25/5), fala do senador Renan Calheiros(palhaço… https://t.co/3HdWkI6qDU\n",
      "LazzyDrawsStuff\tMy grandmother, it's more of a private matter and I really don't want to get into it rn\n",
      "thenortheastHUB\tCovid: When will I get the vaccine? https://t.co/sa971DXVtA https://t.co/VFJqUFdTV7\n",
      "amradebe_boroja\tI wish Guptas can sue her sorry Stellenbosch ass \n",
      "\n",
      "So that she will know what time is it\n",
      "ONTV_VE\tEn 30 minutos estamos iniciando nuestro IGLive  \"Vacunas COVID-19 y Trasplante\" a través de nuestro canal  de IG… https://t.co/cJTVoirvsZ\n",
      "Abama2011\tМассовая вакцинация от Covid-19 стартовала: где привиться в Петербурге https://t.co/DMCzFvQjo3\n",
      "Diooony\tAzua tuvo 5 casos nuevos ayer.\n",
      "\n",
      "Que gran crisis.\n",
      "ConstantinaGod\tLa ironía de Fernando Iglesias contra Santiago Cafiero por las vacunas https://t.co/v1YyByTGTs vía @LANACION\n",
      "edsonmca\tUnited Airlines sortea vuelos gratis entre vacunados contra la Covid https://t.co/T5qvJ9SRsW https://t.co/DlLQckhhmk\n",
      "Makeleio_gr\tΓΙ ΑΥΤΟ ΑΝΤΙΔΡΑΝΕ ΑΠΟ ΤΗΝ ΑΡΧΗ ΛΥΣΣΑΛΕΑ ΣΤΙΣ ΝΕΚΡΟΨΙΕΣ !!! ΓΙ ΑΥΤΟ ΕΔΩΣΑ ΤΗΝ ΤΕΡΑΣΤΙΑ ΑΥΤΗ ΜΑΧΗ ΚΟΝΤΡΑ ΣΕ ΟΛΟ ΤΟ ΣΥ… https://t.co/GpF0J9SQPl\n",
      "JaclynLeeTV\tTALK ABOUT BAD LUCK: days before her wedding, Bethlehem bride to be’s wedding dress gets destroyed in a house fire.… https://t.co/Whr4FB2DhS\n",
      "MeetNikkySinha\tCovid Live News: Maharashtra ends home isolation in 18 districts, patients from these districts have to g... - Econ… https://t.co/98vZ6aefHh\n",
      "mysrrre\tRamai dah warga emas meninggal disebabkan covid .Ya Allah kau hindarkan lah ibu bapa ku dari penyakit covid ini amin...\n"
     ]
    },
    {
     "name": "stdout",
     "output_type": "stream",
     "text": [
      "santo_savaris\t@SenadoFederal @jorginhomello PRENDAM O RENAN. COMPARANDO A CPI DA COVID COM O HOLOCAUSTO!!!! O QUE É ISSO!!!!MEU D… https://t.co/2bypvxMNCl\n",
      "sergiosetia\tSin palabras👏👏👏💞\n",
      "victoriabracho1\tNo era covid chicos salí negativo https://t.co/5tamhdDPke\n",
      "corona19_stats\tIsrael 🇮🇱 COVID-19 current stats for Tue May 25 2021\n",
      "\n",
      "Cases: 839,382\n",
      "Deaths: 6,406\n",
      "Recovered: 832,517\n",
      "Active: 459\n",
      "T… https://t.co/cdgHT61kIv\n",
      "FDIC_OIG\tICYMI:  Owner of Wedding Planning Company Pleads Guilty to COVID-19 Relief Fraud.  More:  https://t.co/i0o2zx3oAz #FDIC_OIG\n",
      "LungaAntiFascis\tPerceberam como o @JoseMedeirosMT anda caladinho, pianinho? Sabe pq?\n",
      "Aqui: Apontando pela viúva do acessor como um… https://t.co/wPpOBDN2LE\n",
      "PeterPboll1958\t@NickyMonreau Het NL commentaar was ook doorspekt met covid, pcr tests, quarantaine, vaccinatie, transgender en mee… https://t.co/XOy8cFU15V\n",
      "TerriPi57420413\tFacebook has instituted tiers to describe the tone of certain posts related to COVID-19 vaccines, with some being c… https://t.co/vxno9RrcFi\n",
      "healthycannamom\t👏👏💯💯\n",
      "sapmathhotmail1\thttps://t.co/YqBs00FuNN\n",
      "toadmeister\tWilliam Shakespeare, the first man in the world to have received an approved Covid vaccine, has died in hospital at… https://t.co/ouQR5MDgHw\n",
      "JulianGodoy_\tSeguro tenemos tanta mala leche que esos 3 jugadores son Armani, Lux y Petroli\n",
      "Soledad752\t@Muni_LasCondes estimados.  Hay algún lugar para vacuna covid los fines de semana. El horario de la semana abre tar… https://t.co/GQMcxWGZuC\n",
      "ladobemx\t🧐 #DetectorPuebla | @marioriestra dijo que las cifras de fallecidos por la #COVID19 reportadas por el… https://t.co/JTBQquXSkl\n",
      "EmSergipe79\tJanier Mota defende ampliação de serviço de reabilitação pós-Covid https://t.co/qHtw1N3MQE\n",
      "NoticiasLF1\t[#Coronavirus] Reportan 12 nuevos contagios y un total de 160 casos activos por Covid-19\n",
      "\n",
      "En las últimas horas se d… https://t.co/dPZ2Bzre0j\n",
      "Sofinarii\t@BlackKryptonit6 You can still get Covid with the vaccine especially if you only have one dose like the majority of Ontarians\n",
      "MommaFox2128\tFacebook has instituted tiers to describe the tone of certain posts related to COVID-19 vaccines, with some being c… https://t.co/KjpAcd3YfA\n",
      "doktor_eisbach\t@Glycosid @DasDoHD @pelagicbird @rki_de https://t.co/bXwNrM945F\n",
      "fadosilasolsol\t@Chucruta_ cuando vas a vacunarte te dicen si en estos últimos 15 días tuviste covid\n",
      "MonBae_Ecologie\t#Covid Ma 1 ère #injection pas de problème ensuite pour les 15mn d observation , 2 jeunes filles !! Vaccinées💉 biza… https://t.co/YAReyeU7l1\n",
      "reviewjournal\thttps://t.co/hB16BAhYHp\n"
     ]
    },
    {
     "ename": "KeyboardInterrupt",
     "evalue": "",
     "output_type": "error",
     "traceback": [
      "\u001b[1;31m---------------------------------------------------------------------------\u001b[0m",
      "\u001b[1;31mKeyboardInterrupt\u001b[0m                         Traceback (most recent call last)",
      "\u001b[1;32m<ipython-input-160-ac7e51c2751e>\u001b[0m in \u001b[0;36m<module>\u001b[1;34m\u001b[0m\n\u001b[0;32m     13\u001b[0m \u001b[1;33m\u001b[0m\u001b[0m\n\u001b[0;32m     14\u001b[0m \u001b[0mkeywords\u001b[0m \u001b[1;33m=\u001b[0m \u001b[1;33m[\u001b[0m\u001b[1;34m'Purdue'\u001b[0m\u001b[1;33m,\u001b[0m \u001b[1;34m'data science'\u001b[0m\u001b[1;33m,\u001b[0m\u001b[1;34m'Covid'\u001b[0m\u001b[1;33m]\u001b[0m\u001b[1;33m\u001b[0m\u001b[1;33m\u001b[0m\u001b[0m\n\u001b[1;32m---> 15\u001b[1;33m \u001b[0mstreamer\u001b[0m\u001b[1;33m.\u001b[0m\u001b[0mfilter\u001b[0m\u001b[1;33m(\u001b[0m\u001b[0mtrack\u001b[0m \u001b[1;33m=\u001b[0m \u001b[0mkeywords\u001b[0m\u001b[1;33m)\u001b[0m\u001b[1;33m\u001b[0m\u001b[1;33m\u001b[0m\u001b[0m\n\u001b[0m",
      "\u001b[1;32mE:\\Anaconda\\lib\\site-packages\\tweepy\\streaming.py\u001b[0m in \u001b[0;36mfilter\u001b[1;34m(self, follow, track, is_async, locations, stall_warnings, languages, encoding, filter_level)\u001b[0m\n\u001b[0;32m    472\u001b[0m             \u001b[0mself\u001b[0m\u001b[1;33m.\u001b[0m\u001b[0mbody\u001b[0m\u001b[1;33m[\u001b[0m\u001b[1;34m'filter_level'\u001b[0m\u001b[1;33m]\u001b[0m \u001b[1;33m=\u001b[0m \u001b[0mfilter_level\u001b[0m\u001b[1;33m.\u001b[0m\u001b[0mencode\u001b[0m\u001b[1;33m(\u001b[0m\u001b[0mencoding\u001b[0m\u001b[1;33m)\u001b[0m\u001b[1;33m\u001b[0m\u001b[1;33m\u001b[0m\u001b[0m\n\u001b[0;32m    473\u001b[0m         \u001b[0mself\u001b[0m\u001b[1;33m.\u001b[0m\u001b[0msession\u001b[0m\u001b[1;33m.\u001b[0m\u001b[0mparams\u001b[0m \u001b[1;33m=\u001b[0m \u001b[1;33m{\u001b[0m\u001b[1;34m'delimited'\u001b[0m\u001b[1;33m:\u001b[0m \u001b[1;34m'length'\u001b[0m\u001b[1;33m}\u001b[0m\u001b[1;33m\u001b[0m\u001b[1;33m\u001b[0m\u001b[0m\n\u001b[1;32m--> 474\u001b[1;33m         \u001b[0mself\u001b[0m\u001b[1;33m.\u001b[0m\u001b[0m_start\u001b[0m\u001b[1;33m(\u001b[0m\u001b[0mis_async\u001b[0m\u001b[1;33m)\u001b[0m\u001b[1;33m\u001b[0m\u001b[1;33m\u001b[0m\u001b[0m\n\u001b[0m\u001b[0;32m    475\u001b[0m \u001b[1;33m\u001b[0m\u001b[0m\n\u001b[0;32m    476\u001b[0m     def sitestream(self, follow, stall_warnings=False,\n",
      "\u001b[1;32mE:\\Anaconda\\lib\\site-packages\\tweepy\\streaming.py\u001b[0m in \u001b[0;36m_start\u001b[1;34m(self, is_async)\u001b[0m\n\u001b[0;32m    387\u001b[0m             \u001b[0mself\u001b[0m\u001b[1;33m.\u001b[0m\u001b[0m_thread\u001b[0m\u001b[1;33m.\u001b[0m\u001b[0mstart\u001b[0m\u001b[1;33m(\u001b[0m\u001b[1;33m)\u001b[0m\u001b[1;33m\u001b[0m\u001b[1;33m\u001b[0m\u001b[0m\n\u001b[0;32m    388\u001b[0m         \u001b[1;32melse\u001b[0m\u001b[1;33m:\u001b[0m\u001b[1;33m\u001b[0m\u001b[1;33m\u001b[0m\u001b[0m\n\u001b[1;32m--> 389\u001b[1;33m             \u001b[0mself\u001b[0m\u001b[1;33m.\u001b[0m\u001b[0m_run\u001b[0m\u001b[1;33m(\u001b[0m\u001b[1;33m)\u001b[0m\u001b[1;33m\u001b[0m\u001b[1;33m\u001b[0m\u001b[0m\n\u001b[0m\u001b[0;32m    390\u001b[0m \u001b[1;33m\u001b[0m\u001b[0m\n\u001b[0;32m    391\u001b[0m     \u001b[1;32mdef\u001b[0m \u001b[0mon_closed\u001b[0m\u001b[1;33m(\u001b[0m\u001b[0mself\u001b[0m\u001b[1;33m,\u001b[0m \u001b[0mresp\u001b[0m\u001b[1;33m)\u001b[0m\u001b[1;33m:\u001b[0m\u001b[1;33m\u001b[0m\u001b[1;33m\u001b[0m\u001b[0m\n",
      "\u001b[1;32mE:\\Anaconda\\lib\\site-packages\\tweepy\\streaming.py\u001b[0m in \u001b[0;36m_run\u001b[1;34m(self)\u001b[0m\n\u001b[0;32m    287\u001b[0m                     \u001b[0mself\u001b[0m\u001b[1;33m.\u001b[0m\u001b[0msnooze_time\u001b[0m \u001b[1;33m=\u001b[0m \u001b[0mself\u001b[0m\u001b[1;33m.\u001b[0m\u001b[0msnooze_time_step\u001b[0m\u001b[1;33m\u001b[0m\u001b[1;33m\u001b[0m\u001b[0m\n\u001b[0;32m    288\u001b[0m                     \u001b[0mself\u001b[0m\u001b[1;33m.\u001b[0m\u001b[0mlistener\u001b[0m\u001b[1;33m.\u001b[0m\u001b[0mon_connect\u001b[0m\u001b[1;33m(\u001b[0m\u001b[1;33m)\u001b[0m\u001b[1;33m\u001b[0m\u001b[1;33m\u001b[0m\u001b[0m\n\u001b[1;32m--> 289\u001b[1;33m                     \u001b[0mself\u001b[0m\u001b[1;33m.\u001b[0m\u001b[0m_read_loop\u001b[0m\u001b[1;33m(\u001b[0m\u001b[0mresp\u001b[0m\u001b[1;33m)\u001b[0m\u001b[1;33m\u001b[0m\u001b[1;33m\u001b[0m\u001b[0m\n\u001b[0m\u001b[0;32m    290\u001b[0m             \u001b[1;32mexcept\u001b[0m \u001b[1;33m(\u001b[0m\u001b[0mTimeout\u001b[0m\u001b[1;33m,\u001b[0m \u001b[0mssl\u001b[0m\u001b[1;33m.\u001b[0m\u001b[0mSSLError\u001b[0m\u001b[1;33m)\u001b[0m \u001b[1;32mas\u001b[0m \u001b[0mexc\u001b[0m\u001b[1;33m:\u001b[0m\u001b[1;33m\u001b[0m\u001b[1;33m\u001b[0m\u001b[0m\n\u001b[0;32m    291\u001b[0m                 \u001b[1;31m# This is still necessary, as a SSLError can actually be\u001b[0m\u001b[1;33m\u001b[0m\u001b[1;33m\u001b[0m\u001b[1;33m\u001b[0m\u001b[0m\n",
      "\u001b[1;32mE:\\Anaconda\\lib\\site-packages\\tweepy\\streaming.py\u001b[0m in \u001b[0;36m_read_loop\u001b[1;34m(self, resp)\u001b[0m\n\u001b[0;32m    337\u001b[0m             \u001b[0mlength\u001b[0m \u001b[1;33m=\u001b[0m \u001b[1;36m0\u001b[0m\u001b[1;33m\u001b[0m\u001b[1;33m\u001b[0m\u001b[0m\n\u001b[0;32m    338\u001b[0m             \u001b[1;32mwhile\u001b[0m \u001b[1;32mnot\u001b[0m \u001b[0mresp\u001b[0m\u001b[1;33m.\u001b[0m\u001b[0mraw\u001b[0m\u001b[1;33m.\u001b[0m\u001b[0mclosed\u001b[0m\u001b[1;33m:\u001b[0m\u001b[1;33m\u001b[0m\u001b[1;33m\u001b[0m\u001b[0m\n\u001b[1;32m--> 339\u001b[1;33m                 \u001b[0mline\u001b[0m \u001b[1;33m=\u001b[0m \u001b[0mbuf\u001b[0m\u001b[1;33m.\u001b[0m\u001b[0mread_line\u001b[0m\u001b[1;33m(\u001b[0m\u001b[1;33m)\u001b[0m\u001b[1;33m\u001b[0m\u001b[1;33m\u001b[0m\u001b[0m\n\u001b[0m\u001b[0;32m    340\u001b[0m                 \u001b[0mstripped_line\u001b[0m \u001b[1;33m=\u001b[0m \u001b[0mline\u001b[0m\u001b[1;33m.\u001b[0m\u001b[0mstrip\u001b[0m\u001b[1;33m(\u001b[0m\u001b[1;33m)\u001b[0m \u001b[1;32mif\u001b[0m \u001b[0mline\u001b[0m \u001b[1;32melse\u001b[0m \u001b[0mline\u001b[0m \u001b[1;31m# line is sometimes None so we need to check here\u001b[0m\u001b[1;33m\u001b[0m\u001b[1;33m\u001b[0m\u001b[0m\n\u001b[0;32m    341\u001b[0m                 \u001b[1;32mif\u001b[0m \u001b[1;32mnot\u001b[0m \u001b[0mstripped_line\u001b[0m\u001b[1;33m:\u001b[0m\u001b[1;33m\u001b[0m\u001b[1;33m\u001b[0m\u001b[0m\n",
      "\u001b[1;32mE:\\Anaconda\\lib\\site-packages\\tweepy\\streaming.py\u001b[0m in \u001b[0;36mread_line\u001b[1;34m(self, sep)\u001b[0m\n\u001b[0;32m    198\u001b[0m             \u001b[1;32melse\u001b[0m\u001b[1;33m:\u001b[0m\u001b[1;33m\u001b[0m\u001b[1;33m\u001b[0m\u001b[0m\n\u001b[0;32m    199\u001b[0m                 \u001b[0mstart\u001b[0m \u001b[1;33m=\u001b[0m \u001b[0mlen\u001b[0m\u001b[1;33m(\u001b[0m\u001b[0mself\u001b[0m\u001b[1;33m.\u001b[0m\u001b[0m_buffer\u001b[0m\u001b[1;33m)\u001b[0m\u001b[1;33m\u001b[0m\u001b[1;33m\u001b[0m\u001b[0m\n\u001b[1;32m--> 200\u001b[1;33m             \u001b[0mself\u001b[0m\u001b[1;33m.\u001b[0m\u001b[0m_buffer\u001b[0m \u001b[1;33m+=\u001b[0m \u001b[0mself\u001b[0m\u001b[1;33m.\u001b[0m\u001b[0m_stream\u001b[0m\u001b[1;33m.\u001b[0m\u001b[0mread\u001b[0m\u001b[1;33m(\u001b[0m\u001b[0mself\u001b[0m\u001b[1;33m.\u001b[0m\u001b[0m_chunk_size\u001b[0m\u001b[1;33m)\u001b[0m\u001b[1;33m\u001b[0m\u001b[1;33m\u001b[0m\u001b[0m\n\u001b[0m\u001b[0;32m    201\u001b[0m         \u001b[1;32mreturn\u001b[0m \u001b[0msix\u001b[0m\u001b[1;33m.\u001b[0m\u001b[0mb\u001b[0m\u001b[1;33m(\u001b[0m\u001b[1;34m''\u001b[0m\u001b[1;33m)\u001b[0m\u001b[1;33m\u001b[0m\u001b[1;33m\u001b[0m\u001b[0m\n\u001b[0;32m    202\u001b[0m \u001b[1;33m\u001b[0m\u001b[0m\n",
      "\u001b[1;32mE:\\Anaconda\\lib\\site-packages\\urllib3\\response.py\u001b[0m in \u001b[0;36mread\u001b[1;34m(self, amt, decode_content, cache_content)\u001b[0m\n\u001b[0;32m    517\u001b[0m             \u001b[1;32melse\u001b[0m\u001b[1;33m:\u001b[0m\u001b[1;33m\u001b[0m\u001b[1;33m\u001b[0m\u001b[0m\n\u001b[0;32m    518\u001b[0m                 \u001b[0mcache_content\u001b[0m \u001b[1;33m=\u001b[0m \u001b[1;32mFalse\u001b[0m\u001b[1;33m\u001b[0m\u001b[1;33m\u001b[0m\u001b[0m\n\u001b[1;32m--> 519\u001b[1;33m                 \u001b[0mdata\u001b[0m \u001b[1;33m=\u001b[0m \u001b[0mself\u001b[0m\u001b[1;33m.\u001b[0m\u001b[0m_fp\u001b[0m\u001b[1;33m.\u001b[0m\u001b[0mread\u001b[0m\u001b[1;33m(\u001b[0m\u001b[0mamt\u001b[0m\u001b[1;33m)\u001b[0m \u001b[1;32mif\u001b[0m \u001b[1;32mnot\u001b[0m \u001b[0mfp_closed\u001b[0m \u001b[1;32melse\u001b[0m \u001b[1;34mb\"\"\u001b[0m\u001b[1;33m\u001b[0m\u001b[1;33m\u001b[0m\u001b[0m\n\u001b[0m\u001b[0;32m    520\u001b[0m                 if (\n\u001b[0;32m    521\u001b[0m                     \u001b[0mamt\u001b[0m \u001b[1;33m!=\u001b[0m \u001b[1;36m0\u001b[0m \u001b[1;32mand\u001b[0m \u001b[1;32mnot\u001b[0m \u001b[0mdata\u001b[0m\u001b[1;33m\u001b[0m\u001b[1;33m\u001b[0m\u001b[0m\n",
      "\u001b[1;32mE:\\Anaconda\\lib\\http\\client.py\u001b[0m in \u001b[0;36mread\u001b[1;34m(self, amt)\u001b[0m\n\u001b[0;32m    456\u001b[0m             \u001b[1;31m# Amount is given, implement using readinto\u001b[0m\u001b[1;33m\u001b[0m\u001b[1;33m\u001b[0m\u001b[1;33m\u001b[0m\u001b[0m\n\u001b[0;32m    457\u001b[0m             \u001b[0mb\u001b[0m \u001b[1;33m=\u001b[0m \u001b[0mbytearray\u001b[0m\u001b[1;33m(\u001b[0m\u001b[0mamt\u001b[0m\u001b[1;33m)\u001b[0m\u001b[1;33m\u001b[0m\u001b[1;33m\u001b[0m\u001b[0m\n\u001b[1;32m--> 458\u001b[1;33m             \u001b[0mn\u001b[0m \u001b[1;33m=\u001b[0m \u001b[0mself\u001b[0m\u001b[1;33m.\u001b[0m\u001b[0mreadinto\u001b[0m\u001b[1;33m(\u001b[0m\u001b[0mb\u001b[0m\u001b[1;33m)\u001b[0m\u001b[1;33m\u001b[0m\u001b[1;33m\u001b[0m\u001b[0m\n\u001b[0m\u001b[0;32m    459\u001b[0m             \u001b[1;32mreturn\u001b[0m \u001b[0mmemoryview\u001b[0m\u001b[1;33m(\u001b[0m\u001b[0mb\u001b[0m\u001b[1;33m)\u001b[0m\u001b[1;33m[\u001b[0m\u001b[1;33m:\u001b[0m\u001b[0mn\u001b[0m\u001b[1;33m]\u001b[0m\u001b[1;33m.\u001b[0m\u001b[0mtobytes\u001b[0m\u001b[1;33m(\u001b[0m\u001b[1;33m)\u001b[0m\u001b[1;33m\u001b[0m\u001b[1;33m\u001b[0m\u001b[0m\n\u001b[0;32m    460\u001b[0m         \u001b[1;32melse\u001b[0m\u001b[1;33m:\u001b[0m\u001b[1;33m\u001b[0m\u001b[1;33m\u001b[0m\u001b[0m\n",
      "\u001b[1;32mE:\\Anaconda\\lib\\http\\client.py\u001b[0m in \u001b[0;36mreadinto\u001b[1;34m(self, b)\u001b[0m\n\u001b[0;32m    490\u001b[0m \u001b[1;33m\u001b[0m\u001b[0m\n\u001b[0;32m    491\u001b[0m         \u001b[1;32mif\u001b[0m \u001b[0mself\u001b[0m\u001b[1;33m.\u001b[0m\u001b[0mchunked\u001b[0m\u001b[1;33m:\u001b[0m\u001b[1;33m\u001b[0m\u001b[1;33m\u001b[0m\u001b[0m\n\u001b[1;32m--> 492\u001b[1;33m             \u001b[1;32mreturn\u001b[0m \u001b[0mself\u001b[0m\u001b[1;33m.\u001b[0m\u001b[0m_readinto_chunked\u001b[0m\u001b[1;33m(\u001b[0m\u001b[0mb\u001b[0m\u001b[1;33m)\u001b[0m\u001b[1;33m\u001b[0m\u001b[1;33m\u001b[0m\u001b[0m\n\u001b[0m\u001b[0;32m    493\u001b[0m \u001b[1;33m\u001b[0m\u001b[0m\n\u001b[0;32m    494\u001b[0m         \u001b[1;32mif\u001b[0m \u001b[0mself\u001b[0m\u001b[1;33m.\u001b[0m\u001b[0mlength\u001b[0m \u001b[1;32mis\u001b[0m \u001b[1;32mnot\u001b[0m \u001b[1;32mNone\u001b[0m\u001b[1;33m:\u001b[0m\u001b[1;33m\u001b[0m\u001b[1;33m\u001b[0m\u001b[0m\n",
      "\u001b[1;32mE:\\Anaconda\\lib\\http\\client.py\u001b[0m in \u001b[0;36m_readinto_chunked\u001b[1;34m(self, b)\u001b[0m\n\u001b[0;32m    585\u001b[0m         \u001b[1;32mtry\u001b[0m\u001b[1;33m:\u001b[0m\u001b[1;33m\u001b[0m\u001b[1;33m\u001b[0m\u001b[0m\n\u001b[0;32m    586\u001b[0m             \u001b[1;32mwhile\u001b[0m \u001b[1;32mTrue\u001b[0m\u001b[1;33m:\u001b[0m\u001b[1;33m\u001b[0m\u001b[1;33m\u001b[0m\u001b[0m\n\u001b[1;32m--> 587\u001b[1;33m                 \u001b[0mchunk_left\u001b[0m \u001b[1;33m=\u001b[0m \u001b[0mself\u001b[0m\u001b[1;33m.\u001b[0m\u001b[0m_get_chunk_left\u001b[0m\u001b[1;33m(\u001b[0m\u001b[1;33m)\u001b[0m\u001b[1;33m\u001b[0m\u001b[1;33m\u001b[0m\u001b[0m\n\u001b[0m\u001b[0;32m    588\u001b[0m                 \u001b[1;32mif\u001b[0m \u001b[0mchunk_left\u001b[0m \u001b[1;32mis\u001b[0m \u001b[1;32mNone\u001b[0m\u001b[1;33m:\u001b[0m\u001b[1;33m\u001b[0m\u001b[1;33m\u001b[0m\u001b[0m\n\u001b[0;32m    589\u001b[0m                     \u001b[1;32mreturn\u001b[0m \u001b[0mtotal_bytes\u001b[0m\u001b[1;33m\u001b[0m\u001b[1;33m\u001b[0m\u001b[0m\n",
      "\u001b[1;32mE:\\Anaconda\\lib\\http\\client.py\u001b[0m in \u001b[0;36m_get_chunk_left\u001b[1;34m(self)\u001b[0m\n\u001b[0;32m    553\u001b[0m                 \u001b[0mself\u001b[0m\u001b[1;33m.\u001b[0m\u001b[0m_safe_read\u001b[0m\u001b[1;33m(\u001b[0m\u001b[1;36m2\u001b[0m\u001b[1;33m)\u001b[0m  \u001b[1;31m# toss the CRLF at the end of the chunk\u001b[0m\u001b[1;33m\u001b[0m\u001b[1;33m\u001b[0m\u001b[0m\n\u001b[0;32m    554\u001b[0m             \u001b[1;32mtry\u001b[0m\u001b[1;33m:\u001b[0m\u001b[1;33m\u001b[0m\u001b[1;33m\u001b[0m\u001b[0m\n\u001b[1;32m--> 555\u001b[1;33m                 \u001b[0mchunk_left\u001b[0m \u001b[1;33m=\u001b[0m \u001b[0mself\u001b[0m\u001b[1;33m.\u001b[0m\u001b[0m_read_next_chunk_size\u001b[0m\u001b[1;33m(\u001b[0m\u001b[1;33m)\u001b[0m\u001b[1;33m\u001b[0m\u001b[1;33m\u001b[0m\u001b[0m\n\u001b[0m\u001b[0;32m    556\u001b[0m             \u001b[1;32mexcept\u001b[0m \u001b[0mValueError\u001b[0m\u001b[1;33m:\u001b[0m\u001b[1;33m\u001b[0m\u001b[1;33m\u001b[0m\u001b[0m\n\u001b[0;32m    557\u001b[0m                 \u001b[1;32mraise\u001b[0m \u001b[0mIncompleteRead\u001b[0m\u001b[1;33m(\u001b[0m\u001b[1;34mb''\u001b[0m\u001b[1;33m)\u001b[0m\u001b[1;33m\u001b[0m\u001b[1;33m\u001b[0m\u001b[0m\n",
      "\u001b[1;32mE:\\Anaconda\\lib\\http\\client.py\u001b[0m in \u001b[0;36m_read_next_chunk_size\u001b[1;34m(self)\u001b[0m\n\u001b[0;32m    513\u001b[0m     \u001b[1;32mdef\u001b[0m \u001b[0m_read_next_chunk_size\u001b[0m\u001b[1;33m(\u001b[0m\u001b[0mself\u001b[0m\u001b[1;33m)\u001b[0m\u001b[1;33m:\u001b[0m\u001b[1;33m\u001b[0m\u001b[1;33m\u001b[0m\u001b[0m\n\u001b[0;32m    514\u001b[0m         \u001b[1;31m# Read the next chunk size from the file\u001b[0m\u001b[1;33m\u001b[0m\u001b[1;33m\u001b[0m\u001b[1;33m\u001b[0m\u001b[0m\n\u001b[1;32m--> 515\u001b[1;33m         \u001b[0mline\u001b[0m \u001b[1;33m=\u001b[0m \u001b[0mself\u001b[0m\u001b[1;33m.\u001b[0m\u001b[0mfp\u001b[0m\u001b[1;33m.\u001b[0m\u001b[0mreadline\u001b[0m\u001b[1;33m(\u001b[0m\u001b[0m_MAXLINE\u001b[0m \u001b[1;33m+\u001b[0m \u001b[1;36m1\u001b[0m\u001b[1;33m)\u001b[0m\u001b[1;33m\u001b[0m\u001b[1;33m\u001b[0m\u001b[0m\n\u001b[0m\u001b[0;32m    516\u001b[0m         \u001b[1;32mif\u001b[0m \u001b[0mlen\u001b[0m\u001b[1;33m(\u001b[0m\u001b[0mline\u001b[0m\u001b[1;33m)\u001b[0m \u001b[1;33m>\u001b[0m \u001b[0m_MAXLINE\u001b[0m\u001b[1;33m:\u001b[0m\u001b[1;33m\u001b[0m\u001b[1;33m\u001b[0m\u001b[0m\n\u001b[0;32m    517\u001b[0m             \u001b[1;32mraise\u001b[0m \u001b[0mLineTooLong\u001b[0m\u001b[1;33m(\u001b[0m\u001b[1;34m\"chunk size\"\u001b[0m\u001b[1;33m)\u001b[0m\u001b[1;33m\u001b[0m\u001b[1;33m\u001b[0m\u001b[0m\n",
      "\u001b[1;32mE:\\Anaconda\\lib\\socket.py\u001b[0m in \u001b[0;36mreadinto\u001b[1;34m(self, b)\u001b[0m\n\u001b[0;32m    667\u001b[0m         \u001b[1;32mwhile\u001b[0m \u001b[1;32mTrue\u001b[0m\u001b[1;33m:\u001b[0m\u001b[1;33m\u001b[0m\u001b[1;33m\u001b[0m\u001b[0m\n\u001b[0;32m    668\u001b[0m             \u001b[1;32mtry\u001b[0m\u001b[1;33m:\u001b[0m\u001b[1;33m\u001b[0m\u001b[1;33m\u001b[0m\u001b[0m\n\u001b[1;32m--> 669\u001b[1;33m                 \u001b[1;32mreturn\u001b[0m \u001b[0mself\u001b[0m\u001b[1;33m.\u001b[0m\u001b[0m_sock\u001b[0m\u001b[1;33m.\u001b[0m\u001b[0mrecv_into\u001b[0m\u001b[1;33m(\u001b[0m\u001b[0mb\u001b[0m\u001b[1;33m)\u001b[0m\u001b[1;33m\u001b[0m\u001b[1;33m\u001b[0m\u001b[0m\n\u001b[0m\u001b[0;32m    670\u001b[0m             \u001b[1;32mexcept\u001b[0m \u001b[0mtimeout\u001b[0m\u001b[1;33m:\u001b[0m\u001b[1;33m\u001b[0m\u001b[1;33m\u001b[0m\u001b[0m\n\u001b[0;32m    671\u001b[0m                 \u001b[0mself\u001b[0m\u001b[1;33m.\u001b[0m\u001b[0m_timeout_occurred\u001b[0m \u001b[1;33m=\u001b[0m \u001b[1;32mTrue\u001b[0m\u001b[1;33m\u001b[0m\u001b[1;33m\u001b[0m\u001b[0m\n",
      "\u001b[1;32mE:\\Anaconda\\lib\\ssl.py\u001b[0m in \u001b[0;36mrecv_into\u001b[1;34m(self, buffer, nbytes, flags)\u001b[0m\n\u001b[0;32m   1239\u001b[0m                   \u001b[1;34m\"non-zero flags not allowed in calls to recv_into() on %s\"\u001b[0m \u001b[1;33m%\u001b[0m\u001b[1;33m\u001b[0m\u001b[1;33m\u001b[0m\u001b[0m\n\u001b[0;32m   1240\u001b[0m                   self.__class__)\n\u001b[1;32m-> 1241\u001b[1;33m             \u001b[1;32mreturn\u001b[0m \u001b[0mself\u001b[0m\u001b[1;33m.\u001b[0m\u001b[0mread\u001b[0m\u001b[1;33m(\u001b[0m\u001b[0mnbytes\u001b[0m\u001b[1;33m,\u001b[0m \u001b[0mbuffer\u001b[0m\u001b[1;33m)\u001b[0m\u001b[1;33m\u001b[0m\u001b[1;33m\u001b[0m\u001b[0m\n\u001b[0m\u001b[0;32m   1242\u001b[0m         \u001b[1;32melse\u001b[0m\u001b[1;33m:\u001b[0m\u001b[1;33m\u001b[0m\u001b[1;33m\u001b[0m\u001b[0m\n\u001b[0;32m   1243\u001b[0m             \u001b[1;32mreturn\u001b[0m \u001b[0msuper\u001b[0m\u001b[1;33m(\u001b[0m\u001b[1;33m)\u001b[0m\u001b[1;33m.\u001b[0m\u001b[0mrecv_into\u001b[0m\u001b[1;33m(\u001b[0m\u001b[0mbuffer\u001b[0m\u001b[1;33m,\u001b[0m \u001b[0mnbytes\u001b[0m\u001b[1;33m,\u001b[0m \u001b[0mflags\u001b[0m\u001b[1;33m)\u001b[0m\u001b[1;33m\u001b[0m\u001b[1;33m\u001b[0m\u001b[0m\n",
      "\u001b[1;32mE:\\Anaconda\\lib\\ssl.py\u001b[0m in \u001b[0;36mread\u001b[1;34m(self, len, buffer)\u001b[0m\n\u001b[0;32m   1097\u001b[0m         \u001b[1;32mtry\u001b[0m\u001b[1;33m:\u001b[0m\u001b[1;33m\u001b[0m\u001b[1;33m\u001b[0m\u001b[0m\n\u001b[0;32m   1098\u001b[0m             \u001b[1;32mif\u001b[0m \u001b[0mbuffer\u001b[0m \u001b[1;32mis\u001b[0m \u001b[1;32mnot\u001b[0m \u001b[1;32mNone\u001b[0m\u001b[1;33m:\u001b[0m\u001b[1;33m\u001b[0m\u001b[1;33m\u001b[0m\u001b[0m\n\u001b[1;32m-> 1099\u001b[1;33m                 \u001b[1;32mreturn\u001b[0m \u001b[0mself\u001b[0m\u001b[1;33m.\u001b[0m\u001b[0m_sslobj\u001b[0m\u001b[1;33m.\u001b[0m\u001b[0mread\u001b[0m\u001b[1;33m(\u001b[0m\u001b[0mlen\u001b[0m\u001b[1;33m,\u001b[0m \u001b[0mbuffer\u001b[0m\u001b[1;33m)\u001b[0m\u001b[1;33m\u001b[0m\u001b[1;33m\u001b[0m\u001b[0m\n\u001b[0m\u001b[0;32m   1100\u001b[0m             \u001b[1;32melse\u001b[0m\u001b[1;33m:\u001b[0m\u001b[1;33m\u001b[0m\u001b[1;33m\u001b[0m\u001b[0m\n\u001b[0;32m   1101\u001b[0m                 \u001b[1;32mreturn\u001b[0m \u001b[0mself\u001b[0m\u001b[1;33m.\u001b[0m\u001b[0m_sslobj\u001b[0m\u001b[1;33m.\u001b[0m\u001b[0mread\u001b[0m\u001b[1;33m(\u001b[0m\u001b[0mlen\u001b[0m\u001b[1;33m)\u001b[0m\u001b[1;33m\u001b[0m\u001b[1;33m\u001b[0m\u001b[0m\n",
      "\u001b[1;31mKeyboardInterrupt\u001b[0m: "
     ]
    }
   ],
   "source": [
    "#Exercise 11\n",
    "class StreamListener(tweepy.StreamListener):\n",
    "    def on_status(self, tweet):\n",
    "        if not hasattr(tweet, \"retweeted_status\"):  # Check if Retweet\n",
    "            print(tweet.author.screen_name + \"\\t\" + tweet.text)\n",
    "\n",
    "    def on_error(self, status_code):\n",
    "        print( 'Error: ' + repr(status_code))\n",
    "        return False\n",
    "\n",
    "l = StreamListener()\n",
    "streamer = tweepy.Stream(auth=auth, listener=l, tweet_mode='extended')\n",
    "\n",
    "keywords = ['Purdue', 'data science','Covid']\n",
    "streamer.filter(track = keywords)"
   ]
  },
  {
   "cell_type": "code",
   "execution_count": 163,
   "metadata": {},
   "outputs": [],
   "source": [
    "#Exercise 12\n",
    "WL = '40.425869, -86.908066, 10mi'\n",
    "for tweet in tweepy.Cursor(api.search, geocode=WL,tweet_mode=\"extended\").items(50):\n",
    "    print(tweet.text)"
   ]
  },
  {
   "cell_type": "code",
   "execution_count": 172,
   "metadata": {},
   "outputs": [
    {
     "name": "stdout",
     "output_type": "stream",
     "text": [
      "rabb1teatsmeat\t@nidobun now be the coolest pokemon inside my box.\n",
      "Lost_Relic\t@neko_ggel Neko!!! \n",
      "\n",
      "おはようございます!\n",
      " ご無沙汰しております! とてもかわいいエルプヘルトのアートですね ✨❤️\n",
      "premeczr\t@Who_Lee718 When that dropping ??\n",
      "MAYDAYLUH\tAgainst her will . . .\n",
      "SS1Kakarot\tMy adhd is ridiculous lmao bitch really be in LaLa land 😂😂😂😂\n",
      "ThatGuyYouKnew0\tPress Conference Papi https://t.co/DePAezbQzZ\n",
      "Doogzitwell\tI’m telling ya @east_chain is up next, now, and forever!\n",
      "bish4684\t@Lucas_Kaplan 👀\n",
      "mattprisco\tI saw a tweet today saying ‘if you don’t have abs keep your shirt on’ and can’t help but hate being gay after reading that ..... like wtf\n",
      "_Rock718\tIt’s dope when ppl feel good about themselves u really a hater if u throw any salt about that\n",
      "jpadjuggernaut\tJust posted a photo @ Flatbush Avenue https://t.co/j4rx0yMPoG\n",
      "specialadv\t@afroparadiso https://t.co/SlgFz4tWnE\n",
      "wilmerinspace\tI know i’m late, but these sandwiches from Pret really be hittin’. Sheeeeesh\n",
      "SerenaAlfaro\tHow was @Travonne like this and gets recognized? We outside! https://t.co/TFSGzGFumx\n",
      "TheDoomTheory\tI knew before the 1st time if I had to do any,  I knew I could do anything and get away with it\n",
      "\n",
      " After one I knew, you HAVE TO let me go\n",
      "INDASTREETZS\tJust posted a photo @ Brooklyn, New York https://t.co/lonSe5X71A\n",
      "beltranvidal90\tCon 1 minuto de silencio se nos va olvidar lo que ellos an hecho al pais 😒😒\n"
     ]
    },
    {
     "ename": "KeyboardInterrupt",
     "evalue": "",
     "output_type": "error",
     "traceback": [
      "\u001b[1;31m---------------------------------------------------------------------------\u001b[0m",
      "\u001b[1;31mKeyboardInterrupt\u001b[0m                         Traceback (most recent call last)",
      "\u001b[1;32m<ipython-input-172-d2c8de904e5f>\u001b[0m in \u001b[0;36m<module>\u001b[1;34m\u001b[0m\n\u001b[0;32m     12\u001b[0m \u001b[0ml\u001b[0m \u001b[1;33m=\u001b[0m \u001b[0mStreamListener\u001b[0m\u001b[1;33m(\u001b[0m\u001b[1;33m)\u001b[0m\u001b[1;33m\u001b[0m\u001b[1;33m\u001b[0m\u001b[0m\n\u001b[0;32m     13\u001b[0m \u001b[0mstreamer\u001b[0m \u001b[1;33m=\u001b[0m \u001b[0mtweepy\u001b[0m\u001b[1;33m.\u001b[0m\u001b[0mStream\u001b[0m\u001b[1;33m(\u001b[0m\u001b[0mauth\u001b[0m\u001b[1;33m=\u001b[0m\u001b[0mauth\u001b[0m\u001b[1;33m,\u001b[0m \u001b[0mlistener\u001b[0m\u001b[1;33m=\u001b[0m\u001b[0ml\u001b[0m\u001b[1;33m,\u001b[0m \u001b[0mtweet_mode\u001b[0m\u001b[1;33m=\u001b[0m\u001b[1;34m'extended'\u001b[0m\u001b[1;33m)\u001b[0m\u001b[1;33m\u001b[0m\u001b[1;33m\u001b[0m\u001b[0m\n\u001b[1;32m---> 14\u001b[1;33m \u001b[0mstreamer\u001b[0m\u001b[1;33m.\u001b[0m\u001b[0mfilter\u001b[0m\u001b[1;33m(\u001b[0m\u001b[0mlocations\u001b[0m\u001b[1;33m=\u001b[0m\u001b[1;33m[\u001b[0m\u001b[1;33m-\u001b[0m\u001b[1;36m74.05\u001b[0m\u001b[1;33m,\u001b[0m\u001b[1;36m40.65\u001b[0m\u001b[1;33m,\u001b[0m \u001b[1;33m-\u001b[0m\u001b[1;36m73.75\u001b[0m\u001b[1;33m,\u001b[0m\u001b[1;36m40.87\u001b[0m\u001b[1;33m]\u001b[0m\u001b[1;33m)\u001b[0m\u001b[1;33m\u001b[0m\u001b[1;33m\u001b[0m\u001b[0m\n\u001b[0m",
      "\u001b[1;32mE:\\Anaconda\\lib\\site-packages\\tweepy\\streaming.py\u001b[0m in \u001b[0;36mfilter\u001b[1;34m(self, follow, track, is_async, locations, stall_warnings, languages, encoding, filter_level)\u001b[0m\n\u001b[0;32m    472\u001b[0m             \u001b[0mself\u001b[0m\u001b[1;33m.\u001b[0m\u001b[0mbody\u001b[0m\u001b[1;33m[\u001b[0m\u001b[1;34m'filter_level'\u001b[0m\u001b[1;33m]\u001b[0m \u001b[1;33m=\u001b[0m \u001b[0mfilter_level\u001b[0m\u001b[1;33m.\u001b[0m\u001b[0mencode\u001b[0m\u001b[1;33m(\u001b[0m\u001b[0mencoding\u001b[0m\u001b[1;33m)\u001b[0m\u001b[1;33m\u001b[0m\u001b[1;33m\u001b[0m\u001b[0m\n\u001b[0;32m    473\u001b[0m         \u001b[0mself\u001b[0m\u001b[1;33m.\u001b[0m\u001b[0msession\u001b[0m\u001b[1;33m.\u001b[0m\u001b[0mparams\u001b[0m \u001b[1;33m=\u001b[0m \u001b[1;33m{\u001b[0m\u001b[1;34m'delimited'\u001b[0m\u001b[1;33m:\u001b[0m \u001b[1;34m'length'\u001b[0m\u001b[1;33m}\u001b[0m\u001b[1;33m\u001b[0m\u001b[1;33m\u001b[0m\u001b[0m\n\u001b[1;32m--> 474\u001b[1;33m         \u001b[0mself\u001b[0m\u001b[1;33m.\u001b[0m\u001b[0m_start\u001b[0m\u001b[1;33m(\u001b[0m\u001b[0mis_async\u001b[0m\u001b[1;33m)\u001b[0m\u001b[1;33m\u001b[0m\u001b[1;33m\u001b[0m\u001b[0m\n\u001b[0m\u001b[0;32m    475\u001b[0m \u001b[1;33m\u001b[0m\u001b[0m\n\u001b[0;32m    476\u001b[0m     def sitestream(self, follow, stall_warnings=False,\n",
      "\u001b[1;32mE:\\Anaconda\\lib\\site-packages\\tweepy\\streaming.py\u001b[0m in \u001b[0;36m_start\u001b[1;34m(self, is_async)\u001b[0m\n\u001b[0;32m    387\u001b[0m             \u001b[0mself\u001b[0m\u001b[1;33m.\u001b[0m\u001b[0m_thread\u001b[0m\u001b[1;33m.\u001b[0m\u001b[0mstart\u001b[0m\u001b[1;33m(\u001b[0m\u001b[1;33m)\u001b[0m\u001b[1;33m\u001b[0m\u001b[1;33m\u001b[0m\u001b[0m\n\u001b[0;32m    388\u001b[0m         \u001b[1;32melse\u001b[0m\u001b[1;33m:\u001b[0m\u001b[1;33m\u001b[0m\u001b[1;33m\u001b[0m\u001b[0m\n\u001b[1;32m--> 389\u001b[1;33m             \u001b[0mself\u001b[0m\u001b[1;33m.\u001b[0m\u001b[0m_run\u001b[0m\u001b[1;33m(\u001b[0m\u001b[1;33m)\u001b[0m\u001b[1;33m\u001b[0m\u001b[1;33m\u001b[0m\u001b[0m\n\u001b[0m\u001b[0;32m    390\u001b[0m \u001b[1;33m\u001b[0m\u001b[0m\n\u001b[0;32m    391\u001b[0m     \u001b[1;32mdef\u001b[0m \u001b[0mon_closed\u001b[0m\u001b[1;33m(\u001b[0m\u001b[0mself\u001b[0m\u001b[1;33m,\u001b[0m \u001b[0mresp\u001b[0m\u001b[1;33m)\u001b[0m\u001b[1;33m:\u001b[0m\u001b[1;33m\u001b[0m\u001b[1;33m\u001b[0m\u001b[0m\n",
      "\u001b[1;32mE:\\Anaconda\\lib\\site-packages\\tweepy\\streaming.py\u001b[0m in \u001b[0;36m_run\u001b[1;34m(self)\u001b[0m\n\u001b[0;32m    287\u001b[0m                     \u001b[0mself\u001b[0m\u001b[1;33m.\u001b[0m\u001b[0msnooze_time\u001b[0m \u001b[1;33m=\u001b[0m \u001b[0mself\u001b[0m\u001b[1;33m.\u001b[0m\u001b[0msnooze_time_step\u001b[0m\u001b[1;33m\u001b[0m\u001b[1;33m\u001b[0m\u001b[0m\n\u001b[0;32m    288\u001b[0m                     \u001b[0mself\u001b[0m\u001b[1;33m.\u001b[0m\u001b[0mlistener\u001b[0m\u001b[1;33m.\u001b[0m\u001b[0mon_connect\u001b[0m\u001b[1;33m(\u001b[0m\u001b[1;33m)\u001b[0m\u001b[1;33m\u001b[0m\u001b[1;33m\u001b[0m\u001b[0m\n\u001b[1;32m--> 289\u001b[1;33m                     \u001b[0mself\u001b[0m\u001b[1;33m.\u001b[0m\u001b[0m_read_loop\u001b[0m\u001b[1;33m(\u001b[0m\u001b[0mresp\u001b[0m\u001b[1;33m)\u001b[0m\u001b[1;33m\u001b[0m\u001b[1;33m\u001b[0m\u001b[0m\n\u001b[0m\u001b[0;32m    290\u001b[0m             \u001b[1;32mexcept\u001b[0m \u001b[1;33m(\u001b[0m\u001b[0mTimeout\u001b[0m\u001b[1;33m,\u001b[0m \u001b[0mssl\u001b[0m\u001b[1;33m.\u001b[0m\u001b[0mSSLError\u001b[0m\u001b[1;33m)\u001b[0m \u001b[1;32mas\u001b[0m \u001b[0mexc\u001b[0m\u001b[1;33m:\u001b[0m\u001b[1;33m\u001b[0m\u001b[1;33m\u001b[0m\u001b[0m\n\u001b[0;32m    291\u001b[0m                 \u001b[1;31m# This is still necessary, as a SSLError can actually be\u001b[0m\u001b[1;33m\u001b[0m\u001b[1;33m\u001b[0m\u001b[1;33m\u001b[0m\u001b[0m\n",
      "\u001b[1;32mE:\\Anaconda\\lib\\site-packages\\tweepy\\streaming.py\u001b[0m in \u001b[0;36m_read_loop\u001b[1;34m(self, resp)\u001b[0m\n\u001b[0;32m    337\u001b[0m             \u001b[0mlength\u001b[0m \u001b[1;33m=\u001b[0m \u001b[1;36m0\u001b[0m\u001b[1;33m\u001b[0m\u001b[1;33m\u001b[0m\u001b[0m\n\u001b[0;32m    338\u001b[0m             \u001b[1;32mwhile\u001b[0m \u001b[1;32mnot\u001b[0m \u001b[0mresp\u001b[0m\u001b[1;33m.\u001b[0m\u001b[0mraw\u001b[0m\u001b[1;33m.\u001b[0m\u001b[0mclosed\u001b[0m\u001b[1;33m:\u001b[0m\u001b[1;33m\u001b[0m\u001b[1;33m\u001b[0m\u001b[0m\n\u001b[1;32m--> 339\u001b[1;33m                 \u001b[0mline\u001b[0m \u001b[1;33m=\u001b[0m \u001b[0mbuf\u001b[0m\u001b[1;33m.\u001b[0m\u001b[0mread_line\u001b[0m\u001b[1;33m(\u001b[0m\u001b[1;33m)\u001b[0m\u001b[1;33m\u001b[0m\u001b[1;33m\u001b[0m\u001b[0m\n\u001b[0m\u001b[0;32m    340\u001b[0m                 \u001b[0mstripped_line\u001b[0m \u001b[1;33m=\u001b[0m \u001b[0mline\u001b[0m\u001b[1;33m.\u001b[0m\u001b[0mstrip\u001b[0m\u001b[1;33m(\u001b[0m\u001b[1;33m)\u001b[0m \u001b[1;32mif\u001b[0m \u001b[0mline\u001b[0m \u001b[1;32melse\u001b[0m \u001b[0mline\u001b[0m \u001b[1;31m# line is sometimes None so we need to check here\u001b[0m\u001b[1;33m\u001b[0m\u001b[1;33m\u001b[0m\u001b[0m\n\u001b[0;32m    341\u001b[0m                 \u001b[1;32mif\u001b[0m \u001b[1;32mnot\u001b[0m \u001b[0mstripped_line\u001b[0m\u001b[1;33m:\u001b[0m\u001b[1;33m\u001b[0m\u001b[1;33m\u001b[0m\u001b[0m\n",
      "\u001b[1;32mE:\\Anaconda\\lib\\site-packages\\tweepy\\streaming.py\u001b[0m in \u001b[0;36mread_line\u001b[1;34m(self, sep)\u001b[0m\n\u001b[0;32m    198\u001b[0m             \u001b[1;32melse\u001b[0m\u001b[1;33m:\u001b[0m\u001b[1;33m\u001b[0m\u001b[1;33m\u001b[0m\u001b[0m\n\u001b[0;32m    199\u001b[0m                 \u001b[0mstart\u001b[0m \u001b[1;33m=\u001b[0m \u001b[0mlen\u001b[0m\u001b[1;33m(\u001b[0m\u001b[0mself\u001b[0m\u001b[1;33m.\u001b[0m\u001b[0m_buffer\u001b[0m\u001b[1;33m)\u001b[0m\u001b[1;33m\u001b[0m\u001b[1;33m\u001b[0m\u001b[0m\n\u001b[1;32m--> 200\u001b[1;33m             \u001b[0mself\u001b[0m\u001b[1;33m.\u001b[0m\u001b[0m_buffer\u001b[0m \u001b[1;33m+=\u001b[0m \u001b[0mself\u001b[0m\u001b[1;33m.\u001b[0m\u001b[0m_stream\u001b[0m\u001b[1;33m.\u001b[0m\u001b[0mread\u001b[0m\u001b[1;33m(\u001b[0m\u001b[0mself\u001b[0m\u001b[1;33m.\u001b[0m\u001b[0m_chunk_size\u001b[0m\u001b[1;33m)\u001b[0m\u001b[1;33m\u001b[0m\u001b[1;33m\u001b[0m\u001b[0m\n\u001b[0m\u001b[0;32m    201\u001b[0m         \u001b[1;32mreturn\u001b[0m \u001b[0msix\u001b[0m\u001b[1;33m.\u001b[0m\u001b[0mb\u001b[0m\u001b[1;33m(\u001b[0m\u001b[1;34m''\u001b[0m\u001b[1;33m)\u001b[0m\u001b[1;33m\u001b[0m\u001b[1;33m\u001b[0m\u001b[0m\n\u001b[0;32m    202\u001b[0m \u001b[1;33m\u001b[0m\u001b[0m\n",
      "\u001b[1;32mE:\\Anaconda\\lib\\site-packages\\urllib3\\response.py\u001b[0m in \u001b[0;36mread\u001b[1;34m(self, amt, decode_content, cache_content)\u001b[0m\n\u001b[0;32m    517\u001b[0m             \u001b[1;32melse\u001b[0m\u001b[1;33m:\u001b[0m\u001b[1;33m\u001b[0m\u001b[1;33m\u001b[0m\u001b[0m\n\u001b[0;32m    518\u001b[0m                 \u001b[0mcache_content\u001b[0m \u001b[1;33m=\u001b[0m \u001b[1;32mFalse\u001b[0m\u001b[1;33m\u001b[0m\u001b[1;33m\u001b[0m\u001b[0m\n\u001b[1;32m--> 519\u001b[1;33m                 \u001b[0mdata\u001b[0m \u001b[1;33m=\u001b[0m \u001b[0mself\u001b[0m\u001b[1;33m.\u001b[0m\u001b[0m_fp\u001b[0m\u001b[1;33m.\u001b[0m\u001b[0mread\u001b[0m\u001b[1;33m(\u001b[0m\u001b[0mamt\u001b[0m\u001b[1;33m)\u001b[0m \u001b[1;32mif\u001b[0m \u001b[1;32mnot\u001b[0m \u001b[0mfp_closed\u001b[0m \u001b[1;32melse\u001b[0m \u001b[1;34mb\"\"\u001b[0m\u001b[1;33m\u001b[0m\u001b[1;33m\u001b[0m\u001b[0m\n\u001b[0m\u001b[0;32m    520\u001b[0m                 if (\n\u001b[0;32m    521\u001b[0m                     \u001b[0mamt\u001b[0m \u001b[1;33m!=\u001b[0m \u001b[1;36m0\u001b[0m \u001b[1;32mand\u001b[0m \u001b[1;32mnot\u001b[0m \u001b[0mdata\u001b[0m\u001b[1;33m\u001b[0m\u001b[1;33m\u001b[0m\u001b[0m\n",
      "\u001b[1;32mE:\\Anaconda\\lib\\http\\client.py\u001b[0m in \u001b[0;36mread\u001b[1;34m(self, amt)\u001b[0m\n\u001b[0;32m    456\u001b[0m             \u001b[1;31m# Amount is given, implement using readinto\u001b[0m\u001b[1;33m\u001b[0m\u001b[1;33m\u001b[0m\u001b[1;33m\u001b[0m\u001b[0m\n\u001b[0;32m    457\u001b[0m             \u001b[0mb\u001b[0m \u001b[1;33m=\u001b[0m \u001b[0mbytearray\u001b[0m\u001b[1;33m(\u001b[0m\u001b[0mamt\u001b[0m\u001b[1;33m)\u001b[0m\u001b[1;33m\u001b[0m\u001b[1;33m\u001b[0m\u001b[0m\n\u001b[1;32m--> 458\u001b[1;33m             \u001b[0mn\u001b[0m \u001b[1;33m=\u001b[0m \u001b[0mself\u001b[0m\u001b[1;33m.\u001b[0m\u001b[0mreadinto\u001b[0m\u001b[1;33m(\u001b[0m\u001b[0mb\u001b[0m\u001b[1;33m)\u001b[0m\u001b[1;33m\u001b[0m\u001b[1;33m\u001b[0m\u001b[0m\n\u001b[0m\u001b[0;32m    459\u001b[0m             \u001b[1;32mreturn\u001b[0m \u001b[0mmemoryview\u001b[0m\u001b[1;33m(\u001b[0m\u001b[0mb\u001b[0m\u001b[1;33m)\u001b[0m\u001b[1;33m[\u001b[0m\u001b[1;33m:\u001b[0m\u001b[0mn\u001b[0m\u001b[1;33m]\u001b[0m\u001b[1;33m.\u001b[0m\u001b[0mtobytes\u001b[0m\u001b[1;33m(\u001b[0m\u001b[1;33m)\u001b[0m\u001b[1;33m\u001b[0m\u001b[1;33m\u001b[0m\u001b[0m\n\u001b[0;32m    460\u001b[0m         \u001b[1;32melse\u001b[0m\u001b[1;33m:\u001b[0m\u001b[1;33m\u001b[0m\u001b[1;33m\u001b[0m\u001b[0m\n",
      "\u001b[1;32mE:\\Anaconda\\lib\\http\\client.py\u001b[0m in \u001b[0;36mreadinto\u001b[1;34m(self, b)\u001b[0m\n\u001b[0;32m    490\u001b[0m \u001b[1;33m\u001b[0m\u001b[0m\n\u001b[0;32m    491\u001b[0m         \u001b[1;32mif\u001b[0m \u001b[0mself\u001b[0m\u001b[1;33m.\u001b[0m\u001b[0mchunked\u001b[0m\u001b[1;33m:\u001b[0m\u001b[1;33m\u001b[0m\u001b[1;33m\u001b[0m\u001b[0m\n\u001b[1;32m--> 492\u001b[1;33m             \u001b[1;32mreturn\u001b[0m \u001b[0mself\u001b[0m\u001b[1;33m.\u001b[0m\u001b[0m_readinto_chunked\u001b[0m\u001b[1;33m(\u001b[0m\u001b[0mb\u001b[0m\u001b[1;33m)\u001b[0m\u001b[1;33m\u001b[0m\u001b[1;33m\u001b[0m\u001b[0m\n\u001b[0m\u001b[0;32m    493\u001b[0m \u001b[1;33m\u001b[0m\u001b[0m\n\u001b[0;32m    494\u001b[0m         \u001b[1;32mif\u001b[0m \u001b[0mself\u001b[0m\u001b[1;33m.\u001b[0m\u001b[0mlength\u001b[0m \u001b[1;32mis\u001b[0m \u001b[1;32mnot\u001b[0m \u001b[1;32mNone\u001b[0m\u001b[1;33m:\u001b[0m\u001b[1;33m\u001b[0m\u001b[1;33m\u001b[0m\u001b[0m\n",
      "\u001b[1;32mE:\\Anaconda\\lib\\http\\client.py\u001b[0m in \u001b[0;36m_readinto_chunked\u001b[1;34m(self, b)\u001b[0m\n\u001b[0;32m    585\u001b[0m         \u001b[1;32mtry\u001b[0m\u001b[1;33m:\u001b[0m\u001b[1;33m\u001b[0m\u001b[1;33m\u001b[0m\u001b[0m\n\u001b[0;32m    586\u001b[0m             \u001b[1;32mwhile\u001b[0m \u001b[1;32mTrue\u001b[0m\u001b[1;33m:\u001b[0m\u001b[1;33m\u001b[0m\u001b[1;33m\u001b[0m\u001b[0m\n\u001b[1;32m--> 587\u001b[1;33m                 \u001b[0mchunk_left\u001b[0m \u001b[1;33m=\u001b[0m \u001b[0mself\u001b[0m\u001b[1;33m.\u001b[0m\u001b[0m_get_chunk_left\u001b[0m\u001b[1;33m(\u001b[0m\u001b[1;33m)\u001b[0m\u001b[1;33m\u001b[0m\u001b[1;33m\u001b[0m\u001b[0m\n\u001b[0m\u001b[0;32m    588\u001b[0m                 \u001b[1;32mif\u001b[0m \u001b[0mchunk_left\u001b[0m \u001b[1;32mis\u001b[0m \u001b[1;32mNone\u001b[0m\u001b[1;33m:\u001b[0m\u001b[1;33m\u001b[0m\u001b[1;33m\u001b[0m\u001b[0m\n\u001b[0;32m    589\u001b[0m                     \u001b[1;32mreturn\u001b[0m \u001b[0mtotal_bytes\u001b[0m\u001b[1;33m\u001b[0m\u001b[1;33m\u001b[0m\u001b[0m\n",
      "\u001b[1;32mE:\\Anaconda\\lib\\http\\client.py\u001b[0m in \u001b[0;36m_get_chunk_left\u001b[1;34m(self)\u001b[0m\n\u001b[0;32m    553\u001b[0m                 \u001b[0mself\u001b[0m\u001b[1;33m.\u001b[0m\u001b[0m_safe_read\u001b[0m\u001b[1;33m(\u001b[0m\u001b[1;36m2\u001b[0m\u001b[1;33m)\u001b[0m  \u001b[1;31m# toss the CRLF at the end of the chunk\u001b[0m\u001b[1;33m\u001b[0m\u001b[1;33m\u001b[0m\u001b[0m\n\u001b[0;32m    554\u001b[0m             \u001b[1;32mtry\u001b[0m\u001b[1;33m:\u001b[0m\u001b[1;33m\u001b[0m\u001b[1;33m\u001b[0m\u001b[0m\n\u001b[1;32m--> 555\u001b[1;33m                 \u001b[0mchunk_left\u001b[0m \u001b[1;33m=\u001b[0m \u001b[0mself\u001b[0m\u001b[1;33m.\u001b[0m\u001b[0m_read_next_chunk_size\u001b[0m\u001b[1;33m(\u001b[0m\u001b[1;33m)\u001b[0m\u001b[1;33m\u001b[0m\u001b[1;33m\u001b[0m\u001b[0m\n\u001b[0m\u001b[0;32m    556\u001b[0m             \u001b[1;32mexcept\u001b[0m \u001b[0mValueError\u001b[0m\u001b[1;33m:\u001b[0m\u001b[1;33m\u001b[0m\u001b[1;33m\u001b[0m\u001b[0m\n\u001b[0;32m    557\u001b[0m                 \u001b[1;32mraise\u001b[0m \u001b[0mIncompleteRead\u001b[0m\u001b[1;33m(\u001b[0m\u001b[1;34mb''\u001b[0m\u001b[1;33m)\u001b[0m\u001b[1;33m\u001b[0m\u001b[1;33m\u001b[0m\u001b[0m\n",
      "\u001b[1;32mE:\\Anaconda\\lib\\http\\client.py\u001b[0m in \u001b[0;36m_read_next_chunk_size\u001b[1;34m(self)\u001b[0m\n\u001b[0;32m    513\u001b[0m     \u001b[1;32mdef\u001b[0m \u001b[0m_read_next_chunk_size\u001b[0m\u001b[1;33m(\u001b[0m\u001b[0mself\u001b[0m\u001b[1;33m)\u001b[0m\u001b[1;33m:\u001b[0m\u001b[1;33m\u001b[0m\u001b[1;33m\u001b[0m\u001b[0m\n\u001b[0;32m    514\u001b[0m         \u001b[1;31m# Read the next chunk size from the file\u001b[0m\u001b[1;33m\u001b[0m\u001b[1;33m\u001b[0m\u001b[1;33m\u001b[0m\u001b[0m\n\u001b[1;32m--> 515\u001b[1;33m         \u001b[0mline\u001b[0m \u001b[1;33m=\u001b[0m \u001b[0mself\u001b[0m\u001b[1;33m.\u001b[0m\u001b[0mfp\u001b[0m\u001b[1;33m.\u001b[0m\u001b[0mreadline\u001b[0m\u001b[1;33m(\u001b[0m\u001b[0m_MAXLINE\u001b[0m \u001b[1;33m+\u001b[0m \u001b[1;36m1\u001b[0m\u001b[1;33m)\u001b[0m\u001b[1;33m\u001b[0m\u001b[1;33m\u001b[0m\u001b[0m\n\u001b[0m\u001b[0;32m    516\u001b[0m         \u001b[1;32mif\u001b[0m \u001b[0mlen\u001b[0m\u001b[1;33m(\u001b[0m\u001b[0mline\u001b[0m\u001b[1;33m)\u001b[0m \u001b[1;33m>\u001b[0m \u001b[0m_MAXLINE\u001b[0m\u001b[1;33m:\u001b[0m\u001b[1;33m\u001b[0m\u001b[1;33m\u001b[0m\u001b[0m\n\u001b[0;32m    517\u001b[0m             \u001b[1;32mraise\u001b[0m \u001b[0mLineTooLong\u001b[0m\u001b[1;33m(\u001b[0m\u001b[1;34m\"chunk size\"\u001b[0m\u001b[1;33m)\u001b[0m\u001b[1;33m\u001b[0m\u001b[1;33m\u001b[0m\u001b[0m\n",
      "\u001b[1;32mE:\\Anaconda\\lib\\socket.py\u001b[0m in \u001b[0;36mreadinto\u001b[1;34m(self, b)\u001b[0m\n\u001b[0;32m    667\u001b[0m         \u001b[1;32mwhile\u001b[0m \u001b[1;32mTrue\u001b[0m\u001b[1;33m:\u001b[0m\u001b[1;33m\u001b[0m\u001b[1;33m\u001b[0m\u001b[0m\n\u001b[0;32m    668\u001b[0m             \u001b[1;32mtry\u001b[0m\u001b[1;33m:\u001b[0m\u001b[1;33m\u001b[0m\u001b[1;33m\u001b[0m\u001b[0m\n\u001b[1;32m--> 669\u001b[1;33m                 \u001b[1;32mreturn\u001b[0m \u001b[0mself\u001b[0m\u001b[1;33m.\u001b[0m\u001b[0m_sock\u001b[0m\u001b[1;33m.\u001b[0m\u001b[0mrecv_into\u001b[0m\u001b[1;33m(\u001b[0m\u001b[0mb\u001b[0m\u001b[1;33m)\u001b[0m\u001b[1;33m\u001b[0m\u001b[1;33m\u001b[0m\u001b[0m\n\u001b[0m\u001b[0;32m    670\u001b[0m             \u001b[1;32mexcept\u001b[0m \u001b[0mtimeout\u001b[0m\u001b[1;33m:\u001b[0m\u001b[1;33m\u001b[0m\u001b[1;33m\u001b[0m\u001b[0m\n\u001b[0;32m    671\u001b[0m                 \u001b[0mself\u001b[0m\u001b[1;33m.\u001b[0m\u001b[0m_timeout_occurred\u001b[0m \u001b[1;33m=\u001b[0m \u001b[1;32mTrue\u001b[0m\u001b[1;33m\u001b[0m\u001b[1;33m\u001b[0m\u001b[0m\n",
      "\u001b[1;32mE:\\Anaconda\\lib\\ssl.py\u001b[0m in \u001b[0;36mrecv_into\u001b[1;34m(self, buffer, nbytes, flags)\u001b[0m\n\u001b[0;32m   1239\u001b[0m                   \u001b[1;34m\"non-zero flags not allowed in calls to recv_into() on %s\"\u001b[0m \u001b[1;33m%\u001b[0m\u001b[1;33m\u001b[0m\u001b[1;33m\u001b[0m\u001b[0m\n\u001b[0;32m   1240\u001b[0m                   self.__class__)\n\u001b[1;32m-> 1241\u001b[1;33m             \u001b[1;32mreturn\u001b[0m \u001b[0mself\u001b[0m\u001b[1;33m.\u001b[0m\u001b[0mread\u001b[0m\u001b[1;33m(\u001b[0m\u001b[0mnbytes\u001b[0m\u001b[1;33m,\u001b[0m \u001b[0mbuffer\u001b[0m\u001b[1;33m)\u001b[0m\u001b[1;33m\u001b[0m\u001b[1;33m\u001b[0m\u001b[0m\n\u001b[0m\u001b[0;32m   1242\u001b[0m         \u001b[1;32melse\u001b[0m\u001b[1;33m:\u001b[0m\u001b[1;33m\u001b[0m\u001b[1;33m\u001b[0m\u001b[0m\n\u001b[0;32m   1243\u001b[0m             \u001b[1;32mreturn\u001b[0m \u001b[0msuper\u001b[0m\u001b[1;33m(\u001b[0m\u001b[1;33m)\u001b[0m\u001b[1;33m.\u001b[0m\u001b[0mrecv_into\u001b[0m\u001b[1;33m(\u001b[0m\u001b[0mbuffer\u001b[0m\u001b[1;33m,\u001b[0m \u001b[0mnbytes\u001b[0m\u001b[1;33m,\u001b[0m \u001b[0mflags\u001b[0m\u001b[1;33m)\u001b[0m\u001b[1;33m\u001b[0m\u001b[1;33m\u001b[0m\u001b[0m\n",
      "\u001b[1;32mE:\\Anaconda\\lib\\ssl.py\u001b[0m in \u001b[0;36mread\u001b[1;34m(self, len, buffer)\u001b[0m\n\u001b[0;32m   1097\u001b[0m         \u001b[1;32mtry\u001b[0m\u001b[1;33m:\u001b[0m\u001b[1;33m\u001b[0m\u001b[1;33m\u001b[0m\u001b[0m\n\u001b[0;32m   1098\u001b[0m             \u001b[1;32mif\u001b[0m \u001b[0mbuffer\u001b[0m \u001b[1;32mis\u001b[0m \u001b[1;32mnot\u001b[0m \u001b[1;32mNone\u001b[0m\u001b[1;33m:\u001b[0m\u001b[1;33m\u001b[0m\u001b[1;33m\u001b[0m\u001b[0m\n\u001b[1;32m-> 1099\u001b[1;33m                 \u001b[1;32mreturn\u001b[0m \u001b[0mself\u001b[0m\u001b[1;33m.\u001b[0m\u001b[0m_sslobj\u001b[0m\u001b[1;33m.\u001b[0m\u001b[0mread\u001b[0m\u001b[1;33m(\u001b[0m\u001b[0mlen\u001b[0m\u001b[1;33m,\u001b[0m \u001b[0mbuffer\u001b[0m\u001b[1;33m)\u001b[0m\u001b[1;33m\u001b[0m\u001b[1;33m\u001b[0m\u001b[0m\n\u001b[0m\u001b[0;32m   1100\u001b[0m             \u001b[1;32melse\u001b[0m\u001b[1;33m:\u001b[0m\u001b[1;33m\u001b[0m\u001b[1;33m\u001b[0m\u001b[0m\n\u001b[0;32m   1101\u001b[0m                 \u001b[1;32mreturn\u001b[0m \u001b[0mself\u001b[0m\u001b[1;33m.\u001b[0m\u001b[0m_sslobj\u001b[0m\u001b[1;33m.\u001b[0m\u001b[0mread\u001b[0m\u001b[1;33m(\u001b[0m\u001b[0mlen\u001b[0m\u001b[1;33m)\u001b[0m\u001b[1;33m\u001b[0m\u001b[1;33m\u001b[0m\u001b[0m\n",
      "\u001b[1;31mKeyboardInterrupt\u001b[0m: "
     ]
    }
   ],
   "source": [
    "# Exercises 13\n",
    "\n",
    "class StreamListener(tweepy.StreamListener):\n",
    "    def on_status(self, tweet):\n",
    "        if not hasattr(tweet, \"retweeted_status\"):  # Check if Retweet\n",
    "            print(tweet.author.screen_name + \"\\t\" + tweet.text)\n",
    "\n",
    "    def on_error(self, status_code):\n",
    "        print( 'Error: ' + repr(status_code))\n",
    "        return False\n",
    "\n",
    "l = StreamListener()\n",
    "streamer = tweepy.Stream(auth=auth, listener=l, tweet_mode='extended')\n",
    "streamer.filter(locations=[-74.05,40.65, -73.75,40.87])"
   ]
  }
 ],
 "metadata": {
  "kernelspec": {
   "display_name": "Python 3",
   "language": "python",
   "name": "python3"
  },
  "language_info": {
   "codemirror_mode": {
    "name": "ipython",
    "version": 3
   },
   "file_extension": ".py",
   "mimetype": "text/x-python",
   "name": "python",
   "nbconvert_exporter": "python",
   "pygments_lexer": "ipython3",
   "version": "3.8.8"
  }
 },
 "nbformat": 4,
 "nbformat_minor": 2
}
